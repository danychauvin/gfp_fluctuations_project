{
 "cells": [
  {
   "cell_type": "code",
   "execution_count": 5,
   "id": "fa512bee-678b-495a-af33-eaba25c160a3",
   "metadata": {},
   "outputs": [],
   "source": [
    "from importlib import reload  # Python 3.4+\n",
    "import pyMoM\n",
    "from pyMoM import *\n",
    "reload(pyMoM)\n",
    "import subprocess\n",
    "import os\n",
    "import shutil\n",
    "import pandas as pd\n",
    "import re"
   ]
  },
  {
   "cell_type": "markdown",
   "id": "4c827311-e591-471e-8f99-dfe8f92b6bb9",
   "metadata": {
    "tags": []
   },
   "source": [
    "# 20221121, acetate 0.05% (334 frames, step=12min, total 80h), (hi1, hi3, rplN, rpmB, 6300, med3, med2)\n",
    "## Experimental details and data summary"
   ]
  },
  {
   "cell_type": "code",
   "execution_count": 1,
   "id": "5f25c3a9-738f-4f28-92c0-07264630cfcb",
   "metadata": {},
   "outputs": [],
   "source": [
    "#Experimental details\n",
    "\n",
    "experimental_details=[{\n",
    "    \"date\":\"20221121\",\n",
    "    \"description\":\"acetate\",\n",
    "    \"f_start\":\"0\",\n",
    "    \"f_end\":\"334\",\n",
    "    \"condition\":\"acetate005\",\n",
    "    \"t_interval\":\"12\",\n",
    "    \"cell_detection_offset\":\"90\"} #min\n",
    "]\n",
    "\n",
    "#Preprocessing infos\n",
    "experimentFolderPath='/scicore/home/nimwegen/rocasu25/MM_Data/Dany/20221121'\n",
    "##Preprocessing folder\n",
    "preprocFolder=\"20221121_preproc\"\n",
    "##List of positions\n",
    "#pos_var=\"POS_NAMES=(Pos0)\"\n",
    "pos_var=\"POS_NAMES=(Pos0 Pos1 Pos2 Pos3 Pos4 Pos5 Pos6 Pos7 Pos8 Pos9 Pos10 Pos11 Pos12 Pos13 Pos14 Pos15 Pos16 Pos17 Pos18 Pos19 Pos20 Pos21)\"\n",
    "##Template to use for the preprocessing\n",
    "template=\"TEMPLATE_vng79\"\n",
    "##Rotation (to determine on imageJ)\n",
    "ROTATION=\"90.1\"\n",
    "##TMAX, if processing is not to look at all frames\n",
    "TMAX=\"334\"\n",
    "##Normalization offset\n",
    "NORMALIZATION_REGION_OFFSET=\"120\"\n",
    "##Raw path to the data\n",
    "RAW_PATH=\"/scicore/home/nimwegen/rocasu25/MM_Data/Dany/20221121/20221121_ace0.05/20221121_ace0.05_1/20221121_ace0.05_1_MMStack.ome.tif\"\n",
    "##Raw path to flat field data\n",
    "FLATFIELD_PATH=\"/scicore/home/nimwegen/rocasu25/MM_Data/Dany/20221108/20221110_gfpflatfield/20221110_gfpflatfield_2/20221110_gfpflatfield_2_MMStack.ome.tif\""
   ]
  },
  {
   "cell_type": "code",
   "execution_count": 44,
   "id": "96724e9a-eb4a-4ff1-9a04-ec658a1e7045",
   "metadata": {},
   "outputs": [
    {
     "name": "stdin",
     "output_type": "stream",
     "text": [
      "Do you really want to submit preprocessing tasks to the scheduler? If the preprocessing folder target path has not been changed, it might result in overwritting your data. Enter 'Yes', to confirm. no\n"
     ]
    },
    {
     "name": "stdout",
     "output_type": "stream",
     "text": [
      "Aborting scheduler preprocessing submission\n"
     ]
    }
   ],
   "source": [
    "submit_preprocessing(experimentFolderPath,preprocFolder,template,NORMALIZATION_REGION_OFFSET)"
   ]
  },
  {
   "cell_type": "markdown",
   "id": "818bc918-41a5-4d94-8036-38c00db654ae",
   "metadata": {},
   "source": [
    "## Moma Batch"
   ]
  },
  {
   "cell_type": "code",
   "execution_count": 11,
   "id": "442827d2-04a0-4f32-bfd3-0037dc27c891",
   "metadata": {},
   "outputs": [
    {
     "data": {
      "text/html": [
       "<div>\n",
       "<style scoped>\n",
       "    .dataframe tbody tr th:only-of-type {\n",
       "        vertical-align: middle;\n",
       "    }\n",
       "\n",
       "    .dataframe tbody tr th {\n",
       "        vertical-align: top;\n",
       "    }\n",
       "\n",
       "    .dataframe thead th {\n",
       "        text-align: right;\n",
       "    }\n",
       "</style>\n",
       "<table border=\"1\" class=\"dataframe\">\n",
       "  <thead>\n",
       "    <tr style=\"text-align: right;\">\n",
       "      <th></th>\n",
       "      <th>date</th>\n",
       "      <th>ch</th>\n",
       "      <th>pos</th>\n",
       "      <th>width</th>\n",
       "      <th>inoculated_gl</th>\n",
       "      <th>promoter</th>\n",
       "      <th>vector</th>\n",
       "    </tr>\n",
       "  </thead>\n",
       "  <tbody>\n",
       "    <tr>\n",
       "      <th>0</th>\n",
       "      <td>20221121</td>\n",
       "      <td>7</td>\n",
       "      <td>0</td>\n",
       "      <td>0.65</td>\n",
       "      <td>24</td>\n",
       "      <td>hi1</td>\n",
       "      <td>ch</td>\n",
       "    </tr>\n",
       "    <tr>\n",
       "      <th>1</th>\n",
       "      <td>20221121</td>\n",
       "      <td>7</td>\n",
       "      <td>1</td>\n",
       "      <td>0.65</td>\n",
       "      <td>21</td>\n",
       "      <td>hi1</td>\n",
       "      <td>ch</td>\n",
       "    </tr>\n",
       "    <tr>\n",
       "      <th>2</th>\n",
       "      <td>20221121</td>\n",
       "      <td>7</td>\n",
       "      <td>2</td>\n",
       "      <td>0.65</td>\n",
       "      <td>21</td>\n",
       "      <td>hi1</td>\n",
       "      <td>ch</td>\n",
       "    </tr>\n",
       "    <tr>\n",
       "      <th>3</th>\n",
       "      <td>20221121</td>\n",
       "      <td>6</td>\n",
       "      <td>3</td>\n",
       "      <td>0.65</td>\n",
       "      <td>23</td>\n",
       "      <td>hi3</td>\n",
       "      <td>ch</td>\n",
       "    </tr>\n",
       "    <tr>\n",
       "      <th>4</th>\n",
       "      <td>20221121</td>\n",
       "      <td>6</td>\n",
       "      <td>4</td>\n",
       "      <td>0.65</td>\n",
       "      <td>24</td>\n",
       "      <td>hi3</td>\n",
       "      <td>ch</td>\n",
       "    </tr>\n",
       "    <tr>\n",
       "      <th>5</th>\n",
       "      <td>20221121</td>\n",
       "      <td>6</td>\n",
       "      <td>5</td>\n",
       "      <td>0.65</td>\n",
       "      <td>24</td>\n",
       "      <td>hi3</td>\n",
       "      <td>ch</td>\n",
       "    </tr>\n",
       "    <tr>\n",
       "      <th>6</th>\n",
       "      <td>20221121</td>\n",
       "      <td>5</td>\n",
       "      <td>6</td>\n",
       "      <td>0.65</td>\n",
       "      <td>15</td>\n",
       "      <td>rplN</td>\n",
       "      <td>ch</td>\n",
       "    </tr>\n",
       "    <tr>\n",
       "      <th>7</th>\n",
       "      <td>20221121</td>\n",
       "      <td>5</td>\n",
       "      <td>7</td>\n",
       "      <td>0.65</td>\n",
       "      <td>10</td>\n",
       "      <td>rplN</td>\n",
       "      <td>ch</td>\n",
       "    </tr>\n",
       "    <tr>\n",
       "      <th>8</th>\n",
       "      <td>20221121</td>\n",
       "      <td>5</td>\n",
       "      <td>8</td>\n",
       "      <td>0.65</td>\n",
       "      <td>15</td>\n",
       "      <td>rplN</td>\n",
       "      <td>ch</td>\n",
       "    </tr>\n",
       "    <tr>\n",
       "      <th>9</th>\n",
       "      <td>20221121</td>\n",
       "      <td>4</td>\n",
       "      <td>9</td>\n",
       "      <td>0.65</td>\n",
       "      <td>15</td>\n",
       "      <td>rpmB</td>\n",
       "      <td>ch</td>\n",
       "    </tr>\n",
       "    <tr>\n",
       "      <th>10</th>\n",
       "      <td>20221121</td>\n",
       "      <td>4</td>\n",
       "      <td>10</td>\n",
       "      <td>0.65</td>\n",
       "      <td>12</td>\n",
       "      <td>rpmB</td>\n",
       "      <td>ch</td>\n",
       "    </tr>\n",
       "    <tr>\n",
       "      <th>11</th>\n",
       "      <td>20221121</td>\n",
       "      <td>4</td>\n",
       "      <td>11</td>\n",
       "      <td>0.65</td>\n",
       "      <td>13</td>\n",
       "      <td>rpmB</td>\n",
       "      <td>ch</td>\n",
       "    </tr>\n",
       "    <tr>\n",
       "      <th>12</th>\n",
       "      <td>20221121</td>\n",
       "      <td>3</td>\n",
       "      <td>12</td>\n",
       "      <td>0.65</td>\n",
       "      <td>1</td>\n",
       "      <td>6300</td>\n",
       "      <td>ch</td>\n",
       "    </tr>\n",
       "    <tr>\n",
       "      <th>13</th>\n",
       "      <td>20221121</td>\n",
       "      <td>3</td>\n",
       "      <td>13</td>\n",
       "      <td>0.65</td>\n",
       "      <td>2</td>\n",
       "      <td>6300</td>\n",
       "      <td>ch</td>\n",
       "    </tr>\n",
       "    <tr>\n",
       "      <th>14</th>\n",
       "      <td>20221121</td>\n",
       "      <td>3</td>\n",
       "      <td>14</td>\n",
       "      <td>0.65</td>\n",
       "      <td>1</td>\n",
       "      <td>6300</td>\n",
       "      <td>ch</td>\n",
       "    </tr>\n",
       "    <tr>\n",
       "      <th>15</th>\n",
       "      <td>20221121</td>\n",
       "      <td>3</td>\n",
       "      <td>15</td>\n",
       "      <td>0.65</td>\n",
       "      <td>3</td>\n",
       "      <td>6300</td>\n",
       "      <td>ch</td>\n",
       "    </tr>\n",
       "    <tr>\n",
       "      <th>16</th>\n",
       "      <td>20221121</td>\n",
       "      <td>2</td>\n",
       "      <td>16</td>\n",
       "      <td>0.65</td>\n",
       "      <td>8</td>\n",
       "      <td>med3</td>\n",
       "      <td>ch</td>\n",
       "    </tr>\n",
       "    <tr>\n",
       "      <th>17</th>\n",
       "      <td>20221121</td>\n",
       "      <td>2</td>\n",
       "      <td>17</td>\n",
       "      <td>0.65</td>\n",
       "      <td>11</td>\n",
       "      <td>med3</td>\n",
       "      <td>ch</td>\n",
       "    </tr>\n",
       "    <tr>\n",
       "      <th>18</th>\n",
       "      <td>20221121</td>\n",
       "      <td>2</td>\n",
       "      <td>18</td>\n",
       "      <td>0.65</td>\n",
       "      <td>11</td>\n",
       "      <td>med3</td>\n",
       "      <td>ch</td>\n",
       "    </tr>\n",
       "    <tr>\n",
       "      <th>19</th>\n",
       "      <td>20221121</td>\n",
       "      <td>2</td>\n",
       "      <td>19</td>\n",
       "      <td>0.65</td>\n",
       "      <td>21</td>\n",
       "      <td>med2</td>\n",
       "      <td>ch</td>\n",
       "    </tr>\n",
       "    <tr>\n",
       "      <th>20</th>\n",
       "      <td>20221121</td>\n",
       "      <td>2</td>\n",
       "      <td>20</td>\n",
       "      <td>0.65</td>\n",
       "      <td>20</td>\n",
       "      <td>med2</td>\n",
       "      <td>ch</td>\n",
       "    </tr>\n",
       "    <tr>\n",
       "      <th>21</th>\n",
       "      <td>20221121</td>\n",
       "      <td>2</td>\n",
       "      <td>21</td>\n",
       "      <td>0.65</td>\n",
       "      <td>22</td>\n",
       "      <td>med2</td>\n",
       "      <td>ch</td>\n",
       "    </tr>\n",
       "  </tbody>\n",
       "</table>\n",
       "</div>"
      ],
      "text/plain": [
       "        date  ch  pos  width  inoculated_gl promoter vector\n",
       "0   20221121   7    0   0.65             24      hi1     ch\n",
       "1   20221121   7    1   0.65             21      hi1     ch\n",
       "2   20221121   7    2   0.65             21      hi1     ch\n",
       "3   20221121   6    3   0.65             23      hi3     ch\n",
       "4   20221121   6    4   0.65             24      hi3     ch\n",
       "5   20221121   6    5   0.65             24      hi3     ch\n",
       "6   20221121   5    6   0.65             15     rplN     ch\n",
       "7   20221121   5    7   0.65             10     rplN     ch\n",
       "8   20221121   5    8   0.65             15     rplN     ch\n",
       "9   20221121   4    9   0.65             15     rpmB     ch\n",
       "10  20221121   4   10   0.65             12     rpmB     ch\n",
       "11  20221121   4   11   0.65             13     rpmB     ch\n",
       "12  20221121   3   12   0.65              1     6300     ch\n",
       "13  20221121   3   13   0.65              2     6300     ch\n",
       "14  20221121   3   14   0.65              1     6300     ch\n",
       "15  20221121   3   15   0.65              3     6300     ch\n",
       "16  20221121   2   16   0.65              8     med3     ch\n",
       "17  20221121   2   17   0.65             11     med3     ch\n",
       "18  20221121   2   18   0.65             11     med3     ch\n",
       "19  20221121   2   19   0.65             21     med2     ch\n",
       "20  20221121   2   20   0.65             20     med2     ch\n",
       "21  20221121   2   21   0.65             22     med2     ch"
      ]
     },
     "execution_count": 11,
     "metadata": {},
     "output_type": "execute_result"
    }
   ],
   "source": [
    "#Generate a YAML file from experiment_summary_table\n",
    "#Select rows of interest, that will be curated, from the curated data summary table\n",
    "experiment_summary_table=print_curated_data_summary(experimental_details,experimentFolderPath)\n",
    "experiment_summary_table"
   ]
  },
  {
   "cell_type": "markdown",
   "id": "fcd3c0d5-d6c4-46b2-a254-97200de3c4db",
   "metadata": {},
   "source": [
    "### Hi1 curation"
   ]
  },
  {
   "cell_type": "code",
   "execution_count": 12,
   "id": "aa91770a-04d8-4fdf-9a48-9f92bfd8fd4d",
   "metadata": {},
   "outputs": [
    {
     "name": "stdout",
     "output_type": "stream",
     "text": [
      "       date  ch  pos  width  inoculated_gl promoter vector\n",
      "0  20221121   7    0   0.65             24      hi1     ch\n",
      "1  20221121   7    1   0.65             21      hi1     ch\n",
      "2  20221121   7    2   0.65             21      hi1     ch\n"
     ]
    }
   ],
   "source": [
    "subset=experiment_summary_table[experiment_summary_table[\"pos\"].isin([0,1,2])]\n",
    "print(subset)"
   ]
  },
  {
   "cell_type": "code",
   "execution_count": 19,
   "id": "69557c35-0d0d-4ca8-84e9-b4ff210257fc",
   "metadata": {},
   "outputs": [
    {
     "name": "stdout",
     "output_type": "stream",
     "text": [
      "Batch folder already exist.\n",
      "mm.properties already exists, copying cancelled.\n",
      "Batch YAML file already exist. Aborting\n"
     ]
    }
   ],
   "source": [
    "#Batch folder that should be used or created to supervise tracking/curation/export\n",
    "batch_folder=\"batch_hi1\"\n",
    "batch_file=\"moma_batch_hi1.yaml\"\n",
    "create_moma_batch_directory(experimentFolderPath,batch_folder)\n",
    "create_yaml_file(batch_file,experimentFolderPath,batch_folder,subset)"
   ]
  },
  {
   "cell_type": "markdown",
   "id": "e4974e33-2de4-448f-b00d-439def9a3a52",
   "metadata": {},
   "source": [
    "### Hi3 curation"
   ]
  },
  {
   "cell_type": "code",
   "execution_count": 74,
   "id": "03ad1366-0539-460f-a7c7-b7f0253ce3a7",
   "metadata": {},
   "outputs": [
    {
     "name": "stdout",
     "output_type": "stream",
     "text": [
      "       date  ch  pos  width  inoculated_gl promoter vector\n",
      "3  20221121   6    3   0.65             23      hi3     ch\n",
      "4  20221121   6    4   0.65             24      hi3     ch\n",
      "5  20221121   6    5   0.65             24      hi3     ch\n"
     ]
    }
   ],
   "source": [
    "subset=experiment_summary_table[experiment_summary_table[\"pos\"].isin([3,4,5])]\n",
    "print(subset)"
   ]
  },
  {
   "cell_type": "code",
   "execution_count": 32,
   "id": "5da9832a-9935-42b6-8d64-c8a53b909326",
   "metadata": {},
   "outputs": [
    {
     "name": "stdout",
     "output_type": "stream",
     "text": [
      "Batch folder already exist.\n",
      "mm.properties already exists, copying cancelled.\n",
      "/scicore/home/nimwegen/rocasu25/MM_Data/Dany/20221121/20221121_preproc\n",
      "Batch file does not exist. It is created for the following positions, for all detected growth lanes:\n",
      "Pos3\n",
      "Pos4\n",
      "Pos5\n"
     ]
    }
   ],
   "source": [
    "#Batch folder that should be used or created to supervise tracking/curation/export\n",
    "batch_folder=\"batch_hi3\"\n",
    "batch_file=\"moma_batch_hi3.yaml\"\n",
    "curation_id=\"moma_batch\"\n",
    "create_moma_batch_directory(experimentFolderPath,batch_folder)\n",
    "create_yaml_file(batch_file,curation_id,experimentFolderPath,preprocFolder,batch_folder,subset)"
   ]
  },
  {
   "cell_type": "code",
   "execution_count": 75,
   "id": "315d8f09-5174-426d-b02c-b0f8b4e00224",
   "metadata": {},
   "outputs": [],
   "source": [
    "%%capture\n",
    "#DO NOT MODIFY\n",
    "#regular expressions for the cvs files to look for\n",
    "subset=experiment_summary_table[experiment_summary_table[\"pos\"].isin([3,4,5])]\n",
    "print(subset)\n",
    "gls_dic={3:list(np.arange(0,60)),\n",
    "        4:list(np.arange(0,60)),\n",
    "        5:list(np.arange(0,60))}\n",
    "rx0='CellStats__(.*).csv' \n",
    "pyMoM.extractAndTidyCurated(experimentFolderPath,preprocFolder,subset,rx0,gls_dic,analysis_id='moma_batch')"
   ]
  },
  {
   "cell_type": "markdown",
   "id": "9f78567c-6269-4ade-a144-60aab2c0fbc2",
   "metadata": {},
   "source": [
    "### rplN curation"
   ]
  },
  {
   "cell_type": "code",
   "execution_count": 4,
   "id": "b2ea83c6-6930-4692-802c-39c397726f44",
   "metadata": {},
   "outputs": [
    {
     "name": "stdout",
     "output_type": "stream",
     "text": [
      "       date  ch  pos  width  inoculated_gl promoter vector\n",
      "6  20221121   5    6   0.65             15     rplN     ch\n",
      "7  20221121   5    7   0.65             10     rplN     ch\n",
      "8  20221121   5    8   0.65             15     rplN     ch\n"
     ]
    }
   ],
   "source": [
    "subset=experiment_summary_table[experiment_summary_table[\"pos\"].isin([6,7,8])]\n",
    "print(subset)"
   ]
  },
  {
   "cell_type": "code",
   "execution_count": 40,
   "id": "e76cd01e-07e7-48fc-97ab-700c1c456c15",
   "metadata": {},
   "outputs": [
    {
     "name": "stdout",
     "output_type": "stream",
     "text": [
      "Making batch directory batch_rplN.\n",
      "Copying standard mm.properties file to batch_rplN.\n",
      "/scicore/home/nimwegen/rocasu25/MM_Data/Dany/20221121/20221121_preproc\n",
      "Batch file does not exist. It is created for the following positions, for all detected growth lanes:\n",
      "Pos6\n",
      "Pos7\n",
      "Pos8\n"
     ]
    }
   ],
   "source": [
    "#Batch folder that should be used or created to supervise tracking/curation/export\n",
    "batch_folder=\"batch_rplN\"\n",
    "batch_file=\"moma_batch_rplN.yaml\"\n",
    "curation_id=\"moma_batch\"\n",
    "create_moma_batch_directory(experimentFolderPath,batch_folder)\n",
    "create_yaml_file(batch_file,curation_id,experimentFolderPath,preprocFolder,batch_folder,subset)"
   ]
  },
  {
   "cell_type": "code",
   "execution_count": 5,
   "id": "5af3c40d-64a3-4e1b-a49b-88d4839c9726",
   "metadata": {},
   "outputs": [],
   "source": [
    "%%capture\n",
    "#DO NOT MODIFY\n",
    "#regular expressions for the cvs files to look for\n",
    "subset=experiment_summary_table[experiment_summary_table[\"pos\"].isin([6,7,8])]\n",
    "print(subset)\n",
    "gls_dic={6:list(np.arange(0,60)),\n",
    "        7:list(np.arange(0,60)),\n",
    "        8:list(np.arange(0,60))}\n",
    "rx0='CellStats__(.*).csv' \n",
    "pyMoM.extractAndTidyCurated(experimentFolderPath,preprocFolder,subset,rx0,gls_dic,analysis_id='moma_batch')"
   ]
  },
  {
   "cell_type": "markdown",
   "id": "aecd1e2c-5c5c-4bdc-bbd6-f61a53152852",
   "metadata": {},
   "source": [
    "### med3 curation"
   ]
  },
  {
   "cell_type": "code",
   "execution_count": 13,
   "id": "0b4a71e2-701a-4f11-a054-cc6ff7a92ed2",
   "metadata": {},
   "outputs": [
    {
     "name": "stdout",
     "output_type": "stream",
     "text": [
      "        date  ch  pos  width  inoculated_gl promoter vector\n",
      "16  20221121   2   16   0.65              8     med3     ch\n",
      "17  20221121   2   17   0.65             11     med3     ch\n",
      "18  20221121   2   18   0.65             11     med3     ch\n"
     ]
    }
   ],
   "source": [
    "subset=experiment_summary_table[experiment_summary_table[\"pos\"].isin([16,17,18])]\n",
    "print(subset)"
   ]
  },
  {
   "cell_type": "code",
   "execution_count": 42,
   "id": "c88ec778-e9ea-4478-b24e-341647170e82",
   "metadata": {},
   "outputs": [
    {
     "name": "stdout",
     "output_type": "stream",
     "text": [
      "Making batch directory batch_med3.\n",
      "Copying standard mm.properties file to batch_med3.\n",
      "/scicore/home/nimwegen/rocasu25/MM_Data/Dany/20221121/20221121_preproc\n",
      "Batch file does not exist. It is created for the following positions, for all detected growth lanes:\n",
      "Pos16\n",
      "Pos17\n",
      "Pos18\n"
     ]
    }
   ],
   "source": [
    "#Batch folder that should be used or created to supervise tracking/curation/export\n",
    "batch_folder=\"batch_med3\"\n",
    "batch_file=\"moma_batch_med3.yaml\"\n",
    "curation_id=\"moma_batch\"\n",
    "create_moma_batch_directory(experimentFolderPath,batch_folder)\n",
    "create_yaml_file(batch_file,curation_id,experimentFolderPath,preprocFolder,batch_folder,subset)"
   ]
  },
  {
   "cell_type": "code",
   "execution_count": 14,
   "id": "d482e749-d7d9-4fb5-bcdd-b84df4827607",
   "metadata": {},
   "outputs": [],
   "source": [
    "%%capture\n",
    "#DO NOT MODIFY\n",
    "#regular expressions for the cvs files to look for\n",
    "subset=experiment_summary_table[experiment_summary_table[\"pos\"].isin([16,17,18])]\n",
    "print(subset)\n",
    "gls_dic={16:list(np.arange(0,60)),\n",
    "        17:list(np.arange(0,60)),\n",
    "        18:list(np.arange(0,60))}\n",
    "rx0='CellStats__(.*).csv' \n",
    "pyMoM.extractAndTidyCurated(experimentFolderPath,preprocFolder,subset,rx0,gls_dic,analysis_id='moma_batch')"
   ]
  },
  {
   "cell_type": "markdown",
   "id": "5f2986e9-2b7b-447b-960e-33ebc7cf879f",
   "metadata": {},
   "source": [
    "### med2 curation"
   ]
  },
  {
   "cell_type": "code",
   "execution_count": 6,
   "id": "9553d0df-ed2a-44cc-bf5d-c677404b8c87",
   "metadata": {},
   "outputs": [
    {
     "name": "stdout",
     "output_type": "stream",
     "text": [
      "        date  ch  pos  width  inoculated_gl promoter vector\n",
      "19  20221121   2   19   0.65             21     med2     ch\n",
      "20  20221121   2   20   0.65             20     med2     ch\n",
      "21  20221121   2   21   0.65             22     med2     ch\n"
     ]
    }
   ],
   "source": [
    "subset=experiment_summary_table[experiment_summary_table[\"pos\"].isin([19,20,21])]\n",
    "print(subset)"
   ]
  },
  {
   "cell_type": "code",
   "execution_count": 44,
   "id": "032837a3-2678-4a2c-849c-1d1d079a4f3b",
   "metadata": {},
   "outputs": [
    {
     "name": "stdout",
     "output_type": "stream",
     "text": [
      "Making batch directory batch_med2.\n",
      "Copying standard mm.properties file to batch_med2.\n",
      "/scicore/home/nimwegen/rocasu25/MM_Data/Dany/20221121/20221121_preproc\n",
      "Batch file does not exist. It is created for the following positions, for all detected growth lanes:\n",
      "Pos19\n",
      "Pos20\n",
      "Pos21\n"
     ]
    }
   ],
   "source": [
    "#Batch folder that should be used or created to supervise tracking/curation/export\n",
    "batch_folder=\"batch_med2\"\n",
    "batch_file=\"moma_batch_med2.yaml\"\n",
    "curation_id=\"moma_batch\"\n",
    "create_moma_batch_directory(experimentFolderPath,batch_folder)\n",
    "create_yaml_file(batch_file,curation_id,experimentFolderPath,preprocFolder,batch_folder,subset)"
   ]
  },
  {
   "cell_type": "code",
   "execution_count": 7,
   "id": "6e273f38-7c50-4f9b-a845-14d2239f885a",
   "metadata": {},
   "outputs": [],
   "source": [
    "%%capture\n",
    "#DO NOT MODIFY\n",
    "#regular expressions for the cvs files to look for\n",
    "subset=experiment_summary_table[experiment_summary_table[\"pos\"].isin([19,20,21])]\n",
    "print(subset)\n",
    "gls_dic={19:list(np.arange(0,60)),\n",
    "        20:list(np.arange(0,60)),\n",
    "        21:list(np.arange(0,60))}\n",
    "rx0='CellStats__(.*).csv' \n",
    "pyMoM.extractAndTidyCurated(experimentFolderPath,preprocFolder,subset,rx0,gls_dic,analysis_id='moma_batch')"
   ]
  },
  {
   "cell_type": "markdown",
   "id": "1cf656f2-1854-4e16-8f80-f87b9c6ca154",
   "metadata": {},
   "source": [
    "#### Export after curation\n",
    "During curation, note down comments about growth lanes curated."
   ]
  },
  {
   "cell_type": "code",
   "execution_count": 20,
   "id": "644ef7f0-0a9e-4a40-92d1-35bcfae0e935",
   "metadata": {},
   "outputs": [
    {
     "name": "stdout",
     "output_type": "stream",
     "text": [
      "Batch YAML file already exist. Aborting\n"
     ]
    }
   ],
   "source": [
    "#Final list of growth lanes that can be exported.\n",
    "gls_dic={0:[3,4,7,8,14,15,18,19,20,22,24,28],\n",
    "         1:[3,9,10,11,12,13,16,18,21,29],\n",
    "         2:[8,9,10,12,15,16,17,18,19,20,21,25,28,29]}\n",
    "\n",
    "write_export_yaml_file(batch_file,experimentFolderPath,batch_folder,gls_dic)"
   ]
  },
  {
   "cell_type": "markdown",
   "id": "e4543085-7d24-4990-9241-3b48bb0821f7",
   "metadata": {},
   "source": [
    "#### Tidying curated csv files for R analysis\n",
    "The following will be tidied"
   ]
  },
  {
   "cell_type": "code",
   "execution_count": 21,
   "id": "97701687-f0f5-403d-b881-a809b8ddb04e",
   "metadata": {},
   "outputs": [
    {
     "name": "stdout",
     "output_type": "stream",
     "text": [
      "       date  ch  pos  width  inoculated_gl promoter vector\n",
      "0  20221121   7    0   0.65             24      hi1     ch\n",
      "1  20221121   7    1   0.65             21      hi1     ch\n",
      "2  20221121   7    2   0.65             21      hi1     ch {0: [3, 4, 7, 8, 14, 15, 18, 19, 20, 22, 24, 28], 1: [3, 9, 10, 11, 12, 13, 16, 18, 21, 29], 2: [8, 9, 10, 12, 15, 16, 17, 18, 19, 20, 21, 25, 28, 29]}\n"
     ]
    }
   ],
   "source": [
    "print(subset,gls_dic)"
   ]
  },
  {
   "cell_type": "code",
   "execution_count": 24,
   "id": "88233105-e379-4754-9af7-455972500449",
   "metadata": {},
   "outputs": [
    {
     "name": "stdout",
     "output_type": "stream",
     "text": [
      "Copying /scicore/home/nimwegen/rocasu25/MM_Data/Dany/20221121/20221121_preproc/Pos0/Pos0_GL3/moma_batch_hi1/export_data__moma_batch_hi1/CellStats__20221121_ace0_Pos0_GL3.csv to /scicore/home/nimwegen/rocasu25/MM_Data/Dany/20221121/curated_data/hi1_ch_curated/CellStats__20221121_ace0_Pos0_GL3.csv.\n",
      "\n",
      "Copying /scicore/home/nimwegen/rocasu25/MM_Data/Dany/20221121/20221121_preproc/Pos0/Pos0_GL14/moma_batch_hi1/export_data__moma_batch_hi1/CellStats__20221121_ace0_Pos0_GL14.csv to /scicore/home/nimwegen/rocasu25/MM_Data/Dany/20221121/curated_data/hi1_ch_curated/CellStats__20221121_ace0_Pos0_GL14.csv.\n",
      "\n",
      "Copying /scicore/home/nimwegen/rocasu25/MM_Data/Dany/20221121/20221121_preproc/Pos0/Pos0_GL15/moma_batch_hi1/export_data__moma_batch_hi1/CellStats__20221121_ace0_Pos0_GL15.csv to /scicore/home/nimwegen/rocasu25/MM_Data/Dany/20221121/curated_data/hi1_ch_curated/CellStats__20221121_ace0_Pos0_GL15.csv.\n",
      "\n",
      "Copying /scicore/home/nimwegen/rocasu25/MM_Data/Dany/20221121/20221121_preproc/Pos0/Pos0_GL18/moma_batch_hi1/export_data__moma_batch_hi1/CellStats__20221121_ace0_Pos0_GL18.csv to /scicore/home/nimwegen/rocasu25/MM_Data/Dany/20221121/curated_data/hi1_ch_curated/CellStats__20221121_ace0_Pos0_GL18.csv.\n",
      "\n",
      "Copying /scicore/home/nimwegen/rocasu25/MM_Data/Dany/20221121/20221121_preproc/Pos0/Pos0_GL20/moma_batch_hi1/export_data__moma_batch_hi1/CellStats__20221121_ace0_Pos0_GL20.csv to /scicore/home/nimwegen/rocasu25/MM_Data/Dany/20221121/curated_data/hi1_ch_curated/CellStats__20221121_ace0_Pos0_GL20.csv.\n",
      "\n",
      "Copying /scicore/home/nimwegen/rocasu25/MM_Data/Dany/20221121/20221121_preproc/Pos0/Pos0_GL22/moma_batch_hi1/export_data__moma_batch_hi1/CellStats__20221121_ace0_Pos0_GL22.csv to /scicore/home/nimwegen/rocasu25/MM_Data/Dany/20221121/curated_data/hi1_ch_curated/CellStats__20221121_ace0_Pos0_GL22.csv.\n",
      "\n",
      "Copying /scicore/home/nimwegen/rocasu25/MM_Data/Dany/20221121/20221121_preproc/Pos0/Pos0_GL28/moma_batch_hi1/export_data__moma_batch_hi1/CellStats__20221121_ace0_Pos0_GL28.csv to /scicore/home/nimwegen/rocasu25/MM_Data/Dany/20221121/curated_data/hi1_ch_curated/CellStats__20221121_ace0_Pos0_GL28.csv.\n",
      "\n",
      "Copying /scicore/home/nimwegen/rocasu25/MM_Data/Dany/20221121/20221121_preproc/Pos1/Pos1_GL3/moma_batch_hi1/export_data__moma_batch_hi1/CellStats__20221121_ace0_Pos1_GL3.csv to /scicore/home/nimwegen/rocasu25/MM_Data/Dany/20221121/curated_data/hi1_ch_curated/CellStats__20221121_ace0_Pos1_GL3.csv.\n",
      "\n",
      "Copying /scicore/home/nimwegen/rocasu25/MM_Data/Dany/20221121/20221121_preproc/Pos1/Pos1_GL9/moma_batch_hi1/export_data__moma_batch_hi1/CellStats__20221121_ace0_Pos1_GL9.csv to /scicore/home/nimwegen/rocasu25/MM_Data/Dany/20221121/curated_data/hi1_ch_curated/CellStats__20221121_ace0_Pos1_GL9.csv.\n",
      "\n",
      "Copying /scicore/home/nimwegen/rocasu25/MM_Data/Dany/20221121/20221121_preproc/Pos1/Pos1_GL10/moma_batch_hi1/export_data__moma_batch_hi1/CellStats__20221121_ace0_Pos1_GL10.csv to /scicore/home/nimwegen/rocasu25/MM_Data/Dany/20221121/curated_data/hi1_ch_curated/CellStats__20221121_ace0_Pos1_GL10.csv.\n",
      "\n",
      "Copying /scicore/home/nimwegen/rocasu25/MM_Data/Dany/20221121/20221121_preproc/Pos1/Pos1_GL11/moma_batch_hi1/export_data__moma_batch_hi1/CellStats__20221121_ace0_Pos1_GL11.csv to /scicore/home/nimwegen/rocasu25/MM_Data/Dany/20221121/curated_data/hi1_ch_curated/CellStats__20221121_ace0_Pos1_GL11.csv.\n",
      "\n",
      "Copying /scicore/home/nimwegen/rocasu25/MM_Data/Dany/20221121/20221121_preproc/Pos1/Pos1_GL12/moma_batch_hi1/export_data__moma_batch_hi1/CellStats__20221121_ace0_Pos1_GL12.csv to /scicore/home/nimwegen/rocasu25/MM_Data/Dany/20221121/curated_data/hi1_ch_curated/CellStats__20221121_ace0_Pos1_GL12.csv.\n",
      "\n",
      "Copying /scicore/home/nimwegen/rocasu25/MM_Data/Dany/20221121/20221121_preproc/Pos1/Pos1_GL13/moma_batch_hi1/export_data__moma_batch_hi1/CellStats__20221121_ace0_Pos1_GL13.csv to /scicore/home/nimwegen/rocasu25/MM_Data/Dany/20221121/curated_data/hi1_ch_curated/CellStats__20221121_ace0_Pos1_GL13.csv.\n",
      "\n",
      "Copying /scicore/home/nimwegen/rocasu25/MM_Data/Dany/20221121/20221121_preproc/Pos1/Pos1_GL16/moma_batch_hi1/export_data__moma_batch_hi1/CellStats__20221121_ace0_Pos1_GL16.csv to /scicore/home/nimwegen/rocasu25/MM_Data/Dany/20221121/curated_data/hi1_ch_curated/CellStats__20221121_ace0_Pos1_GL16.csv.\n",
      "\n",
      "Copying /scicore/home/nimwegen/rocasu25/MM_Data/Dany/20221121/20221121_preproc/Pos1/Pos1_GL18/moma_batch_hi1/export_data__moma_batch_hi1/CellStats__20221121_ace0_Pos1_GL18.csv to /scicore/home/nimwegen/rocasu25/MM_Data/Dany/20221121/curated_data/hi1_ch_curated/CellStats__20221121_ace0_Pos1_GL18.csv.\n",
      "\n",
      "Copying /scicore/home/nimwegen/rocasu25/MM_Data/Dany/20221121/20221121_preproc/Pos1/Pos1_GL21/moma_batch_hi1/export_data__moma_batch_hi1/CellStats__20221121_ace0_Pos1_GL21.csv to /scicore/home/nimwegen/rocasu25/MM_Data/Dany/20221121/curated_data/hi1_ch_curated/CellStats__20221121_ace0_Pos1_GL21.csv.\n",
      "\n",
      "Copying /scicore/home/nimwegen/rocasu25/MM_Data/Dany/20221121/20221121_preproc/Pos1/Pos1_GL29/moma_batch_hi1/export_data__moma_batch_hi1/CellStats__20221121_ace0_Pos1_GL29.csv to /scicore/home/nimwegen/rocasu25/MM_Data/Dany/20221121/curated_data/hi1_ch_curated/CellStats__20221121_ace0_Pos1_GL29.csv.\n",
      "\n",
      "Copying /scicore/home/nimwegen/rocasu25/MM_Data/Dany/20221121/20221121_preproc/Pos2/Pos2_GL8/moma_batch_hi1/export_data__moma_batch_hi1/CellStats__20221121_ace0_Pos2_GL8.csv to /scicore/home/nimwegen/rocasu25/MM_Data/Dany/20221121/curated_data/hi1_ch_curated/CellStats__20221121_ace0_Pos2_GL8.csv.\n",
      "\n",
      "Copying /scicore/home/nimwegen/rocasu25/MM_Data/Dany/20221121/20221121_preproc/Pos2/Pos2_GL9/moma_batch_hi1/export_data__moma_batch_hi1/CellStats__20221121_ace0_Pos2_GL9.csv to /scicore/home/nimwegen/rocasu25/MM_Data/Dany/20221121/curated_data/hi1_ch_curated/CellStats__20221121_ace0_Pos2_GL9.csv.\n",
      "\n",
      "Copying /scicore/home/nimwegen/rocasu25/MM_Data/Dany/20221121/20221121_preproc/Pos2/Pos2_GL10/moma_batch_hi1/export_data__moma_batch_hi1/CellStats__20221121_ace0_Pos2_GL10.csv to /scicore/home/nimwegen/rocasu25/MM_Data/Dany/20221121/curated_data/hi1_ch_curated/CellStats__20221121_ace0_Pos2_GL10.csv.\n",
      "\n",
      "Copying /scicore/home/nimwegen/rocasu25/MM_Data/Dany/20221121/20221121_preproc/Pos2/Pos2_GL12/moma_batch_hi1/export_data__moma_batch_hi1/CellStats__20221121_ace0_Pos2_GL12.csv to /scicore/home/nimwegen/rocasu25/MM_Data/Dany/20221121/curated_data/hi1_ch_curated/CellStats__20221121_ace0_Pos2_GL12.csv.\n",
      "\n",
      "Copying /scicore/home/nimwegen/rocasu25/MM_Data/Dany/20221121/20221121_preproc/Pos2/Pos2_GL15/moma_batch_hi1/export_data__moma_batch_hi1/CellStats__20221121_ace0_Pos2_GL15.csv to /scicore/home/nimwegen/rocasu25/MM_Data/Dany/20221121/curated_data/hi1_ch_curated/CellStats__20221121_ace0_Pos2_GL15.csv.\n",
      "\n",
      "Copying /scicore/home/nimwegen/rocasu25/MM_Data/Dany/20221121/20221121_preproc/Pos2/Pos2_GL16/moma_batch_hi1/export_data__moma_batch_hi1/CellStats__20221121_ace0_Pos2_GL16.csv to /scicore/home/nimwegen/rocasu25/MM_Data/Dany/20221121/curated_data/hi1_ch_curated/CellStats__20221121_ace0_Pos2_GL16.csv.\n",
      "\n",
      "Copying /scicore/home/nimwegen/rocasu25/MM_Data/Dany/20221121/20221121_preproc/Pos2/Pos2_GL18/moma_batch_hi1/export_data__moma_batch_hi1/CellStats__20221121_ace0_Pos2_GL18.csv to /scicore/home/nimwegen/rocasu25/MM_Data/Dany/20221121/curated_data/hi1_ch_curated/CellStats__20221121_ace0_Pos2_GL18.csv.\n",
      "\n",
      "Copying /scicore/home/nimwegen/rocasu25/MM_Data/Dany/20221121/20221121_preproc/Pos2/Pos2_GL20/moma_batch_hi1/export_data__moma_batch_hi1/CellStats__20221121_ace0_Pos2_GL20.csv to /scicore/home/nimwegen/rocasu25/MM_Data/Dany/20221121/curated_data/hi1_ch_curated/CellStats__20221121_ace0_Pos2_GL20.csv.\n",
      "\n",
      "Copying /scicore/home/nimwegen/rocasu25/MM_Data/Dany/20221121/20221121_preproc/Pos2/Pos2_GL21/moma_batch_hi1/export_data__moma_batch_hi1/CellStats__20221121_ace0_Pos2_GL21.csv to /scicore/home/nimwegen/rocasu25/MM_Data/Dany/20221121/curated_data/hi1_ch_curated/CellStats__20221121_ace0_Pos2_GL21.csv.\n",
      "\n",
      "Copying /scicore/home/nimwegen/rocasu25/MM_Data/Dany/20221121/20221121_preproc/Pos2/Pos2_GL25/moma_batch_hi1/export_data__moma_batch_hi1/CellStats__20221121_ace0_Pos2_GL25.csv to /scicore/home/nimwegen/rocasu25/MM_Data/Dany/20221121/curated_data/hi1_ch_curated/CellStats__20221121_ace0_Pos2_GL25.csv.\n",
      "\n",
      "Copying /scicore/home/nimwegen/rocasu25/MM_Data/Dany/20221121/20221121_preproc/Pos2/Pos2_GL28/moma_batch_hi1/export_data__moma_batch_hi1/CellStats__20221121_ace0_Pos2_GL28.csv to /scicore/home/nimwegen/rocasu25/MM_Data/Dany/20221121/curated_data/hi1_ch_curated/CellStats__20221121_ace0_Pos2_GL28.csv.\n",
      "\n",
      "Copying /scicore/home/nimwegen/rocasu25/MM_Data/Dany/20221121/20221121_preproc/Pos2/Pos2_GL29/moma_batch_hi1/export_data__moma_batch_hi1/CellStats__20221121_ace0_Pos2_GL29.csv to /scicore/home/nimwegen/rocasu25/MM_Data/Dany/20221121/curated_data/hi1_ch_curated/CellStats__20221121_ace0_Pos2_GL29.csv.\n"
     ]
    }
   ],
   "source": [
    "%%capture\n",
    "#DO NOT MODIFY\n",
    "#regular expressions for the cvs files to look for\n",
    "rx0='CellStats__(.*).csv' \n",
    "pyMoM.extractAndTidyCurated(experimentFolderPath,preprocFolder,subset,rx0,gls_dic,analysis_id=batch_file[:-5])"
   ]
  },
  {
   "cell_type": "code",
   "execution_count": null,
   "id": "e12b9da2-1f8f-46ab-9fd9-732d4f036c2f",
   "metadata": {},
   "outputs": [],
   "source": [
    "#clean BKP data"
   ]
  },
  {
   "cell_type": "code",
   "execution_count": 30,
   "id": "f3554fea-6359-47d2-8bbb-f8019e25b511",
   "metadata": {},
   "outputs": [
    {
     "name": "stdout",
     "output_type": "stream",
     "text": [
      "20221121,acetate,0,334,acetate005,12,/scicore/home/nimwegen/rocasu25/MM_Data/Dany/20221121/curated_data/hi1_ch_curated,hi1,ch,90\n",
      "20221121,acetate,0,334,acetate005,12,/scicore/home/nimwegen/rocasu25/MM_Data/Dany/20221121/curated_data/hi3_ch_curated,hi3,ch,90\n",
      "20221121,acetate,0,334,acetate005,12,/scicore/home/nimwegen/rocasu25/MM_Data/Dany/20221121/curated_data/rplN_ch_curated,rplN,ch,90\n",
      "20221121,acetate,0,334,acetate005,12,/scicore/home/nimwegen/rocasu25/MM_Data/Dany/20221121/curated_data/rpmB_ch_curated,rpmB,ch,90\n",
      "20221121,acetate,0,334,acetate005,12,/scicore/home/nimwegen/rocasu25/MM_Data/Dany/20221121/curated_data/6300_ch_curated,6300,ch,90\n",
      "20221121,acetate,0,334,acetate005,12,/scicore/home/nimwegen/rocasu25/MM_Data/Dany/20221121/curated_data/med3_ch_curated,med3,ch,90\n",
      "20221121,acetate,0,334,acetate005,12,/scicore/home/nimwegen/rocasu25/MM_Data/Dany/20221121/curated_data/med2_ch_curated,med2,ch,90\n"
     ]
    }
   ],
   "source": [
    "#Generate entries for R analysis\n",
    "generate_import_script_input(experimentFolderPath,subset,experiment_summary_table,experimental_details)"
   ]
  },
  {
   "cell_type": "markdown",
   "id": "15431d84-9453-4b99-b221-362d24bc0b81",
   "metadata": {
    "jp-MarkdownHeadingCollapsed": true,
    "tags": []
   },
   "source": [
    "# 20220824, acetate 0.2%, (med3, hi1, rplN, 6300, rrnB, med2)\n",
    "## Experimental details and data summary"
   ]
  },
  {
   "cell_type": "code",
   "execution_count": 5,
   "id": "484c2973-1438-4ed8-a9d3-eb701627dd3d",
   "metadata": {},
   "outputs": [
    {
     "data": {
      "text/html": [
       "<div>\n",
       "<style scoped>\n",
       "    .dataframe tbody tr th:only-of-type {\n",
       "        vertical-align: middle;\n",
       "    }\n",
       "\n",
       "    .dataframe tbody tr th {\n",
       "        vertical-align: top;\n",
       "    }\n",
       "\n",
       "    .dataframe thead th {\n",
       "        text-align: right;\n",
       "    }\n",
       "</style>\n",
       "<table border=\"1\" class=\"dataframe\">\n",
       "  <thead>\n",
       "    <tr style=\"text-align: right;\">\n",
       "      <th></th>\n",
       "      <th>date</th>\n",
       "      <th>ch</th>\n",
       "      <th>pos</th>\n",
       "      <th>width</th>\n",
       "      <th>inoculated_gl</th>\n",
       "      <th>promoter</th>\n",
       "      <th>vector</th>\n",
       "    </tr>\n",
       "  </thead>\n",
       "  <tbody>\n",
       "    <tr>\n",
       "      <th>0</th>\n",
       "      <td>20220824</td>\n",
       "      <td>4</td>\n",
       "      <td>0</td>\n",
       "      <td>1.0</td>\n",
       "      <td>3</td>\n",
       "      <td>med3</td>\n",
       "      <td>ch</td>\n",
       "    </tr>\n",
       "    <tr>\n",
       "      <th>1</th>\n",
       "      <td>20220824</td>\n",
       "      <td>4</td>\n",
       "      <td>1</td>\n",
       "      <td>1.0</td>\n",
       "      <td>5</td>\n",
       "      <td>med3</td>\n",
       "      <td>ch</td>\n",
       "    </tr>\n",
       "    <tr>\n",
       "      <th>2</th>\n",
       "      <td>20220824</td>\n",
       "      <td>4</td>\n",
       "      <td>2</td>\n",
       "      <td>1.0</td>\n",
       "      <td>3</td>\n",
       "      <td>med3</td>\n",
       "      <td>ch</td>\n",
       "    </tr>\n",
       "    <tr>\n",
       "      <th>3</th>\n",
       "      <td>20220824</td>\n",
       "      <td>4</td>\n",
       "      <td>3</td>\n",
       "      <td>1.0</td>\n",
       "      <td>3</td>\n",
       "      <td>med3</td>\n",
       "      <td>ch</td>\n",
       "    </tr>\n",
       "    <tr>\n",
       "      <th>4</th>\n",
       "      <td>20220824</td>\n",
       "      <td>6</td>\n",
       "      <td>4</td>\n",
       "      <td>1.0</td>\n",
       "      <td>25</td>\n",
       "      <td>hi1</td>\n",
       "      <td>ch</td>\n",
       "    </tr>\n",
       "    <tr>\n",
       "      <th>5</th>\n",
       "      <td>20220824</td>\n",
       "      <td>6</td>\n",
       "      <td>5</td>\n",
       "      <td>1.0</td>\n",
       "      <td>20</td>\n",
       "      <td>hi1</td>\n",
       "      <td>ch</td>\n",
       "    </tr>\n",
       "    <tr>\n",
       "      <th>6</th>\n",
       "      <td>20220824</td>\n",
       "      <td>6</td>\n",
       "      <td>6</td>\n",
       "      <td>0.8</td>\n",
       "      <td>8</td>\n",
       "      <td>hi1</td>\n",
       "      <td>ch</td>\n",
       "    </tr>\n",
       "    <tr>\n",
       "      <th>7</th>\n",
       "      <td>20220824</td>\n",
       "      <td>6</td>\n",
       "      <td>7</td>\n",
       "      <td>0.8</td>\n",
       "      <td>4</td>\n",
       "      <td>hi1</td>\n",
       "      <td>ch</td>\n",
       "    </tr>\n",
       "    <tr>\n",
       "      <th>8</th>\n",
       "      <td>20220824</td>\n",
       "      <td>7</td>\n",
       "      <td>8</td>\n",
       "      <td>1.0</td>\n",
       "      <td>34</td>\n",
       "      <td>rplN</td>\n",
       "      <td>ch</td>\n",
       "    </tr>\n",
       "    <tr>\n",
       "      <th>9</th>\n",
       "      <td>20220824</td>\n",
       "      <td>7</td>\n",
       "      <td>9</td>\n",
       "      <td>0.8</td>\n",
       "      <td>14</td>\n",
       "      <td>rplN</td>\n",
       "      <td>ch</td>\n",
       "    </tr>\n",
       "    <tr>\n",
       "      <th>10</th>\n",
       "      <td>20220824</td>\n",
       "      <td>7</td>\n",
       "      <td>10</td>\n",
       "      <td>0.8</td>\n",
       "      <td>18</td>\n",
       "      <td>rplN</td>\n",
       "      <td>ch</td>\n",
       "    </tr>\n",
       "    <tr>\n",
       "      <th>11</th>\n",
       "      <td>20220824</td>\n",
       "      <td>2</td>\n",
       "      <td>11</td>\n",
       "      <td>1.0</td>\n",
       "      <td>12</td>\n",
       "      <td>6300</td>\n",
       "      <td>ch</td>\n",
       "    </tr>\n",
       "    <tr>\n",
       "      <th>12</th>\n",
       "      <td>20220824</td>\n",
       "      <td>2</td>\n",
       "      <td>12</td>\n",
       "      <td>1.0</td>\n",
       "      <td>14</td>\n",
       "      <td>6300</td>\n",
       "      <td>ch</td>\n",
       "    </tr>\n",
       "    <tr>\n",
       "      <th>13</th>\n",
       "      <td>20220824</td>\n",
       "      <td>2</td>\n",
       "      <td>13</td>\n",
       "      <td>0.8</td>\n",
       "      <td>4</td>\n",
       "      <td>6300</td>\n",
       "      <td>ch</td>\n",
       "    </tr>\n",
       "    <tr>\n",
       "      <th>14</th>\n",
       "      <td>20220824</td>\n",
       "      <td>2</td>\n",
       "      <td>14</td>\n",
       "      <td>0.8</td>\n",
       "      <td>8</td>\n",
       "      <td>6300</td>\n",
       "      <td>ch</td>\n",
       "    </tr>\n",
       "    <tr>\n",
       "      <th>15</th>\n",
       "      <td>20220824</td>\n",
       "      <td>2</td>\n",
       "      <td>15</td>\n",
       "      <td>0.8</td>\n",
       "      <td>10</td>\n",
       "      <td>6300</td>\n",
       "      <td>ch</td>\n",
       "    </tr>\n",
       "    <tr>\n",
       "      <th>16</th>\n",
       "      <td>20220824</td>\n",
       "      <td>1</td>\n",
       "      <td>16</td>\n",
       "      <td>1.0</td>\n",
       "      <td>16</td>\n",
       "      <td>rrnB</td>\n",
       "      <td>ch</td>\n",
       "    </tr>\n",
       "    <tr>\n",
       "      <th>17</th>\n",
       "      <td>20220824</td>\n",
       "      <td>1</td>\n",
       "      <td>17</td>\n",
       "      <td>1.0</td>\n",
       "      <td>9</td>\n",
       "      <td>rrnB</td>\n",
       "      <td>ch</td>\n",
       "    </tr>\n",
       "    <tr>\n",
       "      <th>18</th>\n",
       "      <td>20220824</td>\n",
       "      <td>1</td>\n",
       "      <td>18</td>\n",
       "      <td>0.8</td>\n",
       "      <td>7</td>\n",
       "      <td>rrnB</td>\n",
       "      <td>ch</td>\n",
       "    </tr>\n",
       "    <tr>\n",
       "      <th>19</th>\n",
       "      <td>20220824</td>\n",
       "      <td>1</td>\n",
       "      <td>19</td>\n",
       "      <td>0.8</td>\n",
       "      <td>6</td>\n",
       "      <td>rrnB</td>\n",
       "      <td>ch</td>\n",
       "    </tr>\n",
       "    <tr>\n",
       "      <th>20</th>\n",
       "      <td>20220824</td>\n",
       "      <td>1</td>\n",
       "      <td>20</td>\n",
       "      <td>0.8</td>\n",
       "      <td>10</td>\n",
       "      <td>rrnB</td>\n",
       "      <td>ch</td>\n",
       "    </tr>\n",
       "    <tr>\n",
       "      <th>21</th>\n",
       "      <td>20220824</td>\n",
       "      <td>0</td>\n",
       "      <td>21</td>\n",
       "      <td>1.0</td>\n",
       "      <td>20</td>\n",
       "      <td>med2</td>\n",
       "      <td>ch</td>\n",
       "    </tr>\n",
       "    <tr>\n",
       "      <th>22</th>\n",
       "      <td>20220824</td>\n",
       "      <td>0</td>\n",
       "      <td>22</td>\n",
       "      <td>1.0</td>\n",
       "      <td>14</td>\n",
       "      <td>med2</td>\n",
       "      <td>ch</td>\n",
       "    </tr>\n",
       "    <tr>\n",
       "      <th>23</th>\n",
       "      <td>20220824</td>\n",
       "      <td>0</td>\n",
       "      <td>23</td>\n",
       "      <td>0.8</td>\n",
       "      <td>12</td>\n",
       "      <td>med2</td>\n",
       "      <td>ch</td>\n",
       "    </tr>\n",
       "    <tr>\n",
       "      <th>24</th>\n",
       "      <td>20220824</td>\n",
       "      <td>0</td>\n",
       "      <td>24</td>\n",
       "      <td>0.8</td>\n",
       "      <td>11</td>\n",
       "      <td>med2</td>\n",
       "      <td>ch</td>\n",
       "    </tr>\n",
       "  </tbody>\n",
       "</table>\n",
       "</div>"
      ],
      "text/plain": [
       "        date  ch  pos  width  inoculated_gl promoter vector\n",
       "0   20220824   4    0    1.0              3     med3     ch\n",
       "1   20220824   4    1    1.0              5     med3     ch\n",
       "2   20220824   4    2    1.0              3     med3     ch\n",
       "3   20220824   4    3    1.0              3     med3     ch\n",
       "4   20220824   6    4    1.0             25      hi1     ch\n",
       "5   20220824   6    5    1.0             20      hi1     ch\n",
       "6   20220824   6    6    0.8              8      hi1     ch\n",
       "7   20220824   6    7    0.8              4      hi1     ch\n",
       "8   20220824   7    8    1.0             34     rplN     ch\n",
       "9   20220824   7    9    0.8             14     rplN     ch\n",
       "10  20220824   7   10    0.8             18     rplN     ch\n",
       "11  20220824   2   11    1.0             12     6300     ch\n",
       "12  20220824   2   12    1.0             14     6300     ch\n",
       "13  20220824   2   13    0.8              4     6300     ch\n",
       "14  20220824   2   14    0.8              8     6300     ch\n",
       "15  20220824   2   15    0.8             10     6300     ch\n",
       "16  20220824   1   16    1.0             16     rrnB     ch\n",
       "17  20220824   1   17    1.0              9     rrnB     ch\n",
       "18  20220824   1   18    0.8              7     rrnB     ch\n",
       "19  20220824   1   19    0.8              6     rrnB     ch\n",
       "20  20220824   1   20    0.8             10     rrnB     ch\n",
       "21  20220824   0   21    1.0             20     med2     ch\n",
       "22  20220824   0   22    1.0             14     med2     ch\n",
       "23  20220824   0   23    0.8             12     med2     ch\n",
       "24  20220824   0   24    0.8             11     med2     ch"
      ]
     },
     "execution_count": 5,
     "metadata": {},
     "output_type": "execute_result"
    }
   ],
   "source": [
    "#Experimental details\n",
    "experimental_details=[{\n",
    "    \"date\":\"20220824\",\n",
    "    \"description\":\"acetate\",\n",
    "    \"f_start\":\"0\",\n",
    "    \"f_end\":\"Inf\",\n",
    "    \"condition\":\"acetate\",\n",
    "    \"t_interval\":\"12\",\n",
    "    \"cell_detection_offset\":\"100\"} #min\n",
    "]\n",
    "\n",
    "experimentFolderPath='/scicore/home/nimwegen/rocasu25/MM_Data/Dany/20220824'\n",
    "experimentDate=experimental_details[0][\"date\"]\n",
    "experiment_summary_table = pd.read_csv('%s/curated_data/positions.csv'%(experimentFolderPath))\n",
    "\n",
    "preprocFolder=\"20220824_ace_preproc_2\"\n",
    "\n",
    "PREPROC_DIR_TPL=\"/scicore/home/nimwegen/rocasu25/MM_Data/Dany/20220824/20220824_ace_preproc_test/mmpreproc_%s\"\n",
    "RAW_PATH=\"/scicore/home/nimwegen/rocasu25/MM_Data/Dany/20220824/20220824_ace/20220824_ace_1/20220824_ace_1_MMStack.ome.tif\"\n",
    "FLATFIELD_PATH=\"/scicore/home/nimwegen/rocasu25/MM_Data/Dany/20220819_ace/20220819_flatfield_gfp_2/20220819_flatfield_gfp_2_MMStack.ome.tif\"\n",
    "POS_NAMES=\"(Pos0 Pos1 Pos2 Pos3 Pos4 Pos5 Pos6 Pos7 Pos8 Pos9 Pos10 Pos11 Pos12 Pos13 Pos14 Pos15 Pos16 Pos17 Pos18 Pos19 Pos20 Pos21 Pos22 Pos23 Pos24)\"\n",
    "GL_DETECTION_TEMPLATE_PATH=\"./TEMPLATE_vng79/template_config.json\"\n",
    "ROTATION=\"90.45\"\n",
    "TMAX=\"201\"\n",
    "IMAGE_REGISTRATION_METHOD=\"1\"\n",
    "FRAMES_TO_IGNORE=\"()\"\n",
    "NORMALIZATION_CONFIG_PATH=\"true\"\n",
    "NORMALIZATION_REGION_OFFSET=\"120\"\n",
    "\n",
    "experiment_summary_table"
   ]
  },
  {
   "cell_type": "code",
   "execution_count": 44,
   "id": "960f2af8-233e-4171-8d37-590471f4af46",
   "metadata": {},
   "outputs": [
    {
     "name": "stdin",
     "output_type": "stream",
     "text": [
      "Do you really want to submit preprocessing tasks to the scheduler? If the preprocessing folder target path has not been changed, it might result in overwritting your data. Enter 'Yes', to confirm. no\n"
     ]
    },
    {
     "name": "stdout",
     "output_type": "stream",
     "text": [
      "Aborting scheduler preprocessing submission\n"
     ]
    }
   ],
   "source": [
    "import subprocess\n",
    "subprocess.run([\"./submit_slurm.sh\", PREPROC_DIR_TPL, RAW_PATH, FLATFIELD_PATH, POS_NAMES, GL_DETECTION_TEMPLATE_PATH, ROTATION, TMAX, IMAGE_REGISTRATION_METHOD, FRAMES_TO_IGNORE, NORMALIZATION_CONFIG_PATH, NORMALIZATION_REGION_OFFSET])"
   ]
  },
  {
   "cell_type": "markdown",
   "id": "1006fe2e-a0a1-4f37-81bb-a3b8a0c67bac",
   "metadata": {},
   "source": [
    "### Curation med3, rplN, 6300, rrnB"
   ]
  },
  {
   "cell_type": "code",
   "execution_count": 6,
   "id": "6fde4566-7b5b-4b0d-a87b-32b5fc2b0fe5",
   "metadata": {},
   "outputs": [
    {
     "data": {
      "text/html": [
       "<div>\n",
       "<style scoped>\n",
       "    .dataframe tbody tr th:only-of-type {\n",
       "        vertical-align: middle;\n",
       "    }\n",
       "\n",
       "    .dataframe tbody tr th {\n",
       "        vertical-align: top;\n",
       "    }\n",
       "\n",
       "    .dataframe thead th {\n",
       "        text-align: right;\n",
       "    }\n",
       "</style>\n",
       "<table border=\"1\" class=\"dataframe\">\n",
       "  <thead>\n",
       "    <tr style=\"text-align: right;\">\n",
       "      <th></th>\n",
       "      <th>date</th>\n",
       "      <th>ch</th>\n",
       "      <th>pos</th>\n",
       "      <th>width</th>\n",
       "      <th>inoculated_gl</th>\n",
       "      <th>promoter</th>\n",
       "      <th>vector</th>\n",
       "    </tr>\n",
       "  </thead>\n",
       "  <tbody>\n",
       "    <tr>\n",
       "      <th>0</th>\n",
       "      <td>20220824</td>\n",
       "      <td>4</td>\n",
       "      <td>0</td>\n",
       "      <td>1.0</td>\n",
       "      <td>3</td>\n",
       "      <td>med3</td>\n",
       "      <td>ch</td>\n",
       "    </tr>\n",
       "    <tr>\n",
       "      <th>1</th>\n",
       "      <td>20220824</td>\n",
       "      <td>4</td>\n",
       "      <td>1</td>\n",
       "      <td>1.0</td>\n",
       "      <td>5</td>\n",
       "      <td>med3</td>\n",
       "      <td>ch</td>\n",
       "    </tr>\n",
       "    <tr>\n",
       "      <th>2</th>\n",
       "      <td>20220824</td>\n",
       "      <td>4</td>\n",
       "      <td>2</td>\n",
       "      <td>1.0</td>\n",
       "      <td>3</td>\n",
       "      <td>med3</td>\n",
       "      <td>ch</td>\n",
       "    </tr>\n",
       "    <tr>\n",
       "      <th>3</th>\n",
       "      <td>20220824</td>\n",
       "      <td>4</td>\n",
       "      <td>3</td>\n",
       "      <td>1.0</td>\n",
       "      <td>3</td>\n",
       "      <td>med3</td>\n",
       "      <td>ch</td>\n",
       "    </tr>\n",
       "    <tr>\n",
       "      <th>4</th>\n",
       "      <td>20220824</td>\n",
       "      <td>6</td>\n",
       "      <td>4</td>\n",
       "      <td>1.0</td>\n",
       "      <td>25</td>\n",
       "      <td>hi1</td>\n",
       "      <td>ch</td>\n",
       "    </tr>\n",
       "    <tr>\n",
       "      <th>5</th>\n",
       "      <td>20220824</td>\n",
       "      <td>6</td>\n",
       "      <td>5</td>\n",
       "      <td>1.0</td>\n",
       "      <td>20</td>\n",
       "      <td>hi1</td>\n",
       "      <td>ch</td>\n",
       "    </tr>\n",
       "    <tr>\n",
       "      <th>6</th>\n",
       "      <td>20220824</td>\n",
       "      <td>6</td>\n",
       "      <td>6</td>\n",
       "      <td>0.8</td>\n",
       "      <td>8</td>\n",
       "      <td>hi1</td>\n",
       "      <td>ch</td>\n",
       "    </tr>\n",
       "    <tr>\n",
       "      <th>7</th>\n",
       "      <td>20220824</td>\n",
       "      <td>6</td>\n",
       "      <td>7</td>\n",
       "      <td>0.8</td>\n",
       "      <td>4</td>\n",
       "      <td>hi1</td>\n",
       "      <td>ch</td>\n",
       "    </tr>\n",
       "    <tr>\n",
       "      <th>8</th>\n",
       "      <td>20220824</td>\n",
       "      <td>7</td>\n",
       "      <td>8</td>\n",
       "      <td>1.0</td>\n",
       "      <td>34</td>\n",
       "      <td>rplN</td>\n",
       "      <td>ch</td>\n",
       "    </tr>\n",
       "    <tr>\n",
       "      <th>9</th>\n",
       "      <td>20220824</td>\n",
       "      <td>7</td>\n",
       "      <td>9</td>\n",
       "      <td>0.8</td>\n",
       "      <td>14</td>\n",
       "      <td>rplN</td>\n",
       "      <td>ch</td>\n",
       "    </tr>\n",
       "    <tr>\n",
       "      <th>10</th>\n",
       "      <td>20220824</td>\n",
       "      <td>7</td>\n",
       "      <td>10</td>\n",
       "      <td>0.8</td>\n",
       "      <td>18</td>\n",
       "      <td>rplN</td>\n",
       "      <td>ch</td>\n",
       "    </tr>\n",
       "    <tr>\n",
       "      <th>11</th>\n",
       "      <td>20220824</td>\n",
       "      <td>2</td>\n",
       "      <td>11</td>\n",
       "      <td>1.0</td>\n",
       "      <td>12</td>\n",
       "      <td>6300</td>\n",
       "      <td>ch</td>\n",
       "    </tr>\n",
       "    <tr>\n",
       "      <th>12</th>\n",
       "      <td>20220824</td>\n",
       "      <td>2</td>\n",
       "      <td>12</td>\n",
       "      <td>1.0</td>\n",
       "      <td>14</td>\n",
       "      <td>6300</td>\n",
       "      <td>ch</td>\n",
       "    </tr>\n",
       "    <tr>\n",
       "      <th>13</th>\n",
       "      <td>20220824</td>\n",
       "      <td>2</td>\n",
       "      <td>13</td>\n",
       "      <td>0.8</td>\n",
       "      <td>4</td>\n",
       "      <td>6300</td>\n",
       "      <td>ch</td>\n",
       "    </tr>\n",
       "    <tr>\n",
       "      <th>14</th>\n",
       "      <td>20220824</td>\n",
       "      <td>2</td>\n",
       "      <td>14</td>\n",
       "      <td>0.8</td>\n",
       "      <td>8</td>\n",
       "      <td>6300</td>\n",
       "      <td>ch</td>\n",
       "    </tr>\n",
       "    <tr>\n",
       "      <th>15</th>\n",
       "      <td>20220824</td>\n",
       "      <td>2</td>\n",
       "      <td>15</td>\n",
       "      <td>0.8</td>\n",
       "      <td>10</td>\n",
       "      <td>6300</td>\n",
       "      <td>ch</td>\n",
       "    </tr>\n",
       "    <tr>\n",
       "      <th>16</th>\n",
       "      <td>20220824</td>\n",
       "      <td>1</td>\n",
       "      <td>16</td>\n",
       "      <td>1.0</td>\n",
       "      <td>16</td>\n",
       "      <td>rrnB</td>\n",
       "      <td>ch</td>\n",
       "    </tr>\n",
       "    <tr>\n",
       "      <th>17</th>\n",
       "      <td>20220824</td>\n",
       "      <td>1</td>\n",
       "      <td>17</td>\n",
       "      <td>1.0</td>\n",
       "      <td>9</td>\n",
       "      <td>rrnB</td>\n",
       "      <td>ch</td>\n",
       "    </tr>\n",
       "    <tr>\n",
       "      <th>18</th>\n",
       "      <td>20220824</td>\n",
       "      <td>1</td>\n",
       "      <td>18</td>\n",
       "      <td>0.8</td>\n",
       "      <td>7</td>\n",
       "      <td>rrnB</td>\n",
       "      <td>ch</td>\n",
       "    </tr>\n",
       "    <tr>\n",
       "      <th>19</th>\n",
       "      <td>20220824</td>\n",
       "      <td>1</td>\n",
       "      <td>19</td>\n",
       "      <td>0.8</td>\n",
       "      <td>6</td>\n",
       "      <td>rrnB</td>\n",
       "      <td>ch</td>\n",
       "    </tr>\n",
       "    <tr>\n",
       "      <th>20</th>\n",
       "      <td>20220824</td>\n",
       "      <td>1</td>\n",
       "      <td>20</td>\n",
       "      <td>0.8</td>\n",
       "      <td>10</td>\n",
       "      <td>rrnB</td>\n",
       "      <td>ch</td>\n",
       "    </tr>\n",
       "    <tr>\n",
       "      <th>21</th>\n",
       "      <td>20220824</td>\n",
       "      <td>0</td>\n",
       "      <td>21</td>\n",
       "      <td>1.0</td>\n",
       "      <td>20</td>\n",
       "      <td>med2</td>\n",
       "      <td>ch</td>\n",
       "    </tr>\n",
       "    <tr>\n",
       "      <th>22</th>\n",
       "      <td>20220824</td>\n",
       "      <td>0</td>\n",
       "      <td>22</td>\n",
       "      <td>1.0</td>\n",
       "      <td>14</td>\n",
       "      <td>med2</td>\n",
       "      <td>ch</td>\n",
       "    </tr>\n",
       "    <tr>\n",
       "      <th>23</th>\n",
       "      <td>20220824</td>\n",
       "      <td>0</td>\n",
       "      <td>23</td>\n",
       "      <td>0.8</td>\n",
       "      <td>12</td>\n",
       "      <td>med2</td>\n",
       "      <td>ch</td>\n",
       "    </tr>\n",
       "    <tr>\n",
       "      <th>24</th>\n",
       "      <td>20220824</td>\n",
       "      <td>0</td>\n",
       "      <td>24</td>\n",
       "      <td>0.8</td>\n",
       "      <td>11</td>\n",
       "      <td>med2</td>\n",
       "      <td>ch</td>\n",
       "    </tr>\n",
       "  </tbody>\n",
       "</table>\n",
       "</div>"
      ],
      "text/plain": [
       "        date  ch  pos  width  inoculated_gl promoter vector\n",
       "0   20220824   4    0    1.0              3     med3     ch\n",
       "1   20220824   4    1    1.0              5     med3     ch\n",
       "2   20220824   4    2    1.0              3     med3     ch\n",
       "3   20220824   4    3    1.0              3     med3     ch\n",
       "4   20220824   6    4    1.0             25      hi1     ch\n",
       "5   20220824   6    5    1.0             20      hi1     ch\n",
       "6   20220824   6    6    0.8              8      hi1     ch\n",
       "7   20220824   6    7    0.8              4      hi1     ch\n",
       "8   20220824   7    8    1.0             34     rplN     ch\n",
       "9   20220824   7    9    0.8             14     rplN     ch\n",
       "10  20220824   7   10    0.8             18     rplN     ch\n",
       "11  20220824   2   11    1.0             12     6300     ch\n",
       "12  20220824   2   12    1.0             14     6300     ch\n",
       "13  20220824   2   13    0.8              4     6300     ch\n",
       "14  20220824   2   14    0.8              8     6300     ch\n",
       "15  20220824   2   15    0.8             10     6300     ch\n",
       "16  20220824   1   16    1.0             16     rrnB     ch\n",
       "17  20220824   1   17    1.0              9     rrnB     ch\n",
       "18  20220824   1   18    0.8              7     rrnB     ch\n",
       "19  20220824   1   19    0.8              6     rrnB     ch\n",
       "20  20220824   1   20    0.8             10     rrnB     ch\n",
       "21  20220824   0   21    1.0             20     med2     ch\n",
       "22  20220824   0   22    1.0             14     med2     ch\n",
       "23  20220824   0   23    0.8             12     med2     ch\n",
       "24  20220824   0   24    0.8             11     med2     ch"
      ]
     },
     "execution_count": 6,
     "metadata": {},
     "output_type": "execute_result"
    }
   ],
   "source": [
    "experiment_summary_table=print_curated_data_summary(experimental_details,experimentFolderPath)\n",
    "experiment_summary_table"
   ]
  },
  {
   "cell_type": "code",
   "execution_count": 7,
   "id": "00eea587-f2bf-4cb0-980b-5bdb9826b017",
   "metadata": {},
   "outputs": [
    {
     "name": "stdout",
     "output_type": "stream",
     "text": [
      "        date  ch  pos  width  inoculated_gl promoter vector\n",
      "0   20220824   4    0    1.0              3     med3     ch\n",
      "1   20220824   4    1    1.0              5     med3     ch\n",
      "2   20220824   4    2    1.0              3     med3     ch\n",
      "3   20220824   4    3    1.0              3     med3     ch\n",
      "8   20220824   7    8    1.0             34     rplN     ch\n",
      "12  20220824   2   12    1.0             14     6300     ch\n",
      "14  20220824   2   14    0.8              8     6300     ch\n",
      "16  20220824   1   16    1.0             16     rrnB     ch\n",
      "17  20220824   1   17    1.0              9     rrnB     ch\n"
     ]
    }
   ],
   "source": [
    "subset=experiment_summary_table[experiment_summary_table[\"pos\"].isin([0,1,2,3,8,12,14,16,17])]\n",
    "print(subset)"
   ]
  },
  {
   "cell_type": "markdown",
   "id": "6a124e3c-5d27-4d1e-871a-c5129a3a2566",
   "metadata": {},
   "source": [
    "#### Tidying curated csv files for R analysis\n",
    "The following will be tidied"
   ]
  },
  {
   "cell_type": "code",
   "execution_count": 33,
   "id": "2a70d114-73ec-45d1-afdb-4da995ef4e62",
   "metadata": {},
   "outputs": [],
   "source": [
    "poss=list(set(list(subset['pos'])))\n",
    "gls_dic={p:list(range(0,70)) for p in poss}"
   ]
  },
  {
   "cell_type": "code",
   "execution_count": 35,
   "id": "63446fcf-5f3e-43da-8515-f9d6ba5ec435",
   "metadata": {},
   "outputs": [],
   "source": [
    "%%capture\n",
    "#DO NOT MODIFY\n",
    "rx0='ExportedCellStats__(.*).csv' #regular expression for the cvs files to look for\n",
    "pyMoM.extractAndTidyCurated(experimentFolderPath,preprocFolder,subset,rx0,gls_dic)"
   ]
  },
  {
   "cell_type": "markdown",
   "id": "5e1abb7a-d123-46fb-bdcd-814e0ebd1af7",
   "metadata": {},
   "source": [
    "### Curation hi1"
   ]
  },
  {
   "cell_type": "code",
   "execution_count": 31,
   "id": "c7f1da75-783b-4382-99b7-ac30174b130e",
   "metadata": {},
   "outputs": [
    {
     "data": {
      "text/html": [
       "<div>\n",
       "<style scoped>\n",
       "    .dataframe tbody tr th:only-of-type {\n",
       "        vertical-align: middle;\n",
       "    }\n",
       "\n",
       "    .dataframe tbody tr th {\n",
       "        vertical-align: top;\n",
       "    }\n",
       "\n",
       "    .dataframe thead th {\n",
       "        text-align: right;\n",
       "    }\n",
       "</style>\n",
       "<table border=\"1\" class=\"dataframe\">\n",
       "  <thead>\n",
       "    <tr style=\"text-align: right;\">\n",
       "      <th></th>\n",
       "      <th>date</th>\n",
       "      <th>ch</th>\n",
       "      <th>pos</th>\n",
       "      <th>width</th>\n",
       "      <th>inoculated_gl</th>\n",
       "      <th>promoter</th>\n",
       "      <th>vector</th>\n",
       "    </tr>\n",
       "  </thead>\n",
       "  <tbody>\n",
       "    <tr>\n",
       "      <th>0</th>\n",
       "      <td>20220824</td>\n",
       "      <td>4</td>\n",
       "      <td>0</td>\n",
       "      <td>1.0</td>\n",
       "      <td>3</td>\n",
       "      <td>med3</td>\n",
       "      <td>ch</td>\n",
       "    </tr>\n",
       "    <tr>\n",
       "      <th>1</th>\n",
       "      <td>20220824</td>\n",
       "      <td>4</td>\n",
       "      <td>1</td>\n",
       "      <td>1.0</td>\n",
       "      <td>5</td>\n",
       "      <td>med3</td>\n",
       "      <td>ch</td>\n",
       "    </tr>\n",
       "    <tr>\n",
       "      <th>2</th>\n",
       "      <td>20220824</td>\n",
       "      <td>4</td>\n",
       "      <td>2</td>\n",
       "      <td>1.0</td>\n",
       "      <td>3</td>\n",
       "      <td>med3</td>\n",
       "      <td>ch</td>\n",
       "    </tr>\n",
       "    <tr>\n",
       "      <th>3</th>\n",
       "      <td>20220824</td>\n",
       "      <td>4</td>\n",
       "      <td>3</td>\n",
       "      <td>1.0</td>\n",
       "      <td>3</td>\n",
       "      <td>med3</td>\n",
       "      <td>ch</td>\n",
       "    </tr>\n",
       "    <tr>\n",
       "      <th>4</th>\n",
       "      <td>20220824</td>\n",
       "      <td>6</td>\n",
       "      <td>4</td>\n",
       "      <td>1.0</td>\n",
       "      <td>25</td>\n",
       "      <td>hi1</td>\n",
       "      <td>ch</td>\n",
       "    </tr>\n",
       "    <tr>\n",
       "      <th>5</th>\n",
       "      <td>20220824</td>\n",
       "      <td>6</td>\n",
       "      <td>5</td>\n",
       "      <td>1.0</td>\n",
       "      <td>20</td>\n",
       "      <td>hi1</td>\n",
       "      <td>ch</td>\n",
       "    </tr>\n",
       "    <tr>\n",
       "      <th>6</th>\n",
       "      <td>20220824</td>\n",
       "      <td>6</td>\n",
       "      <td>6</td>\n",
       "      <td>0.8</td>\n",
       "      <td>8</td>\n",
       "      <td>hi1</td>\n",
       "      <td>ch</td>\n",
       "    </tr>\n",
       "    <tr>\n",
       "      <th>7</th>\n",
       "      <td>20220824</td>\n",
       "      <td>6</td>\n",
       "      <td>7</td>\n",
       "      <td>0.8</td>\n",
       "      <td>4</td>\n",
       "      <td>hi1</td>\n",
       "      <td>ch</td>\n",
       "    </tr>\n",
       "    <tr>\n",
       "      <th>8</th>\n",
       "      <td>20220824</td>\n",
       "      <td>7</td>\n",
       "      <td>8</td>\n",
       "      <td>1.0</td>\n",
       "      <td>34</td>\n",
       "      <td>rplN</td>\n",
       "      <td>ch</td>\n",
       "    </tr>\n",
       "    <tr>\n",
       "      <th>9</th>\n",
       "      <td>20220824</td>\n",
       "      <td>7</td>\n",
       "      <td>9</td>\n",
       "      <td>0.8</td>\n",
       "      <td>14</td>\n",
       "      <td>rplN</td>\n",
       "      <td>ch</td>\n",
       "    </tr>\n",
       "    <tr>\n",
       "      <th>10</th>\n",
       "      <td>20220824</td>\n",
       "      <td>7</td>\n",
       "      <td>10</td>\n",
       "      <td>0.8</td>\n",
       "      <td>18</td>\n",
       "      <td>rplN</td>\n",
       "      <td>ch</td>\n",
       "    </tr>\n",
       "    <tr>\n",
       "      <th>11</th>\n",
       "      <td>20220824</td>\n",
       "      <td>2</td>\n",
       "      <td>11</td>\n",
       "      <td>1.0</td>\n",
       "      <td>12</td>\n",
       "      <td>6300</td>\n",
       "      <td>ch</td>\n",
       "    </tr>\n",
       "    <tr>\n",
       "      <th>12</th>\n",
       "      <td>20220824</td>\n",
       "      <td>2</td>\n",
       "      <td>12</td>\n",
       "      <td>1.0</td>\n",
       "      <td>14</td>\n",
       "      <td>6300</td>\n",
       "      <td>ch</td>\n",
       "    </tr>\n",
       "    <tr>\n",
       "      <th>13</th>\n",
       "      <td>20220824</td>\n",
       "      <td>2</td>\n",
       "      <td>13</td>\n",
       "      <td>0.8</td>\n",
       "      <td>4</td>\n",
       "      <td>6300</td>\n",
       "      <td>ch</td>\n",
       "    </tr>\n",
       "    <tr>\n",
       "      <th>14</th>\n",
       "      <td>20220824</td>\n",
       "      <td>2</td>\n",
       "      <td>14</td>\n",
       "      <td>0.8</td>\n",
       "      <td>8</td>\n",
       "      <td>6300</td>\n",
       "      <td>ch</td>\n",
       "    </tr>\n",
       "    <tr>\n",
       "      <th>15</th>\n",
       "      <td>20220824</td>\n",
       "      <td>2</td>\n",
       "      <td>15</td>\n",
       "      <td>0.8</td>\n",
       "      <td>10</td>\n",
       "      <td>6300</td>\n",
       "      <td>ch</td>\n",
       "    </tr>\n",
       "    <tr>\n",
       "      <th>16</th>\n",
       "      <td>20220824</td>\n",
       "      <td>1</td>\n",
       "      <td>16</td>\n",
       "      <td>1.0</td>\n",
       "      <td>16</td>\n",
       "      <td>rrnB</td>\n",
       "      <td>ch</td>\n",
       "    </tr>\n",
       "    <tr>\n",
       "      <th>17</th>\n",
       "      <td>20220824</td>\n",
       "      <td>1</td>\n",
       "      <td>17</td>\n",
       "      <td>1.0</td>\n",
       "      <td>9</td>\n",
       "      <td>rrnB</td>\n",
       "      <td>ch</td>\n",
       "    </tr>\n",
       "    <tr>\n",
       "      <th>18</th>\n",
       "      <td>20220824</td>\n",
       "      <td>1</td>\n",
       "      <td>18</td>\n",
       "      <td>0.8</td>\n",
       "      <td>7</td>\n",
       "      <td>rrnB</td>\n",
       "      <td>ch</td>\n",
       "    </tr>\n",
       "    <tr>\n",
       "      <th>19</th>\n",
       "      <td>20220824</td>\n",
       "      <td>1</td>\n",
       "      <td>19</td>\n",
       "      <td>0.8</td>\n",
       "      <td>6</td>\n",
       "      <td>rrnB</td>\n",
       "      <td>ch</td>\n",
       "    </tr>\n",
       "    <tr>\n",
       "      <th>20</th>\n",
       "      <td>20220824</td>\n",
       "      <td>1</td>\n",
       "      <td>20</td>\n",
       "      <td>0.8</td>\n",
       "      <td>10</td>\n",
       "      <td>rrnB</td>\n",
       "      <td>ch</td>\n",
       "    </tr>\n",
       "    <tr>\n",
       "      <th>21</th>\n",
       "      <td>20220824</td>\n",
       "      <td>0</td>\n",
       "      <td>21</td>\n",
       "      <td>1.0</td>\n",
       "      <td>20</td>\n",
       "      <td>med2</td>\n",
       "      <td>ch</td>\n",
       "    </tr>\n",
       "    <tr>\n",
       "      <th>22</th>\n",
       "      <td>20220824</td>\n",
       "      <td>0</td>\n",
       "      <td>22</td>\n",
       "      <td>1.0</td>\n",
       "      <td>14</td>\n",
       "      <td>med2</td>\n",
       "      <td>ch</td>\n",
       "    </tr>\n",
       "    <tr>\n",
       "      <th>23</th>\n",
       "      <td>20220824</td>\n",
       "      <td>0</td>\n",
       "      <td>23</td>\n",
       "      <td>0.8</td>\n",
       "      <td>12</td>\n",
       "      <td>med2</td>\n",
       "      <td>ch</td>\n",
       "    </tr>\n",
       "    <tr>\n",
       "      <th>24</th>\n",
       "      <td>20220824</td>\n",
       "      <td>0</td>\n",
       "      <td>24</td>\n",
       "      <td>0.8</td>\n",
       "      <td>11</td>\n",
       "      <td>med2</td>\n",
       "      <td>ch</td>\n",
       "    </tr>\n",
       "  </tbody>\n",
       "</table>\n",
       "</div>"
      ],
      "text/plain": [
       "        date  ch  pos  width  inoculated_gl promoter vector\n",
       "0   20220824   4    0    1.0              3     med3     ch\n",
       "1   20220824   4    1    1.0              5     med3     ch\n",
       "2   20220824   4    2    1.0              3     med3     ch\n",
       "3   20220824   4    3    1.0              3     med3     ch\n",
       "4   20220824   6    4    1.0             25      hi1     ch\n",
       "5   20220824   6    5    1.0             20      hi1     ch\n",
       "6   20220824   6    6    0.8              8      hi1     ch\n",
       "7   20220824   6    7    0.8              4      hi1     ch\n",
       "8   20220824   7    8    1.0             34     rplN     ch\n",
       "9   20220824   7    9    0.8             14     rplN     ch\n",
       "10  20220824   7   10    0.8             18     rplN     ch\n",
       "11  20220824   2   11    1.0             12     6300     ch\n",
       "12  20220824   2   12    1.0             14     6300     ch\n",
       "13  20220824   2   13    0.8              4     6300     ch\n",
       "14  20220824   2   14    0.8              8     6300     ch\n",
       "15  20220824   2   15    0.8             10     6300     ch\n",
       "16  20220824   1   16    1.0             16     rrnB     ch\n",
       "17  20220824   1   17    1.0              9     rrnB     ch\n",
       "18  20220824   1   18    0.8              7     rrnB     ch\n",
       "19  20220824   1   19    0.8              6     rrnB     ch\n",
       "20  20220824   1   20    0.8             10     rrnB     ch\n",
       "21  20220824   0   21    1.0             20     med2     ch\n",
       "22  20220824   0   22    1.0             14     med2     ch\n",
       "23  20220824   0   23    0.8             12     med2     ch\n",
       "24  20220824   0   24    0.8             11     med2     ch"
      ]
     },
     "execution_count": 31,
     "metadata": {},
     "output_type": "execute_result"
    }
   ],
   "source": [
    "experiment_summary_table=print_curated_data_summary(experimental_details,experimentFolderPath)\n",
    "experiment_summary_table"
   ]
  },
  {
   "cell_type": "code",
   "execution_count": 36,
   "id": "20c6065e-63df-4f28-a27c-1ff701adb1bd",
   "metadata": {},
   "outputs": [
    {
     "name": "stdout",
     "output_type": "stream",
     "text": [
      "       date  ch  pos  width  inoculated_gl promoter vector\n",
      "4  20220824   6    4    1.0             25      hi1     ch\n",
      "5  20220824   6    5    1.0             20      hi1     ch\n",
      "6  20220824   6    6    0.8              8      hi1     ch\n",
      "7  20220824   6    7    0.8              4      hi1     ch\n"
     ]
    }
   ],
   "source": [
    "subset=experiment_summary_table[experiment_summary_table[\"pos\"].isin([4,5,6,7])]\n",
    "print(subset)"
   ]
  },
  {
   "cell_type": "markdown",
   "id": "7dd21fe7-2d8c-486a-bf1e-e7a63e45624d",
   "metadata": {},
   "source": [
    "#### Tidying curated csv files for R analysis\n",
    "The following will be tidied"
   ]
  },
  {
   "cell_type": "code",
   "execution_count": 37,
   "id": "9626ef05-18b4-4d44-b55e-16a81a19c2c2",
   "metadata": {},
   "outputs": [],
   "source": [
    "poss=list(set(list(subset['pos'])))\n",
    "gls_dic={p:list(range(0,70)) for p in poss}"
   ]
  },
  {
   "cell_type": "code",
   "execution_count": 38,
   "id": "943ea4e2-b5bc-4267-ab67-aaeea50f8799",
   "metadata": {},
   "outputs": [],
   "source": [
    "%%capture\n",
    "#DO NOT MODIFY\n",
    "rx0='ExportedCellStats__(.*).csv' #regular expression for the cvs files to look for\n",
    "pyMoM.extractAndTidyCurated(experimentFolderPath,preprocFolder,subset,rx0,gls_dic)"
   ]
  },
  {
   "cell_type": "code",
   "execution_count": 39,
   "id": "a978da0d-90f4-4a27-a5f9-8789494c9108",
   "metadata": {},
   "outputs": [
    {
     "name": "stdout",
     "output_type": "stream",
     "text": [
      "20220824,acetate,0,Inf,acetate,12,/scicore/home/nimwegen/rocasu25/MM_Data/Dany/20220824/curated_data/med3_ch_curated,med3,ch,100\n",
      "20220824,acetate,0,Inf,acetate,12,/scicore/home/nimwegen/rocasu25/MM_Data/Dany/20220824/curated_data/hi1_ch_curated,hi1,ch,100\n",
      "20220824,acetate,0,Inf,acetate,12,/scicore/home/nimwegen/rocasu25/MM_Data/Dany/20220824/curated_data/rplN_ch_curated,rplN,ch,100\n",
      "20220824,acetate,0,Inf,acetate,12,/scicore/home/nimwegen/rocasu25/MM_Data/Dany/20220824/curated_data/6300_ch_curated,6300,ch,100\n",
      "20220824,acetate,0,Inf,acetate,12,/scicore/home/nimwegen/rocasu25/MM_Data/Dany/20220824/curated_data/rrnB_ch_curated,rrnB,ch,100\n",
      "20220824,acetate,0,Inf,acetate,12,/scicore/home/nimwegen/rocasu25/MM_Data/Dany/20220824/curated_data/med2_ch_curated,med2,ch,100\n"
     ]
    }
   ],
   "source": [
    "#Generate entries for R analysis\n",
    "generate_import_script_input(experimentFolderPath,subset,experiment_summary_table,experimental_details)"
   ]
  },
  {
   "cell_type": "markdown",
   "id": "cc1108c0-5628-413d-b4d7-1c789f4965ad",
   "metadata": {
    "tags": []
   },
   "source": [
    "# 20220921, glucose 0.2% + amino-acids (882 frames, step=1.5min, total 22h), (hi1, med2, rrnB)\n",
    "## Experimental details and data summary"
   ]
  },
  {
   "cell_type": "code",
   "execution_count": 117,
   "id": "d3c573ba-3d4c-45ca-b0b0-72cda7f3affe",
   "metadata": {},
   "outputs": [],
   "source": [
    "#Experimental details\n",
    "\n",
    "experimental_details=[{\n",
    "    \"date\":\"20220921\",\n",
    "    \"description\":\"glucoseaa\",\n",
    "    \"f_start\":\"0\",\n",
    "    \"f_end\":\"880\",\n",
    "    \"condition\":\"glucoseaa\",\n",
    "    \"t_interval\":\"1.5\",\n",
    "    \"cell_detection_offset\":\"100\"}] #min\n",
    "\n",
    "\n",
    "#Preprocessing infos\n",
    "experimentFolderPath='/scicore/home/nimwegen/rocasu25/MM_Data/Dany/20220921'\n",
    "##Preprocessing folder\n",
    "preprocFolder=\"20220921_preproc\"\n",
    "##List of positions\n",
    "#pos_var=\"POS_NAMES=(Pos0)\"\n",
    "pos_var=\"POS_NAMES=(Pos0 Pos1 Pos2 Pos3 Pos4 Pos5 Pos6 Pos7 Pos8 Pos9 Pos10 Pos11 Pos12 Pos13 Pos14 Pos15)\"\n",
    "##Template to use for the preprocessing\n",
    "template=\"TEMPLATE_vng80\"\n",
    "##Rotation (to determine on imageJ)\n",
    "ROTATION=\"90\"\n",
    "##TMAX, if processing is not to look at all frames\n",
    "TMAX=\"880\"\n",
    "##Normalization offset\n",
    "NORMALIZATION_REGION_OFFSET=\"120\"\n",
    "##Raw path to the data\n",
    "RAW_PATH=\"/scicore/home/nimwegen/rocasu25/MM_Data/Dany/20220921/20220921_gluaa/20220921_gluaa_3/20220921_gluaa_3_MMStack.ome.tif\"\n",
    "##Raw path to flat field data\n",
    "FLATFIELD_PATH=\"/scicore/home/nimwegen/rocasu25/MM_Data/Dany/20220921/20220921_gluaa_gfpflatfield_2/20220921_gluaa_gfpflatfield_2_MMStack.ome.tif\""
   ]
  },
  {
   "cell_type": "code",
   "execution_count": 51,
   "id": "f7d952e4-3198-4bc6-8563-32235b291ea0",
   "metadata": {},
   "outputs": [
    {
     "name": "stdin",
     "output_type": "stream",
     "text": [
      "Do you really want to submit preprocessing tasks to the scheduler? If the preprocessing folder target path has not been changed, it might result in overwritting your data. Enter 'Yes', to confirm. no\n"
     ]
    },
    {
     "name": "stdout",
     "output_type": "stream",
     "text": [
      "Aborting scheduler preprocessing submission\n"
     ]
    }
   ],
   "source": [
    "submit_preprocessing(experimentFolderPath,preprocFolder,template,NORMALIZATION_REGION_OFFSET)"
   ]
  },
  {
   "cell_type": "markdown",
   "id": "5c060595-4b4f-4fd7-8cf0-0e811e58db56",
   "metadata": {},
   "source": [
    "## Moma Batch"
   ]
  },
  {
   "cell_type": "code",
   "execution_count": 118,
   "id": "66c5972e-3692-4e40-8d6d-6d958a035774",
   "metadata": {},
   "outputs": [
    {
     "data": {
      "text/html": [
       "<div>\n",
       "<style scoped>\n",
       "    .dataframe tbody tr th:only-of-type {\n",
       "        vertical-align: middle;\n",
       "    }\n",
       "\n",
       "    .dataframe tbody tr th {\n",
       "        vertical-align: top;\n",
       "    }\n",
       "\n",
       "    .dataframe thead th {\n",
       "        text-align: right;\n",
       "    }\n",
       "</style>\n",
       "<table border=\"1\" class=\"dataframe\">\n",
       "  <thead>\n",
       "    <tr style=\"text-align: right;\">\n",
       "      <th></th>\n",
       "      <th>date</th>\n",
       "      <th>ch</th>\n",
       "      <th>pos</th>\n",
       "      <th>width</th>\n",
       "      <th>inoculated_gl</th>\n",
       "      <th>promoter</th>\n",
       "      <th>vector</th>\n",
       "    </tr>\n",
       "  </thead>\n",
       "  <tbody>\n",
       "    <tr>\n",
       "      <th>0</th>\n",
       "      <td>20220921</td>\n",
       "      <td>7</td>\n",
       "      <td>0</td>\n",
       "      <td>1.25</td>\n",
       "      <td>1</td>\n",
       "      <td>hi1</td>\n",
       "      <td>ch</td>\n",
       "    </tr>\n",
       "    <tr>\n",
       "      <th>1</th>\n",
       "      <td>20220921</td>\n",
       "      <td>7</td>\n",
       "      <td>1</td>\n",
       "      <td>1.25</td>\n",
       "      <td>1</td>\n",
       "      <td>hi1</td>\n",
       "      <td>ch</td>\n",
       "    </tr>\n",
       "    <tr>\n",
       "      <th>2</th>\n",
       "      <td>20220921</td>\n",
       "      <td>7</td>\n",
       "      <td>2</td>\n",
       "      <td>1.25</td>\n",
       "      <td>1</td>\n",
       "      <td>hi1</td>\n",
       "      <td>ch</td>\n",
       "    </tr>\n",
       "    <tr>\n",
       "      <th>3</th>\n",
       "      <td>20220921</td>\n",
       "      <td>4</td>\n",
       "      <td>3</td>\n",
       "      <td>1.25</td>\n",
       "      <td>1</td>\n",
       "      <td>med2</td>\n",
       "      <td>ch</td>\n",
       "    </tr>\n",
       "    <tr>\n",
       "      <th>4</th>\n",
       "      <td>20220921</td>\n",
       "      <td>4</td>\n",
       "      <td>4</td>\n",
       "      <td>1.25</td>\n",
       "      <td>1</td>\n",
       "      <td>med2</td>\n",
       "      <td>ch</td>\n",
       "    </tr>\n",
       "    <tr>\n",
       "      <th>5</th>\n",
       "      <td>20220921</td>\n",
       "      <td>4</td>\n",
       "      <td>5</td>\n",
       "      <td>1.25</td>\n",
       "      <td>1</td>\n",
       "      <td>med2</td>\n",
       "      <td>ch</td>\n",
       "    </tr>\n",
       "    <tr>\n",
       "      <th>6</th>\n",
       "      <td>20220921</td>\n",
       "      <td>4</td>\n",
       "      <td>6</td>\n",
       "      <td>1.25</td>\n",
       "      <td>1</td>\n",
       "      <td>med2</td>\n",
       "      <td>ch</td>\n",
       "    </tr>\n",
       "    <tr>\n",
       "      <th>7</th>\n",
       "      <td>20220921</td>\n",
       "      <td>4</td>\n",
       "      <td>7</td>\n",
       "      <td>1.25</td>\n",
       "      <td>1</td>\n",
       "      <td>med2</td>\n",
       "      <td>ch</td>\n",
       "    </tr>\n",
       "    <tr>\n",
       "      <th>8</th>\n",
       "      <td>20220921</td>\n",
       "      <td>4</td>\n",
       "      <td>8</td>\n",
       "      <td>1.25</td>\n",
       "      <td>1</td>\n",
       "      <td>med2</td>\n",
       "      <td>ch</td>\n",
       "    </tr>\n",
       "    <tr>\n",
       "      <th>9</th>\n",
       "      <td>20220921</td>\n",
       "      <td>4</td>\n",
       "      <td>9</td>\n",
       "      <td>1.25</td>\n",
       "      <td>1</td>\n",
       "      <td>med2</td>\n",
       "      <td>ch</td>\n",
       "    </tr>\n",
       "    <tr>\n",
       "      <th>10</th>\n",
       "      <td>20220921</td>\n",
       "      <td>3</td>\n",
       "      <td>10</td>\n",
       "      <td>1.25</td>\n",
       "      <td>1</td>\n",
       "      <td>rrnB</td>\n",
       "      <td>ch</td>\n",
       "    </tr>\n",
       "    <tr>\n",
       "      <th>11</th>\n",
       "      <td>20220921</td>\n",
       "      <td>3</td>\n",
       "      <td>11</td>\n",
       "      <td>1.25</td>\n",
       "      <td>1</td>\n",
       "      <td>rrnB</td>\n",
       "      <td>ch</td>\n",
       "    </tr>\n",
       "    <tr>\n",
       "      <th>12</th>\n",
       "      <td>20220921</td>\n",
       "      <td>3</td>\n",
       "      <td>12</td>\n",
       "      <td>1.25</td>\n",
       "      <td>1</td>\n",
       "      <td>rrnB</td>\n",
       "      <td>ch</td>\n",
       "    </tr>\n",
       "    <tr>\n",
       "      <th>13</th>\n",
       "      <td>20220921</td>\n",
       "      <td>3</td>\n",
       "      <td>13</td>\n",
       "      <td>1.25</td>\n",
       "      <td>1</td>\n",
       "      <td>rrnB</td>\n",
       "      <td>ch</td>\n",
       "    </tr>\n",
       "    <tr>\n",
       "      <th>14</th>\n",
       "      <td>20220921</td>\n",
       "      <td>3</td>\n",
       "      <td>14</td>\n",
       "      <td>1.25</td>\n",
       "      <td>1</td>\n",
       "      <td>rrnB</td>\n",
       "      <td>ch</td>\n",
       "    </tr>\n",
       "    <tr>\n",
       "      <th>15</th>\n",
       "      <td>20220921</td>\n",
       "      <td>3</td>\n",
       "      <td>15</td>\n",
       "      <td>1.25</td>\n",
       "      <td>1</td>\n",
       "      <td>rrnB</td>\n",
       "      <td>ch</td>\n",
       "    </tr>\n",
       "  </tbody>\n",
       "</table>\n",
       "</div>"
      ],
      "text/plain": [
       "        date  ch  pos  width  inoculated_gl promoter vector\n",
       "0   20220921   7    0   1.25              1      hi1     ch\n",
       "1   20220921   7    1   1.25              1      hi1     ch\n",
       "2   20220921   7    2   1.25              1      hi1     ch\n",
       "3   20220921   4    3   1.25              1     med2     ch\n",
       "4   20220921   4    4   1.25              1     med2     ch\n",
       "5   20220921   4    5   1.25              1     med2     ch\n",
       "6   20220921   4    6   1.25              1     med2     ch\n",
       "7   20220921   4    7   1.25              1     med2     ch\n",
       "8   20220921   4    8   1.25              1     med2     ch\n",
       "9   20220921   4    9   1.25              1     med2     ch\n",
       "10  20220921   3   10   1.25              1     rrnB     ch\n",
       "11  20220921   3   11   1.25              1     rrnB     ch\n",
       "12  20220921   3   12   1.25              1     rrnB     ch\n",
       "13  20220921   3   13   1.25              1     rrnB     ch\n",
       "14  20220921   3   14   1.25              1     rrnB     ch\n",
       "15  20220921   3   15   1.25              1     rrnB     ch"
      ]
     },
     "execution_count": 118,
     "metadata": {},
     "output_type": "execute_result"
    }
   ],
   "source": [
    "#Generate a YAML file from experiment_summary_table\n",
    "#Select rows of interest, that will be curated, from the curated data summary table\n",
    "experiment_summary_table=print_curated_data_summary(experimental_details,experimentFolderPath)\n",
    "experiment_summary_table"
   ]
  },
  {
   "cell_type": "markdown",
   "id": "a097db8c-9a5e-443f-b493-abe93d037e80",
   "metadata": {},
   "source": [
    "### Hi1 curation"
   ]
  },
  {
   "cell_type": "code",
   "execution_count": 78,
   "id": "8ad2499d-0a86-4f46-9850-06a24e1cd3f0",
   "metadata": {},
   "outputs": [
    {
     "name": "stdout",
     "output_type": "stream",
     "text": [
      "       date  ch  pos  width  inoculated_gl promoter vector\n",
      "0  20220921   7    0   1.25              1      hi1     ch\n",
      "1  20220921   7    1   1.25              1      hi1     ch\n"
     ]
    }
   ],
   "source": [
    "subset=experiment_summary_table[experiment_summary_table[\"pos\"].isin([0,1])]\n",
    "print(subset)"
   ]
  },
  {
   "cell_type": "code",
   "execution_count": 5,
   "id": "0b430ac4-9c05-4255-84db-b4adaa5ac19d",
   "metadata": {},
   "outputs": [
    {
     "name": "stdout",
     "output_type": "stream",
     "text": [
      "Batch folder already exist.\n",
      "mm.properties already exists, copying cancelled.\n",
      "/scicore/home/nimwegen/rocasu25/MM_Data/Dany/20220921/20220921_preproc\n",
      "Batch YAML file already exist. Aborting\n"
     ]
    }
   ],
   "source": [
    "#Batch folder that should be used or created to supervise tracking/curation/export\n",
    "batch_folder=\"batch_hi1\"\n",
    "batch_file=\"moma_batch_hi1.yaml\"\n",
    "create_moma_batch_directory(experimentFolderPath,batch_folder)\n",
    "create_yaml_file(batch_file,experimentFolderPath,preprocFolder,batch_folder,subset)"
   ]
  },
  {
   "cell_type": "markdown",
   "id": "decc17e6-0bcd-44f5-a71a-ad2baa3c3fcb",
   "metadata": {},
   "source": [
    "### Med2 curation"
   ]
  },
  {
   "cell_type": "code",
   "execution_count": 122,
   "id": "bca49c30-817a-4146-852b-f0e57897904b",
   "metadata": {},
   "outputs": [
    {
     "name": "stdout",
     "output_type": "stream",
     "text": [
      "       date  ch  pos  width  inoculated_gl promoter vector\n",
      "3  20220921   4    3   1.25              1     med2     ch\n",
      "4  20220921   4    4   1.25              1     med2     ch\n"
     ]
    }
   ],
   "source": [
    "subset=experiment_summary_table[experiment_summary_table[\"pos\"].isin([3,4])]\n",
    "print(subset)"
   ]
  },
  {
   "cell_type": "code",
   "execution_count": 60,
   "id": "7f3140b6-d0a3-4fd4-a7e9-0c0afb81ffd6",
   "metadata": {},
   "outputs": [
    {
     "name": "stdout",
     "output_type": "stream",
     "text": [
      "Batch folder already exist.\n",
      "mm.properties already exists, copying cancelled.\n",
      "/scicore/home/nimwegen/rocasu25/MM_Data/Dany/20220921/20220921_preproc\n",
      "Batch file does not exist. It is created for the following positions, for all detected growth lanes:\n",
      "Pos3\n",
      "Pos4\n"
     ]
    }
   ],
   "source": [
    "#Batch folder that should be used or created to supervise tracking/curation/export\n",
    "batch_folder=\"batch_med2\"\n",
    "batch_file=\"moma_batch_med2.yaml\"\n",
    "curation_id=\"moma_batch_med2_rrnB\"\n",
    "create_moma_batch_directory(experimentFolderPath,batch_folder)\n",
    "create_yaml_file(batch_file,curation_id,experimentFolderPath,preprocFolder,batch_folder,subset)"
   ]
  },
  {
   "cell_type": "code",
   "execution_count": 123,
   "id": "c7066e30-bb74-46f3-b47e-e85ffe71668b",
   "metadata": {},
   "outputs": [],
   "source": [
    "%%capture\n",
    "#DO NOT MODIFY\n",
    "#regular expressions for the cvs files to look for\n",
    "subset=experiment_summary_table[experiment_summary_table[\"pos\"].isin([3,4])]\n",
    "print(subset)\n",
    "gls_dic={3:list(np.arange(0,60)),\n",
    "        4:list(np.arange(0,60))}\n",
    "rx0='CellStats__(.*).csv' \n",
    "pyMoM.extractAndTidyCurated(experimentFolderPath,preprocFolder,subset,rx0,gls_dic,analysis_id='moma_batch_med2_rrnB')"
   ]
  },
  {
   "cell_type": "markdown",
   "id": "976a565d-abd9-407c-ba59-aea570e32473",
   "metadata": {},
   "source": [
    "### rrnB curation"
   ]
  },
  {
   "cell_type": "code",
   "execution_count": 124,
   "id": "f85ae675-a45f-42e8-b1ee-08582e3c74dd",
   "metadata": {},
   "outputs": [
    {
     "name": "stdout",
     "output_type": "stream",
     "text": [
      "        date  ch  pos  width  inoculated_gl promoter vector\n",
      "10  20220921   3   10   1.25              1     rrnB     ch\n",
      "12  20220921   3   12   1.25              1     rrnB     ch\n"
     ]
    }
   ],
   "source": [
    "subset=experiment_summary_table[experiment_summary_table[\"pos\"].isin([10,12])]\n",
    "print(subset)"
   ]
  },
  {
   "cell_type": "code",
   "execution_count": 83,
   "id": "b926e8cc-dd44-4e7f-82fc-f200fd1b7327",
   "metadata": {},
   "outputs": [
    {
     "name": "stdout",
     "output_type": "stream",
     "text": [
      "Batch folder already exist.\n",
      "mm.properties already exists, copying cancelled.\n",
      "/scicore/home/nimwegen/rocasu25/MM_Data/Dany/20220921/20220921_preproc\n",
      "Batch file does not exist. It is created for the following positions, for all detected growth lanes:\n",
      "Pos10\n",
      "Pos12\n"
     ]
    }
   ],
   "source": [
    "#Batch folder that should be used or created to supervise tracking/curation/export\n",
    "batch_folder=\"batch_rrnB\"\n",
    "batch_file=\"moma_batch_rrnB.yaml\"\n",
    "curation_id=\"moma_batch_med2_rrnB\"\n",
    "create_moma_batch_directory(experimentFolderPath,batch_folder)\n",
    "create_yaml_file(batch_file,curation_id,experimentFolderPath,preprocFolder,batch_folder,subset)"
   ]
  },
  {
   "cell_type": "code",
   "execution_count": 125,
   "id": "0b2f6d34-023f-4f7a-8c78-64a8e776fddb",
   "metadata": {},
   "outputs": [],
   "source": [
    "%%capture\n",
    "#DO NOT MODIFY\n",
    "#regular expressions for the cvs files to look for\n",
    "subset=experiment_summary_table[experiment_summary_table[\"pos\"].isin([10,12])]\n",
    "print(subset)\n",
    "gls_dic={10:list(np.arange(0,60)),\n",
    "        12:list(np.arange(0,60))}\n",
    "rx0='CellStats__(.*).csv' \n",
    "pyMoM.extractAndTidyCurated(experimentFolderPath,preprocFolder,subset,rx0,gls_dic,analysis_id='moma_batch_med2_rrnB')"
   ]
  },
  {
   "cell_type": "markdown",
   "id": "341bf9b3-8d0f-4ea4-8391-aa5b82125f2d",
   "metadata": {},
   "source": [
    "#### Export after curation\n",
    "During curation, note down comments about growth lanes curated."
   ]
  },
  {
   "cell_type": "code",
   "execution_count": 6,
   "id": "d994630c-8ea5-40fa-adc3-1dacb53c0f5e",
   "metadata": {},
   "outputs": [
    {
     "name": "stdout",
     "output_type": "stream",
     "text": [
      "Batch YAML file already exist. Aborting\n"
     ]
    }
   ],
   "source": [
    "#Final list of growth lanes that can be exported.\n",
    "gls_dic={0:[5,7,8,11,12,17,19,28,36,40,42,43,48,50,51,53],\n",
    "         1:[2,5,7,8,11,12,13,15,17,18,21,22,23,24,25,26,33,36,40,42,43,44,45,47,48,51,52,54,55,57,58]}\n",
    "\n",
    "write_export_yaml_file(batch_file,experimentFolderPath,preprocFolder,batch_folder,gls_dic)"
   ]
  },
  {
   "cell_type": "markdown",
   "id": "a9fa2f9d-a347-463a-b7dc-30f145b311e5",
   "metadata": {},
   "source": [
    "#### Tidying curated csv files for R analysis\n",
    "The following will be tidied"
   ]
  },
  {
   "cell_type": "code",
   "execution_count": 8,
   "id": "ac41d5f6-ca01-48d5-ab63-eb50a5ab123e",
   "metadata": {},
   "outputs": [],
   "source": [
    "%%capture\n",
    "#DO NOT MODIFY\n",
    "#regular expressions for the cvs files to look for\n",
    "subset=experiment_summary_table[experiment_summary_table[\"pos\"].isin([3,4,10,12])]\n",
    "print(subset)\n",
    "gls_dic={3:list(np.arange(0,60)),\n",
    "        4:list(np.arange(0,60)),\n",
    "        10:list(np.arange(0,60)),\n",
    "         12:list(np.arange(0,60))}\n",
    "rx0='CellStats__(.*).csv' \n",
    "pyMoM.extractAndTidyCurated(experimentFolderPath,preprocFolder,subset,rx0,gls_dic,analysis_id='moma_batch_hi1_2')"
   ]
  },
  {
   "cell_type": "code",
   "execution_count": 28,
   "id": "7dc30e7b-8ee5-434b-9808-25b1d93376b7",
   "metadata": {},
   "outputs": [
    {
     "data": {
      "text/plain": [
       "'moma_batch_hi1.yaml'"
      ]
     },
     "execution_count": 28,
     "metadata": {},
     "output_type": "execute_result"
    }
   ],
   "source": [
    "batch_file"
   ]
  },
  {
   "cell_type": "code",
   "execution_count": null,
   "id": "bc12e306-5666-47a3-bdb0-b1a89fb944f6",
   "metadata": {},
   "outputs": [],
   "source": [
    "#clean BKP data"
   ]
  },
  {
   "cell_type": "code",
   "execution_count": 30,
   "id": "41f44dc3-a042-4450-8138-1fea4a2a5b56",
   "metadata": {},
   "outputs": [
    {
     "name": "stdout",
     "output_type": "stream",
     "text": [
      "20221121,acetate,0,334,acetate005,12,/scicore/home/nimwegen/rocasu25/MM_Data/Dany/20221121/curated_data/hi1_ch_curated,hi1,ch,90\n",
      "20221121,acetate,0,334,acetate005,12,/scicore/home/nimwegen/rocasu25/MM_Data/Dany/20221121/curated_data/hi3_ch_curated,hi3,ch,90\n",
      "20221121,acetate,0,334,acetate005,12,/scicore/home/nimwegen/rocasu25/MM_Data/Dany/20221121/curated_data/rplN_ch_curated,rplN,ch,90\n",
      "20221121,acetate,0,334,acetate005,12,/scicore/home/nimwegen/rocasu25/MM_Data/Dany/20221121/curated_data/rpmB_ch_curated,rpmB,ch,90\n",
      "20221121,acetate,0,334,acetate005,12,/scicore/home/nimwegen/rocasu25/MM_Data/Dany/20221121/curated_data/6300_ch_curated,6300,ch,90\n",
      "20221121,acetate,0,334,acetate005,12,/scicore/home/nimwegen/rocasu25/MM_Data/Dany/20221121/curated_data/med3_ch_curated,med3,ch,90\n",
      "20221121,acetate,0,334,acetate005,12,/scicore/home/nimwegen/rocasu25/MM_Data/Dany/20221121/curated_data/med2_ch_curated,med2,ch,90\n"
     ]
    }
   ],
   "source": [
    "#Generate entries for R analysis\n",
    "generate_import_script_input(experimentFolderPath,subset,experiment_summary_table,experimental_details)"
   ]
  },
  {
   "cell_type": "markdown",
   "id": "aaa2b83e-cbdf-41c7-9a72-2ad326c52968",
   "metadata": {
    "tags": []
   },
   "source": [
    "# 20190515, glucose 0.2% (400 frames, step=3min, total 20h), glycerol 0.4% (440 frames, step=6 min, 40h), (hi1, med1, med2, rpmB)"
   ]
  },
  {
   "cell_type": "markdown",
   "id": "3efbf254-aecb-49a2-a226-7db64c840b64",
   "metadata": {
    "tags": []
   },
   "source": [
    "## Part of the data analyzed using the batch mode, growth lanes opening towards the right (hi1)\n",
    "### Experimental details and data summary"
   ]
  },
  {
   "cell_type": "code",
   "execution_count": 45,
   "id": "289bf9b3-e8a0-4f60-81e6-dc3f86e24b9a",
   "metadata": {},
   "outputs": [],
   "source": [
    "#Experimental details\n",
    "\n",
    "experimental_details=[{\n",
    "    \"date\":\"20190515\",\n",
    "    \"description\":\"glucose_glycerol_switch\",\n",
    "    \"f_start\":\"0\",\n",
    "    \"f_end\":\"440\",\n",
    "    \"condition\":\"glucose\",\n",
    "    \"t_interval\":\"3\",\n",
    "    \"cell_detection_offset\":\"100\"} #min\n",
    "    ,\n",
    "{\n",
    "    \"date\":\"20190515\",\n",
    "    \"description\":\"glucose_glycerol_switch\",\n",
    "    \"f_start\":\"440\",\n",
    "    \"f_end\":\"Inf\",\n",
    "    \"condition\":\"glycerol\",\n",
    "    \"t_interval\":\"6\",\n",
    "    \"cell_detection_offset\":\"100\"} #min\n",
    "]\n",
    "\n",
    "#Preprocessing infos\n",
    "experimentFolderPath='/scicore/home/nimwegen/rocasu25/MM_Data/Dany/20190515'\n",
    "##Preprocessing folder\n",
    "preprocFolder=\"20190515_preproc_right_bis\"\n",
    "##List of positions\n",
    "#pos_var=\"POS_NAMES=(Pos0)\"\n",
    "pos_var=\"POS_NAMES=(Pos0 Pos1 Pos2 Pos3 Pos4 Pos5 Pos6 Pos9 Pos10 Pos12 Pos13 Pos14 Pos15 Pos16)\"\n",
    "##Template to use for the preprocessing\n",
    "template=\"TEMPLATE_vng20_right\"\n",
    "##Rotation (to determine on imageJ)\n",
    "ROTATION=\"-0.5\"\n",
    "##TMAX, if processing is not to look at all frames\n",
    "TMAX=\"881\"\n",
    "##Normalization offset\n",
    "NORMALIZATION_REGION_OFFSET=\"120\"\n",
    "##Raw path to the data\n",
    "RAW_PATH=\"/scicore/home/nimwegen/rocasu25/MM_Data/Dany/20190515/20190515_hi1_med1_med2_rpmB_glu_gly_7/20190515_hi1_med1_med2_rpmB_glu_gly_7_MMStack.ome.tif\"\n",
    "##Raw path to flat field data\n",
    "FLATFIELD_PATH=\"/scicore/home/nimwegen/rocasu25/MM_Data/Dany/20190515/20190515_flatfieldGFP/20190515_flatfieldGFP_2_MMStack.ome.tif\""
   ]
  },
  {
   "cell_type": "code",
   "execution_count": 44,
   "id": "c8e07cb1-05ba-42df-a5df-9b2596b66e7a",
   "metadata": {},
   "outputs": [
    {
     "name": "stdin",
     "output_type": "stream",
     "text": [
      "Do you really want to submit preprocessing tasks to the scheduler? If the preprocessing folder target path has not been changed, it might result in overwritting your data. Enter 'Yes', to confirm. no\n"
     ]
    },
    {
     "name": "stdout",
     "output_type": "stream",
     "text": [
      "Aborting scheduler preprocessing submission\n"
     ]
    }
   ],
   "source": [
    "submit_preprocessing(experimentFolderPath,preprocFolder,template,NORMALIZATION_REGION_OFFSET)"
   ]
  },
  {
   "cell_type": "code",
   "execution_count": 46,
   "id": "bc2560f9-a498-4d9e-b10e-94fa60c994a3",
   "metadata": {},
   "outputs": [],
   "source": [
    "#Preprocessing infos\n",
    "experimentFolderPath='/scicore/home/nimwegen/rocasu25/MM_Data/Dany/20190515'\n",
    "##Preprocessing folder\n",
    "preprocFolder=\"20190515_preproc_left\"\n",
    "##List of positions\n",
    "#pos_var=\"POS_NAMES=(Pos0)\"\n",
    "pos_var=\"POS_NAMES=(Pos17 Pos18 Pos19 Pos20 Pos21 Pos22 Pos23 Pos24 Pos25 Pos26 Pos27 Pos28)\"\n",
    "##Template to use for the preprocessing\n",
    "template=\"TEMPLATE_vng20_left\"\n",
    "##Rotation (to determine on imageJ)\n",
    "ROTATION=\"-0.5\"\n",
    "##TMAX, if processing is not to look at all frames\n",
    "TMAX=\"881\"\n",
    "##Normalization offset\n",
    "NORMALIZATION_REGION_OFFSET=\"120\"\n",
    "##Raw path to the data\n",
    "RAW_PATH=\"/scicore/home/nimwegen/rocasu25/MM_Data/Dany/20190515/20190515_hi1_med1_med2_rpmB_glu_gly_7/20190515_hi1_med1_med2_rpmB_glu_gly_7_MMStack.ome.tif\"\n",
    "##Raw path to flat field data\n",
    "FLATFIELD_PATH=\"/scicore/home/nimwegen/rocasu25/MM_Data/Dany/20190515/20190515_flatfieldGFP/20190515_flatfieldGFP_2_MMStack.ome.tif\""
   ]
  },
  {
   "cell_type": "markdown",
   "id": "b8663c05-ea5c-404b-8b47-94b7ca261914",
   "metadata": {
    "tags": []
   },
   "source": [
    "## Moma Batch"
   ]
  },
  {
   "cell_type": "code",
   "execution_count": 47,
   "id": "7bcf78a1-695c-4d23-a311-4a1afb562f75",
   "metadata": {},
   "outputs": [
    {
     "data": {
      "text/html": [
       "<div>\n",
       "<style scoped>\n",
       "    .dataframe tbody tr th:only-of-type {\n",
       "        vertical-align: middle;\n",
       "    }\n",
       "\n",
       "    .dataframe tbody tr th {\n",
       "        vertical-align: top;\n",
       "    }\n",
       "\n",
       "    .dataframe thead th {\n",
       "        text-align: right;\n",
       "    }\n",
       "</style>\n",
       "<table border=\"1\" class=\"dataframe\">\n",
       "  <thead>\n",
       "    <tr style=\"text-align: right;\">\n",
       "      <th></th>\n",
       "      <th>date</th>\n",
       "      <th>ch</th>\n",
       "      <th>pos</th>\n",
       "      <th>width</th>\n",
       "      <th>inoculated_gl</th>\n",
       "      <th>promoter</th>\n",
       "      <th>vector</th>\n",
       "    </tr>\n",
       "  </thead>\n",
       "  <tbody>\n",
       "    <tr>\n",
       "      <th>0</th>\n",
       "      <td>20190515</td>\n",
       "      <td>7</td>\n",
       "      <td>0</td>\n",
       "      <td>0.8</td>\n",
       "      <td>full</td>\n",
       "      <td>hi1</td>\n",
       "      <td>ch</td>\n",
       "    </tr>\n",
       "    <tr>\n",
       "      <th>1</th>\n",
       "      <td>20190515</td>\n",
       "      <td>7</td>\n",
       "      <td>1</td>\n",
       "      <td>0.8</td>\n",
       "      <td>full</td>\n",
       "      <td>hi1</td>\n",
       "      <td>ch</td>\n",
       "    </tr>\n",
       "    <tr>\n",
       "      <th>2</th>\n",
       "      <td>20190515</td>\n",
       "      <td>7</td>\n",
       "      <td>2</td>\n",
       "      <td>0.8</td>\n",
       "      <td>full</td>\n",
       "      <td>hi1</td>\n",
       "      <td>ch</td>\n",
       "    </tr>\n",
       "    <tr>\n",
       "      <th>3</th>\n",
       "      <td>20190515</td>\n",
       "      <td>7</td>\n",
       "      <td>3</td>\n",
       "      <td>0.8</td>\n",
       "      <td>full</td>\n",
       "      <td>hi1</td>\n",
       "      <td>ch</td>\n",
       "    </tr>\n",
       "    <tr>\n",
       "      <th>4</th>\n",
       "      <td>20190515</td>\n",
       "      <td>7</td>\n",
       "      <td>4</td>\n",
       "      <td>0.8</td>\n",
       "      <td>full</td>\n",
       "      <td>hi1</td>\n",
       "      <td>ch</td>\n",
       "    </tr>\n",
       "    <tr>\n",
       "      <th>5</th>\n",
       "      <td>20190515</td>\n",
       "      <td>7</td>\n",
       "      <td>5</td>\n",
       "      <td>0.8</td>\n",
       "      <td>full</td>\n",
       "      <td>hi1</td>\n",
       "      <td>ch</td>\n",
       "    </tr>\n",
       "    <tr>\n",
       "      <th>6</th>\n",
       "      <td>20190515</td>\n",
       "      <td>5</td>\n",
       "      <td>6</td>\n",
       "      <td>0.8</td>\n",
       "      <td>7</td>\n",
       "      <td>med1</td>\n",
       "      <td>ch</td>\n",
       "    </tr>\n",
       "    <tr>\n",
       "      <th>7</th>\n",
       "      <td>20190515</td>\n",
       "      <td>5</td>\n",
       "      <td>9</td>\n",
       "      <td>0.8</td>\n",
       "      <td>7</td>\n",
       "      <td>med1</td>\n",
       "      <td>ch</td>\n",
       "    </tr>\n",
       "    <tr>\n",
       "      <th>8</th>\n",
       "      <td>20190515</td>\n",
       "      <td>5</td>\n",
       "      <td>10</td>\n",
       "      <td>0.8</td>\n",
       "      <td>8</td>\n",
       "      <td>med1</td>\n",
       "      <td>ch</td>\n",
       "    </tr>\n",
       "    <tr>\n",
       "      <th>9</th>\n",
       "      <td>20190515</td>\n",
       "      <td>5</td>\n",
       "      <td>12</td>\n",
       "      <td>0.8</td>\n",
       "      <td>8</td>\n",
       "      <td>med1</td>\n",
       "      <td>ch</td>\n",
       "    </tr>\n",
       "    <tr>\n",
       "      <th>10</th>\n",
       "      <td>20190515</td>\n",
       "      <td>5</td>\n",
       "      <td>13</td>\n",
       "      <td>0.8</td>\n",
       "      <td>7</td>\n",
       "      <td>med1</td>\n",
       "      <td>ch</td>\n",
       "    </tr>\n",
       "    <tr>\n",
       "      <th>11</th>\n",
       "      <td>20190515</td>\n",
       "      <td>5</td>\n",
       "      <td>14</td>\n",
       "      <td>0.8</td>\n",
       "      <td>9</td>\n",
       "      <td>med1</td>\n",
       "      <td>ch</td>\n",
       "    </tr>\n",
       "    <tr>\n",
       "      <th>12</th>\n",
       "      <td>20190515</td>\n",
       "      <td>5</td>\n",
       "      <td>15</td>\n",
       "      <td>0.8</td>\n",
       "      <td>13</td>\n",
       "      <td>med1</td>\n",
       "      <td>ch</td>\n",
       "    </tr>\n",
       "    <tr>\n",
       "      <th>13</th>\n",
       "      <td>20190515</td>\n",
       "      <td>5</td>\n",
       "      <td>16</td>\n",
       "      <td>0.8</td>\n",
       "      <td>9</td>\n",
       "      <td>med1</td>\n",
       "      <td>ch</td>\n",
       "    </tr>\n",
       "    <tr>\n",
       "      <th>14</th>\n",
       "      <td>20190515</td>\n",
       "      <td>4</td>\n",
       "      <td>17</td>\n",
       "      <td>0.8</td>\n",
       "      <td>13</td>\n",
       "      <td>med2</td>\n",
       "      <td>ch</td>\n",
       "    </tr>\n",
       "    <tr>\n",
       "      <th>15</th>\n",
       "      <td>20190515</td>\n",
       "      <td>4</td>\n",
       "      <td>18</td>\n",
       "      <td>0.8</td>\n",
       "      <td>10</td>\n",
       "      <td>med2</td>\n",
       "      <td>ch</td>\n",
       "    </tr>\n",
       "    <tr>\n",
       "      <th>16</th>\n",
       "      <td>20190515</td>\n",
       "      <td>4</td>\n",
       "      <td>19</td>\n",
       "      <td>0.8</td>\n",
       "      <td>15</td>\n",
       "      <td>med2</td>\n",
       "      <td>ch</td>\n",
       "    </tr>\n",
       "    <tr>\n",
       "      <th>17</th>\n",
       "      <td>20190515</td>\n",
       "      <td>4</td>\n",
       "      <td>20</td>\n",
       "      <td>0.8</td>\n",
       "      <td>13</td>\n",
       "      <td>med2</td>\n",
       "      <td>ch</td>\n",
       "    </tr>\n",
       "    <tr>\n",
       "      <th>18</th>\n",
       "      <td>20190515</td>\n",
       "      <td>4</td>\n",
       "      <td>21</td>\n",
       "      <td>0.8</td>\n",
       "      <td>12</td>\n",
       "      <td>med2</td>\n",
       "      <td>ch</td>\n",
       "    </tr>\n",
       "    <tr>\n",
       "      <th>19</th>\n",
       "      <td>20190515</td>\n",
       "      <td>4</td>\n",
       "      <td>22</td>\n",
       "      <td>0.8</td>\n",
       "      <td>13</td>\n",
       "      <td>med2</td>\n",
       "      <td>ch</td>\n",
       "    </tr>\n",
       "    <tr>\n",
       "      <th>20</th>\n",
       "      <td>20190515</td>\n",
       "      <td>2</td>\n",
       "      <td>23</td>\n",
       "      <td>0.8</td>\n",
       "      <td>full</td>\n",
       "      <td>rpmB</td>\n",
       "      <td>ch</td>\n",
       "    </tr>\n",
       "    <tr>\n",
       "      <th>21</th>\n",
       "      <td>20190515</td>\n",
       "      <td>2</td>\n",
       "      <td>24</td>\n",
       "      <td>0.8</td>\n",
       "      <td>full</td>\n",
       "      <td>rpmB</td>\n",
       "      <td>ch</td>\n",
       "    </tr>\n",
       "    <tr>\n",
       "      <th>22</th>\n",
       "      <td>20190515</td>\n",
       "      <td>2</td>\n",
       "      <td>25</td>\n",
       "      <td>0.8</td>\n",
       "      <td>full</td>\n",
       "      <td>rpmB</td>\n",
       "      <td>ch</td>\n",
       "    </tr>\n",
       "    <tr>\n",
       "      <th>23</th>\n",
       "      <td>20190515</td>\n",
       "      <td>2</td>\n",
       "      <td>26</td>\n",
       "      <td>0.8</td>\n",
       "      <td>full</td>\n",
       "      <td>rpmB</td>\n",
       "      <td>ch</td>\n",
       "    </tr>\n",
       "    <tr>\n",
       "      <th>24</th>\n",
       "      <td>20190515</td>\n",
       "      <td>2</td>\n",
       "      <td>27</td>\n",
       "      <td>0.8</td>\n",
       "      <td>full</td>\n",
       "      <td>rpmB</td>\n",
       "      <td>ch</td>\n",
       "    </tr>\n",
       "    <tr>\n",
       "      <th>25</th>\n",
       "      <td>20190515</td>\n",
       "      <td>2</td>\n",
       "      <td>28</td>\n",
       "      <td>0.8</td>\n",
       "      <td>full</td>\n",
       "      <td>rpmB</td>\n",
       "      <td>ch</td>\n",
       "    </tr>\n",
       "  </tbody>\n",
       "</table>\n",
       "</div>"
      ],
      "text/plain": [
       "        date  ch  pos  width inoculated_gl promoter vector\n",
       "0   20190515   7    0    0.8          full      hi1     ch\n",
       "1   20190515   7    1    0.8          full      hi1     ch\n",
       "2   20190515   7    2    0.8          full      hi1     ch\n",
       "3   20190515   7    3    0.8          full      hi1     ch\n",
       "4   20190515   7    4    0.8          full      hi1     ch\n",
       "5   20190515   7    5    0.8          full      hi1     ch\n",
       "6   20190515   5    6    0.8             7     med1     ch\n",
       "7   20190515   5    9    0.8             7     med1     ch\n",
       "8   20190515   5   10    0.8             8     med1     ch\n",
       "9   20190515   5   12    0.8             8     med1     ch\n",
       "10  20190515   5   13    0.8             7     med1     ch\n",
       "11  20190515   5   14    0.8             9     med1     ch\n",
       "12  20190515   5   15    0.8            13     med1     ch\n",
       "13  20190515   5   16    0.8             9     med1     ch\n",
       "14  20190515   4   17    0.8            13     med2     ch\n",
       "15  20190515   4   18    0.8            10     med2     ch\n",
       "16  20190515   4   19    0.8            15     med2     ch\n",
       "17  20190515   4   20    0.8            13     med2     ch\n",
       "18  20190515   4   21    0.8            12     med2     ch\n",
       "19  20190515   4   22    0.8            13     med2     ch\n",
       "20  20190515   2   23    0.8          full     rpmB     ch\n",
       "21  20190515   2   24    0.8          full     rpmB     ch\n",
       "22  20190515   2   25    0.8          full     rpmB     ch\n",
       "23  20190515   2   26    0.8          full     rpmB     ch\n",
       "24  20190515   2   27    0.8          full     rpmB     ch\n",
       "25  20190515   2   28    0.8          full     rpmB     ch"
      ]
     },
     "execution_count": 47,
     "metadata": {},
     "output_type": "execute_result"
    }
   ],
   "source": [
    "#Generate a YAML file from experiment_summary_table\n",
    "#Select rows of interest, that will be curated, from the curated data summary table\n",
    "experiment_summary_table=print_curated_data_summary(experimental_details,experimentFolderPath)\n",
    "experiment_summary_table"
   ]
  },
  {
   "cell_type": "markdown",
   "id": "b114972b-3e3b-48b9-b993-412971a24dcb",
   "metadata": {},
   "source": [
    "### Hi1 curation (right)"
   ]
  },
  {
   "cell_type": "code",
   "execution_count": 38,
   "id": "ebacbd57-e64e-446e-929e-6a58be6b63bf",
   "metadata": {},
   "outputs": [
    {
     "name": "stdout",
     "output_type": "stream",
     "text": [
      "       date  ch  pos  width  inoculated_gl promoter vector\n",
      "0  20190529   7    0    0.8             14      hi2     ch\n",
      "1  20190529   7    1    0.8             17      hi2     ch\n"
     ]
    }
   ],
   "source": [
    "subset=experiment_summary_table[experiment_summary_table[\"pos\"].isin([0,1])]\n",
    "print(subset)"
   ]
  },
  {
   "cell_type": "code",
   "execution_count": 38,
   "id": "78b4d0f0-ae4b-4129-94ff-d99743dbd26c",
   "metadata": {},
   "outputs": [
    {
     "name": "stdout",
     "output_type": "stream",
     "text": [
      "Batch folder already exist.\n",
      "mm.properties already exists, copying cancelled.\n",
      "/scicore/home/nimwegen/rocasu25/MM_Data/Dany/20190515/20190515_preproc_right_bis\n",
      "Batch file does not exist. It is created for the following positions, for all detected growth lanes:\n",
      "Pos0\n",
      "Pos1\n"
     ]
    }
   ],
   "source": [
    "#Batch folder that should be used or created to supervise tracking/curation/export\n",
    "batch_folder=\"batch_hi1\"\n",
    "batch_file=\"moma_batch_hi1.yaml\"\n",
    "create_moma_batch_directory(experimentFolderPath,batch_folder)\n",
    "create_yaml_file(batch_file,experimentFolderPath,preprocFolder,batch_folder,subset)"
   ]
  },
  {
   "cell_type": "markdown",
   "id": "4eb4d1a1-1e05-4f80-8131-2acff1f60628",
   "metadata": {},
   "source": [
    "### Med2 curation (left)"
   ]
  },
  {
   "cell_type": "code",
   "execution_count": 49,
   "id": "959a2433-e735-4178-9763-b25309742a92",
   "metadata": {},
   "outputs": [
    {
     "name": "stdout",
     "output_type": "stream",
     "text": [
      "        date  ch  pos  width inoculated_gl promoter vector\n",
      "16  20190515   4   19    0.8            15     med2     ch\n"
     ]
    }
   ],
   "source": [
    "subset=experiment_summary_table[experiment_summary_table[\"pos\"].isin([19])]\n",
    "print(subset)"
   ]
  },
  {
   "cell_type": "code",
   "execution_count": 47,
   "id": "5be91478-7f8f-4152-a0fc-0c01221f1987",
   "metadata": {},
   "outputs": [
    {
     "name": "stdout",
     "output_type": "stream",
     "text": [
      "Batch folder already exist.\n",
      "mm.properties already exists, copying cancelled.\n",
      "/scicore/home/nimwegen/rocasu25/MM_Data/Dany/20190515/20190515_preproc_left\n",
      "Batch file does not exist. It is created for the following positions, for all detected growth lanes:\n",
      "Pos19\n"
     ]
    }
   ],
   "source": [
    "#Batch folder that should be used or created to supervise tracking/curation/export\n",
    "batch_folder=\"batch_med2\"\n",
    "batch_file=\"moma_batch_med2_pos19.yaml\"\n",
    "curation_id=\"moma_batch_pos_19_25\"\n",
    "create_moma_batch_directory(experimentFolderPath,batch_folder)\n",
    "create_yaml_file(batch_file,curation_id,experimentFolderPath,preprocFolder,batch_folder,subset)"
   ]
  },
  {
   "cell_type": "code",
   "execution_count": 9,
   "id": "41edb6a8-fa61-4d0a-b3d7-ce6620cbf613",
   "metadata": {},
   "outputs": [
    {
     "name": "stdout",
     "output_type": "stream",
     "text": [
      "        date  ch  pos  width inoculated_gl promoter vector\n",
      "17  20190515   4   20    0.8            13     med2     ch\n",
      "18  20190515   4   21    0.8            12     med2     ch\n",
      "Batch folder already exist.\n",
      "mm.properties already exists, copying cancelled.\n",
      "/scicore/home/nimwegen/rocasu25/MM_Data/Dany/20190515/20190515_preproc_left\n",
      "Batch file does not exist. It is created for the following positions, for all detected growth lanes:\n",
      "Pos20\n",
      "Pos21\n"
     ]
    }
   ],
   "source": [
    "# Note: I completed the data set with other positions, 20 and 21. I only tracked/curated 20. Not 21.\n",
    "# So export, was only done with pos20.\n",
    "subset=experiment_summary_table[experiment_summary_table[\"pos\"].isin([20,21])]\n",
    "print(subset)\n",
    "#Batch folder that should be used or created to supervise tracking/curation/export\n",
    "batch_folder=\"batch_med2\"\n",
    "batch_file=\"moma_batch_med2_pos20_21.yaml\"\n",
    "curation_id=\"moma_batch_pos_19_25\"\n",
    "create_moma_batch_directory(experimentFolderPath,batch_folder)\n",
    "create_yaml_file(batch_file,curation_id,experimentFolderPath,preprocFolder,batch_folder,subset)"
   ]
  },
  {
   "cell_type": "code",
   "execution_count": 51,
   "id": "462ec7d1-39cb-4f49-a948-127bda3cc9db",
   "metadata": {},
   "outputs": [],
   "source": [
    "%%capture\n",
    "#DO NOT MODIFY\n",
    "#regular expressions for the cvs files to look for\n",
    "subset=experiment_summary_table[experiment_summary_table[\"pos\"].isin([19,20])]\n",
    "print(subset)\n",
    "gls_dic={19:list(np.arange(0,60)),\n",
    "         20:list(np.arange(0,60))}\n",
    "rx0='CellStats__(.*).csv' \n",
    "pyMoM.extractAndTidyCurated(experimentFolderPath,preprocFolder,subset,rx0,gls_dic,analysis_id='moma_batch_pos_19_25')"
   ]
  },
  {
   "cell_type": "markdown",
   "id": "b1c50c1e-83de-4dee-a0ee-2cbfc2695664",
   "metadata": {},
   "source": [
    "### rpmB curation (left)"
   ]
  },
  {
   "cell_type": "code",
   "execution_count": 48,
   "id": "c9feea04-d59a-4d14-a20f-8fb0328886eb",
   "metadata": {},
   "outputs": [
    {
     "name": "stdout",
     "output_type": "stream",
     "text": [
      "        date  ch  pos  width inoculated_gl promoter vector\n",
      "22  20190515   2   25    0.8          full     rpmB     ch\n"
     ]
    }
   ],
   "source": [
    "subset=experiment_summary_table[experiment_summary_table[\"pos\"].isin([25])]\n",
    "print(subset)"
   ]
  },
  {
   "cell_type": "code",
   "execution_count": 49,
   "id": "10d98c5b-bc72-4f90-8541-794590365f6b",
   "metadata": {},
   "outputs": [
    {
     "name": "stdout",
     "output_type": "stream",
     "text": [
      "Batch folder already exist.\n",
      "mm.properties already exists, copying cancelled.\n",
      "/scicore/home/nimwegen/rocasu25/MM_Data/Dany/20190515/20190515_preproc_left\n",
      "Batch file does not exist. It is created for the following positions, for all detected growth lanes:\n",
      "Pos25\n"
     ]
    }
   ],
   "source": [
    "#Batch folder that should be used or created to supervise tracking/curation/export\n",
    "batch_folder=\"batch_rpmB\"\n",
    "batch_file=\"moma_batch_rpmB_pos25.yaml\"\n",
    "curation_id=\"moma_batch_pos_19_25\"\n",
    "create_moma_batch_directory(experimentFolderPath,batch_folder)\n",
    "create_yaml_file(batch_file,curation_id,experimentFolderPath,preprocFolder,batch_folder,subset)"
   ]
  },
  {
   "cell_type": "code",
   "execution_count": 39,
   "id": "a85b683b-b56e-4663-9dc4-e20f91c6eb7b",
   "metadata": {},
   "outputs": [
    {
     "data": {
      "text/plain": [
       "'/scicore/home/nimwegen/rocasu25/MM_Data/Dany/20190515/20190515_preproc_right_bis'"
      ]
     },
     "execution_count": 39,
     "metadata": {},
     "output_type": "execute_result"
    }
   ],
   "source": [
    "preproc_dir=\"%s/%s\"%(experimentFolderPath,preprocFolder)\n",
    "preproc_dir"
   ]
  },
  {
   "cell_type": "markdown",
   "id": "9ea27eb5-893d-40b1-9e71-25a2e5f1ce9a",
   "metadata": {},
   "source": [
    "#### Export after curation\n",
    "During curation, note down comments about growth lanes curated."
   ]
  },
  {
   "cell_type": "code",
   "execution_count": 40,
   "id": "5df953a9-23c0-4b27-a7df-706480972862",
   "metadata": {},
   "outputs": [
    {
     "name": "stdout",
     "output_type": "stream",
     "text": [
      "Batch file does not exist. It is created for the following positions, for all curated growth lanes in the export dictionnary:\n",
      "Pos0\n",
      "Pos1\n"
     ]
    }
   ],
   "source": [
    "#Final list of growth lanes that can be exported.\n",
    "gls_dic={0:[2,3,4,6,8,9,10,12,13,14,16,17,18,19],\n",
    "         1:[1,2,3,4,5,6,8,9,10,11,12]}\n",
    "\n",
    "write_export_yaml_file(batch_file,experimentFolderPath,preprocFolder,batch_folder,gls_dic)"
   ]
  },
  {
   "cell_type": "markdown",
   "id": "90cb2008-d15a-4d1f-9d56-56dfa99a34fa",
   "metadata": {},
   "source": [
    "#### Tidying curated csv files for R analysis\n",
    "The following will be tidied"
   ]
  },
  {
   "cell_type": "code",
   "execution_count": 94,
   "id": "f30ecc26-09e5-4046-a603-b126cef03ddf",
   "metadata": {},
   "outputs": [],
   "source": [
    "%%capture\n",
    "#DO NOT MODIFY\n",
    "#regular expressions for the cvs files to look for\n",
    "subset=experiment_summary_table[experiment_summary_table[\"pos\"].isin([19,25])]\n",
    "print(subset)\n",
    "gls_dic={19:list(np.arange(0,60)),\n",
    "        25:list(np.arange(0,60))}\n",
    "rx0='CellStats__(.*).csv' \n",
    "pyMoM.extractAndTidyCurated(experimentFolderPath,preprocFolder,subset,rx0,gls_dic,analysis_id='moma_batch_pos_19_25')"
   ]
  },
  {
   "cell_type": "code",
   "execution_count": 70,
   "id": "dd01efe0-9d96-4d45-89f0-d057134a71bf",
   "metadata": {},
   "outputs": [
    {
     "name": "stdout",
     "output_type": "stream",
     "text": [
      "20190515,glucose_glycerol_switch,0,440,glucose,3,/scicore/home/nimwegen/rocasu25/MM_Data/Dany/20190515/curated_data/hi1_ch_curated,hi1,ch,100\n",
      "20190515,glucose_glycerol_switch,0,440,glucose,3,/scicore/home/nimwegen/rocasu25/MM_Data/Dany/20190515/curated_data/med1_ch_curated,med1,ch,100\n",
      "20190515,glucose_glycerol_switch,0,440,glucose,3,/scicore/home/nimwegen/rocasu25/MM_Data/Dany/20190515/curated_data/med2_ch_curated,med2,ch,100\n",
      "20190515,glucose_glycerol_switch,0,440,glucose,3,/scicore/home/nimwegen/rocasu25/MM_Data/Dany/20190515/curated_data/rpmB_ch_curated,rpmB,ch,100\n",
      "20190515,glucose_glycerol_switch,440,Inf,glycerol,6,/scicore/home/nimwegen/rocasu25/MM_Data/Dany/20190515/curated_data/hi1_ch_curated,hi1,ch,100\n",
      "20190515,glucose_glycerol_switch,440,Inf,glycerol,6,/scicore/home/nimwegen/rocasu25/MM_Data/Dany/20190515/curated_data/med1_ch_curated,med1,ch,100\n",
      "20190515,glucose_glycerol_switch,440,Inf,glycerol,6,/scicore/home/nimwegen/rocasu25/MM_Data/Dany/20190515/curated_data/med2_ch_curated,med2,ch,100\n",
      "20190515,glucose_glycerol_switch,440,Inf,glycerol,6,/scicore/home/nimwegen/rocasu25/MM_Data/Dany/20190515/curated_data/rpmB_ch_curated,rpmB,ch,100\n"
     ]
    }
   ],
   "source": [
    "#Generate entries for R analysis\n",
    "generate_import_script_input(experimentFolderPath,subset,experiment_summary_table,experimental_details)"
   ]
  },
  {
   "cell_type": "markdown",
   "id": "db095106-c1a6-4560-967d-b6d9cdc203dd",
   "metadata": {
    "tags": []
   },
   "source": [
    "## Part of the data analyzed using the batch mode, growth lanes opening towards the left (med2, rpmB)\n",
    "### Experimental details and data summary"
   ]
  },
  {
   "cell_type": "code",
   "execution_count": 8,
   "id": "6e0ef124-f602-46f4-a306-0a5f68898e5e",
   "metadata": {},
   "outputs": [],
   "source": [
    "#Experimental details\n",
    "\n",
    "experimental_details=[{\n",
    "    \"date\":\"20190515\",\n",
    "    \"description\":\"glucose_glycerol_switch\",\n",
    "    \"f_start\":\"0\",\n",
    "    \"f_end\":\"440\",\n",
    "    \"condition\":\"glucose\",\n",
    "    \"t_interval\":\"3\",\n",
    "    \"cell_detection_offset\":\"100\"} #min\n",
    "    ,\n",
    "{\n",
    "    \"date\":\"20190515\",\n",
    "    \"description\":\"glucose_glycerol_switch\",\n",
    "    \"f_start\":\"440\",\n",
    "    \"f_end\":\"Inf\",\n",
    "    \"condition\":\"glycerol\",\n",
    "    \"t_interval\":\"6\",\n",
    "    \"cell_detection_offset\":\"100\"} #min\n",
    "]\n",
    "\n",
    "#Preprocessing infos\n",
    "experimentFolderPath='/scicore/home/nimwegen/rocasu25/MM_Data/Dany/20190515'\n",
    "##Preprocessing folder\n",
    "preprocFolder=\"20190515_preproc_left\"\n",
    "##List of positions\n",
    "#pos_var=\"POS_NAMES=(Pos0)\"\n",
    "pos_var=\"POS_NAMES=(Pos17 Pos18 Pos19 Pos20 Pos21 Pos22 Pos23 Pos24 Pos25 Pos26 Pos27 Pos28)\"\n",
    "##Template to use for the preprocessing\n",
    "template=\"TEMPLATE_vng20_left\"\n",
    "##Rotation (to determine on imageJ)\n",
    "ROTATION=\"-0.5\"\n",
    "##TMAX, if processing is not to look at all frames\n",
    "TMAX=\"881\"\n",
    "##Normalization offset\n",
    "NORMALIZATION_REGION_OFFSET=\"120\"\n",
    "##Raw path to the data\n",
    "RAW_PATH=\"/scicore/home/nimwegen/rocasu25/MM_Data/Dany/20190515/20190515_hi1_med1_med2_rpmB_glu_gly_7/20190515_hi1_med1_med2_rpmB_glu_gly_7_MMStack.ome.tif\"\n",
    "##Raw path to flat field data\n",
    "FLATFIELD_PATH=\"/scicore/home/nimwegen/rocasu25/MM_Data/Dany/20190515/20190515_flatfieldGFP/20190515_flatfieldGFP_2_MMStack.ome.tif\""
   ]
  },
  {
   "cell_type": "code",
   "execution_count": 44,
   "id": "0261e554-27b4-40ed-b63a-2ff6fd9464b6",
   "metadata": {},
   "outputs": [
    {
     "name": "stdin",
     "output_type": "stream",
     "text": [
      "Do you really want to submit preprocessing tasks to the scheduler? If the preprocessing folder target path has not been changed, it might result in overwritting your data. Enter 'Yes', to confirm. no\n"
     ]
    },
    {
     "name": "stdout",
     "output_type": "stream",
     "text": [
      "Aborting scheduler preprocessing submission\n"
     ]
    }
   ],
   "source": [
    "submit_preprocessing(experimentFolderPath,preprocFolder,template,NORMALIZATION_REGION_OFFSET)"
   ]
  },
  {
   "cell_type": "markdown",
   "id": "a41236dd-84b2-47e7-be47-2cb6ae55138a",
   "metadata": {
    "tags": []
   },
   "source": [
    "## Moma Batch"
   ]
  },
  {
   "cell_type": "code",
   "execution_count": 9,
   "id": "4faa575f-a5a0-45e5-ac65-a620e218db73",
   "metadata": {},
   "outputs": [
    {
     "data": {
      "text/html": [
       "<div>\n",
       "<style scoped>\n",
       "    .dataframe tbody tr th:only-of-type {\n",
       "        vertical-align: middle;\n",
       "    }\n",
       "\n",
       "    .dataframe tbody tr th {\n",
       "        vertical-align: top;\n",
       "    }\n",
       "\n",
       "    .dataframe thead th {\n",
       "        text-align: right;\n",
       "    }\n",
       "</style>\n",
       "<table border=\"1\" class=\"dataframe\">\n",
       "  <thead>\n",
       "    <tr style=\"text-align: right;\">\n",
       "      <th></th>\n",
       "      <th>date</th>\n",
       "      <th>ch</th>\n",
       "      <th>pos</th>\n",
       "      <th>width</th>\n",
       "      <th>inoculated_gl</th>\n",
       "      <th>promoter</th>\n",
       "      <th>vector</th>\n",
       "    </tr>\n",
       "  </thead>\n",
       "  <tbody>\n",
       "    <tr>\n",
       "      <th>0</th>\n",
       "      <td>20190515</td>\n",
       "      <td>7</td>\n",
       "      <td>0</td>\n",
       "      <td>0.8</td>\n",
       "      <td>full</td>\n",
       "      <td>hi1</td>\n",
       "      <td>ch</td>\n",
       "    </tr>\n",
       "    <tr>\n",
       "      <th>1</th>\n",
       "      <td>20190515</td>\n",
       "      <td>7</td>\n",
       "      <td>1</td>\n",
       "      <td>0.8</td>\n",
       "      <td>full</td>\n",
       "      <td>hi1</td>\n",
       "      <td>ch</td>\n",
       "    </tr>\n",
       "    <tr>\n",
       "      <th>2</th>\n",
       "      <td>20190515</td>\n",
       "      <td>7</td>\n",
       "      <td>2</td>\n",
       "      <td>0.8</td>\n",
       "      <td>full</td>\n",
       "      <td>hi1</td>\n",
       "      <td>ch</td>\n",
       "    </tr>\n",
       "    <tr>\n",
       "      <th>3</th>\n",
       "      <td>20190515</td>\n",
       "      <td>7</td>\n",
       "      <td>3</td>\n",
       "      <td>0.8</td>\n",
       "      <td>full</td>\n",
       "      <td>hi1</td>\n",
       "      <td>ch</td>\n",
       "    </tr>\n",
       "    <tr>\n",
       "      <th>4</th>\n",
       "      <td>20190515</td>\n",
       "      <td>7</td>\n",
       "      <td>4</td>\n",
       "      <td>0.8</td>\n",
       "      <td>full</td>\n",
       "      <td>hi1</td>\n",
       "      <td>ch</td>\n",
       "    </tr>\n",
       "    <tr>\n",
       "      <th>5</th>\n",
       "      <td>20190515</td>\n",
       "      <td>7</td>\n",
       "      <td>5</td>\n",
       "      <td>0.8</td>\n",
       "      <td>full</td>\n",
       "      <td>hi1</td>\n",
       "      <td>ch</td>\n",
       "    </tr>\n",
       "    <tr>\n",
       "      <th>6</th>\n",
       "      <td>20190515</td>\n",
       "      <td>5</td>\n",
       "      <td>6</td>\n",
       "      <td>0.8</td>\n",
       "      <td>7</td>\n",
       "      <td>med1</td>\n",
       "      <td>ch</td>\n",
       "    </tr>\n",
       "    <tr>\n",
       "      <th>7</th>\n",
       "      <td>20190515</td>\n",
       "      <td>5</td>\n",
       "      <td>9</td>\n",
       "      <td>0.8</td>\n",
       "      <td>7</td>\n",
       "      <td>med1</td>\n",
       "      <td>ch</td>\n",
       "    </tr>\n",
       "    <tr>\n",
       "      <th>8</th>\n",
       "      <td>20190515</td>\n",
       "      <td>5</td>\n",
       "      <td>10</td>\n",
       "      <td>0.8</td>\n",
       "      <td>8</td>\n",
       "      <td>med1</td>\n",
       "      <td>ch</td>\n",
       "    </tr>\n",
       "    <tr>\n",
       "      <th>9</th>\n",
       "      <td>20190515</td>\n",
       "      <td>5</td>\n",
       "      <td>12</td>\n",
       "      <td>0.8</td>\n",
       "      <td>8</td>\n",
       "      <td>med1</td>\n",
       "      <td>ch</td>\n",
       "    </tr>\n",
       "    <tr>\n",
       "      <th>10</th>\n",
       "      <td>20190515</td>\n",
       "      <td>5</td>\n",
       "      <td>13</td>\n",
       "      <td>0.8</td>\n",
       "      <td>7</td>\n",
       "      <td>med1</td>\n",
       "      <td>ch</td>\n",
       "    </tr>\n",
       "    <tr>\n",
       "      <th>11</th>\n",
       "      <td>20190515</td>\n",
       "      <td>5</td>\n",
       "      <td>14</td>\n",
       "      <td>0.8</td>\n",
       "      <td>9</td>\n",
       "      <td>med1</td>\n",
       "      <td>ch</td>\n",
       "    </tr>\n",
       "    <tr>\n",
       "      <th>12</th>\n",
       "      <td>20190515</td>\n",
       "      <td>5</td>\n",
       "      <td>15</td>\n",
       "      <td>0.8</td>\n",
       "      <td>13</td>\n",
       "      <td>med1</td>\n",
       "      <td>ch</td>\n",
       "    </tr>\n",
       "    <tr>\n",
       "      <th>13</th>\n",
       "      <td>20190515</td>\n",
       "      <td>5</td>\n",
       "      <td>16</td>\n",
       "      <td>0.8</td>\n",
       "      <td>9</td>\n",
       "      <td>med1</td>\n",
       "      <td>ch</td>\n",
       "    </tr>\n",
       "    <tr>\n",
       "      <th>14</th>\n",
       "      <td>20190515</td>\n",
       "      <td>4</td>\n",
       "      <td>17</td>\n",
       "      <td>0.8</td>\n",
       "      <td>13</td>\n",
       "      <td>med2</td>\n",
       "      <td>ch</td>\n",
       "    </tr>\n",
       "    <tr>\n",
       "      <th>15</th>\n",
       "      <td>20190515</td>\n",
       "      <td>4</td>\n",
       "      <td>18</td>\n",
       "      <td>0.8</td>\n",
       "      <td>10</td>\n",
       "      <td>med2</td>\n",
       "      <td>ch</td>\n",
       "    </tr>\n",
       "    <tr>\n",
       "      <th>16</th>\n",
       "      <td>20190515</td>\n",
       "      <td>4</td>\n",
       "      <td>19</td>\n",
       "      <td>0.8</td>\n",
       "      <td>15</td>\n",
       "      <td>med2</td>\n",
       "      <td>ch</td>\n",
       "    </tr>\n",
       "    <tr>\n",
       "      <th>17</th>\n",
       "      <td>20190515</td>\n",
       "      <td>4</td>\n",
       "      <td>20</td>\n",
       "      <td>0.8</td>\n",
       "      <td>13</td>\n",
       "      <td>med2</td>\n",
       "      <td>ch</td>\n",
       "    </tr>\n",
       "    <tr>\n",
       "      <th>18</th>\n",
       "      <td>20190515</td>\n",
       "      <td>4</td>\n",
       "      <td>21</td>\n",
       "      <td>0.8</td>\n",
       "      <td>12</td>\n",
       "      <td>med2</td>\n",
       "      <td>ch</td>\n",
       "    </tr>\n",
       "    <tr>\n",
       "      <th>19</th>\n",
       "      <td>20190515</td>\n",
       "      <td>4</td>\n",
       "      <td>22</td>\n",
       "      <td>0.8</td>\n",
       "      <td>13</td>\n",
       "      <td>med2</td>\n",
       "      <td>ch</td>\n",
       "    </tr>\n",
       "    <tr>\n",
       "      <th>20</th>\n",
       "      <td>20190515</td>\n",
       "      <td>2</td>\n",
       "      <td>23</td>\n",
       "      <td>0.8</td>\n",
       "      <td>full</td>\n",
       "      <td>rpmB</td>\n",
       "      <td>ch</td>\n",
       "    </tr>\n",
       "    <tr>\n",
       "      <th>21</th>\n",
       "      <td>20190515</td>\n",
       "      <td>2</td>\n",
       "      <td>24</td>\n",
       "      <td>0.8</td>\n",
       "      <td>full</td>\n",
       "      <td>rpmB</td>\n",
       "      <td>ch</td>\n",
       "    </tr>\n",
       "    <tr>\n",
       "      <th>22</th>\n",
       "      <td>20190515</td>\n",
       "      <td>2</td>\n",
       "      <td>25</td>\n",
       "      <td>0.8</td>\n",
       "      <td>full</td>\n",
       "      <td>rpmB</td>\n",
       "      <td>ch</td>\n",
       "    </tr>\n",
       "    <tr>\n",
       "      <th>23</th>\n",
       "      <td>20190515</td>\n",
       "      <td>2</td>\n",
       "      <td>26</td>\n",
       "      <td>0.8</td>\n",
       "      <td>full</td>\n",
       "      <td>rpmB</td>\n",
       "      <td>ch</td>\n",
       "    </tr>\n",
       "    <tr>\n",
       "      <th>24</th>\n",
       "      <td>20190515</td>\n",
       "      <td>2</td>\n",
       "      <td>27</td>\n",
       "      <td>0.8</td>\n",
       "      <td>full</td>\n",
       "      <td>rpmB</td>\n",
       "      <td>ch</td>\n",
       "    </tr>\n",
       "    <tr>\n",
       "      <th>25</th>\n",
       "      <td>20190515</td>\n",
       "      <td>2</td>\n",
       "      <td>28</td>\n",
       "      <td>0.8</td>\n",
       "      <td>full</td>\n",
       "      <td>rpmB</td>\n",
       "      <td>ch</td>\n",
       "    </tr>\n",
       "  </tbody>\n",
       "</table>\n",
       "</div>"
      ],
      "text/plain": [
       "        date  ch  pos  width inoculated_gl promoter vector\n",
       "0   20190515   7    0    0.8          full      hi1     ch\n",
       "1   20190515   7    1    0.8          full      hi1     ch\n",
       "2   20190515   7    2    0.8          full      hi1     ch\n",
       "3   20190515   7    3    0.8          full      hi1     ch\n",
       "4   20190515   7    4    0.8          full      hi1     ch\n",
       "5   20190515   7    5    0.8          full      hi1     ch\n",
       "6   20190515   5    6    0.8             7     med1     ch\n",
       "7   20190515   5    9    0.8             7     med1     ch\n",
       "8   20190515   5   10    0.8             8     med1     ch\n",
       "9   20190515   5   12    0.8             8     med1     ch\n",
       "10  20190515   5   13    0.8             7     med1     ch\n",
       "11  20190515   5   14    0.8             9     med1     ch\n",
       "12  20190515   5   15    0.8            13     med1     ch\n",
       "13  20190515   5   16    0.8             9     med1     ch\n",
       "14  20190515   4   17    0.8            13     med2     ch\n",
       "15  20190515   4   18    0.8            10     med2     ch\n",
       "16  20190515   4   19    0.8            15     med2     ch\n",
       "17  20190515   4   20    0.8            13     med2     ch\n",
       "18  20190515   4   21    0.8            12     med2     ch\n",
       "19  20190515   4   22    0.8            13     med2     ch\n",
       "20  20190515   2   23    0.8          full     rpmB     ch\n",
       "21  20190515   2   24    0.8          full     rpmB     ch\n",
       "22  20190515   2   25    0.8          full     rpmB     ch\n",
       "23  20190515   2   26    0.8          full     rpmB     ch\n",
       "24  20190515   2   27    0.8          full     rpmB     ch\n",
       "25  20190515   2   28    0.8          full     rpmB     ch"
      ]
     },
     "execution_count": 9,
     "metadata": {},
     "output_type": "execute_result"
    }
   ],
   "source": [
    "#Generate a YAML file from experiment_summary_table\n",
    "#Select rows of interest, that will be curated, from the curated data summary table\n",
    "experiment_summary_table=print_curated_data_summary(experimental_details,experimentFolderPath)\n",
    "experiment_summary_table"
   ]
  },
  {
   "cell_type": "markdown",
   "id": "c1996a79-6383-476b-a9f2-4d5fdaa67cde",
   "metadata": {},
   "source": [
    "### Hi1 curation"
   ]
  },
  {
   "cell_type": "code",
   "execution_count": 11,
   "id": "8de17f90-dd0a-42e4-8f66-0175bae7daca",
   "metadata": {},
   "outputs": [
    {
     "name": "stdout",
     "output_type": "stream",
     "text": [
      "        date  ch  pos  width inoculated_gl promoter vector\n",
      "16  20190515   4   19    0.8            15     med2     ch\n",
      "22  20190515   2   25    0.8          full     rpmB     ch\n"
     ]
    }
   ],
   "source": [
    "subset=experiment_summary_table[experiment_summary_table[\"pos\"].isin([19,25])]\n",
    "print(subset)"
   ]
  },
  {
   "cell_type": "code",
   "execution_count": 12,
   "id": "76c0515f-7812-4b00-9cf1-2489d7785a05",
   "metadata": {},
   "outputs": [
    {
     "name": "stdout",
     "output_type": "stream",
     "text": [
      "Batch folder already exist.\n",
      "mm.properties already exists, copying cancelled.\n",
      "/scicore/home/nimwegen/rocasu25/MM_Data/Dany/20190515/20190515_preproc_left\n",
      "Batch YAML file already exist. Aborting\n"
     ]
    }
   ],
   "source": [
    "#Batch folder that should be used or created to supervise tracking/curation/export\n",
    "batch_folder=\"batch_med2_rpmB\"\n",
    "batch_file=\"moma_batch_pos_19_25.yaml\"\n",
    "create_moma_batch_directory(experimentFolderPath,batch_folder)\n",
    "create_yaml_file(batch_file,experimentFolderPath,preprocFolder,batch_folder,subset)"
   ]
  },
  {
   "cell_type": "markdown",
   "id": "981303ed-41e7-4b97-aae5-c029e4fcec7b",
   "metadata": {},
   "source": [
    "#### Export after curation\n",
    "During curation, note down comments about growth lanes curated."
   ]
  },
  {
   "cell_type": "code",
   "execution_count": 13,
   "id": "8a119a61-ac76-43c9-896f-926c48305e40",
   "metadata": {},
   "outputs": [
    {
     "name": "stdout",
     "output_type": "stream",
     "text": [
      "Batch YAML file already exist. Aborting\n"
     ]
    }
   ],
   "source": [
    "#Final list of growth lanes that can be exported.\n",
    "gls_dic={19:[2,4,5,7,8,9,10,12,13,14,15,16,17],\n",
    "         25:[1,2,3,4,5,6,7,8,11,12,14,15,17,18]}\n",
    "\n",
    "write_export_yaml_file(batch_file,experimentFolderPath,preprocFolder,batch_folder,gls_dic)"
   ]
  },
  {
   "cell_type": "markdown",
   "id": "fdc479dc-1ed3-4296-8347-6c7222cbdc21",
   "metadata": {},
   "source": [
    "#### Tidying curated csv files for R analysis\n",
    "The following will be tidied"
   ]
  },
  {
   "cell_type": "code",
   "execution_count": 14,
   "id": "d138bcc0-e20d-446d-8088-d585eb3e7db7",
   "metadata": {},
   "outputs": [
    {
     "name": "stdout",
     "output_type": "stream",
     "text": [
      "        date  ch  pos  width inoculated_gl promoter vector\n",
      "16  20190515   4   19    0.8            15     med2     ch\n",
      "22  20190515   2   25    0.8          full     rpmB     ch {19: [2, 4, 5, 7, 8, 9, 10, 12, 13, 14, 15, 16, 17], 25: [1, 2, 3, 4, 5, 6, 7, 8, 11, 12, 14, 15, 17, 18]}\n"
     ]
    }
   ],
   "source": [
    "print(subset,gls_dic)"
   ]
  },
  {
   "cell_type": "code",
   "execution_count": 69,
   "id": "f2db4b33-4439-417e-a40d-1b59b484c30d",
   "metadata": {},
   "outputs": [],
   "source": [
    "%%capture\n",
    "#DO NOT MODIFY\n",
    "#regular expressions for the cvs files to look for\n",
    "rx0='CellStats__(.*).csv' \n",
    "pyMoM.extractAndTidyCurated(experimentFolderPath,preprocFolder,subset,rx0,gls_dic,analysis_id='moma_batch_hi1')"
   ]
  },
  {
   "cell_type": "code",
   "execution_count": 70,
   "id": "d20b0d2b-43fd-41e5-8ca3-7babf684b04e",
   "metadata": {},
   "outputs": [
    {
     "name": "stdout",
     "output_type": "stream",
     "text": [
      "20190515,glucose_glycerol_switch,0,440,glucose,3,/scicore/home/nimwegen/rocasu25/MM_Data/Dany/20190515/curated_data/hi1_ch_curated,hi1,ch,100\n",
      "20190515,glucose_glycerol_switch,0,440,glucose,3,/scicore/home/nimwegen/rocasu25/MM_Data/Dany/20190515/curated_data/med1_ch_curated,med1,ch,100\n",
      "20190515,glucose_glycerol_switch,0,440,glucose,3,/scicore/home/nimwegen/rocasu25/MM_Data/Dany/20190515/curated_data/med2_ch_curated,med2,ch,100\n",
      "20190515,glucose_glycerol_switch,0,440,glucose,3,/scicore/home/nimwegen/rocasu25/MM_Data/Dany/20190515/curated_data/rpmB_ch_curated,rpmB,ch,100\n",
      "20190515,glucose_glycerol_switch,440,Inf,glycerol,6,/scicore/home/nimwegen/rocasu25/MM_Data/Dany/20190515/curated_data/hi1_ch_curated,hi1,ch,100\n",
      "20190515,glucose_glycerol_switch,440,Inf,glycerol,6,/scicore/home/nimwegen/rocasu25/MM_Data/Dany/20190515/curated_data/med1_ch_curated,med1,ch,100\n",
      "20190515,glucose_glycerol_switch,440,Inf,glycerol,6,/scicore/home/nimwegen/rocasu25/MM_Data/Dany/20190515/curated_data/med2_ch_curated,med2,ch,100\n",
      "20190515,glucose_glycerol_switch,440,Inf,glycerol,6,/scicore/home/nimwegen/rocasu25/MM_Data/Dany/20190515/curated_data/rpmB_ch_curated,rpmB,ch,100\n"
     ]
    }
   ],
   "source": [
    "#Generate entries for R analysis\n",
    "generate_import_script_input(experimentFolderPath,subset,experiment_summary_table,experimental_details)"
   ]
  },
  {
   "cell_type": "markdown",
   "id": "d443f3eb-7cad-4d67-8efd-3787ecb07dad",
   "metadata": {
    "tags": []
   },
   "source": [
    "## Part of the data that were previously analyzed NOT using the batch mode, growth lanes opening to the right"
   ]
  },
  {
   "cell_type": "code",
   "execution_count": 51,
   "id": "e6aeefd7-aab8-43ba-ab90-8a6fd32d02bc",
   "metadata": {},
   "outputs": [],
   "source": [
    "#Experimental details\n",
    "\n",
    "experimental_details=[{\n",
    "    \"date\":\"20190515\",\n",
    "    \"description\":\"glucose_glycerol_switch\",\n",
    "    \"f_start\":\"0\",\n",
    "    \"f_end\":\"440\",\n",
    "    \"condition\":\"glucose\",\n",
    "    \"t_interval\":\"3\",\n",
    "    \"cell_detection_offset\":\"100\"} #min\n",
    "    ,\n",
    "{\n",
    "    \"date\":\"20190515\",\n",
    "    \"description\":\"glucose_glycerol_switch\",\n",
    "    \"f_start\":\"440\",\n",
    "    \"f_end\":\"Inf\",\n",
    "    \"condition\":\"glycerol\",\n",
    "    \"t_interval\":\"6\",\n",
    "    \"cell_detection_offset\":\"100\"} #min\n",
    "]\n",
    "\n",
    "#Preprocessing infos\n",
    "experimentFolderPath='/scicore/home/nimwegen/rocasu25/MM_Data/Dany/20190515'\n",
    "##Preprocessing folder\n",
    "preprocFolder=\"20190515_preproc_right_bis\"\n",
    "##List of positions\n",
    "#pos_var=\"POS_NAMES=(Pos0)\"\n",
    "pos_var=\"POS_NAMES=(Pos0 Pos1 Pos2 Pos3 Pos4 Pos5 Pos6 Pos9 Pos10 Pos12 Pos13 Pos14 Pos15 Pos16)\"\n",
    "##Template to use for the preprocessing\n",
    "template=\"TEMPLATE_vng20_right\"\n",
    "##Rotation (to determine on imageJ)\n",
    "ROTATION=\"-0.5\"\n",
    "##TMAX, if processing is not to look at all frames\n",
    "TMAX=\"881\"\n",
    "##Normalization offset\n",
    "NORMALIZATION_REGION_OFFSET=\"120\"\n",
    "##Raw path to the data\n",
    "RAW_PATH=\"/scicore/home/nimwegen/rocasu25/MM_Data/Dany/20190515/20190515_hi1_med1_med2_rpmB_glu_gly_7/20190515_hi1_med1_med2_rpmB_glu_gly_7_MMStack.ome.tif\"\n",
    "##Raw path to flat field data\n",
    "FLATFIELD_PATH=\"/scicore/home/nimwegen/rocasu25/MM_Data/Dany/20190515/20190515_flatfieldGFP/20190515_flatfieldGFP_2_MMStack.ome.tif\""
   ]
  },
  {
   "cell_type": "code",
   "execution_count": null,
   "id": "3a721ab6-84ff-4522-a559-7c2ac60ab8b0",
   "metadata": {},
   "outputs": [
    {
     "name": "stdin",
     "output_type": "stream",
     "text": [
      "Do you really want to submit preprocessing tasks to the scheduler? If the preprocessing folder target path has not been changed, it might result in overwritting your data. Enter 'Yes', to confirm. no\n"
     ]
    },
    {
     "name": "stdout",
     "output_type": "stream",
     "text": [
      "Aborting scheduler preprocessing submission\n"
     ]
    }
   ],
   "source": [
    "import subprocess\n",
    "subprocess.run([\"./submit_slurm.sh\", PREPROC_DIR_TPL, RAW_PATH, FLATFIELD_PATH, POS_NAMES, GL_DETECTION_TEMPLATE_PATH, ROTATION, TMAX, IMAGE_REGISTRATION_METHOD, FRAMES_TO_IGNORE, NORMALIZATION_CONFIG_PATH, NORMALIZATION_REGION_OFFSET])"
   ]
  },
  {
   "cell_type": "markdown",
   "id": "b79e683d-05fa-4785-bee2-0d33c0801ebf",
   "metadata": {},
   "source": [
    "### Curation hi1"
   ]
  },
  {
   "cell_type": "code",
   "execution_count": 53,
   "id": "2875c03b-23f7-4974-8ba1-3599ab57b69b",
   "metadata": {},
   "outputs": [
    {
     "data": {
      "text/html": [
       "<div>\n",
       "<style scoped>\n",
       "    .dataframe tbody tr th:only-of-type {\n",
       "        vertical-align: middle;\n",
       "    }\n",
       "\n",
       "    .dataframe tbody tr th {\n",
       "        vertical-align: top;\n",
       "    }\n",
       "\n",
       "    .dataframe thead th {\n",
       "        text-align: right;\n",
       "    }\n",
       "</style>\n",
       "<table border=\"1\" class=\"dataframe\">\n",
       "  <thead>\n",
       "    <tr style=\"text-align: right;\">\n",
       "      <th></th>\n",
       "      <th>date</th>\n",
       "      <th>ch</th>\n",
       "      <th>pos</th>\n",
       "      <th>width</th>\n",
       "      <th>inoculated_gl</th>\n",
       "      <th>promoter</th>\n",
       "      <th>vector</th>\n",
       "    </tr>\n",
       "  </thead>\n",
       "  <tbody>\n",
       "    <tr>\n",
       "      <th>0</th>\n",
       "      <td>20190515</td>\n",
       "      <td>7</td>\n",
       "      <td>0</td>\n",
       "      <td>0.8</td>\n",
       "      <td>full</td>\n",
       "      <td>hi1</td>\n",
       "      <td>ch</td>\n",
       "    </tr>\n",
       "    <tr>\n",
       "      <th>1</th>\n",
       "      <td>20190515</td>\n",
       "      <td>7</td>\n",
       "      <td>1</td>\n",
       "      <td>0.8</td>\n",
       "      <td>full</td>\n",
       "      <td>hi1</td>\n",
       "      <td>ch</td>\n",
       "    </tr>\n",
       "    <tr>\n",
       "      <th>2</th>\n",
       "      <td>20190515</td>\n",
       "      <td>7</td>\n",
       "      <td>2</td>\n",
       "      <td>0.8</td>\n",
       "      <td>full</td>\n",
       "      <td>hi1</td>\n",
       "      <td>ch</td>\n",
       "    </tr>\n",
       "    <tr>\n",
       "      <th>3</th>\n",
       "      <td>20190515</td>\n",
       "      <td>7</td>\n",
       "      <td>3</td>\n",
       "      <td>0.8</td>\n",
       "      <td>full</td>\n",
       "      <td>hi1</td>\n",
       "      <td>ch</td>\n",
       "    </tr>\n",
       "    <tr>\n",
       "      <th>4</th>\n",
       "      <td>20190515</td>\n",
       "      <td>7</td>\n",
       "      <td>4</td>\n",
       "      <td>0.8</td>\n",
       "      <td>full</td>\n",
       "      <td>hi1</td>\n",
       "      <td>ch</td>\n",
       "    </tr>\n",
       "    <tr>\n",
       "      <th>5</th>\n",
       "      <td>20190515</td>\n",
       "      <td>7</td>\n",
       "      <td>5</td>\n",
       "      <td>0.8</td>\n",
       "      <td>full</td>\n",
       "      <td>hi1</td>\n",
       "      <td>ch</td>\n",
       "    </tr>\n",
       "    <tr>\n",
       "      <th>6</th>\n",
       "      <td>20190515</td>\n",
       "      <td>5</td>\n",
       "      <td>6</td>\n",
       "      <td>0.8</td>\n",
       "      <td>7</td>\n",
       "      <td>med1</td>\n",
       "      <td>ch</td>\n",
       "    </tr>\n",
       "    <tr>\n",
       "      <th>7</th>\n",
       "      <td>20190515</td>\n",
       "      <td>5</td>\n",
       "      <td>9</td>\n",
       "      <td>0.8</td>\n",
       "      <td>7</td>\n",
       "      <td>med1</td>\n",
       "      <td>ch</td>\n",
       "    </tr>\n",
       "    <tr>\n",
       "      <th>8</th>\n",
       "      <td>20190515</td>\n",
       "      <td>5</td>\n",
       "      <td>10</td>\n",
       "      <td>0.8</td>\n",
       "      <td>8</td>\n",
       "      <td>med1</td>\n",
       "      <td>ch</td>\n",
       "    </tr>\n",
       "    <tr>\n",
       "      <th>9</th>\n",
       "      <td>20190515</td>\n",
       "      <td>5</td>\n",
       "      <td>12</td>\n",
       "      <td>0.8</td>\n",
       "      <td>8</td>\n",
       "      <td>med1</td>\n",
       "      <td>ch</td>\n",
       "    </tr>\n",
       "    <tr>\n",
       "      <th>10</th>\n",
       "      <td>20190515</td>\n",
       "      <td>5</td>\n",
       "      <td>13</td>\n",
       "      <td>0.8</td>\n",
       "      <td>7</td>\n",
       "      <td>med1</td>\n",
       "      <td>ch</td>\n",
       "    </tr>\n",
       "    <tr>\n",
       "      <th>11</th>\n",
       "      <td>20190515</td>\n",
       "      <td>5</td>\n",
       "      <td>14</td>\n",
       "      <td>0.8</td>\n",
       "      <td>9</td>\n",
       "      <td>med1</td>\n",
       "      <td>ch</td>\n",
       "    </tr>\n",
       "    <tr>\n",
       "      <th>12</th>\n",
       "      <td>20190515</td>\n",
       "      <td>5</td>\n",
       "      <td>15</td>\n",
       "      <td>0.8</td>\n",
       "      <td>13</td>\n",
       "      <td>med1</td>\n",
       "      <td>ch</td>\n",
       "    </tr>\n",
       "    <tr>\n",
       "      <th>13</th>\n",
       "      <td>20190515</td>\n",
       "      <td>5</td>\n",
       "      <td>16</td>\n",
       "      <td>0.8</td>\n",
       "      <td>9</td>\n",
       "      <td>med1</td>\n",
       "      <td>ch</td>\n",
       "    </tr>\n",
       "    <tr>\n",
       "      <th>14</th>\n",
       "      <td>20190515</td>\n",
       "      <td>4</td>\n",
       "      <td>17</td>\n",
       "      <td>0.8</td>\n",
       "      <td>13</td>\n",
       "      <td>med2</td>\n",
       "      <td>ch</td>\n",
       "    </tr>\n",
       "    <tr>\n",
       "      <th>15</th>\n",
       "      <td>20190515</td>\n",
       "      <td>4</td>\n",
       "      <td>18</td>\n",
       "      <td>0.8</td>\n",
       "      <td>10</td>\n",
       "      <td>med2</td>\n",
       "      <td>ch</td>\n",
       "    </tr>\n",
       "    <tr>\n",
       "      <th>16</th>\n",
       "      <td>20190515</td>\n",
       "      <td>4</td>\n",
       "      <td>19</td>\n",
       "      <td>0.8</td>\n",
       "      <td>15</td>\n",
       "      <td>med2</td>\n",
       "      <td>ch</td>\n",
       "    </tr>\n",
       "    <tr>\n",
       "      <th>17</th>\n",
       "      <td>20190515</td>\n",
       "      <td>4</td>\n",
       "      <td>20</td>\n",
       "      <td>0.8</td>\n",
       "      <td>13</td>\n",
       "      <td>med2</td>\n",
       "      <td>ch</td>\n",
       "    </tr>\n",
       "    <tr>\n",
       "      <th>18</th>\n",
       "      <td>20190515</td>\n",
       "      <td>4</td>\n",
       "      <td>21</td>\n",
       "      <td>0.8</td>\n",
       "      <td>12</td>\n",
       "      <td>med2</td>\n",
       "      <td>ch</td>\n",
       "    </tr>\n",
       "    <tr>\n",
       "      <th>19</th>\n",
       "      <td>20190515</td>\n",
       "      <td>4</td>\n",
       "      <td>22</td>\n",
       "      <td>0.8</td>\n",
       "      <td>13</td>\n",
       "      <td>med2</td>\n",
       "      <td>ch</td>\n",
       "    </tr>\n",
       "    <tr>\n",
       "      <th>20</th>\n",
       "      <td>20190515</td>\n",
       "      <td>2</td>\n",
       "      <td>23</td>\n",
       "      <td>0.8</td>\n",
       "      <td>full</td>\n",
       "      <td>rpmB</td>\n",
       "      <td>ch</td>\n",
       "    </tr>\n",
       "    <tr>\n",
       "      <th>21</th>\n",
       "      <td>20190515</td>\n",
       "      <td>2</td>\n",
       "      <td>24</td>\n",
       "      <td>0.8</td>\n",
       "      <td>full</td>\n",
       "      <td>rpmB</td>\n",
       "      <td>ch</td>\n",
       "    </tr>\n",
       "    <tr>\n",
       "      <th>22</th>\n",
       "      <td>20190515</td>\n",
       "      <td>2</td>\n",
       "      <td>25</td>\n",
       "      <td>0.8</td>\n",
       "      <td>full</td>\n",
       "      <td>rpmB</td>\n",
       "      <td>ch</td>\n",
       "    </tr>\n",
       "    <tr>\n",
       "      <th>23</th>\n",
       "      <td>20190515</td>\n",
       "      <td>2</td>\n",
       "      <td>26</td>\n",
       "      <td>0.8</td>\n",
       "      <td>full</td>\n",
       "      <td>rpmB</td>\n",
       "      <td>ch</td>\n",
       "    </tr>\n",
       "    <tr>\n",
       "      <th>24</th>\n",
       "      <td>20190515</td>\n",
       "      <td>2</td>\n",
       "      <td>27</td>\n",
       "      <td>0.8</td>\n",
       "      <td>full</td>\n",
       "      <td>rpmB</td>\n",
       "      <td>ch</td>\n",
       "    </tr>\n",
       "    <tr>\n",
       "      <th>25</th>\n",
       "      <td>20190515</td>\n",
       "      <td>2</td>\n",
       "      <td>28</td>\n",
       "      <td>0.8</td>\n",
       "      <td>full</td>\n",
       "      <td>rpmB</td>\n",
       "      <td>ch</td>\n",
       "    </tr>\n",
       "  </tbody>\n",
       "</table>\n",
       "</div>"
      ],
      "text/plain": [
       "        date  ch  pos  width inoculated_gl promoter vector\n",
       "0   20190515   7    0    0.8          full      hi1     ch\n",
       "1   20190515   7    1    0.8          full      hi1     ch\n",
       "2   20190515   7    2    0.8          full      hi1     ch\n",
       "3   20190515   7    3    0.8          full      hi1     ch\n",
       "4   20190515   7    4    0.8          full      hi1     ch\n",
       "5   20190515   7    5    0.8          full      hi1     ch\n",
       "6   20190515   5    6    0.8             7     med1     ch\n",
       "7   20190515   5    9    0.8             7     med1     ch\n",
       "8   20190515   5   10    0.8             8     med1     ch\n",
       "9   20190515   5   12    0.8             8     med1     ch\n",
       "10  20190515   5   13    0.8             7     med1     ch\n",
       "11  20190515   5   14    0.8             9     med1     ch\n",
       "12  20190515   5   15    0.8            13     med1     ch\n",
       "13  20190515   5   16    0.8             9     med1     ch\n",
       "14  20190515   4   17    0.8            13     med2     ch\n",
       "15  20190515   4   18    0.8            10     med2     ch\n",
       "16  20190515   4   19    0.8            15     med2     ch\n",
       "17  20190515   4   20    0.8            13     med2     ch\n",
       "18  20190515   4   21    0.8            12     med2     ch\n",
       "19  20190515   4   22    0.8            13     med2     ch\n",
       "20  20190515   2   23    0.8          full     rpmB     ch\n",
       "21  20190515   2   24    0.8          full     rpmB     ch\n",
       "22  20190515   2   25    0.8          full     rpmB     ch\n",
       "23  20190515   2   26    0.8          full     rpmB     ch\n",
       "24  20190515   2   27    0.8          full     rpmB     ch\n",
       "25  20190515   2   28    0.8          full     rpmB     ch"
      ]
     },
     "execution_count": 53,
     "metadata": {},
     "output_type": "execute_result"
    }
   ],
   "source": [
    "experiment_summary_table=print_curated_data_summary(experimental_details,experimentFolderPath)\n",
    "experiment_summary_table"
   ]
  },
  {
   "cell_type": "code",
   "execution_count": 54,
   "id": "5b7f1311-494f-4d31-8181-3fe66caf0aa3",
   "metadata": {},
   "outputs": [
    {
     "name": "stdout",
     "output_type": "stream",
     "text": [
      "       date  ch  pos  width inoculated_gl promoter vector\n",
      "3  20190515   7    3    0.8          full      hi1     ch\n",
      "4  20190515   7    4    0.8          full      hi1     ch\n",
      "5  20190515   7    5    0.8          full      hi1     ch\n"
     ]
    }
   ],
   "source": [
    "subset=experiment_summary_table[experiment_summary_table[\"pos\"].isin([3,4,5])]\n",
    "print(subset)"
   ]
  },
  {
   "cell_type": "markdown",
   "id": "da16e0e6-0e54-4810-b970-36ec9c56a32c",
   "metadata": {},
   "source": [
    "#### Tidying curated csv files for R analysis\n",
    "The following will be tidied"
   ]
  },
  {
   "cell_type": "code",
   "execution_count": 55,
   "id": "83d3f41c-02ed-41bd-a5aa-c57328cd7b12",
   "metadata": {},
   "outputs": [],
   "source": [
    "poss=list(set(list(subset['pos'])))\n",
    "gls_dic={p:list(range(0,70)) for p in poss}"
   ]
  },
  {
   "cell_type": "code",
   "execution_count": 56,
   "id": "251c025a-1bd1-4be5-936d-7adbb92c6d4b",
   "metadata": {},
   "outputs": [],
   "source": [
    "%%capture\n",
    "#DO NOT MODIFY\n",
    "rx0='ExportedCellStats__(.*).csv' #regular expression for the cvs files to look for\n",
    "pyMoM.extractAndTidyCurated(experimentFolderPath,preprocFolder,subset,rx0,gls_dic)"
   ]
  },
  {
   "cell_type": "markdown",
   "id": "7423fe08-2b0d-453a-99a8-4cd0dc1dea29",
   "metadata": {
    "jp-MarkdownHeadingCollapsed": true,
    "tags": []
   },
   "source": [
    "# 20190529, glucose 0.2% (220 frames, step=3min, total h), glycerol 0.4% ( frames, step=6 min, h), (hi2, hi3, med3, rplN)"
   ]
  },
  {
   "cell_type": "markdown",
   "id": "65c956f2-9cc1-4e49-96fd-1363948d2101",
   "metadata": {
    "tags": []
   },
   "source": [
    "## Part of the data analyzed using the batch mode, growth lanes opening towards the right (hi1)\n",
    "### Experimental details and data summary"
   ]
  },
  {
   "cell_type": "markdown",
   "id": "07a8081c-e432-48c0-a285-e92fd29d74f2",
   "metadata": {},
   "source": [
    "### GL with exit towards the right (hi3)"
   ]
  },
  {
   "cell_type": "code",
   "execution_count": 100,
   "id": "3c0f32bb-6e11-4149-9495-6d81cf036e70",
   "metadata": {},
   "outputs": [],
   "source": [
    "#Experimental details\n",
    "\n",
    "#Edit the following\n",
    "experimental_details=[{\n",
    "    \"date\":\"20190529\",\n",
    "    \"description\":\"glucose_glycerol_switch\",\n",
    "    \"f_start\":\"0\",\n",
    "    \"f_end\":\"220\",\n",
    "    \"condition\":\"glucose\",\n",
    "    \"t_interval\":\"3\",\n",
    "    \"cell_detection_offset\":\"100\"} #min\n",
    "    ,\n",
    "{\n",
    "    \"date\":\"20190529\",\n",
    "    \"description\":\"glucose_glycerol_switch\",\n",
    "    \"f_start\":\"220\",\n",
    "    \"f_end\":\"Inf\",\n",
    "    \"condition\":\"glycerol\",\n",
    "    \"t_interval\":\"6\",\n",
    "    \"cell_detection_offset\":\"100\"} #min\n",
    "]\n",
    "\n",
    "#Preprocessing infos\n",
    "experimentFolderPath='/scicore/home/nimwegen/rocasu25/MM_Data/Dany/20190529'\n",
    "##Preprocessing folder\n",
    "preprocFolder=\"20190529_preproc_right\"\n",
    "##List of positions\n",
    "#pos_var=\"POS_NAMES=(Pos0)\"\n",
    "pos_var=\"POS_NAMES=(Pos4 Pos5 Pos6 Pos7 Pos8 Pos21 Pos0 Pos1 Pos2 Pos3 Pos20)\"\n",
    "##Template to use for the preprocessing\n",
    "template=\"TEMPLATE_vng20_right\"\n",
    "##Rotation (to determine on imageJ)\n",
    "ROTATION=\"0.1\"\n",
    "##TMAX, if processing is not to look at all frames\n",
    "TMAX=\"440\"\n",
    "##Normalization offset\n",
    "NORMALIZATION_REGION_OFFSET=\"120\"\n",
    "##Raw path to the data\n",
    "RAW_PATH=\"/scicore/home/nimwegen/rocasu25/MM_Data/Dany/20190529/20190529_hi2_hi3_med3_rplN_glu_gly_1/20190529_hi2_hi3_med3_rplN_glu_gly_1_MMStack.ome.tif\"\n",
    "##Raw path to flat field data\n",
    "FLATFIELD_PATH=\"/scicore/home/nimwegen/rocasu25/MM_Data/Dany/20190529/20190529_flatfieldGFP/20190529_flatfieldGFP_5_MMStack.ome.tif\""
   ]
  },
  {
   "cell_type": "code",
   "execution_count": 44,
   "id": "1d5a794d-c400-4309-8056-1205b3b9b7ab",
   "metadata": {},
   "outputs": [
    {
     "name": "stdin",
     "output_type": "stream",
     "text": [
      "Do you really want to submit preprocessing tasks to the scheduler? If the preprocessing folder target path has not been changed, it might result in overwritting your data. Enter 'Yes', to confirm. no\n"
     ]
    },
    {
     "name": "stdout",
     "output_type": "stream",
     "text": [
      "Aborting scheduler preprocessing submission\n"
     ]
    }
   ],
   "source": [
    "submit_preprocessing(experimentFolderPath,preprocFolder,template,NORMALIZATION_REGION_OFFSET)"
   ]
  },
  {
   "cell_type": "markdown",
   "id": "c54063f1-4a73-4a21-9bd3-ac13642bd537",
   "metadata": {},
   "source": [
    "### GL with exit on the left (rplN, med3)"
   ]
  },
  {
   "cell_type": "code",
   "execution_count": 105,
   "id": "132de0db-bbbe-4dd7-86f2-3e0bf995d8d3",
   "metadata": {},
   "outputs": [],
   "source": [
    "#Preprocessing infos\n",
    "experimentFolderPath='/scicore/home/nimwegen/rocasu25/MM_Data/Dany/20190529'\n",
    "##Preprocessing folder\n",
    "preprocFolder=\"20190529_preproc_left\"\n",
    "##List of positions\n",
    "#pos_var=\"POS_NAMES=(Pos0)\"\n",
    "pos_var=\"POS_NAMES=(Pos9 Pos10 Pos11 Pos12 Pos13 Pos14 Pos22 Pos15 Pos16 Pos17 Pos18 Pos19 Pos23)\"\n",
    "##Template to use for the preprocessing\n",
    "template=\"TEMPLATE_vng20_left\"\n",
    "##Rotation (to determine on imageJ)\n",
    "ROTATION=\"0.1\"\n",
    "##TMAX, if processing is not to look at all frames\n",
    "TMAX=\"440\"\n",
    "##Normalization offset\n",
    "NORMALIZATION_REGION_OFFSET=\"120\"\n",
    "##Raw path to the data\n",
    "RAW_PATH=\"/scicore/home/nimwegen/rocasu25/MM_Data/Dany/20190529/20190529_hi2_hi3_med3_rplN_glu_gly_1/20190529_hi2_hi3_med3_rplN_glu_gly_1_MMStack.ome.tif\"\n",
    "##Raw path to flat field data\n",
    "FLATFIELD_PATH=\"/scicore/home/nimwegen/rocasu25/MM_Data/Dany/20190529/20190529_flatfieldGFP/20190529_flatfieldGFP_5_MMStack.ome.tif\""
   ]
  },
  {
   "cell_type": "code",
   "execution_count": null,
   "id": "c8eeb2c7-282e-4f9e-b131-4c73b828c436",
   "metadata": {},
   "outputs": [],
   "source": [
    "submit_preprocessing(experimentFolderPath,preprocFolder,template,NORMALIZATION_REGION_OFFSET)"
   ]
  },
  {
   "cell_type": "markdown",
   "id": "8ba01518-074c-4807-9993-3cfdd20e2713",
   "metadata": {
    "tags": []
   },
   "source": [
    "## Moma Batch"
   ]
  },
  {
   "cell_type": "code",
   "execution_count": 106,
   "id": "0463a553-8998-4ddb-bbce-155d193973d1",
   "metadata": {},
   "outputs": [
    {
     "data": {
      "text/html": [
       "<div>\n",
       "<style scoped>\n",
       "    .dataframe tbody tr th:only-of-type {\n",
       "        vertical-align: middle;\n",
       "    }\n",
       "\n",
       "    .dataframe tbody tr th {\n",
       "        vertical-align: top;\n",
       "    }\n",
       "\n",
       "    .dataframe thead th {\n",
       "        text-align: right;\n",
       "    }\n",
       "</style>\n",
       "<table border=\"1\" class=\"dataframe\">\n",
       "  <thead>\n",
       "    <tr style=\"text-align: right;\">\n",
       "      <th></th>\n",
       "      <th>date</th>\n",
       "      <th>ch</th>\n",
       "      <th>pos</th>\n",
       "      <th>width</th>\n",
       "      <th>inoculated_gl</th>\n",
       "      <th>promoter</th>\n",
       "      <th>vector</th>\n",
       "    </tr>\n",
       "  </thead>\n",
       "  <tbody>\n",
       "    <tr>\n",
       "      <th>0</th>\n",
       "      <td>20190529</td>\n",
       "      <td>7</td>\n",
       "      <td>0</td>\n",
       "      <td>0.8</td>\n",
       "      <td>14</td>\n",
       "      <td>hi2</td>\n",
       "      <td>ch</td>\n",
       "    </tr>\n",
       "    <tr>\n",
       "      <th>1</th>\n",
       "      <td>20190529</td>\n",
       "      <td>7</td>\n",
       "      <td>1</td>\n",
       "      <td>0.8</td>\n",
       "      <td>17</td>\n",
       "      <td>hi2</td>\n",
       "      <td>ch</td>\n",
       "    </tr>\n",
       "    <tr>\n",
       "      <th>2</th>\n",
       "      <td>20190529</td>\n",
       "      <td>7</td>\n",
       "      <td>2</td>\n",
       "      <td>0.8</td>\n",
       "      <td>17</td>\n",
       "      <td>hi2</td>\n",
       "      <td>ch</td>\n",
       "    </tr>\n",
       "    <tr>\n",
       "      <th>3</th>\n",
       "      <td>20190529</td>\n",
       "      <td>7</td>\n",
       "      <td>3</td>\n",
       "      <td>0.8</td>\n",
       "      <td>16</td>\n",
       "      <td>hi2</td>\n",
       "      <td>ch</td>\n",
       "    </tr>\n",
       "    <tr>\n",
       "      <th>4</th>\n",
       "      <td>20190529</td>\n",
       "      <td>7</td>\n",
       "      <td>20</td>\n",
       "      <td>0.8</td>\n",
       "      <td>18</td>\n",
       "      <td>hi2</td>\n",
       "      <td>ch</td>\n",
       "    </tr>\n",
       "    <tr>\n",
       "      <th>5</th>\n",
       "      <td>20190529</td>\n",
       "      <td>5</td>\n",
       "      <td>4</td>\n",
       "      <td>0.8</td>\n",
       "      <td>12</td>\n",
       "      <td>hi3</td>\n",
       "      <td>ch</td>\n",
       "    </tr>\n",
       "    <tr>\n",
       "      <th>6</th>\n",
       "      <td>20190529</td>\n",
       "      <td>5</td>\n",
       "      <td>5</td>\n",
       "      <td>0.8</td>\n",
       "      <td>15</td>\n",
       "      <td>hi3</td>\n",
       "      <td>ch</td>\n",
       "    </tr>\n",
       "    <tr>\n",
       "      <th>7</th>\n",
       "      <td>20190529</td>\n",
       "      <td>5</td>\n",
       "      <td>6</td>\n",
       "      <td>0.8</td>\n",
       "      <td>11</td>\n",
       "      <td>hi3</td>\n",
       "      <td>ch</td>\n",
       "    </tr>\n",
       "    <tr>\n",
       "      <th>8</th>\n",
       "      <td>20190529</td>\n",
       "      <td>5</td>\n",
       "      <td>7</td>\n",
       "      <td>0.8</td>\n",
       "      <td>14</td>\n",
       "      <td>hi3</td>\n",
       "      <td>ch</td>\n",
       "    </tr>\n",
       "    <tr>\n",
       "      <th>9</th>\n",
       "      <td>20190529</td>\n",
       "      <td>5</td>\n",
       "      <td>8</td>\n",
       "      <td>0.8</td>\n",
       "      <td>14</td>\n",
       "      <td>hi3</td>\n",
       "      <td>ch</td>\n",
       "    </tr>\n",
       "    <tr>\n",
       "      <th>10</th>\n",
       "      <td>20190529</td>\n",
       "      <td>5</td>\n",
       "      <td>21</td>\n",
       "      <td>0.8</td>\n",
       "      <td>15</td>\n",
       "      <td>hi3</td>\n",
       "      <td>ch</td>\n",
       "    </tr>\n",
       "    <tr>\n",
       "      <th>11</th>\n",
       "      <td>20190529</td>\n",
       "      <td>4</td>\n",
       "      <td>9</td>\n",
       "      <td>0.8</td>\n",
       "      <td>12</td>\n",
       "      <td>med3</td>\n",
       "      <td>ch</td>\n",
       "    </tr>\n",
       "    <tr>\n",
       "      <th>12</th>\n",
       "      <td>20190529</td>\n",
       "      <td>4</td>\n",
       "      <td>10</td>\n",
       "      <td>0.8</td>\n",
       "      <td>11</td>\n",
       "      <td>med3</td>\n",
       "      <td>ch</td>\n",
       "    </tr>\n",
       "    <tr>\n",
       "      <th>13</th>\n",
       "      <td>20190529</td>\n",
       "      <td>4</td>\n",
       "      <td>11</td>\n",
       "      <td>0.8</td>\n",
       "      <td>12</td>\n",
       "      <td>med3</td>\n",
       "      <td>ch</td>\n",
       "    </tr>\n",
       "    <tr>\n",
       "      <th>14</th>\n",
       "      <td>20190529</td>\n",
       "      <td>4</td>\n",
       "      <td>12</td>\n",
       "      <td>0.8</td>\n",
       "      <td>13</td>\n",
       "      <td>med3</td>\n",
       "      <td>ch</td>\n",
       "    </tr>\n",
       "    <tr>\n",
       "      <th>15</th>\n",
       "      <td>20190529</td>\n",
       "      <td>4</td>\n",
       "      <td>13</td>\n",
       "      <td>0.8</td>\n",
       "      <td>13</td>\n",
       "      <td>med3</td>\n",
       "      <td>ch</td>\n",
       "    </tr>\n",
       "    <tr>\n",
       "      <th>16</th>\n",
       "      <td>20190529</td>\n",
       "      <td>4</td>\n",
       "      <td>14</td>\n",
       "      <td>0.8</td>\n",
       "      <td>10</td>\n",
       "      <td>med3</td>\n",
       "      <td>ch</td>\n",
       "    </tr>\n",
       "    <tr>\n",
       "      <th>17</th>\n",
       "      <td>20190529</td>\n",
       "      <td>4</td>\n",
       "      <td>22</td>\n",
       "      <td>0.8</td>\n",
       "      <td>11</td>\n",
       "      <td>med3</td>\n",
       "      <td>ch</td>\n",
       "    </tr>\n",
       "    <tr>\n",
       "      <th>18</th>\n",
       "      <td>20190529</td>\n",
       "      <td>2</td>\n",
       "      <td>15</td>\n",
       "      <td>0.8</td>\n",
       "      <td>17</td>\n",
       "      <td>rplN</td>\n",
       "      <td>ch</td>\n",
       "    </tr>\n",
       "    <tr>\n",
       "      <th>19</th>\n",
       "      <td>20190529</td>\n",
       "      <td>2</td>\n",
       "      <td>16</td>\n",
       "      <td>0.8</td>\n",
       "      <td>17</td>\n",
       "      <td>rplN</td>\n",
       "      <td>ch</td>\n",
       "    </tr>\n",
       "    <tr>\n",
       "      <th>20</th>\n",
       "      <td>20190529</td>\n",
       "      <td>2</td>\n",
       "      <td>17</td>\n",
       "      <td>0.8</td>\n",
       "      <td>14</td>\n",
       "      <td>rplN</td>\n",
       "      <td>ch</td>\n",
       "    </tr>\n",
       "    <tr>\n",
       "      <th>21</th>\n",
       "      <td>20190529</td>\n",
       "      <td>2</td>\n",
       "      <td>18</td>\n",
       "      <td>0.8</td>\n",
       "      <td>16</td>\n",
       "      <td>rplN</td>\n",
       "      <td>ch</td>\n",
       "    </tr>\n",
       "    <tr>\n",
       "      <th>22</th>\n",
       "      <td>20190529</td>\n",
       "      <td>2</td>\n",
       "      <td>19</td>\n",
       "      <td>0.8</td>\n",
       "      <td>16</td>\n",
       "      <td>rplN</td>\n",
       "      <td>ch</td>\n",
       "    </tr>\n",
       "    <tr>\n",
       "      <th>23</th>\n",
       "      <td>20190529</td>\n",
       "      <td>2</td>\n",
       "      <td>23</td>\n",
       "      <td>0.8</td>\n",
       "      <td>14</td>\n",
       "      <td>rplN</td>\n",
       "      <td>ch</td>\n",
       "    </tr>\n",
       "  </tbody>\n",
       "</table>\n",
       "</div>"
      ],
      "text/plain": [
       "        date  ch  pos  width  inoculated_gl promoter vector\n",
       "0   20190529   7    0    0.8             14      hi2     ch\n",
       "1   20190529   7    1    0.8             17      hi2     ch\n",
       "2   20190529   7    2    0.8             17      hi2     ch\n",
       "3   20190529   7    3    0.8             16      hi2     ch\n",
       "4   20190529   7   20    0.8             18      hi2     ch\n",
       "5   20190529   5    4    0.8             12      hi3     ch\n",
       "6   20190529   5    5    0.8             15      hi3     ch\n",
       "7   20190529   5    6    0.8             11      hi3     ch\n",
       "8   20190529   5    7    0.8             14      hi3     ch\n",
       "9   20190529   5    8    0.8             14      hi3     ch\n",
       "10  20190529   5   21    0.8             15      hi3     ch\n",
       "11  20190529   4    9    0.8             12     med3     ch\n",
       "12  20190529   4   10    0.8             11     med3     ch\n",
       "13  20190529   4   11    0.8             12     med3     ch\n",
       "14  20190529   4   12    0.8             13     med3     ch\n",
       "15  20190529   4   13    0.8             13     med3     ch\n",
       "16  20190529   4   14    0.8             10     med3     ch\n",
       "17  20190529   4   22    0.8             11     med3     ch\n",
       "18  20190529   2   15    0.8             17     rplN     ch\n",
       "19  20190529   2   16    0.8             17     rplN     ch\n",
       "20  20190529   2   17    0.8             14     rplN     ch\n",
       "21  20190529   2   18    0.8             16     rplN     ch\n",
       "22  20190529   2   19    0.8             16     rplN     ch\n",
       "23  20190529   2   23    0.8             14     rplN     ch"
      ]
     },
     "execution_count": 106,
     "metadata": {},
     "output_type": "execute_result"
    }
   ],
   "source": [
    "#Generate a YAML file from experiment_summary_table\n",
    "#Select rows of interest, that will be curated, from the curated data summary table\n",
    "experiment_summary_table=print_curated_data_summary(experimental_details,experimentFolderPath)\n",
    "experiment_summary_table"
   ]
  },
  {
   "cell_type": "markdown",
   "id": "b1b721bb-7143-4cdd-9a7c-b7d9005c0318",
   "metadata": {},
   "source": [
    "### hi3 curation (right)"
   ]
  },
  {
   "cell_type": "code",
   "execution_count": 102,
   "id": "8d35f26a-cc5d-48ee-94da-0c5dd50734c5",
   "metadata": {},
   "outputs": [
    {
     "name": "stdout",
     "output_type": "stream",
     "text": [
      "       date  ch  pos  width  inoculated_gl promoter vector\n",
      "5  20190529   5    4    0.8             12      hi3     ch\n",
      "6  20190529   5    5    0.8             15      hi3     ch\n"
     ]
    }
   ],
   "source": [
    "subset=experiment_summary_table[experiment_summary_table[\"pos\"].isin([4,5])]\n",
    "print(subset)"
   ]
  },
  {
   "cell_type": "code",
   "execution_count": 25,
   "id": "8a09902b-4bd6-4650-83c0-7196afbc4918",
   "metadata": {},
   "outputs": [
    {
     "name": "stdout",
     "output_type": "stream",
     "text": [
      "Batch folder already exist.\n",
      "mm.properties already exists, copying cancelled.\n",
      "/scicore/home/nimwegen/rocasu25/MM_Data/Dany/20190529/20190529_preproc_right\n",
      "Batch file does not exist. It is created for the following positions, for all detected growth lanes:\n",
      "Pos4\n",
      "Pos5\n"
     ]
    }
   ],
   "source": [
    "#Batch folder that should be used or created to supervise tracking/curation/export\n",
    "batch_folder=\"batch_hi3\"\n",
    "curation_id=\"moma_batch_4_5\"\n",
    "batch_file=\"moma_batch_hi3_pos4_pos5.yaml\"\n",
    "create_moma_batch_directory(experimentFolderPath,batch_folder)\n",
    "create_yaml_file(batch_file,curation_id,experimentFolderPath,preprocFolder,batch_folder,subset)"
   ]
  },
  {
   "cell_type": "code",
   "execution_count": 104,
   "id": "5534acfb-860e-4af8-a8bb-fd424f829f34",
   "metadata": {},
   "outputs": [],
   "source": [
    "%%capture\n",
    "#DO NOT MODIFY\n",
    "#regular expressions for the cvs files to look for\n",
    "subset=experiment_summary_table[experiment_summary_table[\"pos\"].isin([4,5])]\n",
    "print(subset)\n",
    "gls_dic={4:list(np.arange(0,60)),\n",
    "        5:list(np.arange(0,60))}\n",
    "rx0='CellStats__(.*).csv' \n",
    "pyMoM.extractAndTidyCurated(experimentFolderPath,preprocFolder,subset,rx0,gls_dic,analysis_id='moma_batch_4_5')"
   ]
  },
  {
   "cell_type": "markdown",
   "id": "abef696f-d346-4f02-be25-12bcab1353d3",
   "metadata": {},
   "source": [
    "### Med3 curation (left)"
   ]
  },
  {
   "cell_type": "code",
   "execution_count": 107,
   "id": "ec35b5be-eea3-4745-b99d-338acd970adf",
   "metadata": {},
   "outputs": [
    {
     "name": "stdout",
     "output_type": "stream",
     "text": [
      "        date  ch  pos  width  inoculated_gl promoter vector\n",
      "11  20190529   4    9    0.8             12     med3     ch\n",
      "12  20190529   4   10    0.8             11     med3     ch\n"
     ]
    }
   ],
   "source": [
    "subset=experiment_summary_table[experiment_summary_table[\"pos\"].isin([9,10])]\n",
    "print(subset)"
   ]
  },
  {
   "cell_type": "code",
   "execution_count": 10,
   "id": "83c78eca-87f9-4173-b5f7-fc6dd8a79822",
   "metadata": {},
   "outputs": [
    {
     "name": "stdout",
     "output_type": "stream",
     "text": [
      "Batch folder already exist.\n",
      "mm.properties already exists, copying cancelled.\n",
      "/scicore/home/nimwegen/rocasu25/MM_Data/Dany/20190529/20190529_preproc_left\n",
      "Batch file does not exist. It is created for the following positions, for all detected growth lanes:\n",
      "Pos9\n",
      "Pos10\n"
     ]
    }
   ],
   "source": [
    "#Batch folder that should be used or created to supervise tracking/curation/export\n",
    "batch_folder=\"batch_med3\"\n",
    "curation_id=\"moma_batch\"\n",
    "batch_file=\"moma_batch_med3_pos9_pos10.yaml\"\n",
    "create_moma_batch_directory(experimentFolderPath,batch_folder)\n",
    "create_yaml_file(batch_file,curation_id,experimentFolderPath,preprocFolder,batch_folder,subset)"
   ]
  },
  {
   "cell_type": "code",
   "execution_count": 108,
   "id": "99c3586c-005b-4634-8979-37af6578f8c2",
   "metadata": {},
   "outputs": [],
   "source": [
    "%%capture\n",
    "#DO NOT MODIFY\n",
    "#regular expressions for the cvs files to look for\n",
    "subset=experiment_summary_table[experiment_summary_table[\"pos\"].isin([9,10])]\n",
    "print(subset)\n",
    "gls_dic={9:list(np.arange(0,60)),\n",
    "        10:list(np.arange(0,60))}\n",
    "rx0='CellStats__(.*).csv' \n",
    "pyMoM.extractAndTidyCurated(experimentFolderPath,preprocFolder,subset,rx0,gls_dic,analysis_id='moma_batch')"
   ]
  },
  {
   "cell_type": "markdown",
   "id": "76377bd4-9395-43c9-bf12-9c088a612483",
   "metadata": {},
   "source": [
    "### rplN curation (left)"
   ]
  },
  {
   "cell_type": "code",
   "execution_count": 110,
   "id": "50735760-ee99-4707-89ea-f945f359c7ef",
   "metadata": {},
   "outputs": [
    {
     "name": "stdout",
     "output_type": "stream",
     "text": [
      "        date  ch  pos  width  inoculated_gl promoter vector\n",
      "18  20190529   2   15    0.8             17     rplN     ch\n"
     ]
    }
   ],
   "source": [
    "subset=experiment_summary_table[experiment_summary_table[\"pos\"].isin([15])]\n",
    "print(subset)"
   ]
  },
  {
   "cell_type": "code",
   "execution_count": 34,
   "id": "b232008f-cc09-4475-8e3b-be587a19424e",
   "metadata": {},
   "outputs": [
    {
     "name": "stdout",
     "output_type": "stream",
     "text": [
      "Batch folder already exist.\n",
      "mm.properties already exists, copying cancelled.\n",
      "/scicore/home/nimwegen/rocasu25/MM_Data/Dany/20190529/20190529_preproc_left\n",
      "Batch file does not exist. It is created for the following positions, for all detected growth lanes:\n",
      "Pos15\n"
     ]
    }
   ],
   "source": [
    "#Batch folder that should be used or created to supervise tracking/curation/export\n",
    "batch_folder=\"batch_rplN\"\n",
    "batch_file=\"moma_batch_rplN_pos15.yaml\"\n",
    "curation_id=\"moma_batch\"\n",
    "create_moma_batch_directory(experimentFolderPath,batch_folder)\n",
    "create_yaml_file(batch_file,curation_id,experimentFolderPath,preprocFolder,batch_folder,subset)"
   ]
  },
  {
   "cell_type": "code",
   "execution_count": 111,
   "id": "a8e50d58-1305-4bb8-a324-6a8d23a0c0ad",
   "metadata": {},
   "outputs": [],
   "source": [
    "%%capture\n",
    "#DO NOT MODIFY\n",
    "#regular expressions for the cvs files to look for\n",
    "subset=experiment_summary_table[experiment_summary_table[\"pos\"].isin([15])]\n",
    "print(subset)\n",
    "gls_dic={15:list(np.arange(0,60))}\n",
    "rx0='CellStats__(.*).csv' \n",
    "pyMoM.extractAndTidyCurated(experimentFolderPath,preprocFolder,subset,rx0,gls_dic,analysis_id='moma_batch')"
   ]
  },
  {
   "cell_type": "markdown",
   "id": "a70863fd-da45-41ee-909f-d4dadb3fe986",
   "metadata": {},
   "source": [
    "#### Export after curation\n",
    "During curation, note down comments about growth lanes curated."
   ]
  },
  {
   "cell_type": "code",
   "execution_count": 40,
   "id": "d452cedb-16b1-41f7-952e-2a08356fcf66",
   "metadata": {},
   "outputs": [
    {
     "name": "stdout",
     "output_type": "stream",
     "text": [
      "Batch file does not exist. It is created for the following positions, for all curated growth lanes in the export dictionnary:\n",
      "Pos0\n",
      "Pos1\n"
     ]
    }
   ],
   "source": [
    "#Final list of growth lanes that can be exported.\n",
    "gls_dic={0:[2,3,4,6,8,9,10,12,13,14,16,17,18,19],\n",
    "         1:[1,2,3,4,5,6,8,9,10,11,12]}\n",
    "\n",
    "write_export_yaml_file(batch_file,experimentFolderPath,preprocFolder,batch_folder,gls_dic)"
   ]
  },
  {
   "cell_type": "markdown",
   "id": "5819578e-e169-4a9f-9758-61ab1c0ba1e2",
   "metadata": {},
   "source": [
    "#### Tidying curated csv files for R analysis\n",
    "The following will be tidied"
   ]
  },
  {
   "cell_type": "code",
   "execution_count": 68,
   "id": "89a4e1ee-e590-4dd4-afe6-150a3b18973f",
   "metadata": {},
   "outputs": [
    {
     "name": "stdout",
     "output_type": "stream",
     "text": [
      "       date  ch  pos  width inoculated_gl promoter vector\n",
      "0  20190515   7    0    0.8          full      hi1     ch\n",
      "1  20190515   7    1    0.8          full      hi1     ch {0: [2, 3, 4, 6, 8, 9, 10, 12, 13, 14, 16, 17, 18, 19], 1: [1, 2, 3, 4, 5, 6, 8, 9, 10, 11, 12]}\n"
     ]
    }
   ],
   "source": [
    "print(subset,gls_dic)"
   ]
  },
  {
   "cell_type": "code",
   "execution_count": 70,
   "id": "60b2182f-0836-4f83-a348-b8abb6d704f6",
   "metadata": {},
   "outputs": [
    {
     "name": "stdout",
     "output_type": "stream",
     "text": [
      "20190515,glucose_glycerol_switch,0,440,glucose,3,/scicore/home/nimwegen/rocasu25/MM_Data/Dany/20190515/curated_data/hi1_ch_curated,hi1,ch,100\n",
      "20190515,glucose_glycerol_switch,0,440,glucose,3,/scicore/home/nimwegen/rocasu25/MM_Data/Dany/20190515/curated_data/med1_ch_curated,med1,ch,100\n",
      "20190515,glucose_glycerol_switch,0,440,glucose,3,/scicore/home/nimwegen/rocasu25/MM_Data/Dany/20190515/curated_data/med2_ch_curated,med2,ch,100\n",
      "20190515,glucose_glycerol_switch,0,440,glucose,3,/scicore/home/nimwegen/rocasu25/MM_Data/Dany/20190515/curated_data/rpmB_ch_curated,rpmB,ch,100\n",
      "20190515,glucose_glycerol_switch,440,Inf,glycerol,6,/scicore/home/nimwegen/rocasu25/MM_Data/Dany/20190515/curated_data/hi1_ch_curated,hi1,ch,100\n",
      "20190515,glucose_glycerol_switch,440,Inf,glycerol,6,/scicore/home/nimwegen/rocasu25/MM_Data/Dany/20190515/curated_data/med1_ch_curated,med1,ch,100\n",
      "20190515,glucose_glycerol_switch,440,Inf,glycerol,6,/scicore/home/nimwegen/rocasu25/MM_Data/Dany/20190515/curated_data/med2_ch_curated,med2,ch,100\n",
      "20190515,glucose_glycerol_switch,440,Inf,glycerol,6,/scicore/home/nimwegen/rocasu25/MM_Data/Dany/20190515/curated_data/rpmB_ch_curated,rpmB,ch,100\n"
     ]
    }
   ],
   "source": [
    "#Generate entries for R analysis\n",
    "generate_import_script_input(experimentFolderPath,subset,experiment_summary_table,experimental_details)"
   ]
  },
  {
   "cell_type": "markdown",
   "id": "b46b74df-4341-46af-a5fa-ef7503991199",
   "metadata": {
    "tags": []
   },
   "source": [
    "## Part of the data analyzed using the batch mode, growth lanes opening towards the left (med2, rpmB)\n",
    "### Experimental details and data summary"
   ]
  },
  {
   "cell_type": "code",
   "execution_count": 8,
   "id": "be3cb9e7-0699-494d-b3ed-42a3ca6a6d23",
   "metadata": {},
   "outputs": [],
   "source": [
    "#Experimental details\n",
    "\n",
    "experimental_details=[{\n",
    "    \"date\":\"20190515\",\n",
    "    \"description\":\"glucose_glycerol_switch\",\n",
    "    \"f_start\":\"0\",\n",
    "    \"f_end\":\"440\",\n",
    "    \"condition\":\"glucose\",\n",
    "    \"t_interval\":\"3\",\n",
    "    \"cell_detection_offset\":\"100\"} #min\n",
    "    ,\n",
    "{\n",
    "    \"date\":\"20190515\",\n",
    "    \"description\":\"glucose_glycerol_switch\",\n",
    "    \"f_start\":\"440\",\n",
    "    \"f_end\":\"Inf\",\n",
    "    \"condition\":\"glycerol\",\n",
    "    \"t_interval\":\"6\",\n",
    "    \"cell_detection_offset\":\"100\"} #min\n",
    "]\n",
    "\n",
    "#Preprocessing infos\n",
    "experimentFolderPath='/scicore/home/nimwegen/rocasu25/MM_Data/Dany/20190515'\n",
    "##Preprocessing folder\n",
    "preprocFolder=\"20190515_preproc_left\"\n",
    "##List of positions\n",
    "#pos_var=\"POS_NAMES=(Pos0)\"\n",
    "pos_var=\"POS_NAMES=(Pos17 Pos18 Pos19 Pos20 Pos21 Pos22 Pos23 Pos24 Pos25 Pos26 Pos27 Pos28)\"\n",
    "##Template to use for the preprocessing\n",
    "template=\"TEMPLATE_vng20_left\"\n",
    "##Rotation (to determine on imageJ)\n",
    "ROTATION=\"-0.5\"\n",
    "##TMAX, if processing is not to look at all frames\n",
    "TMAX=\"881\"\n",
    "##Normalization offset\n",
    "NORMALIZATION_REGION_OFFSET=\"120\"\n",
    "##Raw path to the data\n",
    "RAW_PATH=\"/scicore/home/nimwegen/rocasu25/MM_Data/Dany/20190515/20190515_hi1_med1_med2_rpmB_glu_gly_7/20190515_hi1_med1_med2_rpmB_glu_gly_7_MMStack.ome.tif\"\n",
    "##Raw path to flat field data\n",
    "FLATFIELD_PATH=\"/scicore/home/nimwegen/rocasu25/MM_Data/Dany/20190515/20190515_flatfieldGFP/20190515_flatfieldGFP_2_MMStack.ome.tif\""
   ]
  },
  {
   "cell_type": "code",
   "execution_count": 44,
   "id": "7f46066d-4d25-4881-9cbe-39f7d63b0bfe",
   "metadata": {},
   "outputs": [
    {
     "name": "stdin",
     "output_type": "stream",
     "text": [
      "Do you really want to submit preprocessing tasks to the scheduler? If the preprocessing folder target path has not been changed, it might result in overwritting your data. Enter 'Yes', to confirm. no\n"
     ]
    },
    {
     "name": "stdout",
     "output_type": "stream",
     "text": [
      "Aborting scheduler preprocessing submission\n"
     ]
    }
   ],
   "source": [
    "submit_preprocessing(experimentFolderPath,preprocFolder,template,NORMALIZATION_REGION_OFFSET)"
   ]
  },
  {
   "cell_type": "markdown",
   "id": "6d82cd3d-58a8-45f0-bbd6-ec52b3e4614c",
   "metadata": {
    "tags": []
   },
   "source": [
    "## Moma Batch"
   ]
  },
  {
   "cell_type": "code",
   "execution_count": 9,
   "id": "54689002-2368-4c54-8ced-7ac01819e9ba",
   "metadata": {},
   "outputs": [
    {
     "data": {
      "text/html": [
       "<div>\n",
       "<style scoped>\n",
       "    .dataframe tbody tr th:only-of-type {\n",
       "        vertical-align: middle;\n",
       "    }\n",
       "\n",
       "    .dataframe tbody tr th {\n",
       "        vertical-align: top;\n",
       "    }\n",
       "\n",
       "    .dataframe thead th {\n",
       "        text-align: right;\n",
       "    }\n",
       "</style>\n",
       "<table border=\"1\" class=\"dataframe\">\n",
       "  <thead>\n",
       "    <tr style=\"text-align: right;\">\n",
       "      <th></th>\n",
       "      <th>date</th>\n",
       "      <th>ch</th>\n",
       "      <th>pos</th>\n",
       "      <th>width</th>\n",
       "      <th>inoculated_gl</th>\n",
       "      <th>promoter</th>\n",
       "      <th>vector</th>\n",
       "    </tr>\n",
       "  </thead>\n",
       "  <tbody>\n",
       "    <tr>\n",
       "      <th>0</th>\n",
       "      <td>20190515</td>\n",
       "      <td>7</td>\n",
       "      <td>0</td>\n",
       "      <td>0.8</td>\n",
       "      <td>full</td>\n",
       "      <td>hi1</td>\n",
       "      <td>ch</td>\n",
       "    </tr>\n",
       "    <tr>\n",
       "      <th>1</th>\n",
       "      <td>20190515</td>\n",
       "      <td>7</td>\n",
       "      <td>1</td>\n",
       "      <td>0.8</td>\n",
       "      <td>full</td>\n",
       "      <td>hi1</td>\n",
       "      <td>ch</td>\n",
       "    </tr>\n",
       "    <tr>\n",
       "      <th>2</th>\n",
       "      <td>20190515</td>\n",
       "      <td>7</td>\n",
       "      <td>2</td>\n",
       "      <td>0.8</td>\n",
       "      <td>full</td>\n",
       "      <td>hi1</td>\n",
       "      <td>ch</td>\n",
       "    </tr>\n",
       "    <tr>\n",
       "      <th>3</th>\n",
       "      <td>20190515</td>\n",
       "      <td>7</td>\n",
       "      <td>3</td>\n",
       "      <td>0.8</td>\n",
       "      <td>full</td>\n",
       "      <td>hi1</td>\n",
       "      <td>ch</td>\n",
       "    </tr>\n",
       "    <tr>\n",
       "      <th>4</th>\n",
       "      <td>20190515</td>\n",
       "      <td>7</td>\n",
       "      <td>4</td>\n",
       "      <td>0.8</td>\n",
       "      <td>full</td>\n",
       "      <td>hi1</td>\n",
       "      <td>ch</td>\n",
       "    </tr>\n",
       "    <tr>\n",
       "      <th>5</th>\n",
       "      <td>20190515</td>\n",
       "      <td>7</td>\n",
       "      <td>5</td>\n",
       "      <td>0.8</td>\n",
       "      <td>full</td>\n",
       "      <td>hi1</td>\n",
       "      <td>ch</td>\n",
       "    </tr>\n",
       "    <tr>\n",
       "      <th>6</th>\n",
       "      <td>20190515</td>\n",
       "      <td>5</td>\n",
       "      <td>6</td>\n",
       "      <td>0.8</td>\n",
       "      <td>7</td>\n",
       "      <td>med1</td>\n",
       "      <td>ch</td>\n",
       "    </tr>\n",
       "    <tr>\n",
       "      <th>7</th>\n",
       "      <td>20190515</td>\n",
       "      <td>5</td>\n",
       "      <td>9</td>\n",
       "      <td>0.8</td>\n",
       "      <td>7</td>\n",
       "      <td>med1</td>\n",
       "      <td>ch</td>\n",
       "    </tr>\n",
       "    <tr>\n",
       "      <th>8</th>\n",
       "      <td>20190515</td>\n",
       "      <td>5</td>\n",
       "      <td>10</td>\n",
       "      <td>0.8</td>\n",
       "      <td>8</td>\n",
       "      <td>med1</td>\n",
       "      <td>ch</td>\n",
       "    </tr>\n",
       "    <tr>\n",
       "      <th>9</th>\n",
       "      <td>20190515</td>\n",
       "      <td>5</td>\n",
       "      <td>12</td>\n",
       "      <td>0.8</td>\n",
       "      <td>8</td>\n",
       "      <td>med1</td>\n",
       "      <td>ch</td>\n",
       "    </tr>\n",
       "    <tr>\n",
       "      <th>10</th>\n",
       "      <td>20190515</td>\n",
       "      <td>5</td>\n",
       "      <td>13</td>\n",
       "      <td>0.8</td>\n",
       "      <td>7</td>\n",
       "      <td>med1</td>\n",
       "      <td>ch</td>\n",
       "    </tr>\n",
       "    <tr>\n",
       "      <th>11</th>\n",
       "      <td>20190515</td>\n",
       "      <td>5</td>\n",
       "      <td>14</td>\n",
       "      <td>0.8</td>\n",
       "      <td>9</td>\n",
       "      <td>med1</td>\n",
       "      <td>ch</td>\n",
       "    </tr>\n",
       "    <tr>\n",
       "      <th>12</th>\n",
       "      <td>20190515</td>\n",
       "      <td>5</td>\n",
       "      <td>15</td>\n",
       "      <td>0.8</td>\n",
       "      <td>13</td>\n",
       "      <td>med1</td>\n",
       "      <td>ch</td>\n",
       "    </tr>\n",
       "    <tr>\n",
       "      <th>13</th>\n",
       "      <td>20190515</td>\n",
       "      <td>5</td>\n",
       "      <td>16</td>\n",
       "      <td>0.8</td>\n",
       "      <td>9</td>\n",
       "      <td>med1</td>\n",
       "      <td>ch</td>\n",
       "    </tr>\n",
       "    <tr>\n",
       "      <th>14</th>\n",
       "      <td>20190515</td>\n",
       "      <td>4</td>\n",
       "      <td>17</td>\n",
       "      <td>0.8</td>\n",
       "      <td>13</td>\n",
       "      <td>med2</td>\n",
       "      <td>ch</td>\n",
       "    </tr>\n",
       "    <tr>\n",
       "      <th>15</th>\n",
       "      <td>20190515</td>\n",
       "      <td>4</td>\n",
       "      <td>18</td>\n",
       "      <td>0.8</td>\n",
       "      <td>10</td>\n",
       "      <td>med2</td>\n",
       "      <td>ch</td>\n",
       "    </tr>\n",
       "    <tr>\n",
       "      <th>16</th>\n",
       "      <td>20190515</td>\n",
       "      <td>4</td>\n",
       "      <td>19</td>\n",
       "      <td>0.8</td>\n",
       "      <td>15</td>\n",
       "      <td>med2</td>\n",
       "      <td>ch</td>\n",
       "    </tr>\n",
       "    <tr>\n",
       "      <th>17</th>\n",
       "      <td>20190515</td>\n",
       "      <td>4</td>\n",
       "      <td>20</td>\n",
       "      <td>0.8</td>\n",
       "      <td>13</td>\n",
       "      <td>med2</td>\n",
       "      <td>ch</td>\n",
       "    </tr>\n",
       "    <tr>\n",
       "      <th>18</th>\n",
       "      <td>20190515</td>\n",
       "      <td>4</td>\n",
       "      <td>21</td>\n",
       "      <td>0.8</td>\n",
       "      <td>12</td>\n",
       "      <td>med2</td>\n",
       "      <td>ch</td>\n",
       "    </tr>\n",
       "    <tr>\n",
       "      <th>19</th>\n",
       "      <td>20190515</td>\n",
       "      <td>4</td>\n",
       "      <td>22</td>\n",
       "      <td>0.8</td>\n",
       "      <td>13</td>\n",
       "      <td>med2</td>\n",
       "      <td>ch</td>\n",
       "    </tr>\n",
       "    <tr>\n",
       "      <th>20</th>\n",
       "      <td>20190515</td>\n",
       "      <td>2</td>\n",
       "      <td>23</td>\n",
       "      <td>0.8</td>\n",
       "      <td>full</td>\n",
       "      <td>rpmB</td>\n",
       "      <td>ch</td>\n",
       "    </tr>\n",
       "    <tr>\n",
       "      <th>21</th>\n",
       "      <td>20190515</td>\n",
       "      <td>2</td>\n",
       "      <td>24</td>\n",
       "      <td>0.8</td>\n",
       "      <td>full</td>\n",
       "      <td>rpmB</td>\n",
       "      <td>ch</td>\n",
       "    </tr>\n",
       "    <tr>\n",
       "      <th>22</th>\n",
       "      <td>20190515</td>\n",
       "      <td>2</td>\n",
       "      <td>25</td>\n",
       "      <td>0.8</td>\n",
       "      <td>full</td>\n",
       "      <td>rpmB</td>\n",
       "      <td>ch</td>\n",
       "    </tr>\n",
       "    <tr>\n",
       "      <th>23</th>\n",
       "      <td>20190515</td>\n",
       "      <td>2</td>\n",
       "      <td>26</td>\n",
       "      <td>0.8</td>\n",
       "      <td>full</td>\n",
       "      <td>rpmB</td>\n",
       "      <td>ch</td>\n",
       "    </tr>\n",
       "    <tr>\n",
       "      <th>24</th>\n",
       "      <td>20190515</td>\n",
       "      <td>2</td>\n",
       "      <td>27</td>\n",
       "      <td>0.8</td>\n",
       "      <td>full</td>\n",
       "      <td>rpmB</td>\n",
       "      <td>ch</td>\n",
       "    </tr>\n",
       "    <tr>\n",
       "      <th>25</th>\n",
       "      <td>20190515</td>\n",
       "      <td>2</td>\n",
       "      <td>28</td>\n",
       "      <td>0.8</td>\n",
       "      <td>full</td>\n",
       "      <td>rpmB</td>\n",
       "      <td>ch</td>\n",
       "    </tr>\n",
       "  </tbody>\n",
       "</table>\n",
       "</div>"
      ],
      "text/plain": [
       "        date  ch  pos  width inoculated_gl promoter vector\n",
       "0   20190515   7    0    0.8          full      hi1     ch\n",
       "1   20190515   7    1    0.8          full      hi1     ch\n",
       "2   20190515   7    2    0.8          full      hi1     ch\n",
       "3   20190515   7    3    0.8          full      hi1     ch\n",
       "4   20190515   7    4    0.8          full      hi1     ch\n",
       "5   20190515   7    5    0.8          full      hi1     ch\n",
       "6   20190515   5    6    0.8             7     med1     ch\n",
       "7   20190515   5    9    0.8             7     med1     ch\n",
       "8   20190515   5   10    0.8             8     med1     ch\n",
       "9   20190515   5   12    0.8             8     med1     ch\n",
       "10  20190515   5   13    0.8             7     med1     ch\n",
       "11  20190515   5   14    0.8             9     med1     ch\n",
       "12  20190515   5   15    0.8            13     med1     ch\n",
       "13  20190515   5   16    0.8             9     med1     ch\n",
       "14  20190515   4   17    0.8            13     med2     ch\n",
       "15  20190515   4   18    0.8            10     med2     ch\n",
       "16  20190515   4   19    0.8            15     med2     ch\n",
       "17  20190515   4   20    0.8            13     med2     ch\n",
       "18  20190515   4   21    0.8            12     med2     ch\n",
       "19  20190515   4   22    0.8            13     med2     ch\n",
       "20  20190515   2   23    0.8          full     rpmB     ch\n",
       "21  20190515   2   24    0.8          full     rpmB     ch\n",
       "22  20190515   2   25    0.8          full     rpmB     ch\n",
       "23  20190515   2   26    0.8          full     rpmB     ch\n",
       "24  20190515   2   27    0.8          full     rpmB     ch\n",
       "25  20190515   2   28    0.8          full     rpmB     ch"
      ]
     },
     "execution_count": 9,
     "metadata": {},
     "output_type": "execute_result"
    }
   ],
   "source": [
    "#Generate a YAML file from experiment_summary_table\n",
    "#Select rows of interest, that will be curated, from the curated data summary table\n",
    "experiment_summary_table=print_curated_data_summary(experimental_details,experimentFolderPath)\n",
    "experiment_summary_table"
   ]
  },
  {
   "cell_type": "markdown",
   "id": "ec4620e2-0f5f-4ca6-a073-9e3604abfc3d",
   "metadata": {},
   "source": [
    "### Hi1 curation"
   ]
  },
  {
   "cell_type": "code",
   "execution_count": 11,
   "id": "c7eb7470-cd47-41c8-a7ba-5de65da14b23",
   "metadata": {},
   "outputs": [
    {
     "name": "stdout",
     "output_type": "stream",
     "text": [
      "        date  ch  pos  width inoculated_gl promoter vector\n",
      "16  20190515   4   19    0.8            15     med2     ch\n",
      "22  20190515   2   25    0.8          full     rpmB     ch\n"
     ]
    }
   ],
   "source": [
    "subset=experiment_summary_table[experiment_summary_table[\"pos\"].isin([19,25])]\n",
    "print(subset)"
   ]
  },
  {
   "cell_type": "code",
   "execution_count": 12,
   "id": "90c304d1-78dc-46f8-93a0-b9d5f88da199",
   "metadata": {},
   "outputs": [
    {
     "name": "stdout",
     "output_type": "stream",
     "text": [
      "Batch folder already exist.\n",
      "mm.properties already exists, copying cancelled.\n",
      "/scicore/home/nimwegen/rocasu25/MM_Data/Dany/20190515/20190515_preproc_left\n",
      "Batch YAML file already exist. Aborting\n"
     ]
    }
   ],
   "source": [
    "#Batch folder that should be used or created to supervise tracking/curation/export\n",
    "batch_folder=\"batch_med2_rpmB\"\n",
    "batch_file=\"moma_batch_pos_19_25.yaml\"\n",
    "create_moma_batch_directory(experimentFolderPath,batch_folder)\n",
    "create_yaml_file(batch_file,experimentFolderPath,preprocFolder,batch_folder,subset)"
   ]
  },
  {
   "cell_type": "markdown",
   "id": "ee93868f-e680-4ce8-822a-528f38d212c8",
   "metadata": {},
   "source": [
    "#### Export after curation\n",
    "During curation, note down comments about growth lanes curated."
   ]
  },
  {
   "cell_type": "code",
   "execution_count": 13,
   "id": "6bbd8b50-9bfc-4899-827e-3bccd0da4ee0",
   "metadata": {},
   "outputs": [
    {
     "name": "stdout",
     "output_type": "stream",
     "text": [
      "Batch YAML file already exist. Aborting\n"
     ]
    }
   ],
   "source": [
    "#Final list of growth lanes that can be exported.\n",
    "gls_dic={19:[2,4,5,7,8,9,10,12,13,14,15,16,17],\n",
    "         25:[1,2,3,4,5,6,7,8,11,12,14,15,17,18]}\n",
    "\n",
    "write_export_yaml_file(batch_file,experimentFolderPath,preprocFolder,batch_folder,gls_dic)"
   ]
  },
  {
   "cell_type": "markdown",
   "id": "f0e76da1-5bea-43eb-8de3-7fca6930e808",
   "metadata": {},
   "source": [
    "#### Tidying curated csv files for R analysis\n",
    "The following will be tidied"
   ]
  },
  {
   "cell_type": "code",
   "execution_count": 14,
   "id": "fa02d29f-d249-423a-b3a5-e91f26881aff",
   "metadata": {},
   "outputs": [
    {
     "name": "stdout",
     "output_type": "stream",
     "text": [
      "        date  ch  pos  width inoculated_gl promoter vector\n",
      "16  20190515   4   19    0.8            15     med2     ch\n",
      "22  20190515   2   25    0.8          full     rpmB     ch {19: [2, 4, 5, 7, 8, 9, 10, 12, 13, 14, 15, 16, 17], 25: [1, 2, 3, 4, 5, 6, 7, 8, 11, 12, 14, 15, 17, 18]}\n"
     ]
    }
   ],
   "source": [
    "print(subset,gls_dic)"
   ]
  },
  {
   "cell_type": "code",
   "execution_count": 69,
   "id": "dfc4e229-6ab4-4032-b4d5-3471447cc6d5",
   "metadata": {},
   "outputs": [],
   "source": [
    "%%capture\n",
    "#DO NOT MODIFY\n",
    "#regular expressions for the cvs files to look for\n",
    "rx0='CellStats__(.*).csv' \n",
    "pyMoM.extractAndTidyCurated(experimentFolderPath,preprocFolder,subset,rx0,gls_dic,analysis_id='moma_batch_hi1')"
   ]
  },
  {
   "cell_type": "code",
   "execution_count": 70,
   "id": "de962b36-51f6-4b2e-bf97-2c7b871fd86d",
   "metadata": {},
   "outputs": [
    {
     "name": "stdout",
     "output_type": "stream",
     "text": [
      "20190515,glucose_glycerol_switch,0,440,glucose,3,/scicore/home/nimwegen/rocasu25/MM_Data/Dany/20190515/curated_data/hi1_ch_curated,hi1,ch,100\n",
      "20190515,glucose_glycerol_switch,0,440,glucose,3,/scicore/home/nimwegen/rocasu25/MM_Data/Dany/20190515/curated_data/med1_ch_curated,med1,ch,100\n",
      "20190515,glucose_glycerol_switch,0,440,glucose,3,/scicore/home/nimwegen/rocasu25/MM_Data/Dany/20190515/curated_data/med2_ch_curated,med2,ch,100\n",
      "20190515,glucose_glycerol_switch,0,440,glucose,3,/scicore/home/nimwegen/rocasu25/MM_Data/Dany/20190515/curated_data/rpmB_ch_curated,rpmB,ch,100\n",
      "20190515,glucose_glycerol_switch,440,Inf,glycerol,6,/scicore/home/nimwegen/rocasu25/MM_Data/Dany/20190515/curated_data/hi1_ch_curated,hi1,ch,100\n",
      "20190515,glucose_glycerol_switch,440,Inf,glycerol,6,/scicore/home/nimwegen/rocasu25/MM_Data/Dany/20190515/curated_data/med1_ch_curated,med1,ch,100\n",
      "20190515,glucose_glycerol_switch,440,Inf,glycerol,6,/scicore/home/nimwegen/rocasu25/MM_Data/Dany/20190515/curated_data/med2_ch_curated,med2,ch,100\n",
      "20190515,glucose_glycerol_switch,440,Inf,glycerol,6,/scicore/home/nimwegen/rocasu25/MM_Data/Dany/20190515/curated_data/rpmB_ch_curated,rpmB,ch,100\n"
     ]
    }
   ],
   "source": [
    "#Generate entries for R analysis\n",
    "generate_import_script_input(experimentFolderPath,subset,experiment_summary_table,experimental_details)"
   ]
  },
  {
   "cell_type": "markdown",
   "id": "56008f8a-c8a8-45b0-9010-7639a45580e6",
   "metadata": {
    "tags": []
   },
   "source": [
    "## Part of the data that were previously analyzed NOT using the batch mode, growth lanes opening to the right"
   ]
  },
  {
   "cell_type": "code",
   "execution_count": 51,
   "id": "818e04da-5a82-4aeb-a1b1-c1d9aa7c8be0",
   "metadata": {},
   "outputs": [],
   "source": [
    "#Experimental details\n",
    "\n",
    "experimental_details=[{\n",
    "    \"date\":\"20190515\",\n",
    "    \"description\":\"glucose_glycerol_switch\",\n",
    "    \"f_start\":\"0\",\n",
    "    \"f_end\":\"440\",\n",
    "    \"condition\":\"glucose\",\n",
    "    \"t_interval\":\"3\",\n",
    "    \"cell_detection_offset\":\"100\"} #min\n",
    "    ,\n",
    "{\n",
    "    \"date\":\"20190515\",\n",
    "    \"description\":\"glucose_glycerol_switch\",\n",
    "    \"f_start\":\"440\",\n",
    "    \"f_end\":\"Inf\",\n",
    "    \"condition\":\"glycerol\",\n",
    "    \"t_interval\":\"6\",\n",
    "    \"cell_detection_offset\":\"100\"} #min\n",
    "]\n",
    "\n",
    "#Preprocessing infos\n",
    "experimentFolderPath='/scicore/home/nimwegen/rocasu25/MM_Data/Dany/20190515'\n",
    "##Preprocessing folder\n",
    "preprocFolder=\"20190515_preproc_right_bis\"\n",
    "##List of positions\n",
    "#pos_var=\"POS_NAMES=(Pos0)\"\n",
    "pos_var=\"POS_NAMES=(Pos0 Pos1 Pos2 Pos3 Pos4 Pos5 Pos6 Pos9 Pos10 Pos12 Pos13 Pos14 Pos15 Pos16)\"\n",
    "##Template to use for the preprocessing\n",
    "template=\"TEMPLATE_vng20_right\"\n",
    "##Rotation (to determine on imageJ)\n",
    "ROTATION=\"-0.5\"\n",
    "##TMAX, if processing is not to look at all frames\n",
    "TMAX=\"881\"\n",
    "##Normalization offset\n",
    "NORMALIZATION_REGION_OFFSET=\"120\"\n",
    "##Raw path to the data\n",
    "RAW_PATH=\"/scicore/home/nimwegen/rocasu25/MM_Data/Dany/20190515/20190515_hi1_med1_med2_rpmB_glu_gly_7/20190515_hi1_med1_med2_rpmB_glu_gly_7_MMStack.ome.tif\"\n",
    "##Raw path to flat field data\n",
    "FLATFIELD_PATH=\"/scicore/home/nimwegen/rocasu25/MM_Data/Dany/20190515/20190515_flatfieldGFP/20190515_flatfieldGFP_2_MMStack.ome.tif\""
   ]
  },
  {
   "cell_type": "code",
   "execution_count": null,
   "id": "5abc7e75-1e04-4e70-8d90-f48048e9f560",
   "metadata": {},
   "outputs": [
    {
     "name": "stdin",
     "output_type": "stream",
     "text": [
      "Do you really want to submit preprocessing tasks to the scheduler? If the preprocessing folder target path has not been changed, it might result in overwritting your data. Enter 'Yes', to confirm. no\n"
     ]
    },
    {
     "name": "stdout",
     "output_type": "stream",
     "text": [
      "Aborting scheduler preprocessing submission\n"
     ]
    }
   ],
   "source": [
    "import subprocess\n",
    "subprocess.run([\"./submit_slurm.sh\", PREPROC_DIR_TPL, RAW_PATH, FLATFIELD_PATH, POS_NAMES, GL_DETECTION_TEMPLATE_PATH, ROTATION, TMAX, IMAGE_REGISTRATION_METHOD, FRAMES_TO_IGNORE, NORMALIZATION_CONFIG_PATH, NORMALIZATION_REGION_OFFSET])"
   ]
  },
  {
   "cell_type": "markdown",
   "id": "13328d8b-c661-44a4-ab77-cecde1cb301d",
   "metadata": {},
   "source": [
    "### Curation hi1"
   ]
  },
  {
   "cell_type": "code",
   "execution_count": 53,
   "id": "a843d333-0025-4028-97d2-ac1b770346d7",
   "metadata": {},
   "outputs": [
    {
     "data": {
      "text/html": [
       "<div>\n",
       "<style scoped>\n",
       "    .dataframe tbody tr th:only-of-type {\n",
       "        vertical-align: middle;\n",
       "    }\n",
       "\n",
       "    .dataframe tbody tr th {\n",
       "        vertical-align: top;\n",
       "    }\n",
       "\n",
       "    .dataframe thead th {\n",
       "        text-align: right;\n",
       "    }\n",
       "</style>\n",
       "<table border=\"1\" class=\"dataframe\">\n",
       "  <thead>\n",
       "    <tr style=\"text-align: right;\">\n",
       "      <th></th>\n",
       "      <th>date</th>\n",
       "      <th>ch</th>\n",
       "      <th>pos</th>\n",
       "      <th>width</th>\n",
       "      <th>inoculated_gl</th>\n",
       "      <th>promoter</th>\n",
       "      <th>vector</th>\n",
       "    </tr>\n",
       "  </thead>\n",
       "  <tbody>\n",
       "    <tr>\n",
       "      <th>0</th>\n",
       "      <td>20190515</td>\n",
       "      <td>7</td>\n",
       "      <td>0</td>\n",
       "      <td>0.8</td>\n",
       "      <td>full</td>\n",
       "      <td>hi1</td>\n",
       "      <td>ch</td>\n",
       "    </tr>\n",
       "    <tr>\n",
       "      <th>1</th>\n",
       "      <td>20190515</td>\n",
       "      <td>7</td>\n",
       "      <td>1</td>\n",
       "      <td>0.8</td>\n",
       "      <td>full</td>\n",
       "      <td>hi1</td>\n",
       "      <td>ch</td>\n",
       "    </tr>\n",
       "    <tr>\n",
       "      <th>2</th>\n",
       "      <td>20190515</td>\n",
       "      <td>7</td>\n",
       "      <td>2</td>\n",
       "      <td>0.8</td>\n",
       "      <td>full</td>\n",
       "      <td>hi1</td>\n",
       "      <td>ch</td>\n",
       "    </tr>\n",
       "    <tr>\n",
       "      <th>3</th>\n",
       "      <td>20190515</td>\n",
       "      <td>7</td>\n",
       "      <td>3</td>\n",
       "      <td>0.8</td>\n",
       "      <td>full</td>\n",
       "      <td>hi1</td>\n",
       "      <td>ch</td>\n",
       "    </tr>\n",
       "    <tr>\n",
       "      <th>4</th>\n",
       "      <td>20190515</td>\n",
       "      <td>7</td>\n",
       "      <td>4</td>\n",
       "      <td>0.8</td>\n",
       "      <td>full</td>\n",
       "      <td>hi1</td>\n",
       "      <td>ch</td>\n",
       "    </tr>\n",
       "    <tr>\n",
       "      <th>5</th>\n",
       "      <td>20190515</td>\n",
       "      <td>7</td>\n",
       "      <td>5</td>\n",
       "      <td>0.8</td>\n",
       "      <td>full</td>\n",
       "      <td>hi1</td>\n",
       "      <td>ch</td>\n",
       "    </tr>\n",
       "    <tr>\n",
       "      <th>6</th>\n",
       "      <td>20190515</td>\n",
       "      <td>5</td>\n",
       "      <td>6</td>\n",
       "      <td>0.8</td>\n",
       "      <td>7</td>\n",
       "      <td>med1</td>\n",
       "      <td>ch</td>\n",
       "    </tr>\n",
       "    <tr>\n",
       "      <th>7</th>\n",
       "      <td>20190515</td>\n",
       "      <td>5</td>\n",
       "      <td>9</td>\n",
       "      <td>0.8</td>\n",
       "      <td>7</td>\n",
       "      <td>med1</td>\n",
       "      <td>ch</td>\n",
       "    </tr>\n",
       "    <tr>\n",
       "      <th>8</th>\n",
       "      <td>20190515</td>\n",
       "      <td>5</td>\n",
       "      <td>10</td>\n",
       "      <td>0.8</td>\n",
       "      <td>8</td>\n",
       "      <td>med1</td>\n",
       "      <td>ch</td>\n",
       "    </tr>\n",
       "    <tr>\n",
       "      <th>9</th>\n",
       "      <td>20190515</td>\n",
       "      <td>5</td>\n",
       "      <td>12</td>\n",
       "      <td>0.8</td>\n",
       "      <td>8</td>\n",
       "      <td>med1</td>\n",
       "      <td>ch</td>\n",
       "    </tr>\n",
       "    <tr>\n",
       "      <th>10</th>\n",
       "      <td>20190515</td>\n",
       "      <td>5</td>\n",
       "      <td>13</td>\n",
       "      <td>0.8</td>\n",
       "      <td>7</td>\n",
       "      <td>med1</td>\n",
       "      <td>ch</td>\n",
       "    </tr>\n",
       "    <tr>\n",
       "      <th>11</th>\n",
       "      <td>20190515</td>\n",
       "      <td>5</td>\n",
       "      <td>14</td>\n",
       "      <td>0.8</td>\n",
       "      <td>9</td>\n",
       "      <td>med1</td>\n",
       "      <td>ch</td>\n",
       "    </tr>\n",
       "    <tr>\n",
       "      <th>12</th>\n",
       "      <td>20190515</td>\n",
       "      <td>5</td>\n",
       "      <td>15</td>\n",
       "      <td>0.8</td>\n",
       "      <td>13</td>\n",
       "      <td>med1</td>\n",
       "      <td>ch</td>\n",
       "    </tr>\n",
       "    <tr>\n",
       "      <th>13</th>\n",
       "      <td>20190515</td>\n",
       "      <td>5</td>\n",
       "      <td>16</td>\n",
       "      <td>0.8</td>\n",
       "      <td>9</td>\n",
       "      <td>med1</td>\n",
       "      <td>ch</td>\n",
       "    </tr>\n",
       "    <tr>\n",
       "      <th>14</th>\n",
       "      <td>20190515</td>\n",
       "      <td>4</td>\n",
       "      <td>17</td>\n",
       "      <td>0.8</td>\n",
       "      <td>13</td>\n",
       "      <td>med2</td>\n",
       "      <td>ch</td>\n",
       "    </tr>\n",
       "    <tr>\n",
       "      <th>15</th>\n",
       "      <td>20190515</td>\n",
       "      <td>4</td>\n",
       "      <td>18</td>\n",
       "      <td>0.8</td>\n",
       "      <td>10</td>\n",
       "      <td>med2</td>\n",
       "      <td>ch</td>\n",
       "    </tr>\n",
       "    <tr>\n",
       "      <th>16</th>\n",
       "      <td>20190515</td>\n",
       "      <td>4</td>\n",
       "      <td>19</td>\n",
       "      <td>0.8</td>\n",
       "      <td>15</td>\n",
       "      <td>med2</td>\n",
       "      <td>ch</td>\n",
       "    </tr>\n",
       "    <tr>\n",
       "      <th>17</th>\n",
       "      <td>20190515</td>\n",
       "      <td>4</td>\n",
       "      <td>20</td>\n",
       "      <td>0.8</td>\n",
       "      <td>13</td>\n",
       "      <td>med2</td>\n",
       "      <td>ch</td>\n",
       "    </tr>\n",
       "    <tr>\n",
       "      <th>18</th>\n",
       "      <td>20190515</td>\n",
       "      <td>4</td>\n",
       "      <td>21</td>\n",
       "      <td>0.8</td>\n",
       "      <td>12</td>\n",
       "      <td>med2</td>\n",
       "      <td>ch</td>\n",
       "    </tr>\n",
       "    <tr>\n",
       "      <th>19</th>\n",
       "      <td>20190515</td>\n",
       "      <td>4</td>\n",
       "      <td>22</td>\n",
       "      <td>0.8</td>\n",
       "      <td>13</td>\n",
       "      <td>med2</td>\n",
       "      <td>ch</td>\n",
       "    </tr>\n",
       "    <tr>\n",
       "      <th>20</th>\n",
       "      <td>20190515</td>\n",
       "      <td>2</td>\n",
       "      <td>23</td>\n",
       "      <td>0.8</td>\n",
       "      <td>full</td>\n",
       "      <td>rpmB</td>\n",
       "      <td>ch</td>\n",
       "    </tr>\n",
       "    <tr>\n",
       "      <th>21</th>\n",
       "      <td>20190515</td>\n",
       "      <td>2</td>\n",
       "      <td>24</td>\n",
       "      <td>0.8</td>\n",
       "      <td>full</td>\n",
       "      <td>rpmB</td>\n",
       "      <td>ch</td>\n",
       "    </tr>\n",
       "    <tr>\n",
       "      <th>22</th>\n",
       "      <td>20190515</td>\n",
       "      <td>2</td>\n",
       "      <td>25</td>\n",
       "      <td>0.8</td>\n",
       "      <td>full</td>\n",
       "      <td>rpmB</td>\n",
       "      <td>ch</td>\n",
       "    </tr>\n",
       "    <tr>\n",
       "      <th>23</th>\n",
       "      <td>20190515</td>\n",
       "      <td>2</td>\n",
       "      <td>26</td>\n",
       "      <td>0.8</td>\n",
       "      <td>full</td>\n",
       "      <td>rpmB</td>\n",
       "      <td>ch</td>\n",
       "    </tr>\n",
       "    <tr>\n",
       "      <th>24</th>\n",
       "      <td>20190515</td>\n",
       "      <td>2</td>\n",
       "      <td>27</td>\n",
       "      <td>0.8</td>\n",
       "      <td>full</td>\n",
       "      <td>rpmB</td>\n",
       "      <td>ch</td>\n",
       "    </tr>\n",
       "    <tr>\n",
       "      <th>25</th>\n",
       "      <td>20190515</td>\n",
       "      <td>2</td>\n",
       "      <td>28</td>\n",
       "      <td>0.8</td>\n",
       "      <td>full</td>\n",
       "      <td>rpmB</td>\n",
       "      <td>ch</td>\n",
       "    </tr>\n",
       "  </tbody>\n",
       "</table>\n",
       "</div>"
      ],
      "text/plain": [
       "        date  ch  pos  width inoculated_gl promoter vector\n",
       "0   20190515   7    0    0.8          full      hi1     ch\n",
       "1   20190515   7    1    0.8          full      hi1     ch\n",
       "2   20190515   7    2    0.8          full      hi1     ch\n",
       "3   20190515   7    3    0.8          full      hi1     ch\n",
       "4   20190515   7    4    0.8          full      hi1     ch\n",
       "5   20190515   7    5    0.8          full      hi1     ch\n",
       "6   20190515   5    6    0.8             7     med1     ch\n",
       "7   20190515   5    9    0.8             7     med1     ch\n",
       "8   20190515   5   10    0.8             8     med1     ch\n",
       "9   20190515   5   12    0.8             8     med1     ch\n",
       "10  20190515   5   13    0.8             7     med1     ch\n",
       "11  20190515   5   14    0.8             9     med1     ch\n",
       "12  20190515   5   15    0.8            13     med1     ch\n",
       "13  20190515   5   16    0.8             9     med1     ch\n",
       "14  20190515   4   17    0.8            13     med2     ch\n",
       "15  20190515   4   18    0.8            10     med2     ch\n",
       "16  20190515   4   19    0.8            15     med2     ch\n",
       "17  20190515   4   20    0.8            13     med2     ch\n",
       "18  20190515   4   21    0.8            12     med2     ch\n",
       "19  20190515   4   22    0.8            13     med2     ch\n",
       "20  20190515   2   23    0.8          full     rpmB     ch\n",
       "21  20190515   2   24    0.8          full     rpmB     ch\n",
       "22  20190515   2   25    0.8          full     rpmB     ch\n",
       "23  20190515   2   26    0.8          full     rpmB     ch\n",
       "24  20190515   2   27    0.8          full     rpmB     ch\n",
       "25  20190515   2   28    0.8          full     rpmB     ch"
      ]
     },
     "execution_count": 53,
     "metadata": {},
     "output_type": "execute_result"
    }
   ],
   "source": [
    "experiment_summary_table=print_curated_data_summary(experimental_details,experimentFolderPath)\n",
    "experiment_summary_table"
   ]
  },
  {
   "cell_type": "code",
   "execution_count": 54,
   "id": "935a2002-215d-45f4-81d3-b322a4bcc0e0",
   "metadata": {},
   "outputs": [
    {
     "name": "stdout",
     "output_type": "stream",
     "text": [
      "       date  ch  pos  width inoculated_gl promoter vector\n",
      "3  20190515   7    3    0.8          full      hi1     ch\n",
      "4  20190515   7    4    0.8          full      hi1     ch\n",
      "5  20190515   7    5    0.8          full      hi1     ch\n"
     ]
    }
   ],
   "source": [
    "subset=experiment_summary_table[experiment_summary_table[\"pos\"].isin([3,4,5])]\n",
    "print(subset)"
   ]
  },
  {
   "cell_type": "markdown",
   "id": "1e905dee-9e33-4db7-8fbb-536e1d2ce353",
   "metadata": {},
   "source": [
    "#### Tidying curated csv files for R analysis\n",
    "The following will be tidied"
   ]
  },
  {
   "cell_type": "code",
   "execution_count": 55,
   "id": "3c7930e0-c6d9-4b8e-bcd0-aae3e87cb262",
   "metadata": {},
   "outputs": [],
   "source": [
    "poss=list(set(list(subset['pos'])))\n",
    "gls_dic={p:list(range(0,70)) for p in poss}"
   ]
  },
  {
   "cell_type": "code",
   "execution_count": 56,
   "id": "cf96dd3d-650d-40e6-92a2-34ced4a75808",
   "metadata": {},
   "outputs": [],
   "source": [
    "%%capture\n",
    "#DO NOT MODIFY\n",
    "rx0='ExportedCellStats__(.*).csv' #regular expression for the cvs files to look for\n",
    "pyMoM.extractAndTidyCurated(experimentFolderPath,preprocFolder,subset,rx0,gls_dic)"
   ]
  },
  {
   "cell_type": "markdown",
   "id": "534aecbf-a2ed-4008-8950-abe455324449",
   "metadata": {
    "tags": []
   },
   "source": [
    "# 20221111, glucose 0.2% + amino-acids (882 frames, step=1.5min, total 22h), (hi3, med3, rpmB, rplN)\n",
    "## Experimental details and data summary"
   ]
  },
  {
   "cell_type": "code",
   "execution_count": 65,
   "id": "130ad1ce-4866-48eb-9ec6-203f8510768d",
   "metadata": {},
   "outputs": [],
   "source": [
    "#Experimental details\n",
    "\n",
    "experimental_details=[{\n",
    "    \"date\":\"20221111\",\n",
    "    \"description\":\"glucoseaa\",\n",
    "    \"f_start\":\"0\",\n",
    "    \"f_end\":\"880\",\n",
    "    \"condition\":\"glucoseaa\",\n",
    "    \"t_interval\":\"1.5\",\n",
    "    \"cell_detection_offset\":\"120\"}] #min\n",
    "\n",
    "\n",
    "#Preprocessing infos\n",
    "experimentFolderPath='/scicore/home/nimwegen/rocasu25/MM_Data/Dany/20221111'\n",
    "##Preprocessing folder\n",
    "preprocFolder=\"20221111_preproc\"\n",
    "##List of positions\n",
    "#pos_var=\"POS_NAMES=(Pos0)\"\n",
    "pos_var=\"POS_NAMES=(Pos0 Pos1 Pos2 Pos3 Pos4 Pos5 Pos6 Pos7 Pos8 Pos9 Pos10 Pos11 Pos12 Pos13 Pos14 Pos15 Pos16 Pos17 Pos18 Pos19)\"\n",
    "##Template to use for the preprocessing\n",
    "template=\"TEMPLATE_vng87\"\n",
    "##Rotation (to determine on imageJ)\n",
    "ROTATION=\"89.8\"\n",
    "##TMAX, if processing is not to look at all frames\n",
    "TMAX=\"880\"\n",
    "##Normalization offset\n",
    "NORMALIZATION_REGION_OFFSET=\"120\"\n",
    "##Raw path to the data\n",
    "RAW_PATH=\"/scicore/home/nimwegen/rocasu25/MM_Data/Dany/20221111/20221111_gluaa/20221110_gfpflatfield_2_MMStack.ome.tif\"\n",
    "##Raw path to flat field data\n",
    "FLATFIELD_PATH=\"/scicore/home/nimwegen/rocasu25/MM_Data/Dany/20221108/20221110_gfpflatfield/20221110_gfpflatfield_2/20221110_gfpflatfield_2_MMStack.ome.tif\""
   ]
  },
  {
   "cell_type": "code",
   "execution_count": 51,
   "id": "05c28457-ea86-4f41-88b3-ab73edf37103",
   "metadata": {},
   "outputs": [
    {
     "name": "stdin",
     "output_type": "stream",
     "text": [
      "Do you really want to submit preprocessing tasks to the scheduler? If the preprocessing folder target path has not been changed, it might result in overwritting your data. Enter 'Yes', to confirm. no\n"
     ]
    },
    {
     "name": "stdout",
     "output_type": "stream",
     "text": [
      "Aborting scheduler preprocessing submission\n"
     ]
    }
   ],
   "source": [
    "submit_preprocessing(experimentFolderPath,preprocFolder,template,NORMALIZATION_REGION_OFFSET)"
   ]
  },
  {
   "cell_type": "markdown",
   "id": "71f26a2c-1481-444c-944e-841a32c24b56",
   "metadata": {},
   "source": [
    "## Moma Batch"
   ]
  },
  {
   "cell_type": "code",
   "execution_count": 66,
   "id": "bafbdf5f-46f1-4fb7-84ed-fb235a717854",
   "metadata": {},
   "outputs": [
    {
     "data": {
      "text/html": [
       "<div>\n",
       "<style scoped>\n",
       "    .dataframe tbody tr th:only-of-type {\n",
       "        vertical-align: middle;\n",
       "    }\n",
       "\n",
       "    .dataframe tbody tr th {\n",
       "        vertical-align: top;\n",
       "    }\n",
       "\n",
       "    .dataframe thead th {\n",
       "        text-align: right;\n",
       "    }\n",
       "</style>\n",
       "<table border=\"1\" class=\"dataframe\">\n",
       "  <thead>\n",
       "    <tr style=\"text-align: right;\">\n",
       "      <th></th>\n",
       "      <th>date</th>\n",
       "      <th>ch</th>\n",
       "      <th>pos</th>\n",
       "      <th>width</th>\n",
       "      <th>inoculated_gl</th>\n",
       "      <th>promoter</th>\n",
       "      <th>vector</th>\n",
       "    </tr>\n",
       "  </thead>\n",
       "  <tbody>\n",
       "    <tr>\n",
       "      <th>0</th>\n",
       "      <td>20221111</td>\n",
       "      <td>6</td>\n",
       "      <td>0</td>\n",
       "      <td>1.25</td>\n",
       "      <td>15</td>\n",
       "      <td>hi3</td>\n",
       "      <td>ch</td>\n",
       "    </tr>\n",
       "    <tr>\n",
       "      <th>1</th>\n",
       "      <td>20221111</td>\n",
       "      <td>6</td>\n",
       "      <td>1</td>\n",
       "      <td>1.25</td>\n",
       "      <td>13</td>\n",
       "      <td>hi3</td>\n",
       "      <td>ch</td>\n",
       "    </tr>\n",
       "    <tr>\n",
       "      <th>2</th>\n",
       "      <td>20221111</td>\n",
       "      <td>6</td>\n",
       "      <td>2</td>\n",
       "      <td>1.25</td>\n",
       "      <td>16</td>\n",
       "      <td>hi3</td>\n",
       "      <td>ch</td>\n",
       "    </tr>\n",
       "    <tr>\n",
       "      <th>3</th>\n",
       "      <td>20221111</td>\n",
       "      <td>6</td>\n",
       "      <td>3</td>\n",
       "      <td>1.25</td>\n",
       "      <td>22</td>\n",
       "      <td>hi3</td>\n",
       "      <td>ch</td>\n",
       "    </tr>\n",
       "    <tr>\n",
       "      <th>4</th>\n",
       "      <td>20221111</td>\n",
       "      <td>5</td>\n",
       "      <td>4</td>\n",
       "      <td>1.25</td>\n",
       "      <td>9</td>\n",
       "      <td>med3</td>\n",
       "      <td>ch</td>\n",
       "    </tr>\n",
       "    <tr>\n",
       "      <th>5</th>\n",
       "      <td>20221111</td>\n",
       "      <td>5</td>\n",
       "      <td>5</td>\n",
       "      <td>1.25</td>\n",
       "      <td>8</td>\n",
       "      <td>med3</td>\n",
       "      <td>ch</td>\n",
       "    </tr>\n",
       "    <tr>\n",
       "      <th>6</th>\n",
       "      <td>20221111</td>\n",
       "      <td>5</td>\n",
       "      <td>6</td>\n",
       "      <td>1.25</td>\n",
       "      <td>12</td>\n",
       "      <td>med3</td>\n",
       "      <td>ch</td>\n",
       "    </tr>\n",
       "    <tr>\n",
       "      <th>7</th>\n",
       "      <td>20221111</td>\n",
       "      <td>5</td>\n",
       "      <td>7</td>\n",
       "      <td>1.25</td>\n",
       "      <td>9</td>\n",
       "      <td>med3</td>\n",
       "      <td>ch</td>\n",
       "    </tr>\n",
       "    <tr>\n",
       "      <th>8</th>\n",
       "      <td>20221111</td>\n",
       "      <td>5</td>\n",
       "      <td>8</td>\n",
       "      <td>1.25</td>\n",
       "      <td>10</td>\n",
       "      <td>med3</td>\n",
       "      <td>ch</td>\n",
       "    </tr>\n",
       "    <tr>\n",
       "      <th>9</th>\n",
       "      <td>20221111</td>\n",
       "      <td>2</td>\n",
       "      <td>9</td>\n",
       "      <td>1.25</td>\n",
       "      <td>3</td>\n",
       "      <td>rpmB</td>\n",
       "      <td>ch</td>\n",
       "    </tr>\n",
       "    <tr>\n",
       "      <th>10</th>\n",
       "      <td>20221111</td>\n",
       "      <td>2</td>\n",
       "      <td>10</td>\n",
       "      <td>1.25</td>\n",
       "      <td>5</td>\n",
       "      <td>rpmB</td>\n",
       "      <td>ch</td>\n",
       "    </tr>\n",
       "    <tr>\n",
       "      <th>11</th>\n",
       "      <td>20221111</td>\n",
       "      <td>2</td>\n",
       "      <td>11</td>\n",
       "      <td>1.25</td>\n",
       "      <td>4</td>\n",
       "      <td>rpmB</td>\n",
       "      <td>ch</td>\n",
       "    </tr>\n",
       "    <tr>\n",
       "      <th>12</th>\n",
       "      <td>20221111</td>\n",
       "      <td>2</td>\n",
       "      <td>12</td>\n",
       "      <td>1.25</td>\n",
       "      <td>8</td>\n",
       "      <td>rpmB</td>\n",
       "      <td>ch</td>\n",
       "    </tr>\n",
       "    <tr>\n",
       "      <th>13</th>\n",
       "      <td>20221111</td>\n",
       "      <td>2</td>\n",
       "      <td>13</td>\n",
       "      <td>1.25</td>\n",
       "      <td>6</td>\n",
       "      <td>rpmB</td>\n",
       "      <td>ch</td>\n",
       "    </tr>\n",
       "    <tr>\n",
       "      <th>14</th>\n",
       "      <td>20221111</td>\n",
       "      <td>1</td>\n",
       "      <td>14</td>\n",
       "      <td>1.25</td>\n",
       "      <td>9</td>\n",
       "      <td>rplN</td>\n",
       "      <td>ch</td>\n",
       "    </tr>\n",
       "    <tr>\n",
       "      <th>15</th>\n",
       "      <td>20221111</td>\n",
       "      <td>1</td>\n",
       "      <td>15</td>\n",
       "      <td>1.25</td>\n",
       "      <td>5</td>\n",
       "      <td>rplN</td>\n",
       "      <td>ch</td>\n",
       "    </tr>\n",
       "    <tr>\n",
       "      <th>16</th>\n",
       "      <td>20221111</td>\n",
       "      <td>1</td>\n",
       "      <td>16</td>\n",
       "      <td>1.25</td>\n",
       "      <td>12</td>\n",
       "      <td>rplN</td>\n",
       "      <td>ch</td>\n",
       "    </tr>\n",
       "    <tr>\n",
       "      <th>17</th>\n",
       "      <td>20221111</td>\n",
       "      <td>1</td>\n",
       "      <td>17</td>\n",
       "      <td>1.25</td>\n",
       "      <td>18</td>\n",
       "      <td>rplN</td>\n",
       "      <td>ch</td>\n",
       "    </tr>\n",
       "    <tr>\n",
       "      <th>18</th>\n",
       "      <td>20221111</td>\n",
       "      <td>1</td>\n",
       "      <td>18</td>\n",
       "      <td>1.25</td>\n",
       "      <td>9</td>\n",
       "      <td>rplN</td>\n",
       "      <td>ch</td>\n",
       "    </tr>\n",
       "  </tbody>\n",
       "</table>\n",
       "</div>"
      ],
      "text/plain": [
       "        date  ch  pos  width  inoculated_gl promoter vector\n",
       "0   20221111   6    0   1.25             15      hi3     ch\n",
       "1   20221111   6    1   1.25             13      hi3     ch\n",
       "2   20221111   6    2   1.25             16      hi3     ch\n",
       "3   20221111   6    3   1.25             22      hi3     ch\n",
       "4   20221111   5    4   1.25              9     med3     ch\n",
       "5   20221111   5    5   1.25              8     med3     ch\n",
       "6   20221111   5    6   1.25             12     med3     ch\n",
       "7   20221111   5    7   1.25              9     med3     ch\n",
       "8   20221111   5    8   1.25             10     med3     ch\n",
       "9   20221111   2    9   1.25              3     rpmB     ch\n",
       "10  20221111   2   10   1.25              5     rpmB     ch\n",
       "11  20221111   2   11   1.25              4     rpmB     ch\n",
       "12  20221111   2   12   1.25              8     rpmB     ch\n",
       "13  20221111   2   13   1.25              6     rpmB     ch\n",
       "14  20221111   1   14   1.25              9     rplN     ch\n",
       "15  20221111   1   15   1.25              5     rplN     ch\n",
       "16  20221111   1   16   1.25             12     rplN     ch\n",
       "17  20221111   1   17   1.25             18     rplN     ch\n",
       "18  20221111   1   18   1.25              9     rplN     ch"
      ]
     },
     "execution_count": 66,
     "metadata": {},
     "output_type": "execute_result"
    }
   ],
   "source": [
    "#Generate a YAML file from experiment_summary_table\n",
    "#Select rows of interest, that will be curated, from the curated data summary table\n",
    "experiment_summary_table=print_curated_data_summary(experimental_details,experimentFolderPath)\n",
    "experiment_summary_table"
   ]
  },
  {
   "cell_type": "markdown",
   "id": "d5fa6210-cc18-4ac3-ad37-d0e95e6ea831",
   "metadata": {},
   "source": [
    "### Hi3 curation"
   ]
  },
  {
   "cell_type": "code",
   "execution_count": 67,
   "id": "8fc09272-7b91-4bc3-ab24-ca3a3138c2f3",
   "metadata": {},
   "outputs": [
    {
     "name": "stdout",
     "output_type": "stream",
     "text": [
      "       date  ch  pos  width  inoculated_gl promoter vector\n",
      "1  20221111   6    1   1.25             13      hi3     ch\n",
      "2  20221111   6    2   1.25             16      hi3     ch\n"
     ]
    }
   ],
   "source": [
    "subset=experiment_summary_table[experiment_summary_table[\"pos\"].isin([1,2])]\n",
    "print(subset)"
   ]
  },
  {
   "cell_type": "code",
   "execution_count": 116,
   "id": "fd37916f-9377-485e-9fd8-5f8305f148c4",
   "metadata": {},
   "outputs": [
    {
     "name": "stdout",
     "output_type": "stream",
     "text": [
      "Batch folder already exist.\n",
      "mm.properties already exists, copying cancelled.\n",
      "/scicore/home/nimwegen/rocasu25/MM_Data/Dany/20221111/20221111_preproc\n",
      "Batch file does not exist. It is created for the following positions, for all detected growth lanes:\n",
      "Pos1\n",
      "Pos2\n"
     ]
    }
   ],
   "source": [
    "#Batch folder that should be used or created to supervise tracking/curation/export\n",
    "batch_folder=\"batch_hi3\"\n",
    "batch_file=\"moma_batch_hi3.yaml\"\n",
    "curation_id=\"moma_batch_2\"\n",
    "create_moma_batch_directory(experimentFolderPath,batch_folder)\n",
    "create_yaml_file(batch_file,curation_id,experimentFolderPath,preprocFolder,batch_folder,subset)"
   ]
  },
  {
   "cell_type": "code",
   "execution_count": 11,
   "id": "a8f57e70-0061-49c5-8113-21f78a8329fa",
   "metadata": {},
   "outputs": [],
   "source": [
    "%%capture\n",
    "#DO NOT MODIFY\n",
    "#regular expressions for the cvs files to look for\n",
    "subset=experiment_summary_table[experiment_summary_table[\"pos\"].isin([1,2])]\n",
    "print(subset)\n",
    "gls_dic={1:list(np.arange(0,60)),\n",
    "        2:list(np.arange(0,60))}\n",
    "rx0='CellStats__(.*).csv' \n",
    "pyMoM.extractAndTidyCurated(experimentFolderPath,preprocFolder,subset,rx0,gls_dic,analysis_id='moma_batch_2')"
   ]
  },
  {
   "cell_type": "markdown",
   "id": "e0b5144d-d6dd-448c-ad94-276ae1d0d11e",
   "metadata": {},
   "source": [
    "### Med3 curation"
   ]
  },
  {
   "cell_type": "code",
   "execution_count": 32,
   "id": "7872f669-cb71-41ca-bdd5-58727733524f",
   "metadata": {},
   "outputs": [
    {
     "name": "stdout",
     "output_type": "stream",
     "text": [
      "       date  ch  pos  width  inoculated_gl promoter vector\n",
      "6  20221111   5    6   1.25             12     med3     ch\n",
      "7  20221111   5    7   1.25              9     med3     ch\n",
      "8  20221111   5    8   1.25             10     med3     ch\n"
     ]
    }
   ],
   "source": [
    "subset=experiment_summary_table[experiment_summary_table[\"pos\"].isin([6,7,8])]\n",
    "print(subset)"
   ]
  },
  {
   "cell_type": "code",
   "execution_count": 18,
   "id": "986bcfd3-6b08-4201-964e-b7c7ea283b81",
   "metadata": {},
   "outputs": [
    {
     "name": "stdout",
     "output_type": "stream",
     "text": [
      "Making batch directory batch_med3.\n",
      "Copying standard mm.properties file to batch_med3.\n",
      "/scicore/home/nimwegen/rocasu25/MM_Data/Dany/20221111/20221111_preproc\n",
      "Batch file does not exist. It is created for the following positions, for all detected growth lanes:\n",
      "Pos6\n",
      "Pos7\n",
      "Pos8\n"
     ]
    }
   ],
   "source": [
    "#Batch folder that should be used or created to supervise tracking/curation/export\n",
    "batch_folder=\"batch_med3\"\n",
    "batch_file=\"moma_batch_med3.yaml\"\n",
    "curation_id=\"moma_batch_2\"\n",
    "create_moma_batch_directory(experimentFolderPath,batch_folder)\n",
    "create_yaml_file(batch_file,curation_id,experimentFolderPath,preprocFolder,batch_folder,subset)"
   ]
  },
  {
   "cell_type": "code",
   "execution_count": 34,
   "id": "e4455e07-acdc-4d5a-9d98-8ad847516a18",
   "metadata": {},
   "outputs": [],
   "source": [
    "%%capture\n",
    "#DO NOT MODIFY\n",
    "#regular expressions for the cvs files to look for\n",
    "subset=experiment_summary_table[experiment_summary_table[\"pos\"].isin([6,7,8])]\n",
    "print(subset)\n",
    "gls_dic={6:list(np.arange(0,60)),\n",
    "        7:list(np.arange(0,60)),\n",
    "        8:list(np.arange(0,60))}\n",
    "rx0='CellStats__(.*).csv' \n",
    "pyMoM.extractAndTidyCurated(experimentFolderPath,preprocFolder,subset,rx0,gls_dic,analysis_id='moma_batch_2')"
   ]
  },
  {
   "cell_type": "markdown",
   "id": "8976bc97-82e1-4bf2-b762-f15ffdbd1916",
   "metadata": {},
   "source": [
    "### rplN curation"
   ]
  },
  {
   "cell_type": "code",
   "execution_count": 68,
   "id": "43376a02-af42-4b80-af65-380c5aaf12e1",
   "metadata": {},
   "outputs": [
    {
     "name": "stdout",
     "output_type": "stream",
     "text": [
      "        date  ch  pos  width  inoculated_gl promoter vector\n",
      "16  20221111   1   16   1.25             12     rplN     ch\n",
      "17  20221111   1   17   1.25             18     rplN     ch\n"
     ]
    }
   ],
   "source": [
    "subset=experiment_summary_table[experiment_summary_table[\"pos\"].isin([16,17])]\n",
    "print(subset)"
   ]
  },
  {
   "cell_type": "code",
   "execution_count": 22,
   "id": "61c47e46-8f9d-41bf-b64e-5379e3fc21b6",
   "metadata": {},
   "outputs": [
    {
     "name": "stdout",
     "output_type": "stream",
     "text": [
      "Making batch directory batch_rplN.\n",
      "Copying standard mm.properties file to batch_rplN.\n",
      "/scicore/home/nimwegen/rocasu25/MM_Data/Dany/20221111/20221111_preproc\n",
      "Batch file does not exist. It is created for the following positions, for all detected growth lanes:\n",
      "Pos16\n",
      "Pos17\n"
     ]
    }
   ],
   "source": [
    "#Batch folder that should be used or created to supervise tracking/curation/export\n",
    "batch_folder=\"batch_rplN\"\n",
    "batch_file=\"moma_batch_rplN.yaml\"\n",
    "curation_id=\"moma_batch_2\"\n",
    "create_moma_batch_directory(experimentFolderPath,batch_folder)\n",
    "create_yaml_file(batch_file,curation_id,experimentFolderPath,preprocFolder,batch_folder,subset)"
   ]
  },
  {
   "cell_type": "code",
   "execution_count": 19,
   "id": "b852c9c4-21d2-4b22-8d6b-7696c60b5fbe",
   "metadata": {},
   "outputs": [
    {
     "name": "stdout",
     "output_type": "stream",
     "text": [
      "        date  ch  pos  width  inoculated_gl promoter vector\n",
      "14  20221111   1   14   1.25              9     rplN     ch\n",
      "15  20221111   1   15   1.25              5     rplN     ch\n",
      "18  20221111   1   18   1.25              9     rplN     ch\n",
      "Batch folder already exist.\n",
      "mm.properties already exists, copying cancelled.\n",
      "/scicore/home/nimwegen/rocasu25/MM_Data/Dany/20221111/20221111_preproc\n",
      "Batch file does not exist. It is created for the following positions, for all detected growth lanes:\n",
      "Pos14\n",
      "Pos15\n",
      "Pos18\n"
     ]
    }
   ],
   "source": [
    "subset=experiment_summary_table[experiment_summary_table[\"pos\"].isin([14,15,18])]\n",
    "print(subset)\n",
    "#Batch folder that should be used or created to supervise tracking/curation/export\n",
    "batch_folder=\"batch_rplN\"\n",
    "batch_file=\"moma_batch_rplN_pos14_15_18.yaml\"\n",
    "curation_id=\"moma_batch_2\"\n",
    "create_moma_batch_directory(experimentFolderPath,batch_folder)\n",
    "create_yaml_file(batch_file,curation_id,experimentFolderPath,preprocFolder,batch_folder,subset)"
   ]
  },
  {
   "cell_type": "code",
   "execution_count": 69,
   "id": "6954854d-b0ea-4308-9e5f-ea46ab251865",
   "metadata": {},
   "outputs": [],
   "source": [
    "%%capture\n",
    "#DO NOT MODIFY\n",
    "#regular expressions for the cvs files to look for\n",
    "subset=experiment_summary_table[experiment_summary_table[\"pos\"].isin([14,15,16,17,18])]\n",
    "print(subset)\n",
    "gls_dic={14:list(np.arange(0,60)),\n",
    "        15:list(np.arange(0,60)),\n",
    "        16:list(np.arange(0,60)),\n",
    "        18:list(np.arange(0,60)),\n",
    "        17:list(np.arange(0,60))}\n",
    "rx0='CellStats__(.*).csv' \n",
    "pyMoM.extractAndTidyCurated(experimentFolderPath,preprocFolder,subset,rx0,gls_dic,analysis_id='moma_batch_2')"
   ]
  },
  {
   "cell_type": "markdown",
   "id": "6b2a7a87-6c11-4cda-bb9b-5291e3f57dc6",
   "metadata": {},
   "source": [
    "#### Export after curation\n",
    "During curation, note down comments about growth lanes curated."
   ]
  },
  {
   "cell_type": "code",
   "execution_count": 6,
   "id": "1fd575a0-9900-45c6-a838-15a08d330eef",
   "metadata": {},
   "outputs": [
    {
     "name": "stdout",
     "output_type": "stream",
     "text": [
      "Batch YAML file already exist. Aborting\n"
     ]
    }
   ],
   "source": [
    "#Final list of growth lanes that can be exported.\n",
    "gls_dic={0:[5,7,8,11,12,17,19,28,36,40,42,43,48,50,51,53],\n",
    "         1:[2,5,7,8,11,12,13,15,17,18,21,22,23,24,25,26,33,36,40,42,43,44,45,47,48,51,52,54,55,57,58]}\n",
    "\n",
    "write_export_yaml_file(batch_file,experimentFolderPath,preprocFolder,batch_folder,gls_dic)"
   ]
  },
  {
   "cell_type": "markdown",
   "id": "71e52f14-a66f-4542-8e25-89b21cd43a07",
   "metadata": {},
   "source": [
    "#### Tidying curated csv files for R analysis\n",
    "The following will be tidied"
   ]
  },
  {
   "cell_type": "code",
   "execution_count": 8,
   "id": "b59b9532-5542-4629-9ed3-310f21e0df09",
   "metadata": {},
   "outputs": [],
   "source": [
    "%%capture\n",
    "#DO NOT MODIFY\n",
    "#regular expressions for the cvs files to look for\n",
    "subset=experiment_summary_table[experiment_summary_table[\"pos\"].isin([3,4,10,12])]\n",
    "print(subset)\n",
    "gls_dic={3:list(np.arange(0,60)),\n",
    "        4:list(np.arange(0,60)),\n",
    "        10:list(np.arange(0,60)),\n",
    "         12:list(np.arange(0,60))}\n",
    "rx0='CellStats__(.*).csv' \n",
    "pyMoM.extractAndTidyCurated(experimentFolderPath,preprocFolder,subset,rx0,gls_dic,analysis_id='moma_batch_hi1_2')"
   ]
  },
  {
   "cell_type": "markdown",
   "id": "eff01923-1498-49a8-b54c-056f92960eb7",
   "metadata": {},
   "source": [
    "### rpmB curation"
   ]
  },
  {
   "cell_type": "code",
   "execution_count": 24,
   "id": "9c950bba-a5c1-4945-a368-5935dcfb0b9c",
   "metadata": {},
   "outputs": [
    {
     "name": "stdout",
     "output_type": "stream",
     "text": [
      "        date  ch  pos  width  inoculated_gl promoter vector\n",
      "9   20221111   2    9   1.25              3     rpmB     ch\n",
      "10  20221111   2   10   1.25              5     rpmB     ch\n",
      "11  20221111   2   11   1.25              4     rpmB     ch\n",
      "12  20221111   2   12   1.25              8     rpmB     ch\n",
      "13  20221111   2   13   1.25              6     rpmB     ch\n"
     ]
    }
   ],
   "source": [
    "subset=experiment_summary_table[experiment_summary_table[\"pos\"].isin([9,10,11,12,13])]\n",
    "print(subset)"
   ]
  },
  {
   "cell_type": "code",
   "execution_count": 25,
   "id": "c7f458e6-ed99-4f57-bae2-e23a2fdbe9a2",
   "metadata": {},
   "outputs": [
    {
     "name": "stdout",
     "output_type": "stream",
     "text": [
      "Making batch directory batch_rpmB.\n",
      "Copying standard mm.properties file to batch_rpmB.\n",
      "/scicore/home/nimwegen/rocasu25/MM_Data/Dany/20221111/20221111_preproc\n",
      "Batch file does not exist. It is created for the following positions, for all detected growth lanes:\n",
      "Pos9\n",
      "Pos10\n",
      "Pos11\n",
      "Pos12\n",
      "Pos13\n"
     ]
    }
   ],
   "source": [
    "#Batch folder that should be used or created to supervise tracking/curation/export\n",
    "batch_folder=\"batch_rpmB\"\n",
    "batch_file=\"moma_batch_rpmB.yaml\"\n",
    "curation_id=\"moma_batch_2\"\n",
    "create_moma_batch_directory(experimentFolderPath,batch_folder)\n",
    "create_yaml_file(batch_file,curation_id,experimentFolderPath,preprocFolder,batch_folder,subset)"
   ]
  },
  {
   "cell_type": "markdown",
   "id": "07cd9bd7-1b8d-47ca-b45d-575b2f2855e9",
   "metadata": {},
   "source": [
    "#### Export after curation\n",
    "During curation, note down comments about growth lanes curated."
   ]
  },
  {
   "cell_type": "code",
   "execution_count": 6,
   "id": "062b5b5c-445b-4613-827f-5e751aaa3fe4",
   "metadata": {},
   "outputs": [
    {
     "name": "stdout",
     "output_type": "stream",
     "text": [
      "Batch YAML file already exist. Aborting\n"
     ]
    }
   ],
   "source": [
    "#Final list of growth lanes that can be exported.\n",
    "gls_dic={0:[5,7,8,11,12,17,19,28,36,40,42,43,48,50,51,53],\n",
    "         1:[2,5,7,8,11,12,13,15,17,18,21,22,23,24,25,26,33,36,40,42,43,44,45,47,48,51,52,54,55,57,58]}\n",
    "\n",
    "write_export_yaml_file(batch_file,experimentFolderPath,preprocFolder,batch_folder,gls_dic)"
   ]
  },
  {
   "cell_type": "markdown",
   "id": "1438da11-2980-4474-a86b-f89c32456bdd",
   "metadata": {},
   "source": [
    "#### Tidying curated csv files for R analysis\n",
    "The following will be tidied"
   ]
  },
  {
   "cell_type": "code",
   "execution_count": 8,
   "id": "9bcf5b31-1c04-48f5-a402-ecad2b53cf4e",
   "metadata": {},
   "outputs": [],
   "source": [
    "%%capture\n",
    "#DO NOT MODIFY\n",
    "#regular expressions for the cvs files to look for\n",
    "subset=experiment_summary_table[experiment_summary_table[\"pos\"].isin([3,4,10,12])]\n",
    "print(subset)\n",
    "gls_dic={3:list(np.arange(0,60)),\n",
    "        4:list(np.arange(0,60)),\n",
    "        10:list(np.arange(0,60)),\n",
    "         12:list(np.arange(0,60))}\n",
    "rx0='CellStats__(.*).csv' \n",
    "pyMoM.extractAndTidyCurated(experimentFolderPath,preprocFolder,subset,rx0,gls_dic,analysis_id='moma_batch_hi1_2')"
   ]
  },
  {
   "cell_type": "code",
   "execution_count": 28,
   "id": "9ce2fed0-60c3-46d0-8769-91695792b1f8",
   "metadata": {},
   "outputs": [
    {
     "data": {
      "text/plain": [
       "'moma_batch_hi1.yaml'"
      ]
     },
     "execution_count": 28,
     "metadata": {},
     "output_type": "execute_result"
    }
   ],
   "source": [
    "batch_file"
   ]
  },
  {
   "cell_type": "code",
   "execution_count": null,
   "id": "87342008-f71b-4010-9ec3-010c391bfcb1",
   "metadata": {},
   "outputs": [],
   "source": [
    "#clean BKP data"
   ]
  },
  {
   "cell_type": "code",
   "execution_count": 30,
   "id": "f176e6e4-6757-43d0-b992-a1aa96c1dca9",
   "metadata": {},
   "outputs": [
    {
     "name": "stdout",
     "output_type": "stream",
     "text": [
      "20221121,acetate,0,334,acetate005,12,/scicore/home/nimwegen/rocasu25/MM_Data/Dany/20221121/curated_data/hi1_ch_curated,hi1,ch,90\n",
      "20221121,acetate,0,334,acetate005,12,/scicore/home/nimwegen/rocasu25/MM_Data/Dany/20221121/curated_data/hi3_ch_curated,hi3,ch,90\n",
      "20221121,acetate,0,334,acetate005,12,/scicore/home/nimwegen/rocasu25/MM_Data/Dany/20221121/curated_data/rplN_ch_curated,rplN,ch,90\n",
      "20221121,acetate,0,334,acetate005,12,/scicore/home/nimwegen/rocasu25/MM_Data/Dany/20221121/curated_data/rpmB_ch_curated,rpmB,ch,90\n",
      "20221121,acetate,0,334,acetate005,12,/scicore/home/nimwegen/rocasu25/MM_Data/Dany/20221121/curated_data/6300_ch_curated,6300,ch,90\n",
      "20221121,acetate,0,334,acetate005,12,/scicore/home/nimwegen/rocasu25/MM_Data/Dany/20221121/curated_data/med3_ch_curated,med3,ch,90\n",
      "20221121,acetate,0,334,acetate005,12,/scicore/home/nimwegen/rocasu25/MM_Data/Dany/20221121/curated_data/med2_ch_curated,med2,ch,90\n"
     ]
    }
   ],
   "source": [
    "#Generate entries for R analysis\n",
    "generate_import_script_input(experimentFolderPath,subset,experiment_summary_table,experimental_details)"
   ]
  },
  {
   "cell_type": "markdown",
   "id": "54dd3300-a3c6-4217-96f9-90067bf7b031",
   "metadata": {
    "tags": []
   },
   "source": [
    "# 20190730, glucose 0.2% (240 frames, step=3min, total h), glycerol 0.4% (240 frames, step=6 min, h), (rrnB, 6300, rpsB, plac)\n"
   ]
  },
  {
   "cell_type": "markdown",
   "id": "1875a01b-65e7-4379-b6f2-29c38bd2e4fa",
   "metadata": {
    "tags": []
   },
   "source": [
    "## Part of the data analyzed using the batch mode, growth lanes opening towards the right (hi1)\n",
    "### Experimental details and data summary"
   ]
  },
  {
   "cell_type": "code",
   "execution_count": 46,
   "id": "8feebe90-9438-44d3-8492-2529474180b3",
   "metadata": {},
   "outputs": [],
   "source": [
    "#Edit the following\n",
    "experimental_details=[{\n",
    "    \"date\":\"20190730\",\n",
    "    \"description\":\"glucose_glycerol_switch\",\n",
    "    \"f_start\":\"0\",\n",
    "    \"f_end\":\"240\",\n",
    "    \"condition\":\"glucose\",\n",
    "    \"t_interval\":\"3\",\n",
    "    \"cell_detection_offset\":\"100\"} #min\n",
    "    ,\n",
    "{\n",
    "    \"date\":\"20190730\",\n",
    "    \"description\":\"glucose_glycerol_switch\",\n",
    "    \"f_start\":\"240\",\n",
    "    \"f_end\":\"Inf\",\n",
    "    \"condition\":\"glycerol\",\n",
    "    \"t_interval\":\"6\",\n",
    "    \"cell_detection_offset\":\"100\"} #min\n",
    "]\n",
    "\n",
    "#Preprocessing infos\n",
    "experimentFolderPath='/scicore/home/nimwegen/rocasu25/MM_Data/Dany/20190730'\n",
    "##Preprocessing folder\n",
    "preprocFolder=\"20190730_preproc_right\"\n",
    "##List of positions\n",
    "#pos_var=\"POS_NAMES=(Pos0)\"\n",
    "pos_var=\"POS_NAMES=(Pos15 Pos16 Pos17 Pos18 Pos19 Pos20 Pos9 Pos10 Pos11 Pos12 Pos13 Pos14)\"\n",
    "#pos_var=\"POS_NAMES=(Pos21 Pos22 Pos23 Pos24)\"\n",
    "##Template to use for the preprocessing\n",
    "template=\"TEMPLATE_vng20_right\"\n",
    "##Rotation (to determine on imageJ)\n",
    "ROTATION=\"0\"\n",
    "##TMAX, if processing is not to look at all frames\n",
    "TMAX=\"481\"\n",
    "##Normalization offset\n",
    "NORMALIZATION_REGION_OFFSET=\"100\"\n",
    "##Raw path to the data\n",
    "RAW_PATH=\"/scicore/home/nimwegen/rocasu25/MM_Data/Dany/20190730/20190730_rpsB_rrnB_plac_6300_glu_gly_4/20190730_rpsB_rrnB_plac_6300_glu_gly_4_MMStack.ome.tif\"\n",
    "##Raw path to flat field data\n",
    "FLATFIELD_PATH=\"/scicore/home/nimwegen/rocasu25/MM_Data/Dany/20190730/20190730_flatFieldGFP/20190730_flatFieldGFP_4_MMStack.ome.tif\"\n",
    "#!source ~/.bashrc"
   ]
  },
  {
   "cell_type": "code",
   "execution_count": 66,
   "id": "0a6e35a6-ce53-401f-a950-c51c1fac22da",
   "metadata": {},
   "outputs": [
    {
     "name": "stdin",
     "output_type": "stream",
     "text": [
      "Do you really want to submit preprocessing tasks to the scheduler? If the preprocessing folder target path has not been changed, it might result in overwritting your data. Enter 'Yes', to confirm. Yes\n"
     ]
    },
    {
     "name": "stdout",
     "output_type": "stream",
     "text": [
      "Preprocessing queued... (use squeue to check the current status)\n"
     ]
    }
   ],
   "source": [
    "submit_preprocessing(experimentFolderPath,preprocFolder,template,NORMALIZATION_REGION_OFFSET,pos_var,RAW_PATH,FLATFIELD_PATH,ROTATION,TMAX)"
   ]
  },
  {
   "cell_type": "code",
   "execution_count": 47,
   "id": "2da8d8ad-ced4-47c3-aa58-31ff086cf23a",
   "metadata": {},
   "outputs": [],
   "source": [
    "#Preprocessing infos\n",
    "experimentFolderPath='/scicore/home/nimwegen/rocasu25/MM_Data/Dany/20190730'\n",
    "##Preprocessing folder\n",
    "preprocFolder=\"20190730_preproc_left\"\n",
    "##List of positions\n",
    "#pos_var=\"POS_NAMES=(Pos0)\"\n",
    "pos_var=\"POS_NAMES=(Pos21 Pos22 Pos23 Pos24 Pos25 Pos26)\"\n",
    "##Template to use for the preprocessing\n",
    "template=\"TEMPLATE_vng20_left\"\n",
    "##Rotation (to determine on imageJ)\n",
    "ROTATION=\"0\"\n",
    "##TMAX, if processing is not to look at all frames\n",
    "TMAX=\"481\"\n",
    "##Normalization offset\n",
    "NORMALIZATION_REGION_OFFSET=\"100\"\n",
    "##Raw path to the data\n",
    "RAW_PATH=\"/scicore/home/nimwegen/rocasu25/MM_Data/Dany/20190730/20190730_rpsB_rrnB_plac_6300_glu_gly_4/20190730_rpsB_rrnB_plac_6300_glu_gly_4_MMStack.ome.tif\"\n",
    "##Raw path to flat field data\n",
    "FLATFIELD_PATH=\"/scicore/home/nimwegen/rocasu25/MM_Data/Dany/20190730/20190730_flatFieldGFP/20190730_flatFieldGFP_4_MMStack.ome.tif\""
   ]
  },
  {
   "cell_type": "code",
   "execution_count": 38,
   "id": "300095b5-99c3-43f8-bb7e-90646de3e14c",
   "metadata": {},
   "outputs": [
    {
     "name": "stdin",
     "output_type": "stream",
     "text": [
      "Do you really want to submit preprocessing tasks to the scheduler? If the preprocessing folder target path has not been changed, it might result in overwritting your data. Enter 'Yes', to confirm. Yes\n"
     ]
    },
    {
     "name": "stdout",
     "output_type": "stream",
     "text": [
      "Preprocessing queued... (use squeue to check the current status)\n"
     ]
    }
   ],
   "source": [
    "submit_preprocessing(experimentFolderPath,preprocFolder,template,NORMALIZATION_REGION_OFFSET,pos_var,RAW_PATH,FLATFIELD_PATH,ROTATION,TMAX)"
   ]
  },
  {
   "cell_type": "markdown",
   "id": "af5ae7cd-adbd-4b63-9313-b1c81f1dad30",
   "metadata": {
    "tags": []
   },
   "source": [
    "## Moma Batch"
   ]
  },
  {
   "cell_type": "code",
   "execution_count": 48,
   "id": "17192274-d031-4a20-b6b3-966865600f17",
   "metadata": {},
   "outputs": [
    {
     "data": {
      "text/html": [
       "<div>\n",
       "<style scoped>\n",
       "    .dataframe tbody tr th:only-of-type {\n",
       "        vertical-align: middle;\n",
       "    }\n",
       "\n",
       "    .dataframe tbody tr th {\n",
       "        vertical-align: top;\n",
       "    }\n",
       "\n",
       "    .dataframe thead th {\n",
       "        text-align: right;\n",
       "    }\n",
       "</style>\n",
       "<table border=\"1\" class=\"dataframe\">\n",
       "  <thead>\n",
       "    <tr style=\"text-align: right;\">\n",
       "      <th></th>\n",
       "      <th>date</th>\n",
       "      <th>ch</th>\n",
       "      <th>pos</th>\n",
       "      <th>width</th>\n",
       "      <th>number of occupied gl</th>\n",
       "      <th>promoter</th>\n",
       "      <th>vector</th>\n",
       "    </tr>\n",
       "  </thead>\n",
       "  <tbody>\n",
       "    <tr>\n",
       "      <th>0</th>\n",
       "      <td>20190730</td>\n",
       "      <td>5</td>\n",
       "      <td>15</td>\n",
       "      <td>0.8</td>\n",
       "      <td>1</td>\n",
       "      <td>rrnB</td>\n",
       "      <td>ch</td>\n",
       "    </tr>\n",
       "    <tr>\n",
       "      <th>1</th>\n",
       "      <td>20190730</td>\n",
       "      <td>5</td>\n",
       "      <td>16</td>\n",
       "      <td>0.8</td>\n",
       "      <td>1</td>\n",
       "      <td>rrnB</td>\n",
       "      <td>ch</td>\n",
       "    </tr>\n",
       "    <tr>\n",
       "      <th>2</th>\n",
       "      <td>20190730</td>\n",
       "      <td>5</td>\n",
       "      <td>17</td>\n",
       "      <td>0.8</td>\n",
       "      <td>1</td>\n",
       "      <td>rrnB</td>\n",
       "      <td>ch</td>\n",
       "    </tr>\n",
       "    <tr>\n",
       "      <th>3</th>\n",
       "      <td>20190730</td>\n",
       "      <td>5</td>\n",
       "      <td>18</td>\n",
       "      <td>0.8</td>\n",
       "      <td>1</td>\n",
       "      <td>rrnB</td>\n",
       "      <td>ch</td>\n",
       "    </tr>\n",
       "    <tr>\n",
       "      <th>4</th>\n",
       "      <td>20190730</td>\n",
       "      <td>5</td>\n",
       "      <td>19</td>\n",
       "      <td>0.8</td>\n",
       "      <td>1</td>\n",
       "      <td>rrnB</td>\n",
       "      <td>ch</td>\n",
       "    </tr>\n",
       "    <tr>\n",
       "      <th>5</th>\n",
       "      <td>20190730</td>\n",
       "      <td>5</td>\n",
       "      <td>20</td>\n",
       "      <td>0.8</td>\n",
       "      <td>1</td>\n",
       "      <td>rrnB</td>\n",
       "      <td>ch</td>\n",
       "    </tr>\n",
       "    <tr>\n",
       "      <th>6</th>\n",
       "      <td>20190730</td>\n",
       "      <td>4</td>\n",
       "      <td>21</td>\n",
       "      <td>0.8</td>\n",
       "      <td>1</td>\n",
       "      <td>6300</td>\n",
       "      <td>ch</td>\n",
       "    </tr>\n",
       "    <tr>\n",
       "      <th>7</th>\n",
       "      <td>20190730</td>\n",
       "      <td>4</td>\n",
       "      <td>22</td>\n",
       "      <td>0.8</td>\n",
       "      <td>1</td>\n",
       "      <td>6300</td>\n",
       "      <td>ch</td>\n",
       "    </tr>\n",
       "    <tr>\n",
       "      <th>8</th>\n",
       "      <td>20190730</td>\n",
       "      <td>4</td>\n",
       "      <td>23</td>\n",
       "      <td>0.8</td>\n",
       "      <td>1</td>\n",
       "      <td>6300</td>\n",
       "      <td>ch</td>\n",
       "    </tr>\n",
       "    <tr>\n",
       "      <th>9</th>\n",
       "      <td>20190730</td>\n",
       "      <td>4</td>\n",
       "      <td>24</td>\n",
       "      <td>0.8</td>\n",
       "      <td>1</td>\n",
       "      <td>6300</td>\n",
       "      <td>ch</td>\n",
       "    </tr>\n",
       "    <tr>\n",
       "      <th>10</th>\n",
       "      <td>20190730</td>\n",
       "      <td>4</td>\n",
       "      <td>25</td>\n",
       "      <td>0.8</td>\n",
       "      <td>1</td>\n",
       "      <td>6300</td>\n",
       "      <td>ch</td>\n",
       "    </tr>\n",
       "    <tr>\n",
       "      <th>11</th>\n",
       "      <td>20190730</td>\n",
       "      <td>4</td>\n",
       "      <td>26</td>\n",
       "      <td>0.8</td>\n",
       "      <td>1</td>\n",
       "      <td>6300</td>\n",
       "      <td>ch</td>\n",
       "    </tr>\n",
       "    <tr>\n",
       "      <th>12</th>\n",
       "      <td>20190730</td>\n",
       "      <td>2</td>\n",
       "      <td>27</td>\n",
       "      <td>0.8</td>\n",
       "      <td>1</td>\n",
       "      <td>rpsB</td>\n",
       "      <td>ch</td>\n",
       "    </tr>\n",
       "    <tr>\n",
       "      <th>13</th>\n",
       "      <td>20190730</td>\n",
       "      <td>2</td>\n",
       "      <td>28</td>\n",
       "      <td>0.8</td>\n",
       "      <td>1</td>\n",
       "      <td>rpsB</td>\n",
       "      <td>ch</td>\n",
       "    </tr>\n",
       "    <tr>\n",
       "      <th>14</th>\n",
       "      <td>20190730</td>\n",
       "      <td>2</td>\n",
       "      <td>29</td>\n",
       "      <td>0.8</td>\n",
       "      <td>1</td>\n",
       "      <td>rpsB</td>\n",
       "      <td>ch</td>\n",
       "    </tr>\n",
       "    <tr>\n",
       "      <th>15</th>\n",
       "      <td>20190730</td>\n",
       "      <td>2</td>\n",
       "      <td>30</td>\n",
       "      <td>0.8</td>\n",
       "      <td>1</td>\n",
       "      <td>rpsB</td>\n",
       "      <td>ch</td>\n",
       "    </tr>\n",
       "    <tr>\n",
       "      <th>16</th>\n",
       "      <td>20190730</td>\n",
       "      <td>2</td>\n",
       "      <td>31</td>\n",
       "      <td>0.8</td>\n",
       "      <td>1</td>\n",
       "      <td>rpsB</td>\n",
       "      <td>ch</td>\n",
       "    </tr>\n",
       "    <tr>\n",
       "      <th>17</th>\n",
       "      <td>20190730</td>\n",
       "      <td>2</td>\n",
       "      <td>32</td>\n",
       "      <td>0.8</td>\n",
       "      <td>1</td>\n",
       "      <td>rpsB</td>\n",
       "      <td>ch</td>\n",
       "    </tr>\n",
       "    <tr>\n",
       "      <th>18</th>\n",
       "      <td>20190730</td>\n",
       "      <td>2</td>\n",
       "      <td>33</td>\n",
       "      <td>0.8</td>\n",
       "      <td>1</td>\n",
       "      <td>rpsB</td>\n",
       "      <td>ch</td>\n",
       "    </tr>\n",
       "    <tr>\n",
       "      <th>19</th>\n",
       "      <td>20190730</td>\n",
       "      <td>7</td>\n",
       "      <td>9</td>\n",
       "      <td>0.8</td>\n",
       "      <td>1</td>\n",
       "      <td>plac</td>\n",
       "      <td>ch</td>\n",
       "    </tr>\n",
       "    <tr>\n",
       "      <th>20</th>\n",
       "      <td>20190730</td>\n",
       "      <td>7</td>\n",
       "      <td>10</td>\n",
       "      <td>0.8</td>\n",
       "      <td>1</td>\n",
       "      <td>plac</td>\n",
       "      <td>ch</td>\n",
       "    </tr>\n",
       "    <tr>\n",
       "      <th>21</th>\n",
       "      <td>20190730</td>\n",
       "      <td>7</td>\n",
       "      <td>11</td>\n",
       "      <td>0.8</td>\n",
       "      <td>1</td>\n",
       "      <td>plac</td>\n",
       "      <td>ch</td>\n",
       "    </tr>\n",
       "    <tr>\n",
       "      <th>22</th>\n",
       "      <td>20190730</td>\n",
       "      <td>7</td>\n",
       "      <td>12</td>\n",
       "      <td>0.8</td>\n",
       "      <td>1</td>\n",
       "      <td>plac</td>\n",
       "      <td>ch</td>\n",
       "    </tr>\n",
       "    <tr>\n",
       "      <th>23</th>\n",
       "      <td>20190730</td>\n",
       "      <td>7</td>\n",
       "      <td>13</td>\n",
       "      <td>0.8</td>\n",
       "      <td>1</td>\n",
       "      <td>plac</td>\n",
       "      <td>ch</td>\n",
       "    </tr>\n",
       "    <tr>\n",
       "      <th>24</th>\n",
       "      <td>20190730</td>\n",
       "      <td>7</td>\n",
       "      <td>14</td>\n",
       "      <td>0.8</td>\n",
       "      <td>1</td>\n",
       "      <td>plac</td>\n",
       "      <td>ch</td>\n",
       "    </tr>\n",
       "  </tbody>\n",
       "</table>\n",
       "</div>"
      ],
      "text/plain": [
       "        date  ch  pos  width  number of occupied gl promoter vector\n",
       "0   20190730   5   15    0.8                      1     rrnB     ch\n",
       "1   20190730   5   16    0.8                      1     rrnB     ch\n",
       "2   20190730   5   17    0.8                      1     rrnB     ch\n",
       "3   20190730   5   18    0.8                      1     rrnB     ch\n",
       "4   20190730   5   19    0.8                      1     rrnB     ch\n",
       "5   20190730   5   20    0.8                      1     rrnB     ch\n",
       "6   20190730   4   21    0.8                      1     6300     ch\n",
       "7   20190730   4   22    0.8                      1     6300     ch\n",
       "8   20190730   4   23    0.8                      1     6300     ch\n",
       "9   20190730   4   24    0.8                      1     6300     ch\n",
       "10  20190730   4   25    0.8                      1     6300     ch\n",
       "11  20190730   4   26    0.8                      1     6300     ch\n",
       "12  20190730   2   27    0.8                      1     rpsB     ch\n",
       "13  20190730   2   28    0.8                      1     rpsB     ch\n",
       "14  20190730   2   29    0.8                      1     rpsB     ch\n",
       "15  20190730   2   30    0.8                      1     rpsB     ch\n",
       "16  20190730   2   31    0.8                      1     rpsB     ch\n",
       "17  20190730   2   32    0.8                      1     rpsB     ch\n",
       "18  20190730   2   33    0.8                      1     rpsB     ch\n",
       "19  20190730   7    9    0.8                      1     plac     ch\n",
       "20  20190730   7   10    0.8                      1     plac     ch\n",
       "21  20190730   7   11    0.8                      1     plac     ch\n",
       "22  20190730   7   12    0.8                      1     plac     ch\n",
       "23  20190730   7   13    0.8                      1     plac     ch\n",
       "24  20190730   7   14    0.8                      1     plac     ch"
      ]
     },
     "execution_count": 48,
     "metadata": {},
     "output_type": "execute_result"
    }
   ],
   "source": [
    "#Generate a YAML file from experiment_summary_table\n",
    "#Select rows of interest, that will be curated, from the curated data summary table\n",
    "experiment_summary_table=print_curated_data_summary(experimental_details,experimentFolderPath)\n",
    "experiment_summary_table"
   ]
  },
  {
   "cell_type": "markdown",
   "id": "0cfee8da-2fd0-41e3-a1bb-c1cb420de199",
   "metadata": {},
   "source": [
    "### rrnB (towards right)"
   ]
  },
  {
   "cell_type": "code",
   "execution_count": 37,
   "id": "ef849909-b03f-4b8e-8e3d-79ed6dcaefca",
   "metadata": {},
   "outputs": [
    {
     "name": "stdout",
     "output_type": "stream",
     "text": [
      "       date  ch  pos  width  number of occupied gl promoter vector\n",
      "0  20190730   5   15    0.8                      1     rrnB     ch\n",
      "1  20190730   5   16    0.8                      1     rrnB     ch\n"
     ]
    }
   ],
   "source": [
    "subset=experiment_summary_table[experiment_summary_table[\"pos\"].isin([15,16])]\n",
    "print(subset)"
   ]
  },
  {
   "cell_type": "code",
   "execution_count": 15,
   "id": "90fd7e62-6f06-4b48-ace8-326c1d2604f6",
   "metadata": {},
   "outputs": [
    {
     "name": "stdout",
     "output_type": "stream",
     "text": [
      "Batch folder already exist.\n",
      "mm.properties already exists, copying cancelled.\n",
      "/scicore/home/nimwegen/rocasu25/MM_Data/Dany/20190730/20190730_preproc_right\n",
      "Batch file does not exist. It is created for the following positions, for all detected growth lanes:\n",
      "Pos15\n",
      "Pos16\n"
     ]
    }
   ],
   "source": [
    "#Batch folder that should be used or created to supervise tracking/curation/export\n",
    "batch_folder=\"batch_rrnB\"\n",
    "batch_file=\"moma_batch_rrnB.yaml\"\n",
    "curation_id=\"moma_batch\"\n",
    "create_moma_batch_directory(experimentFolderPath,batch_folder)\n",
    "create_yaml_file(batch_file,curation_id,experimentFolderPath,preprocFolder,batch_folder,subset)"
   ]
  },
  {
   "cell_type": "code",
   "execution_count": 13,
   "id": "26dcc5c6-77ac-4fb1-ab47-f173df48c08e",
   "metadata": {},
   "outputs": [
    {
     "name": "stdout",
     "output_type": "stream",
     "text": [
      "       date  ch  pos  width  number of occupied gl promoter vector\n",
      "2  20190730   5   17    0.8                      1     rrnB     ch\n",
      "3  20190730   5   18    0.8                      1     rrnB     ch\n",
      "Batch folder already exist.\n",
      "mm.properties already exists, copying cancelled.\n",
      "/scicore/home/nimwegen/rocasu25/MM_Data/Dany/20190730/20190730_preproc_right\n",
      "Batch file does not exist. It is created for the following positions, for all detected growth lanes:\n",
      "Pos17\n",
      "Pos18\n"
     ]
    }
   ],
   "source": [
    "subset=experiment_summary_table[experiment_summary_table[\"pos\"].isin([17,18])]\n",
    "print(subset)\n",
    "#Batch folder that should be used or created to supervise tracking/curation/export\n",
    "batch_folder=\"batch_rrnB\"\n",
    "batch_file=\"moma_batch_rrnB_pos17_18.yaml\"\n",
    "curation_id=\"moma_batch\"\n",
    "create_moma_batch_directory(experimentFolderPath,batch_folder)\n",
    "create_yaml_file(batch_file,curation_id,experimentFolderPath,preprocFolder,batch_folder,subset)"
   ]
  },
  {
   "cell_type": "code",
   "execution_count": 54,
   "id": "d77b8b5d-5f2c-4a54-9c95-b8afd655c11b",
   "metadata": {},
   "outputs": [],
   "source": [
    "%%capture\n",
    "#DO NOT MODIFY\n",
    "#regular expressions for the cvs files to look for\n",
    "subset=experiment_summary_table[experiment_summary_table[\"pos\"].isin([15,16,17,18])]\n",
    "print(subset)\n",
    "gls_dic={15:list(np.arange(0,60)),\n",
    "         16:list(np.arange(0,60)),\n",
    "         17:list(np.arange(0,60)),\n",
    "        18:list(np.arange(0,60))}\n",
    "rx0='CellStats__(.*).csv' \n",
    "pyMoM.extractAndTidyCurated(experimentFolderPath,preprocFolder,subset,rx0,gls_dic,analysis_id='moma_batch')"
   ]
  },
  {
   "cell_type": "markdown",
   "id": "972ee5ad-f3b7-4246-acd3-45db1eab1fad",
   "metadata": {},
   "source": [
    "### 6300 (towards left)"
   ]
  },
  {
   "cell_type": "code",
   "execution_count": 51,
   "id": "c3ede026-6ee6-4085-9d51-4eaea63be953",
   "metadata": {},
   "outputs": [
    {
     "name": "stdout",
     "output_type": "stream",
     "text": [
      "       date  ch  pos  width  number of occupied gl promoter vector\n",
      "6  20190730   4   21    0.8                      1     6300     ch\n",
      "7  20190730   4   22    0.8                      1     6300     ch\n",
      "8  20190730   4   23    0.8                      1     6300     ch\n",
      "9  20190730   4   24    0.8                      1     6300     ch\n"
     ]
    }
   ],
   "source": [
    "#subset=experiment_summary_table[experiment_summary_table[\"pos\"].isin([21,22])]\n",
    "subset=experiment_summary_table[experiment_summary_table[\"pos\"].isin([21,22,23,24])]\n",
    "print(subset)"
   ]
  },
  {
   "cell_type": "code",
   "execution_count": 8,
   "id": "162eff7e-cadf-468c-b9aa-8ab78d54b9c2",
   "metadata": {},
   "outputs": [
    {
     "name": "stdout",
     "output_type": "stream",
     "text": [
      "Batch folder already exist.\n",
      "mm.properties already exists, copying cancelled.\n",
      "/scicore/home/nimwegen/rocasu25/MM_Data/Dany/20190730/20190730_preproc_left\n",
      "Batch file does not exist. It is created for the following positions, for all detected growth lanes:\n",
      "Pos23\n",
      "Pos24\n"
     ]
    }
   ],
   "source": [
    "#Batch folder that should be used or created to supervise tracking/curation/export\n",
    "batch_folder=\"batch_6300\"\n",
    "batch_file=\"moma_batch_6300_pos23_24.yaml\"\n",
    "curation_id=\"moma_batch_6300\"\n",
    "create_moma_batch_directory(experimentFolderPath,batch_folder)\n",
    "create_yaml_file(batch_file,curation_id,experimentFolderPath,preprocFolder,batch_folder,subset)"
   ]
  },
  {
   "cell_type": "code",
   "execution_count": 52,
   "id": "af222856-4663-43ff-a8b2-f027b8b1d652",
   "metadata": {},
   "outputs": [],
   "source": [
    "%%capture\n",
    "#DO NOT MODIFY\n",
    "#regular expressions for the cvs files to look for\n",
    "subset=experiment_summary_table[experiment_summary_table[\"pos\"].isin([21,22,23,24])]\n",
    "print(subset)\n",
    "gls_dic={21:list(np.arange(0,60)),\n",
    "         22:list(np.arange(0,60)),\n",
    "         23:list(np.arange(0,60)),\n",
    "        24:list(np.arange(0,60))}\n",
    "rx0='CellStats__(.*).csv' \n",
    "pyMoM.extractAndTidyCurated(experimentFolderPath,preprocFolder,subset,rx0,gls_dic,analysis_id='moma_batch_6300')"
   ]
  },
  {
   "cell_type": "code",
   "execution_count": 13,
   "id": "d7002937-6d2f-4dbf-9fa6-a2792a03ff69",
   "metadata": {},
   "outputs": [
    {
     "name": "stdout",
     "output_type": "stream",
     "text": [
      "       date  ch  pos  width  number of occupied gl promoter vector\n",
      "2  20190730   5   17    0.8                      1     rrnB     ch\n",
      "3  20190730   5   18    0.8                      1     rrnB     ch\n",
      "Batch folder already exist.\n",
      "mm.properties already exists, copying cancelled.\n",
      "/scicore/home/nimwegen/rocasu25/MM_Data/Dany/20190730/20190730_preproc_right\n",
      "Batch file does not exist. It is created for the following positions, for all detected growth lanes:\n",
      "Pos17\n",
      "Pos18\n"
     ]
    }
   ],
   "source": [
    "subset=experiment_summary_table[experiment_summary_table[\"pos\"].isin([17,18])]\n",
    "print(subset)\n",
    "#Batch folder that should be used or created to supervise tracking/curation/export\n",
    "batch_folder=\"batch_rrnB\"\n",
    "batch_file=\"moma_batch_rrnB_pos17_18.yaml\"\n",
    "curation_id=\"moma_batch\"\n",
    "create_moma_batch_directory(experimentFolderPath,batch_folder)\n",
    "create_yaml_file(batch_file,curation_id,experimentFolderPath,preprocFolder,batch_folder,subset)"
   ]
  },
  {
   "cell_type": "code",
   "execution_count": 54,
   "id": "7c9163bb-b03b-4dbb-a866-4b984cfd44a6",
   "metadata": {},
   "outputs": [],
   "source": [
    "%%capture\n",
    "#DO NOT MODIFY\n",
    "#regular expressions for the cvs files to look for\n",
    "subset=experiment_summary_table[experiment_summary_table[\"pos\"].isin([15,16,17,18])]\n",
    "print(subset)\n",
    "gls_dic={15:list(np.arange(0,60)),\n",
    "         16:list(np.arange(0,60)),\n",
    "         17:list(np.arange(0,60)),\n",
    "        18:list(np.arange(0,60))}\n",
    "rx0='CellStats__(.*).csv' \n",
    "pyMoM.extractAndTidyCurated(experimentFolderPath,preprocFolder,subset,rx0,gls_dic,analysis_id='moma_batch')"
   ]
  },
  {
   "cell_type": "markdown",
   "id": "8dac9786-fa9e-4959-aaaf-d92f308e3dbf",
   "metadata": {},
   "source": [
    "### rpsB curation (left)"
   ]
  },
  {
   "cell_type": "code",
   "execution_count": 38,
   "id": "5a09eb2d-caef-4a39-be5b-d3a78d9e6a71",
   "metadata": {},
   "outputs": [
    {
     "name": "stdout",
     "output_type": "stream",
     "text": [
      "       date  ch  pos  width  number of occupied gl promoter vector\n",
      "4  20190730   5   19    0.8                      1     rrnB     ch\n"
     ]
    }
   ],
   "source": [
    "subset=experiment_summary_table[experiment_summary_table[\"pos\"].isin([19])]\n",
    "print(subset)"
   ]
  },
  {
   "cell_type": "code",
   "execution_count": 47,
   "id": "2219fb48-2f5c-402f-a37f-563134187386",
   "metadata": {},
   "outputs": [
    {
     "name": "stdout",
     "output_type": "stream",
     "text": [
      "Batch folder already exist.\n",
      "mm.properties already exists, copying cancelled.\n",
      "/scicore/home/nimwegen/rocasu25/MM_Data/Dany/20190515/20190515_preproc_left\n",
      "Batch file does not exist. It is created for the following positions, for all detected growth lanes:\n",
      "Pos19\n"
     ]
    }
   ],
   "source": [
    "#Batch folder that should be used or created to supervise tracking/curation/export\n",
    "batch_folder=\"batch_med2\"\n",
    "batch_file=\"moma_batch_med2_pos19.yaml\"\n",
    "curation_id=\"moma_batch_pos_19_25\"\n",
    "create_moma_batch_directory(experimentFolderPath,batch_folder)\n",
    "create_yaml_file(batch_file,curation_id,experimentFolderPath,preprocFolder,batch_folder,subset)"
   ]
  },
  {
   "cell_type": "markdown",
   "id": "0382ec34-5707-41ab-9e8c-dcf764d86df7",
   "metadata": {},
   "source": [
    "### rpmB curation (left)"
   ]
  },
  {
   "cell_type": "code",
   "execution_count": 48,
   "id": "506e276f-fbea-4c87-a19a-81634bcf6b4b",
   "metadata": {},
   "outputs": [
    {
     "name": "stdout",
     "output_type": "stream",
     "text": [
      "        date  ch  pos  width inoculated_gl promoter vector\n",
      "22  20190515   2   25    0.8          full     rpmB     ch\n"
     ]
    }
   ],
   "source": [
    "subset=experiment_summary_table[experiment_summary_table[\"pos\"].isin([25])]\n",
    "print(subset)"
   ]
  },
  {
   "cell_type": "code",
   "execution_count": 49,
   "id": "89aae753-65c5-4341-87b7-3e4430aa4e30",
   "metadata": {},
   "outputs": [
    {
     "name": "stdout",
     "output_type": "stream",
     "text": [
      "Batch folder already exist.\n",
      "mm.properties already exists, copying cancelled.\n",
      "/scicore/home/nimwegen/rocasu25/MM_Data/Dany/20190515/20190515_preproc_left\n",
      "Batch file does not exist. It is created for the following positions, for all detected growth lanes:\n",
      "Pos25\n"
     ]
    }
   ],
   "source": [
    "#Batch folder that should be used or created to supervise tracking/curation/export\n",
    "batch_folder=\"batch_rpmB\"\n",
    "batch_file=\"moma_batch_rpmB_pos25.yaml\"\n",
    "curation_id=\"moma_batch_pos_19_25\"\n",
    "create_moma_batch_directory(experimentFolderPath,batch_folder)\n",
    "create_yaml_file(batch_file,curation_id,experimentFolderPath,preprocFolder,batch_folder,subset)"
   ]
  },
  {
   "cell_type": "code",
   "execution_count": 39,
   "id": "932875f2-3a62-47f2-9d6c-79035d013ec1",
   "metadata": {},
   "outputs": [
    {
     "data": {
      "text/plain": [
       "'/scicore/home/nimwegen/rocasu25/MM_Data/Dany/20190515/20190515_preproc_right_bis'"
      ]
     },
     "execution_count": 39,
     "metadata": {},
     "output_type": "execute_result"
    }
   ],
   "source": [
    "preproc_dir=\"%s/%s\"%(experimentFolderPath,preprocFolder)\n",
    "preproc_dir"
   ]
  },
  {
   "cell_type": "markdown",
   "id": "a2cd8b25-da9e-4293-b0ce-9a6e437386b8",
   "metadata": {},
   "source": [
    "#### Export after curation\n",
    "During curation, note down comments about growth lanes curated."
   ]
  },
  {
   "cell_type": "code",
   "execution_count": 40,
   "id": "5ab74e0d-1245-4143-9af9-9193d703b7ce",
   "metadata": {},
   "outputs": [
    {
     "name": "stdout",
     "output_type": "stream",
     "text": [
      "Batch file does not exist. It is created for the following positions, for all curated growth lanes in the export dictionnary:\n",
      "Pos0\n",
      "Pos1\n"
     ]
    }
   ],
   "source": [
    "#Final list of growth lanes that can be exported.\n",
    "gls_dic={0:[2,3,4,6,8,9,10,12,13,14,16,17,18,19],\n",
    "         1:[1,2,3,4,5,6,8,9,10,11,12]}\n",
    "\n",
    "write_export_yaml_file(batch_file,experimentFolderPath,preprocFolder,batch_folder,gls_dic)"
   ]
  },
  {
   "cell_type": "markdown",
   "id": "c4170d97-13ba-42be-8399-94bd34966fbf",
   "metadata": {},
   "source": [
    "#### Tidying curated csv files for R analysis\n",
    "The following will be tidied"
   ]
  },
  {
   "cell_type": "code",
   "execution_count": 94,
   "id": "9ae0d8d1-068a-4ed7-bb53-3e10dcaf4c28",
   "metadata": {},
   "outputs": [],
   "source": [
    "%%capture\n",
    "#DO NOT MODIFY\n",
    "#regular expressions for the cvs files to look for\n",
    "subset=experiment_summary_table[experiment_summary_table[\"pos\"].isin([19,25])]\n",
    "print(subset)\n",
    "gls_dic={19:list(np.arange(0,60)),\n",
    "        25:list(np.arange(0,60))}\n",
    "rx0='CellStats__(.*).csv' \n",
    "pyMoM.extractAndTidyCurated(experimentFolderPath,preprocFolder,subset,rx0,gls_dic,analysis_id='moma_batch_pos_19_25')"
   ]
  },
  {
   "cell_type": "code",
   "execution_count": 70,
   "id": "9a04905a-0913-4eeb-8f88-78f25c430bc2",
   "metadata": {},
   "outputs": [
    {
     "name": "stdout",
     "output_type": "stream",
     "text": [
      "20190515,glucose_glycerol_switch,0,440,glucose,3,/scicore/home/nimwegen/rocasu25/MM_Data/Dany/20190515/curated_data/hi1_ch_curated,hi1,ch,100\n",
      "20190515,glucose_glycerol_switch,0,440,glucose,3,/scicore/home/nimwegen/rocasu25/MM_Data/Dany/20190515/curated_data/med1_ch_curated,med1,ch,100\n",
      "20190515,glucose_glycerol_switch,0,440,glucose,3,/scicore/home/nimwegen/rocasu25/MM_Data/Dany/20190515/curated_data/med2_ch_curated,med2,ch,100\n",
      "20190515,glucose_glycerol_switch,0,440,glucose,3,/scicore/home/nimwegen/rocasu25/MM_Data/Dany/20190515/curated_data/rpmB_ch_curated,rpmB,ch,100\n",
      "20190515,glucose_glycerol_switch,440,Inf,glycerol,6,/scicore/home/nimwegen/rocasu25/MM_Data/Dany/20190515/curated_data/hi1_ch_curated,hi1,ch,100\n",
      "20190515,glucose_glycerol_switch,440,Inf,glycerol,6,/scicore/home/nimwegen/rocasu25/MM_Data/Dany/20190515/curated_data/med1_ch_curated,med1,ch,100\n",
      "20190515,glucose_glycerol_switch,440,Inf,glycerol,6,/scicore/home/nimwegen/rocasu25/MM_Data/Dany/20190515/curated_data/med2_ch_curated,med2,ch,100\n",
      "20190515,glucose_glycerol_switch,440,Inf,glycerol,6,/scicore/home/nimwegen/rocasu25/MM_Data/Dany/20190515/curated_data/rpmB_ch_curated,rpmB,ch,100\n"
     ]
    }
   ],
   "source": [
    "#Generate entries for R analysis\n",
    "generate_import_script_input(experimentFolderPath,subset,experiment_summary_table,experimental_details)"
   ]
  },
  {
   "cell_type": "markdown",
   "id": "2dffd4ac-4436-43c9-8410-920338aaa815",
   "metadata": {
    "tags": []
   },
   "source": [
    "# 20230209, glucose 0.2% (400 frames, step=3min, total 20h)\n"
   ]
  },
  {
   "cell_type": "code",
   "execution_count": 2,
   "id": "de17f948-5286-49cf-a9c8-d135c137c4da",
   "metadata": {},
   "outputs": [],
   "source": [
    "#Edit the following\n",
    "experimental_details=[{\n",
    "    \"date\":\"20230209\",\n",
    "    \"description\":\"glucose_glycerol_switch\",\n",
    "    \"f_start\":\"0\",\n",
    "    \"f_end\":\"400\",\n",
    "    \"condition\":\"glucose\",\n",
    "    \"t_interval\":\"3\",\n",
    "    \"cell_detection_offset\":\"100\"}] #min\n",
    "\n",
    "#Preprocessing infos\n",
    "experimentFolderPath='/scicore/home/nimwegen/rocasu25/MM_Data/Dany/20230209'\n",
    "##Preprocessing folder\n",
    "preprocFolder=\"20230209_glu_preproc\"\n",
    "##List of positions\n",
    "#pos_var=\"POS_NAMES=(Pos0)\"\n",
    "pos_var=\"POS_NAMES=(Pos1 Pos2 Pos3 Pos4 Pos5 Pos6 Pos7 Pos8 Pos9 Pos10 Pos11 Pos12 Pos13 Pos14 Pos15 Pos16 Pos17 Pos18 Pos19 Pos20 Pos21 Pos22 Pos23 Pos24 Pos25 Pos26 Pos27)\"\n",
    "##Template to use for the preprocessing\n",
    "template=\"TEMPLATE_vng124\"\n",
    "##Rotation (to determine on imageJ)\n",
    "ROTATION=\"90\"\n",
    "##TMAX, if processing is not to look at all frames\n",
    "TMAX=\"400\"\n",
    "##Normalization offset\n",
    "NORMALIZATION_REGION_OFFSET=\"100\"\n",
    "##Raw path to the data\n",
    "RAW_PATH=\"/scicore/home/nimwegen/rocasu25/MM_Data/Dany/20230209/20230209_glugly/20230209_glugly_1/20230209_glugly_1_MMStack.ome.tif\"\n",
    "##Raw path to flat field data\n",
    "FLATFIELD_PATH=\"/scicore/home/nimwegen/rocasu25/MM_Data/Dany/20230209/20230209_gfpflatfield_1/20230209_gfpflatfield_1_MMStack.ome.tif\""
   ]
  },
  {
   "cell_type": "code",
   "execution_count": 18,
   "id": "92861573-7151-44a3-817b-36c0c2e823a4",
   "metadata": {},
   "outputs": [
    {
     "name": "stdin",
     "output_type": "stream",
     "text": [
      "Do you really want to submit preprocessing tasks to the scheduler? If the preprocessing folder target path has not been changed, it might result in overwritting your data. Enter 'Yes', to confirm. Yes\n"
     ]
    },
    {
     "name": "stdout",
     "output_type": "stream",
     "text": [
      "Preprocessing queued... (use squeue to check the current status)\n"
     ]
    }
   ],
   "source": [
    "submit_preprocessing(experimentFolderPath,preprocFolder,template,NORMALIZATION_REGION_OFFSET,pos_var,RAW_PATH,FLATFIELD_PATH,ROTATION,TMAX)"
   ]
  },
  {
   "cell_type": "markdown",
   "id": "dc48daa7-421f-4dc3-930c-173f1d46a7c6",
   "metadata": {
    "tags": []
   },
   "source": [
    "## Moma Batch"
   ]
  },
  {
   "cell_type": "code",
   "execution_count": 3,
   "id": "e0481876-c65f-4540-8fec-bbda74daa6e0",
   "metadata": {},
   "outputs": [
    {
     "data": {
      "text/html": [
       "<div>\n",
       "<style scoped>\n",
       "    .dataframe tbody tr th:only-of-type {\n",
       "        vertical-align: middle;\n",
       "    }\n",
       "\n",
       "    .dataframe tbody tr th {\n",
       "        vertical-align: top;\n",
       "    }\n",
       "\n",
       "    .dataframe thead th {\n",
       "        text-align: right;\n",
       "    }\n",
       "</style>\n",
       "<table border=\"1\" class=\"dataframe\">\n",
       "  <thead>\n",
       "    <tr style=\"text-align: right;\">\n",
       "      <th></th>\n",
       "      <th>date</th>\n",
       "      <th>ch</th>\n",
       "      <th>pos</th>\n",
       "      <th>width</th>\n",
       "      <th>inoculated_gl</th>\n",
       "      <th>promoter</th>\n",
       "      <th>vector</th>\n",
       "    </tr>\n",
       "  </thead>\n",
       "  <tbody>\n",
       "    <tr>\n",
       "      <th>0</th>\n",
       "      <td>20230209</td>\n",
       "      <td>4</td>\n",
       "      <td>0</td>\n",
       "      <td>1</td>\n",
       "      <td>14</td>\n",
       "      <td>med3</td>\n",
       "      <td>ch</td>\n",
       "    </tr>\n",
       "    <tr>\n",
       "      <th>1</th>\n",
       "      <td>20230209</td>\n",
       "      <td>4</td>\n",
       "      <td>1</td>\n",
       "      <td>1</td>\n",
       "      <td>17</td>\n",
       "      <td>med3</td>\n",
       "      <td>ch</td>\n",
       "    </tr>\n",
       "    <tr>\n",
       "      <th>2</th>\n",
       "      <td>20230209</td>\n",
       "      <td>4</td>\n",
       "      <td>2</td>\n",
       "      <td>1</td>\n",
       "      <td>18</td>\n",
       "      <td>med3</td>\n",
       "      <td>ch</td>\n",
       "    </tr>\n",
       "    <tr>\n",
       "      <th>3</th>\n",
       "      <td>20230209</td>\n",
       "      <td>4</td>\n",
       "      <td>3</td>\n",
       "      <td>1</td>\n",
       "      <td>19</td>\n",
       "      <td>med3</td>\n",
       "      <td>ch</td>\n",
       "    </tr>\n",
       "    <tr>\n",
       "      <th>4</th>\n",
       "      <td>20230209</td>\n",
       "      <td>5</td>\n",
       "      <td>4</td>\n",
       "      <td>1</td>\n",
       "      <td>17</td>\n",
       "      <td>med2</td>\n",
       "      <td>ch</td>\n",
       "    </tr>\n",
       "    <tr>\n",
       "      <th>5</th>\n",
       "      <td>20230209</td>\n",
       "      <td>5</td>\n",
       "      <td>5</td>\n",
       "      <td>1</td>\n",
       "      <td>16</td>\n",
       "      <td>med2</td>\n",
       "      <td>ch</td>\n",
       "    </tr>\n",
       "    <tr>\n",
       "      <th>6</th>\n",
       "      <td>20230209</td>\n",
       "      <td>5</td>\n",
       "      <td>6</td>\n",
       "      <td>1</td>\n",
       "      <td>15</td>\n",
       "      <td>med2</td>\n",
       "      <td>ch</td>\n",
       "    </tr>\n",
       "    <tr>\n",
       "      <th>7</th>\n",
       "      <td>20230209</td>\n",
       "      <td>5</td>\n",
       "      <td>7</td>\n",
       "      <td>1</td>\n",
       "      <td>16</td>\n",
       "      <td>med2</td>\n",
       "      <td>ch</td>\n",
       "    </tr>\n",
       "    <tr>\n",
       "      <th>8</th>\n",
       "      <td>20230209</td>\n",
       "      <td>6</td>\n",
       "      <td>8</td>\n",
       "      <td>1</td>\n",
       "      <td>17</td>\n",
       "      <td>hi3</td>\n",
       "      <td>ch</td>\n",
       "    </tr>\n",
       "    <tr>\n",
       "      <th>9</th>\n",
       "      <td>20230209</td>\n",
       "      <td>6</td>\n",
       "      <td>9</td>\n",
       "      <td>1</td>\n",
       "      <td>16</td>\n",
       "      <td>hi3</td>\n",
       "      <td>ch</td>\n",
       "    </tr>\n",
       "    <tr>\n",
       "      <th>10</th>\n",
       "      <td>20230209</td>\n",
       "      <td>6</td>\n",
       "      <td>10</td>\n",
       "      <td>1</td>\n",
       "      <td>17</td>\n",
       "      <td>hi3</td>\n",
       "      <td>ch</td>\n",
       "    </tr>\n",
       "    <tr>\n",
       "      <th>11</th>\n",
       "      <td>20230209</td>\n",
       "      <td>6</td>\n",
       "      <td>11</td>\n",
       "      <td>1</td>\n",
       "      <td>16</td>\n",
       "      <td>hi3</td>\n",
       "      <td>ch</td>\n",
       "    </tr>\n",
       "    <tr>\n",
       "      <th>12</th>\n",
       "      <td>20230209</td>\n",
       "      <td>7</td>\n",
       "      <td>12</td>\n",
       "      <td>1</td>\n",
       "      <td>17</td>\n",
       "      <td>hi1</td>\n",
       "      <td>ch</td>\n",
       "    </tr>\n",
       "    <tr>\n",
       "      <th>13</th>\n",
       "      <td>20230209</td>\n",
       "      <td>7</td>\n",
       "      <td>13</td>\n",
       "      <td>1</td>\n",
       "      <td>16</td>\n",
       "      <td>hi1</td>\n",
       "      <td>ch</td>\n",
       "    </tr>\n",
       "    <tr>\n",
       "      <th>14</th>\n",
       "      <td>20230209</td>\n",
       "      <td>7</td>\n",
       "      <td>14</td>\n",
       "      <td>1</td>\n",
       "      <td>17</td>\n",
       "      <td>hi1</td>\n",
       "      <td>ch</td>\n",
       "    </tr>\n",
       "    <tr>\n",
       "      <th>15</th>\n",
       "      <td>20230209</td>\n",
       "      <td>7</td>\n",
       "      <td>15</td>\n",
       "      <td>1</td>\n",
       "      <td>16</td>\n",
       "      <td>hi1</td>\n",
       "      <td>ch</td>\n",
       "    </tr>\n",
       "    <tr>\n",
       "      <th>16</th>\n",
       "      <td>20230209</td>\n",
       "      <td>3</td>\n",
       "      <td>16</td>\n",
       "      <td>1</td>\n",
       "      <td>17</td>\n",
       "      <td>rrnB</td>\n",
       "      <td>ch</td>\n",
       "    </tr>\n",
       "    <tr>\n",
       "      <th>17</th>\n",
       "      <td>20230209</td>\n",
       "      <td>3</td>\n",
       "      <td>17</td>\n",
       "      <td>1</td>\n",
       "      <td>17</td>\n",
       "      <td>rrnB</td>\n",
       "      <td>ch</td>\n",
       "    </tr>\n",
       "    <tr>\n",
       "      <th>18</th>\n",
       "      <td>20230209</td>\n",
       "      <td>3</td>\n",
       "      <td>18</td>\n",
       "      <td>1</td>\n",
       "      <td>17</td>\n",
       "      <td>rrnB</td>\n",
       "      <td>ch</td>\n",
       "    </tr>\n",
       "    <tr>\n",
       "      <th>19</th>\n",
       "      <td>20230209</td>\n",
       "      <td>3</td>\n",
       "      <td>19</td>\n",
       "      <td>1</td>\n",
       "      <td>17</td>\n",
       "      <td>rrnB</td>\n",
       "      <td>ch</td>\n",
       "    </tr>\n",
       "    <tr>\n",
       "      <th>20</th>\n",
       "      <td>20230209</td>\n",
       "      <td>2</td>\n",
       "      <td>20</td>\n",
       "      <td>1</td>\n",
       "      <td>17</td>\n",
       "      <td>rplN</td>\n",
       "      <td>ch</td>\n",
       "    </tr>\n",
       "    <tr>\n",
       "      <th>21</th>\n",
       "      <td>20230209</td>\n",
       "      <td>2</td>\n",
       "      <td>21</td>\n",
       "      <td>1</td>\n",
       "      <td>17</td>\n",
       "      <td>rplN</td>\n",
       "      <td>ch</td>\n",
       "    </tr>\n",
       "    <tr>\n",
       "      <th>22</th>\n",
       "      <td>20230209</td>\n",
       "      <td>2</td>\n",
       "      <td>22</td>\n",
       "      <td>1</td>\n",
       "      <td>17</td>\n",
       "      <td>rplN</td>\n",
       "      <td>ch</td>\n",
       "    </tr>\n",
       "    <tr>\n",
       "      <th>23</th>\n",
       "      <td>20230209</td>\n",
       "      <td>2</td>\n",
       "      <td>23</td>\n",
       "      <td>1</td>\n",
       "      <td>17</td>\n",
       "      <td>rplN</td>\n",
       "      <td>ch</td>\n",
       "    </tr>\n",
       "    <tr>\n",
       "      <th>24</th>\n",
       "      <td>20230209</td>\n",
       "      <td>1</td>\n",
       "      <td>24</td>\n",
       "      <td>1</td>\n",
       "      <td>17</td>\n",
       "      <td>6300</td>\n",
       "      <td>ch</td>\n",
       "    </tr>\n",
       "    <tr>\n",
       "      <th>25</th>\n",
       "      <td>20230209</td>\n",
       "      <td>1</td>\n",
       "      <td>25</td>\n",
       "      <td>1</td>\n",
       "      <td>17</td>\n",
       "      <td>6300</td>\n",
       "      <td>ch</td>\n",
       "    </tr>\n",
       "    <tr>\n",
       "      <th>26</th>\n",
       "      <td>20230209</td>\n",
       "      <td>1</td>\n",
       "      <td>26</td>\n",
       "      <td>1</td>\n",
       "      <td>17</td>\n",
       "      <td>6300</td>\n",
       "      <td>ch</td>\n",
       "    </tr>\n",
       "    <tr>\n",
       "      <th>27</th>\n",
       "      <td>20230209</td>\n",
       "      <td>1</td>\n",
       "      <td>27</td>\n",
       "      <td>1</td>\n",
       "      <td>17</td>\n",
       "      <td>6300</td>\n",
       "      <td>ch</td>\n",
       "    </tr>\n",
       "  </tbody>\n",
       "</table>\n",
       "</div>"
      ],
      "text/plain": [
       "        date  ch  pos  width  inoculated_gl promoter vector\n",
       "0   20230209   4    0      1             14     med3     ch\n",
       "1   20230209   4    1      1             17     med3     ch\n",
       "2   20230209   4    2      1             18     med3     ch\n",
       "3   20230209   4    3      1             19     med3     ch\n",
       "4   20230209   5    4      1             17     med2     ch\n",
       "5   20230209   5    5      1             16     med2     ch\n",
       "6   20230209   5    6      1             15     med2     ch\n",
       "7   20230209   5    7      1             16     med2     ch\n",
       "8   20230209   6    8      1             17      hi3     ch\n",
       "9   20230209   6    9      1             16      hi3     ch\n",
       "10  20230209   6   10      1             17      hi3     ch\n",
       "11  20230209   6   11      1             16      hi3     ch\n",
       "12  20230209   7   12      1             17      hi1     ch\n",
       "13  20230209   7   13      1             16      hi1     ch\n",
       "14  20230209   7   14      1             17      hi1     ch\n",
       "15  20230209   7   15      1             16      hi1     ch\n",
       "16  20230209   3   16      1             17     rrnB     ch\n",
       "17  20230209   3   17      1             17     rrnB     ch\n",
       "18  20230209   3   18      1             17     rrnB     ch\n",
       "19  20230209   3   19      1             17     rrnB     ch\n",
       "20  20230209   2   20      1             17     rplN     ch\n",
       "21  20230209   2   21      1             17     rplN     ch\n",
       "22  20230209   2   22      1             17     rplN     ch\n",
       "23  20230209   2   23      1             17     rplN     ch\n",
       "24  20230209   1   24      1             17     6300     ch\n",
       "25  20230209   1   25      1             17     6300     ch\n",
       "26  20230209   1   26      1             17     6300     ch\n",
       "27  20230209   1   27      1             17     6300     ch"
      ]
     },
     "execution_count": 3,
     "metadata": {},
     "output_type": "execute_result"
    }
   ],
   "source": [
    "#Generate a YAML file from experiment_summary_table\n",
    "#Select rows of interest, that will be curated, from the curated data summary table\n",
    "experiment_summary_table=print_curated_data_summary(experimental_details,experimentFolderPath)\n",
    "experiment_summary_table"
   ]
  },
  {
   "cell_type": "markdown",
   "id": "e873677c-e9cf-4c0c-b8d1-a6708ff9114e",
   "metadata": {},
   "source": [
    "### hi1"
   ]
  },
  {
   "cell_type": "code",
   "execution_count": 4,
   "id": "619e78cd-f326-4a33-a769-1047d3bc8369",
   "metadata": {},
   "outputs": [
    {
     "name": "stdout",
     "output_type": "stream",
     "text": [
      "        date  ch  pos  width  inoculated_gl promoter vector\n",
      "12  20230209   7   12      1             17      hi1     ch\n",
      "13  20230209   7   13      1             16      hi1     ch\n"
     ]
    }
   ],
   "source": [
    "subset=experiment_summary_table[experiment_summary_table[\"pos\"].isin([12,13])]\n",
    "print(subset)"
   ]
  },
  {
   "cell_type": "code",
   "execution_count": 9,
   "id": "234d49d1-d80a-4874-ad23-812ce17bcb18",
   "metadata": {},
   "outputs": [
    {
     "name": "stdout",
     "output_type": "stream",
     "text": [
      "Making batch directory batch_glu_hi1.\n",
      "Copying standard mm.properties file to batch_glu_hi1.\n",
      "/scicore/home/nimwegen/rocasu25/MM_Data/Dany/20230209/20230209_glu_preproc\n",
      "Batch file does not exist. It is created for the following positions, for all detected growth lanes:\n",
      "Pos12\n",
      "Pos13\n"
     ]
    }
   ],
   "source": [
    "#Batch folder that should be used or created to supervise tracking/curation/export\n",
    "batch_folder=\"batch_glu_hi1\"\n",
    "batch_file=\"moma_batch_glu_hi1.yaml\"\n",
    "curation_id=\"moma_batch_glu_hi1\"\n",
    "create_moma_batch_directory(experimentFolderPath,batch_folder)\n",
    "create_yaml_file(batch_file,curation_id,experimentFolderPath,preprocFolder,batch_folder,subset)"
   ]
  },
  {
   "cell_type": "code",
   "execution_count": 21,
   "id": "8cb5d883-7d9a-47b1-a599-9cb0e0a26077",
   "metadata": {},
   "outputs": [],
   "source": [
    "%%capture\n",
    "#DO NOT MODIFY\n",
    "#regular expressions for the cvs files to look for\n",
    "subset=experiment_summary_table[experiment_summary_table[\"pos\"].isin([12])]\n",
    "print(subset)\n",
    "gls_dic={12:list(np.arange(0,60))}\n",
    "\n",
    "rx0='CellStats__(.*).csv' \n",
    "pyMoM.extractAndTidyCurated(experimentFolderPath,preprocFolder,subset,rx0,gls_dic,analysis_id='moma_batch_glu_hi1')"
   ]
  },
  {
   "cell_type": "markdown",
   "id": "895e6a23-87f7-4dee-b0b2-7620d262ff65",
   "metadata": {},
   "source": [
    "### 6300"
   ]
  },
  {
   "cell_type": "code",
   "execution_count": 4,
   "id": "b08380fe-9e31-4c5d-af83-65cab692451e",
   "metadata": {},
   "outputs": [
    {
     "name": "stdout",
     "output_type": "stream",
     "text": [
      "        date  ch  pos  width  inoculated_gl promoter vector\n",
      "24  20230209   1   24      1             17     6300     ch\n",
      "25  20230209   1   25      1             17     6300     ch\n"
     ]
    }
   ],
   "source": [
    "subset=experiment_summary_table[experiment_summary_table[\"pos\"].isin([24,25])]\n",
    "print(subset)"
   ]
  },
  {
   "cell_type": "code",
   "execution_count": 8,
   "id": "9a456134-c955-4439-aed8-b79836a00e02",
   "metadata": {},
   "outputs": [
    {
     "name": "stdout",
     "output_type": "stream",
     "text": [
      "Batch folder already exist.\n",
      "mm.properties already exists, copying cancelled.\n",
      "/scicore/home/nimwegen/rocasu25/MM_Data/Dany/20230209/20230209_glu_preproc\n",
      "Batch YAML file already exist. Aborting\n"
     ]
    }
   ],
   "source": [
    "#Batch folder that should be used or created to supervise tracking/curation/export\n",
    "batch_folder=\"batch_glu_6300\"\n",
    "batch_file=\"moma_batch_glu_6300.yaml\"\n",
    "curation_id=\"moma_batch_glu_6300\"\n",
    "create_moma_batch_directory(experimentFolderPath,batch_folder)\n",
    "create_yaml_file(batch_file,curation_id,experimentFolderPath,preprocFolder,batch_folder,subset)"
   ]
  },
  {
   "cell_type": "code",
   "execution_count": 5,
   "id": "aa2541fc-7224-4aa7-9f8a-d4f4e4686a81",
   "metadata": {},
   "outputs": [],
   "source": [
    "%%capture\n",
    "#DO NOT MODIFY\n",
    "#regular expressions for the cvs files to look for\n",
    "subset=experiment_summary_table[experiment_summary_table[\"pos\"].isin([24,25])]\n",
    "print(subset)\n",
    "gls_dic={24:list(np.arange(0,60)),\n",
    "        25:list(np.arange(0,60))}\n",
    "\n",
    "rx0='CellStats__(.*).csv' \n",
    "pyMoM.extractAndTidyCurated(experimentFolderPath,preprocFolder,subset,rx0,gls_dic,analysis_id='moma_batch_glu_6300')"
   ]
  },
  {
   "cell_type": "code",
   "execution_count": 16,
   "id": "dbcb1797-0459-4c26-9c47-1169a6570471",
   "metadata": {},
   "outputs": [
    {
     "name": "stdout",
     "output_type": "stream",
     "text": [
      "        date  ch  pos  width  inoculated_gl promoter vector\n",
      "26  20230209   1   26      1             17     6300     ch\n",
      "27  20230209   1   27      1             17     6300     ch\n"
     ]
    }
   ],
   "source": [
    "subset=experiment_summary_table[experiment_summary_table[\"pos\"].isin([26,27])]\n",
    "print(subset)"
   ]
  },
  {
   "cell_type": "code",
   "execution_count": 17,
   "id": "ee3cfc0f-5366-4f93-8fe6-c19108b8ce5d",
   "metadata": {},
   "outputs": [
    {
     "name": "stdout",
     "output_type": "stream",
     "text": [
      "Batch folder already exist.\n",
      "mm.properties already exists, copying cancelled.\n",
      "/scicore/home/nimwegen/rocasu25/MM_Data/Dany/20230209/20230209_glu_preproc\n",
      "Batch file does not exist. It is created for the following positions, for all detected growth lanes:\n",
      "Pos26\n",
      "Pos27\n"
     ]
    }
   ],
   "source": [
    "#Batch folder that should be used or created to supervise tracking/curation/export\n",
    "batch_folder=\"batch_glu_6300\"\n",
    "batch_file=\"moma_batch_glu_6300_pos_26_27.yaml\"\n",
    "curation_id=\"moma_batch_glu_6300\"\n",
    "create_moma_batch_directory(experimentFolderPath,batch_folder)\n",
    "create_yaml_file(batch_file,curation_id,experimentFolderPath,preprocFolder,batch_folder,subset)"
   ]
  },
  {
   "cell_type": "code",
   "execution_count": 21,
   "id": "a0dc73e2-efc2-4bea-9081-4e36d719a629",
   "metadata": {},
   "outputs": [],
   "source": [
    "%%capture\n",
    "#DO NOT MODIFY\n",
    "#regular expressions for the cvs files to look for\n",
    "subset=experiment_summary_table[experiment_summary_table[\"pos\"].isin([24,25])]\n",
    "print(subset)\n",
    "gls_dic={24:list(np.arange(0,60)),\n",
    "        25:list(np.arange(0,60))}\n",
    "\n",
    "rx0='CellStats__(.*).csv' \n",
    "pyMoM.extractAndTidyCurated(experimentFolderPath,preprocFolder,subset,rx0,gls_dic,analysis_id='moma_batch_glu_6300')"
   ]
  },
  {
   "cell_type": "markdown",
   "id": "19ea1e73-047a-4f21-a2e7-c6dbae74bcab",
   "metadata": {},
   "source": [
    "### rpsB curation (left)"
   ]
  },
  {
   "cell_type": "code",
   "execution_count": 38,
   "id": "9b63c536-6292-45df-bf50-bdf53964bd1d",
   "metadata": {},
   "outputs": [
    {
     "name": "stdout",
     "output_type": "stream",
     "text": [
      "       date  ch  pos  width  number of occupied gl promoter vector\n",
      "4  20190730   5   19    0.8                      1     rrnB     ch\n"
     ]
    }
   ],
   "source": [
    "subset=experiment_summary_table[experiment_summary_table[\"pos\"].isin([19])]\n",
    "print(subset)"
   ]
  },
  {
   "cell_type": "code",
   "execution_count": 47,
   "id": "3c1ade8f-1cac-4b53-af79-1904f21703d2",
   "metadata": {},
   "outputs": [
    {
     "name": "stdout",
     "output_type": "stream",
     "text": [
      "Batch folder already exist.\n",
      "mm.properties already exists, copying cancelled.\n",
      "/scicore/home/nimwegen/rocasu25/MM_Data/Dany/20190515/20190515_preproc_left\n",
      "Batch file does not exist. It is created for the following positions, for all detected growth lanes:\n",
      "Pos19\n"
     ]
    }
   ],
   "source": [
    "#Batch folder that should be used or created to supervise tracking/curation/export\n",
    "batch_folder=\"batch_med2\"\n",
    "batch_file=\"moma_batch_med2_pos19.yaml\"\n",
    "curation_id=\"moma_batch_pos_19_25\"\n",
    "create_moma_batch_directory(experimentFolderPath,batch_folder)\n",
    "create_yaml_file(batch_file,curation_id,experimentFolderPath,preprocFolder,batch_folder,subset)"
   ]
  },
  {
   "cell_type": "markdown",
   "id": "2673eee3-aef9-4c50-9b6b-93eef132ff76",
   "metadata": {},
   "source": [
    "### rpmB curation (left)"
   ]
  },
  {
   "cell_type": "code",
   "execution_count": 48,
   "id": "575b8ed8-e69d-476a-9ff4-a0634e9cbfc1",
   "metadata": {},
   "outputs": [
    {
     "name": "stdout",
     "output_type": "stream",
     "text": [
      "        date  ch  pos  width inoculated_gl promoter vector\n",
      "22  20190515   2   25    0.8          full     rpmB     ch\n"
     ]
    }
   ],
   "source": [
    "subset=experiment_summary_table[experiment_summary_table[\"pos\"].isin([25])]\n",
    "print(subset)"
   ]
  },
  {
   "cell_type": "code",
   "execution_count": 49,
   "id": "a93ea696-638c-4808-b26e-d528bdd45266",
   "metadata": {},
   "outputs": [
    {
     "name": "stdout",
     "output_type": "stream",
     "text": [
      "Batch folder already exist.\n",
      "mm.properties already exists, copying cancelled.\n",
      "/scicore/home/nimwegen/rocasu25/MM_Data/Dany/20190515/20190515_preproc_left\n",
      "Batch file does not exist. It is created for the following positions, for all detected growth lanes:\n",
      "Pos25\n"
     ]
    }
   ],
   "source": [
    "#Batch folder that should be used or created to supervise tracking/curation/export\n",
    "batch_folder=\"batch_rpmB\"\n",
    "batch_file=\"moma_batch_rpmB_pos25.yaml\"\n",
    "curation_id=\"moma_batch_pos_19_25\"\n",
    "create_moma_batch_directory(experimentFolderPath,batch_folder)\n",
    "create_yaml_file(batch_file,curation_id,experimentFolderPath,preprocFolder,batch_folder,subset)"
   ]
  },
  {
   "cell_type": "code",
   "execution_count": 39,
   "id": "471e8586-a1b7-4eaa-bd89-a6bfb889f0da",
   "metadata": {},
   "outputs": [
    {
     "data": {
      "text/plain": [
       "'/scicore/home/nimwegen/rocasu25/MM_Data/Dany/20190515/20190515_preproc_right_bis'"
      ]
     },
     "execution_count": 39,
     "metadata": {},
     "output_type": "execute_result"
    }
   ],
   "source": [
    "preproc_dir=\"%s/%s\"%(experimentFolderPath,preprocFolder)\n",
    "preproc_dir"
   ]
  },
  {
   "cell_type": "markdown",
   "id": "386faea1-33f9-4dd0-9c56-1fb6d033a8c2",
   "metadata": {},
   "source": [
    "#### Export after curation\n",
    "During curation, note down comments about growth lanes curated."
   ]
  },
  {
   "cell_type": "code",
   "execution_count": 40,
   "id": "4f1b5818-46aa-4fa7-aecf-6e1cb4d6e551",
   "metadata": {},
   "outputs": [
    {
     "name": "stdout",
     "output_type": "stream",
     "text": [
      "Batch file does not exist. It is created for the following positions, for all curated growth lanes in the export dictionnary:\n",
      "Pos0\n",
      "Pos1\n"
     ]
    }
   ],
   "source": [
    "#Final list of growth lanes that can be exported.\n",
    "gls_dic={0:[2,3,4,6,8,9,10,12,13,14,16,17,18,19],\n",
    "         1:[1,2,3,4,5,6,8,9,10,11,12]}\n",
    "\n",
    "write_export_yaml_file(batch_file,experimentFolderPath,preprocFolder,batch_folder,gls_dic)"
   ]
  },
  {
   "cell_type": "markdown",
   "id": "46ccc712-da2e-40af-b57b-190f07976b01",
   "metadata": {},
   "source": [
    "#### Tidying curated csv files for R analysis\n",
    "The following will be tidied"
   ]
  },
  {
   "cell_type": "code",
   "execution_count": 94,
   "id": "5ebf4fa8-22f8-42e9-85a9-4179cffea926",
   "metadata": {},
   "outputs": [],
   "source": [
    "%%capture\n",
    "#DO NOT MODIFY\n",
    "#regular expressions for the cvs files to look for\n",
    "subset=experiment_summary_table[experiment_summary_table[\"pos\"].isin([19,25])]\n",
    "print(subset)\n",
    "gls_dic={19:list(np.arange(0,60)),\n",
    "        25:list(np.arange(0,60))}\n",
    "rx0='CellStats__(.*).csv' \n",
    "pyMoM.extractAndTidyCurated(experimentFolderPath,preprocFolder,subset,rx0,gls_dic,analysis_id='moma_batch_pos_19_25')"
   ]
  },
  {
   "cell_type": "code",
   "execution_count": 70,
   "id": "598ce8d8-d482-466b-973d-0ede03dae3d1",
   "metadata": {},
   "outputs": [
    {
     "name": "stdout",
     "output_type": "stream",
     "text": [
      "20190515,glucose_glycerol_switch,0,440,glucose,3,/scicore/home/nimwegen/rocasu25/MM_Data/Dany/20190515/curated_data/hi1_ch_curated,hi1,ch,100\n",
      "20190515,glucose_glycerol_switch,0,440,glucose,3,/scicore/home/nimwegen/rocasu25/MM_Data/Dany/20190515/curated_data/med1_ch_curated,med1,ch,100\n",
      "20190515,glucose_glycerol_switch,0,440,glucose,3,/scicore/home/nimwegen/rocasu25/MM_Data/Dany/20190515/curated_data/med2_ch_curated,med2,ch,100\n",
      "20190515,glucose_glycerol_switch,0,440,glucose,3,/scicore/home/nimwegen/rocasu25/MM_Data/Dany/20190515/curated_data/rpmB_ch_curated,rpmB,ch,100\n",
      "20190515,glucose_glycerol_switch,440,Inf,glycerol,6,/scicore/home/nimwegen/rocasu25/MM_Data/Dany/20190515/curated_data/hi1_ch_curated,hi1,ch,100\n",
      "20190515,glucose_glycerol_switch,440,Inf,glycerol,6,/scicore/home/nimwegen/rocasu25/MM_Data/Dany/20190515/curated_data/med1_ch_curated,med1,ch,100\n",
      "20190515,glucose_glycerol_switch,440,Inf,glycerol,6,/scicore/home/nimwegen/rocasu25/MM_Data/Dany/20190515/curated_data/med2_ch_curated,med2,ch,100\n",
      "20190515,glucose_glycerol_switch,440,Inf,glycerol,6,/scicore/home/nimwegen/rocasu25/MM_Data/Dany/20190515/curated_data/rpmB_ch_curated,rpmB,ch,100\n"
     ]
    }
   ],
   "source": [
    "#Generate entries for R analysis\n",
    "generate_import_script_input(experimentFolderPath,subset,experiment_summary_table,experimental_details)"
   ]
  },
  {
   "cell_type": "markdown",
   "id": "fd743b5e-25e5-4057-806d-ec6cd1568e11",
   "metadata": {
    "tags": []
   },
   "source": [
    "# 20230209, glycerol 0.4% (400 frames, step=6min, total 40h)\n"
   ]
  },
  {
   "cell_type": "code",
   "execution_count": 15,
   "id": "6d5932cf-345b-437e-9e93-fccae3c5d42e",
   "metadata": {},
   "outputs": [],
   "source": [
    "#Edit the following\n",
    "experimental_details=[{\n",
    "    \"date\":\"20230209\",\n",
    "    \"description\":\"glucose_glycerol_switch\",\n",
    "    \"f_start\":\"0\",\n",
    "    \"f_end\":\"400\",\n",
    "    \"condition\":\"glycerol\",\n",
    "    \"t_interval\":\"6\",\n",
    "    \"cell_detection_offset\":\"100\"}] #min\n",
    "\n",
    "#Preprocessing infos\n",
    "experimentFolderPath='/scicore/home/nimwegen/rocasu25/MM_Data/Dany/20230209'\n",
    "##Preprocessing folder\n",
    "preprocFolder=\"20230209_gly_preproc\"\n",
    "##List of positions\n",
    "#pos_var=\"POS_NAMES=(Pos0)\"\n",
    "pos_var=\"POS_NAMES=(Pos1 Pos2 Pos3 Pos4 Pos5 Pos6 Pos7 Pos8 Pos9 Pos10 Pos11 Pos12 Pos13 Pos14 Pos15 Pos16 Pos17 Pos18 Pos19 Pos20 Pos21 Pos22 Pos23 Pos24 Pos25 Pos26 Pos27)\"\n",
    "##Template to use for the preprocessing\n",
    "template=\"TEMPLATE_vng124\"\n",
    "##Rotation (to determine on imageJ)\n",
    "ROTATION=\"90\"\n",
    "##TMAX, if processing is not to look at all frames\n",
    "TMAX=\"400\"\n",
    "##Normalization offset\n",
    "NORMALIZATION_REGION_OFFSET=\"100\"\n",
    "##Raw path to the data\n",
    "RAW_PATH=\"/scicore/home/nimwegen/rocasu25/MM_Data/Dany/20230209/20230209_gly/20230209_gly_1/20230209_gly_1_MMStack.ome.tif\"\n",
    "##Raw path to flat field data\n",
    "FLATFIELD_PATH=\"/scicore/home/nimwegen/rocasu25/MM_Data/Dany/20230209/20230209_gfpflatfield_1/20230209_gfpflatfield_1_MMStack.ome.tif\""
   ]
  },
  {
   "cell_type": "code",
   "execution_count": 12,
   "id": "ef5699d4-404b-4ef7-90ea-a5d34dc37592",
   "metadata": {},
   "outputs": [
    {
     "name": "stdin",
     "output_type": "stream",
     "text": [
      "Do you really want to submit preprocessing tasks to the scheduler? If the preprocessing folder target path has not been changed, it might result in overwritting your data. Enter 'Yes', to confirm. Yes\n"
     ]
    },
    {
     "name": "stdout",
     "output_type": "stream",
     "text": [
      "Preprocessing queued... (use squeue to check the current status)\n"
     ]
    }
   ],
   "source": [
    "submit_preprocessing(experimentFolderPath,preprocFolder,template,NORMALIZATION_REGION_OFFSET,pos_var,RAW_PATH,FLATFIELD_PATH,ROTATION,TMAX)"
   ]
  },
  {
   "cell_type": "markdown",
   "id": "8c1019c8-5160-4ead-9b4c-728508aa3176",
   "metadata": {
    "tags": []
   },
   "source": [
    "## Moma Batch"
   ]
  },
  {
   "cell_type": "code",
   "execution_count": 16,
   "id": "60149af9-dac3-4982-8eab-82ed989c8baf",
   "metadata": {},
   "outputs": [
    {
     "data": {
      "text/html": [
       "<div>\n",
       "<style scoped>\n",
       "    .dataframe tbody tr th:only-of-type {\n",
       "        vertical-align: middle;\n",
       "    }\n",
       "\n",
       "    .dataframe tbody tr th {\n",
       "        vertical-align: top;\n",
       "    }\n",
       "\n",
       "    .dataframe thead th {\n",
       "        text-align: right;\n",
       "    }\n",
       "</style>\n",
       "<table border=\"1\" class=\"dataframe\">\n",
       "  <thead>\n",
       "    <tr style=\"text-align: right;\">\n",
       "      <th></th>\n",
       "      <th>date</th>\n",
       "      <th>ch</th>\n",
       "      <th>pos</th>\n",
       "      <th>width</th>\n",
       "      <th>inoculated_gl</th>\n",
       "      <th>promoter</th>\n",
       "      <th>vector</th>\n",
       "    </tr>\n",
       "  </thead>\n",
       "  <tbody>\n",
       "    <tr>\n",
       "      <th>0</th>\n",
       "      <td>20230209</td>\n",
       "      <td>4</td>\n",
       "      <td>0</td>\n",
       "      <td>1</td>\n",
       "      <td>14</td>\n",
       "      <td>med3</td>\n",
       "      <td>ch</td>\n",
       "    </tr>\n",
       "    <tr>\n",
       "      <th>1</th>\n",
       "      <td>20230209</td>\n",
       "      <td>4</td>\n",
       "      <td>1</td>\n",
       "      <td>1</td>\n",
       "      <td>17</td>\n",
       "      <td>med3</td>\n",
       "      <td>ch</td>\n",
       "    </tr>\n",
       "    <tr>\n",
       "      <th>2</th>\n",
       "      <td>20230209</td>\n",
       "      <td>4</td>\n",
       "      <td>2</td>\n",
       "      <td>1</td>\n",
       "      <td>18</td>\n",
       "      <td>med3</td>\n",
       "      <td>ch</td>\n",
       "    </tr>\n",
       "    <tr>\n",
       "      <th>3</th>\n",
       "      <td>20230209</td>\n",
       "      <td>4</td>\n",
       "      <td>3</td>\n",
       "      <td>1</td>\n",
       "      <td>19</td>\n",
       "      <td>med3</td>\n",
       "      <td>ch</td>\n",
       "    </tr>\n",
       "    <tr>\n",
       "      <th>4</th>\n",
       "      <td>20230209</td>\n",
       "      <td>5</td>\n",
       "      <td>4</td>\n",
       "      <td>1</td>\n",
       "      <td>17</td>\n",
       "      <td>med2</td>\n",
       "      <td>ch</td>\n",
       "    </tr>\n",
       "    <tr>\n",
       "      <th>5</th>\n",
       "      <td>20230209</td>\n",
       "      <td>5</td>\n",
       "      <td>5</td>\n",
       "      <td>1</td>\n",
       "      <td>16</td>\n",
       "      <td>med2</td>\n",
       "      <td>ch</td>\n",
       "    </tr>\n",
       "    <tr>\n",
       "      <th>6</th>\n",
       "      <td>20230209</td>\n",
       "      <td>5</td>\n",
       "      <td>6</td>\n",
       "      <td>1</td>\n",
       "      <td>15</td>\n",
       "      <td>med2</td>\n",
       "      <td>ch</td>\n",
       "    </tr>\n",
       "    <tr>\n",
       "      <th>7</th>\n",
       "      <td>20230209</td>\n",
       "      <td>5</td>\n",
       "      <td>7</td>\n",
       "      <td>1</td>\n",
       "      <td>16</td>\n",
       "      <td>med2</td>\n",
       "      <td>ch</td>\n",
       "    </tr>\n",
       "    <tr>\n",
       "      <th>8</th>\n",
       "      <td>20230209</td>\n",
       "      <td>6</td>\n",
       "      <td>8</td>\n",
       "      <td>1</td>\n",
       "      <td>17</td>\n",
       "      <td>hi3</td>\n",
       "      <td>ch</td>\n",
       "    </tr>\n",
       "    <tr>\n",
       "      <th>9</th>\n",
       "      <td>20230209</td>\n",
       "      <td>6</td>\n",
       "      <td>9</td>\n",
       "      <td>1</td>\n",
       "      <td>16</td>\n",
       "      <td>hi3</td>\n",
       "      <td>ch</td>\n",
       "    </tr>\n",
       "    <tr>\n",
       "      <th>10</th>\n",
       "      <td>20230209</td>\n",
       "      <td>6</td>\n",
       "      <td>10</td>\n",
       "      <td>1</td>\n",
       "      <td>17</td>\n",
       "      <td>hi3</td>\n",
       "      <td>ch</td>\n",
       "    </tr>\n",
       "    <tr>\n",
       "      <th>11</th>\n",
       "      <td>20230209</td>\n",
       "      <td>6</td>\n",
       "      <td>11</td>\n",
       "      <td>1</td>\n",
       "      <td>16</td>\n",
       "      <td>hi3</td>\n",
       "      <td>ch</td>\n",
       "    </tr>\n",
       "    <tr>\n",
       "      <th>12</th>\n",
       "      <td>20230209</td>\n",
       "      <td>7</td>\n",
       "      <td>12</td>\n",
       "      <td>1</td>\n",
       "      <td>17</td>\n",
       "      <td>hi1</td>\n",
       "      <td>ch</td>\n",
       "    </tr>\n",
       "    <tr>\n",
       "      <th>13</th>\n",
       "      <td>20230209</td>\n",
       "      <td>7</td>\n",
       "      <td>13</td>\n",
       "      <td>1</td>\n",
       "      <td>16</td>\n",
       "      <td>hi1</td>\n",
       "      <td>ch</td>\n",
       "    </tr>\n",
       "    <tr>\n",
       "      <th>14</th>\n",
       "      <td>20230209</td>\n",
       "      <td>7</td>\n",
       "      <td>14</td>\n",
       "      <td>1</td>\n",
       "      <td>17</td>\n",
       "      <td>hi1</td>\n",
       "      <td>ch</td>\n",
       "    </tr>\n",
       "    <tr>\n",
       "      <th>15</th>\n",
       "      <td>20230209</td>\n",
       "      <td>7</td>\n",
       "      <td>15</td>\n",
       "      <td>1</td>\n",
       "      <td>16</td>\n",
       "      <td>hi1</td>\n",
       "      <td>ch</td>\n",
       "    </tr>\n",
       "    <tr>\n",
       "      <th>16</th>\n",
       "      <td>20230209</td>\n",
       "      <td>3</td>\n",
       "      <td>16</td>\n",
       "      <td>1</td>\n",
       "      <td>17</td>\n",
       "      <td>rrnB</td>\n",
       "      <td>ch</td>\n",
       "    </tr>\n",
       "    <tr>\n",
       "      <th>17</th>\n",
       "      <td>20230209</td>\n",
       "      <td>3</td>\n",
       "      <td>17</td>\n",
       "      <td>1</td>\n",
       "      <td>17</td>\n",
       "      <td>rrnB</td>\n",
       "      <td>ch</td>\n",
       "    </tr>\n",
       "    <tr>\n",
       "      <th>18</th>\n",
       "      <td>20230209</td>\n",
       "      <td>3</td>\n",
       "      <td>18</td>\n",
       "      <td>1</td>\n",
       "      <td>17</td>\n",
       "      <td>rrnB</td>\n",
       "      <td>ch</td>\n",
       "    </tr>\n",
       "    <tr>\n",
       "      <th>19</th>\n",
       "      <td>20230209</td>\n",
       "      <td>3</td>\n",
       "      <td>19</td>\n",
       "      <td>1</td>\n",
       "      <td>17</td>\n",
       "      <td>rrnB</td>\n",
       "      <td>ch</td>\n",
       "    </tr>\n",
       "    <tr>\n",
       "      <th>20</th>\n",
       "      <td>20230209</td>\n",
       "      <td>2</td>\n",
       "      <td>20</td>\n",
       "      <td>1</td>\n",
       "      <td>17</td>\n",
       "      <td>rplN</td>\n",
       "      <td>ch</td>\n",
       "    </tr>\n",
       "    <tr>\n",
       "      <th>21</th>\n",
       "      <td>20230209</td>\n",
       "      <td>2</td>\n",
       "      <td>21</td>\n",
       "      <td>1</td>\n",
       "      <td>17</td>\n",
       "      <td>rplN</td>\n",
       "      <td>ch</td>\n",
       "    </tr>\n",
       "    <tr>\n",
       "      <th>22</th>\n",
       "      <td>20230209</td>\n",
       "      <td>2</td>\n",
       "      <td>22</td>\n",
       "      <td>1</td>\n",
       "      <td>17</td>\n",
       "      <td>rplN</td>\n",
       "      <td>ch</td>\n",
       "    </tr>\n",
       "    <tr>\n",
       "      <th>23</th>\n",
       "      <td>20230209</td>\n",
       "      <td>2</td>\n",
       "      <td>23</td>\n",
       "      <td>1</td>\n",
       "      <td>17</td>\n",
       "      <td>rplN</td>\n",
       "      <td>ch</td>\n",
       "    </tr>\n",
       "    <tr>\n",
       "      <th>24</th>\n",
       "      <td>20230209</td>\n",
       "      <td>1</td>\n",
       "      <td>24</td>\n",
       "      <td>1</td>\n",
       "      <td>17</td>\n",
       "      <td>6300</td>\n",
       "      <td>ch</td>\n",
       "    </tr>\n",
       "    <tr>\n",
       "      <th>25</th>\n",
       "      <td>20230209</td>\n",
       "      <td>1</td>\n",
       "      <td>25</td>\n",
       "      <td>1</td>\n",
       "      <td>17</td>\n",
       "      <td>6300</td>\n",
       "      <td>ch</td>\n",
       "    </tr>\n",
       "    <tr>\n",
       "      <th>26</th>\n",
       "      <td>20230209</td>\n",
       "      <td>1</td>\n",
       "      <td>26</td>\n",
       "      <td>1</td>\n",
       "      <td>17</td>\n",
       "      <td>6300</td>\n",
       "      <td>ch</td>\n",
       "    </tr>\n",
       "    <tr>\n",
       "      <th>27</th>\n",
       "      <td>20230209</td>\n",
       "      <td>1</td>\n",
       "      <td>27</td>\n",
       "      <td>1</td>\n",
       "      <td>17</td>\n",
       "      <td>6300</td>\n",
       "      <td>ch</td>\n",
       "    </tr>\n",
       "  </tbody>\n",
       "</table>\n",
       "</div>"
      ],
      "text/plain": [
       "        date  ch  pos  width  inoculated_gl promoter vector\n",
       "0   20230209   4    0      1             14     med3     ch\n",
       "1   20230209   4    1      1             17     med3     ch\n",
       "2   20230209   4    2      1             18     med3     ch\n",
       "3   20230209   4    3      1             19     med3     ch\n",
       "4   20230209   5    4      1             17     med2     ch\n",
       "5   20230209   5    5      1             16     med2     ch\n",
       "6   20230209   5    6      1             15     med2     ch\n",
       "7   20230209   5    7      1             16     med2     ch\n",
       "8   20230209   6    8      1             17      hi3     ch\n",
       "9   20230209   6    9      1             16      hi3     ch\n",
       "10  20230209   6   10      1             17      hi3     ch\n",
       "11  20230209   6   11      1             16      hi3     ch\n",
       "12  20230209   7   12      1             17      hi1     ch\n",
       "13  20230209   7   13      1             16      hi1     ch\n",
       "14  20230209   7   14      1             17      hi1     ch\n",
       "15  20230209   7   15      1             16      hi1     ch\n",
       "16  20230209   3   16      1             17     rrnB     ch\n",
       "17  20230209   3   17      1             17     rrnB     ch\n",
       "18  20230209   3   18      1             17     rrnB     ch\n",
       "19  20230209   3   19      1             17     rrnB     ch\n",
       "20  20230209   2   20      1             17     rplN     ch\n",
       "21  20230209   2   21      1             17     rplN     ch\n",
       "22  20230209   2   22      1             17     rplN     ch\n",
       "23  20230209   2   23      1             17     rplN     ch\n",
       "24  20230209   1   24      1             17     6300     ch\n",
       "25  20230209   1   25      1             17     6300     ch\n",
       "26  20230209   1   26      1             17     6300     ch\n",
       "27  20230209   1   27      1             17     6300     ch"
      ]
     },
     "execution_count": 16,
     "metadata": {},
     "output_type": "execute_result"
    }
   ],
   "source": [
    "#Generate a YAML file from experiment_summary_table\n",
    "#Select rows of interest, that will be curated, from the curated data summary table\n",
    "experiment_summary_table=print_curated_data_summary(experimental_details,experimentFolderPath)\n",
    "experiment_summary_table"
   ]
  },
  {
   "cell_type": "markdown",
   "id": "0408a12c-622b-43a3-a593-88770f196065",
   "metadata": {},
   "source": [
    "### hi1"
   ]
  },
  {
   "cell_type": "code",
   "execution_count": 17,
   "id": "3ceb36c6-780f-4afa-a3db-aeef30f5ef20",
   "metadata": {},
   "outputs": [
    {
     "name": "stdout",
     "output_type": "stream",
     "text": [
      "        date  ch  pos  width  inoculated_gl promoter vector\n",
      "12  20230209   7   12      1             17      hi1     ch\n",
      "13  20230209   7   13      1             16      hi1     ch\n"
     ]
    }
   ],
   "source": [
    "subset=experiment_summary_table[experiment_summary_table[\"pos\"].isin([12,13])]\n",
    "print(subset)"
   ]
  },
  {
   "cell_type": "code",
   "execution_count": 13,
   "id": "d901c487-748f-4a87-be6d-5cb658fa1d66",
   "metadata": {},
   "outputs": [
    {
     "name": "stdout",
     "output_type": "stream",
     "text": [
      "Batch folder already exist.\n",
      "mm.properties already exists, copying cancelled.\n",
      "/scicore/home/nimwegen/rocasu25/MM_Data/Dany/20230209/20230209_gly_preproc\n",
      "Batch file does not exist. It is created for the following positions, for all detected growth lanes:\n",
      "Pos13\n"
     ]
    }
   ],
   "source": [
    "#Batch folder that should be used or created to supervise tracking/curation/export\n",
    "batch_folder=\"batch_gly_hi1\"\n",
    "batch_file=\"batch_gly_hi1_pos13.yaml\"\n",
    "curation_id=\"batch_gly_hi1\"\n",
    "create_moma_batch_directory(experimentFolderPath,batch_folder)\n",
    "create_yaml_file(batch_file,curation_id,experimentFolderPath,preprocFolder,batch_folder,subset)"
   ]
  },
  {
   "cell_type": "code",
   "execution_count": 19,
   "id": "56e7364c-15b3-43b7-92f7-196e818725f3",
   "metadata": {},
   "outputs": [],
   "source": [
    "%%capture\n",
    "#DO NOT MODIFY\n",
    "#regular expressions for the cvs files to look for\n",
    "subset=experiment_summary_table[experiment_summary_table[\"pos\"].isin([12,13])]\n",
    "print(subset)\n",
    "gls_dic={12:list(np.arange(0,60)),\n",
    "        13:list(np.arange(0,60))}\n",
    "rx0='CellStats__(.*).csv' \n",
    "pyMoM.extractAndTidyCurated(experimentFolderPath,preprocFolder,subset,rx0,gls_dic,analysis_id='batch_gly_hi1')"
   ]
  },
  {
   "cell_type": "markdown",
   "id": "61415a11-deec-494b-bd67-9a214fb333de",
   "metadata": {},
   "source": [
    "### 6300"
   ]
  },
  {
   "cell_type": "code",
   "execution_count": 8,
   "id": "614827e1-550e-4ce7-94f0-ced4e7779289",
   "metadata": {},
   "outputs": [
    {
     "name": "stdout",
     "output_type": "stream",
     "text": [
      "        date  ch  pos  width  inoculated_gl promoter vector\n",
      "24  20230209   1   24      1             17     6300     ch\n",
      "25  20230209   1   25      1             17     6300     ch\n"
     ]
    }
   ],
   "source": [
    "subset=experiment_summary_table[experiment_summary_table[\"pos\"].isin([24,25])]\n",
    "print(subset)"
   ]
  },
  {
   "cell_type": "code",
   "execution_count": 12,
   "id": "3c9f0c5d-643b-41ad-bc7c-76f5e03ba853",
   "metadata": {},
   "outputs": [
    {
     "name": "stdout",
     "output_type": "stream",
     "text": [
      "Making batch directory batch_gly_6300.\n",
      "Copying standard mm.properties file to batch_gly_6300.\n",
      "/scicore/home/nimwegen/rocasu25/MM_Data/Dany/20230209/20230209_gly_preproc\n",
      "Batch file does not exist. It is created for the following positions, for all detected growth lanes:\n",
      "Pos24\n",
      "Pos25\n"
     ]
    }
   ],
   "source": [
    "#Batch folder that should be used or created to supervise tracking/curation/export\n",
    "batch_folder=\"batch_gly_6300\"\n",
    "batch_file=\"moma_batch_gly_6300.yaml\"\n",
    "curation_id=\"moma_batch_gly_6300\"\n",
    "create_moma_batch_directory(experimentFolderPath,batch_folder)\n",
    "create_yaml_file(batch_file,curation_id,experimentFolderPath,preprocFolder,batch_folder,subset)"
   ]
  },
  {
   "cell_type": "code",
   "execution_count": 9,
   "id": "440cec95-d2df-4d3b-8dfe-1ee3c2dfd918",
   "metadata": {},
   "outputs": [],
   "source": [
    "%%capture\n",
    "#DO NOT MODIFY\n",
    "#regular expressions for the cvs files to look for\n",
    "subset=experiment_summary_table[experiment_summary_table[\"pos\"].isin([24,25])]\n",
    "print(subset)\n",
    "gls_dic={24:list(np.arange(0,60)),\n",
    "        25:list(np.arange(0,60))}\n",
    "\n",
    "rx0='CellStats__(.*).csv' \n",
    "pyMoM.extractAndTidyCurated(experimentFolderPath,preprocFolder,subset,rx0,gls_dic,analysis_id='moma_batch_gly_6300')"
   ]
  },
  {
   "cell_type": "markdown",
   "id": "e27b8153-865a-4886-8cf9-37dc5b53a43d",
   "metadata": {},
   "source": [
    "### rpsB curation (left)"
   ]
  },
  {
   "cell_type": "code",
   "execution_count": 38,
   "id": "214ed470-fb23-40e2-b6ff-d087e01bf9cf",
   "metadata": {},
   "outputs": [
    {
     "name": "stdout",
     "output_type": "stream",
     "text": [
      "       date  ch  pos  width  number of occupied gl promoter vector\n",
      "4  20190730   5   19    0.8                      1     rrnB     ch\n"
     ]
    }
   ],
   "source": [
    "subset=experiment_summary_table[experiment_summary_table[\"pos\"].isin([19])]\n",
    "print(subset)"
   ]
  },
  {
   "cell_type": "code",
   "execution_count": 47,
   "id": "68fa7c2c-7c33-4e44-af83-a9cb2fa13d71",
   "metadata": {},
   "outputs": [
    {
     "name": "stdout",
     "output_type": "stream",
     "text": [
      "Batch folder already exist.\n",
      "mm.properties already exists, copying cancelled.\n",
      "/scicore/home/nimwegen/rocasu25/MM_Data/Dany/20190515/20190515_preproc_left\n",
      "Batch file does not exist. It is created for the following positions, for all detected growth lanes:\n",
      "Pos19\n"
     ]
    }
   ],
   "source": [
    "#Batch folder that should be used or created to supervise tracking/curation/export\n",
    "batch_folder=\"batch_med2\"\n",
    "batch_file=\"moma_batch_med2_pos19.yaml\"\n",
    "curation_id=\"moma_batch_pos_19_25\"\n",
    "create_moma_batch_directory(experimentFolderPath,batch_folder)\n",
    "create_yaml_file(batch_file,curation_id,experimentFolderPath,preprocFolder,batch_folder,subset)"
   ]
  },
  {
   "cell_type": "markdown",
   "id": "a59295cd-d7fd-4b1b-b018-023809e389f6",
   "metadata": {},
   "source": [
    "### rpmB curation (left)"
   ]
  },
  {
   "cell_type": "code",
   "execution_count": 48,
   "id": "d0f31cdc-a84b-4d83-a817-e6dbf488dc5e",
   "metadata": {},
   "outputs": [
    {
     "name": "stdout",
     "output_type": "stream",
     "text": [
      "        date  ch  pos  width inoculated_gl promoter vector\n",
      "22  20190515   2   25    0.8          full     rpmB     ch\n"
     ]
    }
   ],
   "source": [
    "subset=experiment_summary_table[experiment_summary_table[\"pos\"].isin([25])]\n",
    "print(subset)"
   ]
  },
  {
   "cell_type": "code",
   "execution_count": 49,
   "id": "c8bd8e09-4733-46df-a711-4aaec8b968da",
   "metadata": {},
   "outputs": [
    {
     "name": "stdout",
     "output_type": "stream",
     "text": [
      "Batch folder already exist.\n",
      "mm.properties already exists, copying cancelled.\n",
      "/scicore/home/nimwegen/rocasu25/MM_Data/Dany/20190515/20190515_preproc_left\n",
      "Batch file does not exist. It is created for the following positions, for all detected growth lanes:\n",
      "Pos25\n"
     ]
    }
   ],
   "source": [
    "#Batch folder that should be used or created to supervise tracking/curation/export\n",
    "batch_folder=\"batch_rpmB\"\n",
    "batch_file=\"moma_batch_rpmB_pos25.yaml\"\n",
    "curation_id=\"moma_batch_pos_19_25\"\n",
    "create_moma_batch_directory(experimentFolderPath,batch_folder)\n",
    "create_yaml_file(batch_file,curation_id,experimentFolderPath,preprocFolder,batch_folder,subset)"
   ]
  },
  {
   "cell_type": "code",
   "execution_count": 39,
   "id": "4cf4a059-c76d-499f-8140-1dcc6200580a",
   "metadata": {},
   "outputs": [
    {
     "data": {
      "text/plain": [
       "'/scicore/home/nimwegen/rocasu25/MM_Data/Dany/20190515/20190515_preproc_right_bis'"
      ]
     },
     "execution_count": 39,
     "metadata": {},
     "output_type": "execute_result"
    }
   ],
   "source": [
    "preproc_dir=\"%s/%s\"%(experimentFolderPath,preprocFolder)\n",
    "preproc_dir"
   ]
  },
  {
   "cell_type": "markdown",
   "id": "a03b3d2c-9256-464e-af9d-5451be6bdfc2",
   "metadata": {},
   "source": [
    "#### Export after curation\n",
    "During curation, note down comments about growth lanes curated."
   ]
  },
  {
   "cell_type": "code",
   "execution_count": 40,
   "id": "ca119327-6773-4f2c-bea3-1fe84a3bb740",
   "metadata": {},
   "outputs": [
    {
     "name": "stdout",
     "output_type": "stream",
     "text": [
      "Batch file does not exist. It is created for the following positions, for all curated growth lanes in the export dictionnary:\n",
      "Pos0\n",
      "Pos1\n"
     ]
    }
   ],
   "source": [
    "#Final list of growth lanes that can be exported.\n",
    "gls_dic={0:[2,3,4,6,8,9,10,12,13,14,16,17,18,19],\n",
    "         1:[1,2,3,4,5,6,8,9,10,11,12]}\n",
    "\n",
    "write_export_yaml_file(batch_file,experimentFolderPath,preprocFolder,batch_folder,gls_dic)"
   ]
  },
  {
   "cell_type": "markdown",
   "id": "d254dc41-cceb-49d7-83f7-f46ae0f0cfd5",
   "metadata": {},
   "source": [
    "#### Tidying curated csv files for R analysis\n",
    "The following will be tidied"
   ]
  },
  {
   "cell_type": "code",
   "execution_count": 94,
   "id": "784a0dd2-9a1e-4bd2-abfd-684ea187531b",
   "metadata": {},
   "outputs": [],
   "source": [
    "%%capture\n",
    "#DO NOT MODIFY\n",
    "#regular expressions for the cvs files to look for\n",
    "subset=experiment_summary_table[experiment_summary_table[\"pos\"].isin([19,25])]\n",
    "print(subset)\n",
    "gls_dic={19:list(np.arange(0,60)),\n",
    "        25:list(np.arange(0,60))}\n",
    "rx0='CellStats__(.*).csv' \n",
    "pyMoM.extractAndTidyCurated(experimentFolderPath,preprocFolder,subset,rx0,gls_dic,analysis_id='moma_batch_pos_19_25')"
   ]
  },
  {
   "cell_type": "code",
   "execution_count": 70,
   "id": "afbb318d-48e8-4fad-91d4-dc0812622ceb",
   "metadata": {},
   "outputs": [
    {
     "name": "stdout",
     "output_type": "stream",
     "text": [
      "20190515,glucose_glycerol_switch,0,440,glucose,3,/scicore/home/nimwegen/rocasu25/MM_Data/Dany/20190515/curated_data/hi1_ch_curated,hi1,ch,100\n",
      "20190515,glucose_glycerol_switch,0,440,glucose,3,/scicore/home/nimwegen/rocasu25/MM_Data/Dany/20190515/curated_data/med1_ch_curated,med1,ch,100\n",
      "20190515,glucose_glycerol_switch,0,440,glucose,3,/scicore/home/nimwegen/rocasu25/MM_Data/Dany/20190515/curated_data/med2_ch_curated,med2,ch,100\n",
      "20190515,glucose_glycerol_switch,0,440,glucose,3,/scicore/home/nimwegen/rocasu25/MM_Data/Dany/20190515/curated_data/rpmB_ch_curated,rpmB,ch,100\n",
      "20190515,glucose_glycerol_switch,440,Inf,glycerol,6,/scicore/home/nimwegen/rocasu25/MM_Data/Dany/20190515/curated_data/hi1_ch_curated,hi1,ch,100\n",
      "20190515,glucose_glycerol_switch,440,Inf,glycerol,6,/scicore/home/nimwegen/rocasu25/MM_Data/Dany/20190515/curated_data/med1_ch_curated,med1,ch,100\n",
      "20190515,glucose_glycerol_switch,440,Inf,glycerol,6,/scicore/home/nimwegen/rocasu25/MM_Data/Dany/20190515/curated_data/med2_ch_curated,med2,ch,100\n",
      "20190515,glucose_glycerol_switch,440,Inf,glycerol,6,/scicore/home/nimwegen/rocasu25/MM_Data/Dany/20190515/curated_data/rpmB_ch_curated,rpmB,ch,100\n"
     ]
    }
   ],
   "source": [
    "#Generate entries for R analysis\n",
    "generate_import_script_input(experimentFolderPath,subset,experiment_summary_table,experimental_details)"
   ]
  },
  {
   "cell_type": "markdown",
   "id": "53a7e794-40c7-4f08-8253-c9b0953d645f",
   "metadata": {
    "tags": []
   },
   "source": [
    "# 20230223, acetate 0.05% (400 frames, step=12min, total 80h)\n"
   ]
  },
  {
   "cell_type": "code",
   "execution_count": 2,
   "id": "ab2a5368-748e-46b2-9b74-0c7fe72e5cce",
   "metadata": {},
   "outputs": [],
   "source": [
    "#Edit the following\n",
    "experimental_details=[{\n",
    "    \"date\":\"20230228\",\n",
    "    \"description\":\"acetate\",\n",
    "    \"f_start\":\"0\",\n",
    "    \"f_end\":\"400\",\n",
    "    \"condition\":\"acetate\",\n",
    "    \"t_interval\":\"12\",\n",
    "    \"cell_detection_offset\":\"100\"}] #min\n",
    "\n",
    "#Preprocessing infos\n",
    "experimentFolderPath='/scicore/home/nimwegen/rocasu25/MM_Data/Dany/20230223'\n",
    "##Preprocessing folder\n",
    "preprocFolder=\"20230223_ace_preproc\"\n",
    "##List of positions\n",
    "#pos_var=\"POS_NAMES=(Pos0 Pos1)\"\n",
    "pos_var=\"POS_NAMES=(Pos17 Pos18)\"\n",
    "#pos_var=\"POS_NAMES=(Pos0 Pos1 Pos2 Pos3 Pos4 Pos5 Pos6 Pos17 Pos18 Pos19 Pos20 Pos21 Pos22 Pos23 Pos24)\"\n",
    "##Template to use for the preprocessing\n",
    "template=\"TEMPLATE_vng124\"\n",
    "##Rotation (to determine on imageJ)\n",
    "ROTATION=\"89.9\"\n",
    "##TMAX, if processing is not to look at all frames\n",
    "TMAX=\"400\"\n",
    "##Normalization offset\n",
    "NORMALIZATION_REGION_OFFSET=\"100\"\n",
    "##Raw path to the data\n",
    "RAW_PATH=\"/scicore/home/nimwegen/rocasu25/MM_Data/Dany/20230223/20230223_ace/20230223_ace_2/20230223_ace_2_MMStack.ome.tif\"\n",
    "##Raw path to flat field data\n",
    "FLATFIELD_PATH=\"/scicore/home/nimwegen/rocasu25/MM_Data/Dany/20230223/20230223_gfpflatfield/20230223_gfpflatfield_1/20230223_gfpflatfield_1_MMStack.ome.tif\""
   ]
  },
  {
   "cell_type": "code",
   "execution_count": 15,
   "id": "43bca3c7-fbba-4142-85e2-f00d3ba5b035",
   "metadata": {},
   "outputs": [
    {
     "name": "stdin",
     "output_type": "stream",
     "text": [
      "Do you really want to submit preprocessing tasks to the scheduler? If the preprocessing folder target path has not been changed, it might result in overwritting your data. Enter 'Yes', to confirm. Yes\n"
     ]
    },
    {
     "name": "stdout",
     "output_type": "stream",
     "text": [
      "Preprocessing queued... (use squeue to check the current status)\n"
     ]
    }
   ],
   "source": [
    "submit_preprocessing(experimentFolderPath,preprocFolder,template,NORMALIZATION_REGION_OFFSET,pos_var,RAW_PATH,FLATFIELD_PATH,ROTATION,TMAX)"
   ]
  },
  {
   "cell_type": "markdown",
   "id": "b224da78-cc3b-479f-8b3d-2e98804dab12",
   "metadata": {
    "tags": []
   },
   "source": [
    "## Moma Batch"
   ]
  },
  {
   "cell_type": "code",
   "execution_count": 3,
   "id": "16d6ed11-4664-4571-8adf-8f08b776bc89",
   "metadata": {},
   "outputs": [
    {
     "data": {
      "text/html": [
       "<div>\n",
       "<style scoped>\n",
       "    .dataframe tbody tr th:only-of-type {\n",
       "        vertical-align: middle;\n",
       "    }\n",
       "\n",
       "    .dataframe tbody tr th {\n",
       "        vertical-align: top;\n",
       "    }\n",
       "\n",
       "    .dataframe thead th {\n",
       "        text-align: right;\n",
       "    }\n",
       "</style>\n",
       "<table border=\"1\" class=\"dataframe\">\n",
       "  <thead>\n",
       "    <tr style=\"text-align: right;\">\n",
       "      <th></th>\n",
       "      <th>date</th>\n",
       "      <th>ch</th>\n",
       "      <th>pos</th>\n",
       "      <th>width</th>\n",
       "      <th>inoculated_gl</th>\n",
       "      <th>promoter</th>\n",
       "      <th>vector</th>\n",
       "    </tr>\n",
       "  </thead>\n",
       "  <tbody>\n",
       "    <tr>\n",
       "      <th>0</th>\n",
       "      <td>20230223</td>\n",
       "      <td>4</td>\n",
       "      <td>0</td>\n",
       "      <td>1.0</td>\n",
       "      <td>19</td>\n",
       "      <td>hi3</td>\n",
       "      <td>ch</td>\n",
       "    </tr>\n",
       "    <tr>\n",
       "      <th>1</th>\n",
       "      <td>20230223</td>\n",
       "      <td>4</td>\n",
       "      <td>1</td>\n",
       "      <td>0.8</td>\n",
       "      <td>19</td>\n",
       "      <td>hi3</td>\n",
       "      <td>ch</td>\n",
       "    </tr>\n",
       "    <tr>\n",
       "      <th>2</th>\n",
       "      <td>20230223</td>\n",
       "      <td>4</td>\n",
       "      <td>2</td>\n",
       "      <td>0.8</td>\n",
       "      <td>19</td>\n",
       "      <td>hi3</td>\n",
       "      <td>ch</td>\n",
       "    </tr>\n",
       "    <tr>\n",
       "      <th>3</th>\n",
       "      <td>20230223</td>\n",
       "      <td>4</td>\n",
       "      <td>3</td>\n",
       "      <td>0.8</td>\n",
       "      <td>19</td>\n",
       "      <td>hi3</td>\n",
       "      <td>ch</td>\n",
       "    </tr>\n",
       "    <tr>\n",
       "      <th>4</th>\n",
       "      <td>20230223</td>\n",
       "      <td>4</td>\n",
       "      <td>4</td>\n",
       "      <td>0.8</td>\n",
       "      <td>19</td>\n",
       "      <td>hi3</td>\n",
       "      <td>ch</td>\n",
       "    </tr>\n",
       "    <tr>\n",
       "      <th>5</th>\n",
       "      <td>20230223</td>\n",
       "      <td>4</td>\n",
       "      <td>5</td>\n",
       "      <td>0.8</td>\n",
       "      <td>19</td>\n",
       "      <td>hi3</td>\n",
       "      <td>ch</td>\n",
       "    </tr>\n",
       "    <tr>\n",
       "      <th>6</th>\n",
       "      <td>20230223</td>\n",
       "      <td>4</td>\n",
       "      <td>6</td>\n",
       "      <td>0.8</td>\n",
       "      <td>19</td>\n",
       "      <td>hi3</td>\n",
       "      <td>ch</td>\n",
       "    </tr>\n",
       "    <tr>\n",
       "      <th>7</th>\n",
       "      <td>20230223</td>\n",
       "      <td>7</td>\n",
       "      <td>17</td>\n",
       "      <td>1.0</td>\n",
       "      <td>1</td>\n",
       "      <td>med2</td>\n",
       "      <td>ch</td>\n",
       "    </tr>\n",
       "    <tr>\n",
       "      <th>8</th>\n",
       "      <td>20230223</td>\n",
       "      <td>7</td>\n",
       "      <td>18</td>\n",
       "      <td>1.0</td>\n",
       "      <td>1</td>\n",
       "      <td>med2</td>\n",
       "      <td>ch</td>\n",
       "    </tr>\n",
       "    <tr>\n",
       "      <th>9</th>\n",
       "      <td>20230223</td>\n",
       "      <td>7</td>\n",
       "      <td>19</td>\n",
       "      <td>1.0</td>\n",
       "      <td>1</td>\n",
       "      <td>med2</td>\n",
       "      <td>ch</td>\n",
       "    </tr>\n",
       "    <tr>\n",
       "      <th>10</th>\n",
       "      <td>20230223</td>\n",
       "      <td>7</td>\n",
       "      <td>20</td>\n",
       "      <td>1.0</td>\n",
       "      <td>1</td>\n",
       "      <td>med2</td>\n",
       "      <td>ch</td>\n",
       "    </tr>\n",
       "    <tr>\n",
       "      <th>11</th>\n",
       "      <td>20230223</td>\n",
       "      <td>7</td>\n",
       "      <td>21</td>\n",
       "      <td>1.0</td>\n",
       "      <td>1</td>\n",
       "      <td>med2</td>\n",
       "      <td>ch</td>\n",
       "    </tr>\n",
       "    <tr>\n",
       "      <th>12</th>\n",
       "      <td>20230223</td>\n",
       "      <td>7</td>\n",
       "      <td>22</td>\n",
       "      <td>1.0</td>\n",
       "      <td>1</td>\n",
       "      <td>med2</td>\n",
       "      <td>ch</td>\n",
       "    </tr>\n",
       "    <tr>\n",
       "      <th>13</th>\n",
       "      <td>20230223</td>\n",
       "      <td>7</td>\n",
       "      <td>23</td>\n",
       "      <td>1.0</td>\n",
       "      <td>1</td>\n",
       "      <td>med2</td>\n",
       "      <td>ch</td>\n",
       "    </tr>\n",
       "    <tr>\n",
       "      <th>14</th>\n",
       "      <td>20230223</td>\n",
       "      <td>7</td>\n",
       "      <td>24</td>\n",
       "      <td>1.0</td>\n",
       "      <td>1</td>\n",
       "      <td>med2</td>\n",
       "      <td>ch</td>\n",
       "    </tr>\n",
       "  </tbody>\n",
       "</table>\n",
       "</div>"
      ],
      "text/plain": [
       "        date  ch  pos  width  inoculated_gl promoter vector\n",
       "0   20230223   4    0    1.0             19      hi3     ch\n",
       "1   20230223   4    1    0.8             19      hi3     ch\n",
       "2   20230223   4    2    0.8             19      hi3     ch\n",
       "3   20230223   4    3    0.8             19      hi3     ch\n",
       "4   20230223   4    4    0.8             19      hi3     ch\n",
       "5   20230223   4    5    0.8             19      hi3     ch\n",
       "6   20230223   4    6    0.8             19      hi3     ch\n",
       "7   20230223   7   17    1.0              1     med2     ch\n",
       "8   20230223   7   18    1.0              1     med2     ch\n",
       "9   20230223   7   19    1.0              1     med2     ch\n",
       "10  20230223   7   20    1.0              1     med2     ch\n",
       "11  20230223   7   21    1.0              1     med2     ch\n",
       "12  20230223   7   22    1.0              1     med2     ch\n",
       "13  20230223   7   23    1.0              1     med2     ch\n",
       "14  20230223   7   24    1.0              1     med2     ch"
      ]
     },
     "execution_count": 3,
     "metadata": {},
     "output_type": "execute_result"
    }
   ],
   "source": [
    "#Generate a YAML file from experiment_summary_table\n",
    "#Select rows of interest, that will be curated, from the curated data summary table\n",
    "experiment_summary_table=print_curated_data_summary(experimental_details,experimentFolderPath)\n",
    "experiment_summary_table"
   ]
  },
  {
   "cell_type": "markdown",
   "id": "c73bdaba-2f94-4aa8-aff6-028a428db3c3",
   "metadata": {},
   "source": [
    "### hi3"
   ]
  },
  {
   "cell_type": "code",
   "execution_count": 4,
   "id": "7798b5d6-be41-4d42-aacd-537275839f1e",
   "metadata": {},
   "outputs": [
    {
     "name": "stdout",
     "output_type": "stream",
     "text": [
      "       date  ch  pos  width  inoculated_gl promoter vector\n",
      "0  20230223   4    0    1.0             19      hi3     ch\n"
     ]
    }
   ],
   "source": [
    "subset=experiment_summary_table[experiment_summary_table[\"pos\"].isin([0])]\n",
    "print(subset)"
   ]
  },
  {
   "cell_type": "code",
   "execution_count": 7,
   "id": "e6413b0b-6319-4317-910d-b6b20a57ad06",
   "metadata": {},
   "outputs": [
    {
     "name": "stdout",
     "output_type": "stream",
     "text": [
      "Batch folder already exist.\n",
      "mm.properties already exists, copying cancelled.\n",
      "/scicore/home/nimwegen/rocasu25/MM_Data/Dany/20230223/20230223_ace_preproc\n",
      "Batch file does not exist. It is created for the following positions, for all detected growth lanes:\n",
      "Pos0\n"
     ]
    }
   ],
   "source": [
    "#Batch folder that should be used or created to supervise tracking/curation/export\n",
    "batch_folder=\"batch_ace_hi3\"\n",
    "batch_file=\"moma_batch_ace_hi3_po0.yaml\"\n",
    "curation_id=\"moma_batch_ace_hi3\"\n",
    "create_moma_batch_directory(experimentFolderPath,batch_folder)\n",
    "create_yaml_file(batch_file,curation_id,experimentFolderPath,preprocFolder,batch_folder,subset)"
   ]
  },
  {
   "cell_type": "code",
   "execution_count": 18,
   "id": "0b53a364-a297-454e-b358-a6bd8464dc9d",
   "metadata": {},
   "outputs": [],
   "source": [
    "%%capture\n",
    "#DO NOT MODIFY\n",
    "#regular expressions for the cvs files to look for\n",
    "subset=experiment_summary_table[experiment_summary_table[\"pos\"].isin([0,1])]\n",
    "print(subset)\n",
    "gls_dic={0:list(np.arange(0,60)),\n",
    "        1:list(np.arange(0,60))}\n",
    "\n",
    "rx0='CellStats__(.*).csv' \n",
    "pyMoM.extractAndTidyCurated(experimentFolderPath,preprocFolder,subset,rx0,gls_dic,analysis_id='moma_batch_ace_hi3')"
   ]
  },
  {
   "cell_type": "markdown",
   "id": "c1b46641-7aef-46cb-85ec-01237877415c",
   "metadata": {},
   "source": [
    "### med2"
   ]
  },
  {
   "cell_type": "code",
   "execution_count": 8,
   "id": "cbf35c22-e137-46ca-858d-a74b1c1f7c25",
   "metadata": {},
   "outputs": [
    {
     "name": "stdout",
     "output_type": "stream",
     "text": [
      "       date  ch  pos  width  inoculated_gl promoter vector\n",
      "7  20230223   7   17    1.0              1     med2     ch\n"
     ]
    }
   ],
   "source": [
    "subset=experiment_summary_table[experiment_summary_table[\"pos\"].isin([17])]\n",
    "print(subset)"
   ]
  },
  {
   "cell_type": "code",
   "execution_count": 6,
   "id": "02105def-f7ed-4284-b1cc-f5087cb8a26a",
   "metadata": {},
   "outputs": [
    {
     "name": "stdout",
     "output_type": "stream",
     "text": [
      "Batch folder already exist.\n",
      "mm.properties already exists, copying cancelled.\n",
      "/scicore/home/nimwegen/rocasu25/MM_Data/Dany/20230223/20230223_ace_preproc\n",
      "Batch file does not exist. It is created for the following positions, for all detected growth lanes:\n",
      "Pos17\n",
      "Pos18\n"
     ]
    }
   ],
   "source": [
    "#Batch folder that should be used or created to supervise tracking/curation/export\n",
    "batch_folder=\"batch_ace_med2\"\n",
    "batch_file=\"moma_batch_ace_med2.yaml\"\n",
    "curation_id=\"moma_batch_ace_med2\"\n",
    "create_moma_batch_directory(experimentFolderPath,batch_folder)\n",
    "create_yaml_file(batch_file,curation_id,experimentFolderPath,preprocFolder,batch_folder,subset)"
   ]
  },
  {
   "cell_type": "code",
   "execution_count": 9,
   "id": "b9c7e4d0-4fb6-400e-b01b-1c58321e7106",
   "metadata": {},
   "outputs": [],
   "source": [
    "%%capture\n",
    "#DO NOT MODIFY\n",
    "#regular expressions for the cvs files to look for\n",
    "subset=experiment_summary_table[experiment_summary_table[\"pos\"].isin([17])]\n",
    "print(subset)\n",
    "gls_dic={17:list(np.arange(0,60))}\n",
    "\n",
    "rx0='CellStats__(.*).csv' \n",
    "pyMoM.extractAndTidyCurated(experimentFolderPath,preprocFolder,subset,rx0,gls_dic,analysis_id='moma_batch_ace_med2')"
   ]
  },
  {
   "cell_type": "code",
   "execution_count": 16,
   "id": "7e343d1b-2dc5-4e07-9b32-b7f8dae9e1bd",
   "metadata": {},
   "outputs": [
    {
     "name": "stdout",
     "output_type": "stream",
     "text": [
      "        date  ch  pos  width  inoculated_gl promoter vector\n",
      "26  20230209   1   26      1             17     6300     ch\n",
      "27  20230209   1   27      1             17     6300     ch\n"
     ]
    }
   ],
   "source": [
    "subset=experiment_summary_table[experiment_summary_table[\"pos\"].isin([26,27])]\n",
    "print(subset)"
   ]
  },
  {
   "cell_type": "code",
   "execution_count": 17,
   "id": "ce62b803-e31f-4046-a899-8f2c9e16cf0c",
   "metadata": {},
   "outputs": [
    {
     "name": "stdout",
     "output_type": "stream",
     "text": [
      "Batch folder already exist.\n",
      "mm.properties already exists, copying cancelled.\n",
      "/scicore/home/nimwegen/rocasu25/MM_Data/Dany/20230209/20230209_glu_preproc\n",
      "Batch file does not exist. It is created for the following positions, for all detected growth lanes:\n",
      "Pos26\n",
      "Pos27\n"
     ]
    }
   ],
   "source": [
    "#Batch folder that should be used or created to supervise tracking/curation/export\n",
    "batch_folder=\"batch_glu_6300\"\n",
    "batch_file=\"moma_batch_glu_6300_pos_26_27.yaml\"\n",
    "curation_id=\"moma_batch_glu_6300\"\n",
    "create_moma_batch_directory(experimentFolderPath,batch_folder)\n",
    "create_yaml_file(batch_file,curation_id,experimentFolderPath,preprocFolder,batch_folder,subset)"
   ]
  },
  {
   "cell_type": "code",
   "execution_count": 21,
   "id": "9e7ec685-e62f-4515-9768-4e2443643a78",
   "metadata": {},
   "outputs": [],
   "source": [
    "%%capture\n",
    "#DO NOT MODIFY\n",
    "#regular expressions for the cvs files to look for\n",
    "subset=experiment_summary_table[experiment_summary_table[\"pos\"].isin([24,25])]\n",
    "print(subset)\n",
    "gls_dic={24:list(np.arange(0,60)),\n",
    "        25:list(np.arange(0,60))}\n",
    "\n",
    "rx0='CellStats__(.*).csv' \n",
    "pyMoM.extractAndTidyCurated(experimentFolderPath,preprocFolder,subset,rx0,gls_dic,analysis_id='moma_batch_glu_6300')"
   ]
  },
  {
   "cell_type": "markdown",
   "id": "baf7a91e-b5c2-4be5-83c8-d277a2f9b41a",
   "metadata": {},
   "source": [
    "### rpsB curation (left)"
   ]
  },
  {
   "cell_type": "code",
   "execution_count": 38,
   "id": "b00231b8-17b5-42ca-9abb-f2296a035f14",
   "metadata": {},
   "outputs": [
    {
     "name": "stdout",
     "output_type": "stream",
     "text": [
      "       date  ch  pos  width  number of occupied gl promoter vector\n",
      "4  20190730   5   19    0.8                      1     rrnB     ch\n"
     ]
    }
   ],
   "source": [
    "subset=experiment_summary_table[experiment_summary_table[\"pos\"].isin([19])]\n",
    "print(subset)"
   ]
  },
  {
   "cell_type": "code",
   "execution_count": 47,
   "id": "ffb1df3f-baaf-4a7f-b61a-146bde25c7a5",
   "metadata": {},
   "outputs": [
    {
     "name": "stdout",
     "output_type": "stream",
     "text": [
      "Batch folder already exist.\n",
      "mm.properties already exists, copying cancelled.\n",
      "/scicore/home/nimwegen/rocasu25/MM_Data/Dany/20190515/20190515_preproc_left\n",
      "Batch file does not exist. It is created for the following positions, for all detected growth lanes:\n",
      "Pos19\n"
     ]
    }
   ],
   "source": [
    "#Batch folder that should be used or created to supervise tracking/curation/export\n",
    "batch_folder=\"batch_med2\"\n",
    "batch_file=\"moma_batch_med2_pos19.yaml\"\n",
    "curation_id=\"moma_batch_pos_19_25\"\n",
    "create_moma_batch_directory(experimentFolderPath,batch_folder)\n",
    "create_yaml_file(batch_file,curation_id,experimentFolderPath,preprocFolder,batch_folder,subset)"
   ]
  },
  {
   "cell_type": "markdown",
   "id": "160e0a42-6bb6-44e2-84d4-ed8c987905de",
   "metadata": {},
   "source": [
    "### rpmB curation (left)"
   ]
  },
  {
   "cell_type": "code",
   "execution_count": 48,
   "id": "75c6d402-0164-4436-af7d-c453c1597708",
   "metadata": {},
   "outputs": [
    {
     "name": "stdout",
     "output_type": "stream",
     "text": [
      "        date  ch  pos  width inoculated_gl promoter vector\n",
      "22  20190515   2   25    0.8          full     rpmB     ch\n"
     ]
    }
   ],
   "source": [
    "subset=experiment_summary_table[experiment_summary_table[\"pos\"].isin([25])]\n",
    "print(subset)"
   ]
  },
  {
   "cell_type": "code",
   "execution_count": 49,
   "id": "6c089b8c-ef3f-450d-9b88-a5026349b67b",
   "metadata": {},
   "outputs": [
    {
     "name": "stdout",
     "output_type": "stream",
     "text": [
      "Batch folder already exist.\n",
      "mm.properties already exists, copying cancelled.\n",
      "/scicore/home/nimwegen/rocasu25/MM_Data/Dany/20190515/20190515_preproc_left\n",
      "Batch file does not exist. It is created for the following positions, for all detected growth lanes:\n",
      "Pos25\n"
     ]
    }
   ],
   "source": [
    "#Batch folder that should be used or created to supervise tracking/curation/export\n",
    "batch_folder=\"batch_rpmB\"\n",
    "batch_file=\"moma_batch_rpmB_pos25.yaml\"\n",
    "curation_id=\"moma_batch_pos_19_25\"\n",
    "create_moma_batch_directory(experimentFolderPath,batch_folder)\n",
    "create_yaml_file(batch_file,curation_id,experimentFolderPath,preprocFolder,batch_folder,subset)"
   ]
  },
  {
   "cell_type": "code",
   "execution_count": 39,
   "id": "c5611bef-b2d1-4f11-ba52-557e739a4a88",
   "metadata": {},
   "outputs": [
    {
     "data": {
      "text/plain": [
       "'/scicore/home/nimwegen/rocasu25/MM_Data/Dany/20190515/20190515_preproc_right_bis'"
      ]
     },
     "execution_count": 39,
     "metadata": {},
     "output_type": "execute_result"
    }
   ],
   "source": [
    "preproc_dir=\"%s/%s\"%(experimentFolderPath,preprocFolder)\n",
    "preproc_dir"
   ]
  },
  {
   "cell_type": "markdown",
   "id": "a8f22d06-af37-45b7-898d-aad1a789653b",
   "metadata": {},
   "source": [
    "#### Export after curation\n",
    "During curation, note down comments about growth lanes curated."
   ]
  },
  {
   "cell_type": "code",
   "execution_count": 40,
   "id": "9a292423-1a30-4671-ac26-c3a513d2aa98",
   "metadata": {},
   "outputs": [
    {
     "name": "stdout",
     "output_type": "stream",
     "text": [
      "Batch file does not exist. It is created for the following positions, for all curated growth lanes in the export dictionnary:\n",
      "Pos0\n",
      "Pos1\n"
     ]
    }
   ],
   "source": [
    "#Final list of growth lanes that can be exported.\n",
    "gls_dic={0:[2,3,4,6,8,9,10,12,13,14,16,17,18,19],\n",
    "         1:[1,2,3,4,5,6,8,9,10,11,12]}\n",
    "\n",
    "write_export_yaml_file(batch_file,experimentFolderPath,preprocFolder,batch_folder,gls_dic)"
   ]
  },
  {
   "cell_type": "markdown",
   "id": "94ef8a85-4c18-4f14-8a75-5afe70b59102",
   "metadata": {},
   "source": [
    "#### Tidying curated csv files for R analysis\n",
    "The following will be tidied"
   ]
  },
  {
   "cell_type": "code",
   "execution_count": 94,
   "id": "8a377390-10c0-4f12-bec5-d67c965c35cb",
   "metadata": {},
   "outputs": [],
   "source": [
    "%%capture\n",
    "#DO NOT MODIFY\n",
    "#regular expressions for the cvs files to look for\n",
    "subset=experiment_summary_table[experiment_summary_table[\"pos\"].isin([19,25])]\n",
    "print(subset)\n",
    "gls_dic={19:list(np.arange(0,60)),\n",
    "        25:list(np.arange(0,60))}\n",
    "rx0='CellStats__(.*).csv' \n",
    "pyMoM.extractAndTidyCurated(experimentFolderPath,preprocFolder,subset,rx0,gls_dic,analysis_id='moma_batch_pos_19_25')"
   ]
  },
  {
   "cell_type": "code",
   "execution_count": 70,
   "id": "e0337842-2de5-494d-b3be-456f094a5eb7",
   "metadata": {},
   "outputs": [
    {
     "name": "stdout",
     "output_type": "stream",
     "text": [
      "20190515,glucose_glycerol_switch,0,440,glucose,3,/scicore/home/nimwegen/rocasu25/MM_Data/Dany/20190515/curated_data/hi1_ch_curated,hi1,ch,100\n",
      "20190515,glucose_glycerol_switch,0,440,glucose,3,/scicore/home/nimwegen/rocasu25/MM_Data/Dany/20190515/curated_data/med1_ch_curated,med1,ch,100\n",
      "20190515,glucose_glycerol_switch,0,440,glucose,3,/scicore/home/nimwegen/rocasu25/MM_Data/Dany/20190515/curated_data/med2_ch_curated,med2,ch,100\n",
      "20190515,glucose_glycerol_switch,0,440,glucose,3,/scicore/home/nimwegen/rocasu25/MM_Data/Dany/20190515/curated_data/rpmB_ch_curated,rpmB,ch,100\n",
      "20190515,glucose_glycerol_switch,440,Inf,glycerol,6,/scicore/home/nimwegen/rocasu25/MM_Data/Dany/20190515/curated_data/hi1_ch_curated,hi1,ch,100\n",
      "20190515,glucose_glycerol_switch,440,Inf,glycerol,6,/scicore/home/nimwegen/rocasu25/MM_Data/Dany/20190515/curated_data/med1_ch_curated,med1,ch,100\n",
      "20190515,glucose_glycerol_switch,440,Inf,glycerol,6,/scicore/home/nimwegen/rocasu25/MM_Data/Dany/20190515/curated_data/med2_ch_curated,med2,ch,100\n",
      "20190515,glucose_glycerol_switch,440,Inf,glycerol,6,/scicore/home/nimwegen/rocasu25/MM_Data/Dany/20190515/curated_data/rpmB_ch_curated,rpmB,ch,100\n"
     ]
    }
   ],
   "source": [
    "#Generate entries for R analysis\n",
    "generate_import_script_input(experimentFolderPath,subset,experiment_summary_table,experimental_details)"
   ]
  },
  {
   "cell_type": "markdown",
   "id": "27a7b799-dfff-4945-897b-a89df7b1d8c8",
   "metadata": {
    "tags": []
   },
   "source": [
    "# 20230228, acetate 0.05% (400 frames, step=12min, total 80h)\n"
   ]
  },
  {
   "cell_type": "code",
   "execution_count": 5,
   "id": "8b6eca4c-f979-40ae-8442-aa998024b084",
   "metadata": {},
   "outputs": [],
   "source": [
    "#Edit the following\n",
    "experimental_details=[{\n",
    "    \"date\":\"20230228\",\n",
    "    \"description\":\"acetate\",\n",
    "    \"f_start\":\"0\",\n",
    "    \"f_end\":\"400\",\n",
    "    \"condition\":\"acetate\",\n",
    "    \"t_interval\":\"12\",\n",
    "    \"cell_detection_offset\":\"105\"}] #min\n",
    "\n",
    "#Preprocessing infos\n",
    "experimentFolderPath='/scicore/home/nimwegen/rocasu25/MM_Data/Dany/20230228'\n",
    "##Preprocessing folder\n",
    "preprocFolder=\"20230228_ace_preproc\"\n",
    "#preprocFolder=\"20230228_ace_preproc\"\n",
    "#pos_var=\"POS_NAMES=(Pos0 Pos1 Pos2 Pos3 Pos4 Pos5 Pos6 Pos7 Pos8 Pos9 Pos10 Pos11 Pos14 Pos15 Pos20 Pos21 Pos22 Pos23 Pos28 Pos29 Pos30 Pos31 Pos34 Pos35)\"\n",
    "#pos_var=\"POS_NAMES=(Pos12 Pos13 Pos14 Pos15)\"\n",
    "pos_var=\"POS_NAMES=(Pos0 Pos1 Pos2 Pos3 Pos8 Pos9 Pos10 Pos11 Pos12 Pos13 Pos14 Pos15 Pos20 Pos21 Pos22 Pos23 Pos28 Pos29 Pos30 Pos31)\"\n",
    "##List of positions\n",
    "#pos_var=\"POS_NAMES=(Pos12 Pos13 Pos32 Pos33)\"\n",
    "#pos_var=\"POS_NAMES=(Pos17 Pos18)\"\n",
    "##Template to use for the preprocessing\n",
    "template=\"TEMPLATE_vng124\"\n",
    "##Rotation (to determine on imageJ)\n",
    "ROTATION=\"89.8\"\n",
    "##TMAX, if processing is not to look at all frames\n",
    "TMAX=\"400\"\n",
    "##Normalization offset\n",
    "NORMALIZATION_REGION_OFFSET=\"105\"\n",
    "##Raw path to the data\n",
    "RAW_PATH=\"/scicore/home/nimwegen/rocasu25/MM_Data/Dany/20230228/20230228_ace/20230228_ace_4/20230228_ace_4_MMStack.ome.tif\"\n",
    "##Raw path to flat field data\n",
    "FLATFIELD_PATH=\"/scicore/home/nimwegen/rocasu25/MM_Data/Dany/20230228/20230228_gfp_flatfield/20230228_gfp_flatfield_1/20230228_gfp_flatfield_1_MMStack.ome.tif\"\n",
    "##In case the position does not have empty growth lanes, use the following to perform the phase contrast normalization\n",
    "##To be used with /scicore/home/nimwegen/GROUP/Moma/MM_Analysis/builds/unstable_20230131__FOR_PREPROCESSING_ONLY__mmpreprocesspy_v0.2.0-98d609a7/Modules\n",
    "#!source ~/.bashrc\n",
    "#norm_var=\"(632,4763)\""
   ]
  },
  {
   "cell_type": "code",
   "execution_count": 16,
   "id": "ae127da0-be27-410c-97c3-34f601cc3809",
   "metadata": {},
   "outputs": [
    {
     "name": "stdin",
     "output_type": "stream",
     "text": [
      "Do you really want to submit preprocessing tasks to the scheduler? If the preprocessing folder target path has not been changed, it might result in overwritting your data. Enter 'Yes', to confirm. Yes\n"
     ]
    },
    {
     "name": "stdout",
     "output_type": "stream",
     "text": [
      "Preprocessing queued... (use squeue to check the current status)\n"
     ]
    }
   ],
   "source": [
    "submit_preprocessing(experimentFolderPath,preprocFolder,template,NORMALIZATION_REGION_OFFSET,pos_var,RAW_PATH,FLATFIELD_PATH,ROTATION,TMAX)"
   ]
  },
  {
   "cell_type": "code",
   "execution_count": 23,
   "id": "f7612f2f-66e6-495b-9105-9ca674348b72",
   "metadata": {},
   "outputs": [
    {
     "name": "stdin",
     "output_type": "stream",
     "text": [
      "Do you really want to submit preprocessing tasks to the scheduler? If the preprocessing folder target path has not been changed, it might result in overwritting your data. Enter 'Yes', to confirm. Yes\n"
     ]
    },
    {
     "name": "stdout",
     "output_type": "stream",
     "text": [
      "Preprocessing queued... (use squeue to check the current status)\n"
     ]
    }
   ],
   "source": [
    "#submit_preprocessing_noemptygl(experimentFolderPath,preprocFolder,template,NORMALIZATION_REGION_OFFSET,pos_var,RAW_PATH,FLATFIELD_PATH,ROTATION,TMAX,norm_var)"
   ]
  },
  {
   "cell_type": "markdown",
   "id": "716eca7e-a34b-4700-bb4f-a6279d7628c8",
   "metadata": {
    "tags": []
   },
   "source": [
    "## Moma Batch"
   ]
  },
  {
   "cell_type": "code",
   "execution_count": 6,
   "id": "1656a756-bfe7-4308-8ab4-02e9fe8ba4d2",
   "metadata": {},
   "outputs": [
    {
     "data": {
      "text/html": [
       "<div>\n",
       "<style scoped>\n",
       "    .dataframe tbody tr th:only-of-type {\n",
       "        vertical-align: middle;\n",
       "    }\n",
       "\n",
       "    .dataframe tbody tr th {\n",
       "        vertical-align: top;\n",
       "    }\n",
       "\n",
       "    .dataframe thead th {\n",
       "        text-align: right;\n",
       "    }\n",
       "</style>\n",
       "<table border=\"1\" class=\"dataframe\">\n",
       "  <thead>\n",
       "    <tr style=\"text-align: right;\">\n",
       "      <th></th>\n",
       "      <th>date</th>\n",
       "      <th>ch</th>\n",
       "      <th>pos</th>\n",
       "      <th>width</th>\n",
       "      <th>inoculated_gl</th>\n",
       "      <th>promoter</th>\n",
       "      <th>vector</th>\n",
       "    </tr>\n",
       "  </thead>\n",
       "  <tbody>\n",
       "    <tr>\n",
       "      <th>0</th>\n",
       "      <td>20230228</td>\n",
       "      <td>4</td>\n",
       "      <td>0</td>\n",
       "      <td>1</td>\n",
       "      <td>30</td>\n",
       "      <td>med2</td>\n",
       "      <td>ch</td>\n",
       "    </tr>\n",
       "    <tr>\n",
       "      <th>1</th>\n",
       "      <td>20230228</td>\n",
       "      <td>4</td>\n",
       "      <td>1</td>\n",
       "      <td>1</td>\n",
       "      <td>30</td>\n",
       "      <td>med2</td>\n",
       "      <td>ch</td>\n",
       "    </tr>\n",
       "    <tr>\n",
       "      <th>2</th>\n",
       "      <td>20230228</td>\n",
       "      <td>4</td>\n",
       "      <td>2</td>\n",
       "      <td>1</td>\n",
       "      <td>30</td>\n",
       "      <td>med2</td>\n",
       "      <td>ch</td>\n",
       "    </tr>\n",
       "    <tr>\n",
       "      <th>3</th>\n",
       "      <td>20230228</td>\n",
       "      <td>4</td>\n",
       "      <td>3</td>\n",
       "      <td>1</td>\n",
       "      <td>30</td>\n",
       "      <td>med2</td>\n",
       "      <td>ch</td>\n",
       "    </tr>\n",
       "    <tr>\n",
       "      <th>4</th>\n",
       "      <td>20230228</td>\n",
       "      <td>5</td>\n",
       "      <td>4</td>\n",
       "      <td>1</td>\n",
       "      <td>19</td>\n",
       "      <td>med3</td>\n",
       "      <td>ch</td>\n",
       "    </tr>\n",
       "    <tr>\n",
       "      <th>5</th>\n",
       "      <td>20230228</td>\n",
       "      <td>5</td>\n",
       "      <td>5</td>\n",
       "      <td>1</td>\n",
       "      <td>19</td>\n",
       "      <td>med3</td>\n",
       "      <td>ch</td>\n",
       "    </tr>\n",
       "    <tr>\n",
       "      <th>6</th>\n",
       "      <td>20230228</td>\n",
       "      <td>5</td>\n",
       "      <td>6</td>\n",
       "      <td>1</td>\n",
       "      <td>19</td>\n",
       "      <td>med3</td>\n",
       "      <td>ch</td>\n",
       "    </tr>\n",
       "    <tr>\n",
       "      <th>7</th>\n",
       "      <td>20230228</td>\n",
       "      <td>5</td>\n",
       "      <td>7</td>\n",
       "      <td>1</td>\n",
       "      <td>19</td>\n",
       "      <td>med3</td>\n",
       "      <td>ch</td>\n",
       "    </tr>\n",
       "    <tr>\n",
       "      <th>8</th>\n",
       "      <td>20230228</td>\n",
       "      <td>6</td>\n",
       "      <td>8</td>\n",
       "      <td>1</td>\n",
       "      <td>19</td>\n",
       "      <td>hi3</td>\n",
       "      <td>ch</td>\n",
       "    </tr>\n",
       "    <tr>\n",
       "      <th>9</th>\n",
       "      <td>20230228</td>\n",
       "      <td>6</td>\n",
       "      <td>9</td>\n",
       "      <td>1</td>\n",
       "      <td>19</td>\n",
       "      <td>hi3</td>\n",
       "      <td>ch</td>\n",
       "    </tr>\n",
       "    <tr>\n",
       "      <th>10</th>\n",
       "      <td>20230228</td>\n",
       "      <td>6</td>\n",
       "      <td>10</td>\n",
       "      <td>1</td>\n",
       "      <td>19</td>\n",
       "      <td>hi3</td>\n",
       "      <td>ch</td>\n",
       "    </tr>\n",
       "    <tr>\n",
       "      <th>11</th>\n",
       "      <td>20230228</td>\n",
       "      <td>6</td>\n",
       "      <td>11</td>\n",
       "      <td>1</td>\n",
       "      <td>19</td>\n",
       "      <td>hi3</td>\n",
       "      <td>ch</td>\n",
       "    </tr>\n",
       "    <tr>\n",
       "      <th>12</th>\n",
       "      <td>20230228</td>\n",
       "      <td>7</td>\n",
       "      <td>12</td>\n",
       "      <td>1</td>\n",
       "      <td>19</td>\n",
       "      <td>hi1</td>\n",
       "      <td>ch</td>\n",
       "    </tr>\n",
       "    <tr>\n",
       "      <th>13</th>\n",
       "      <td>20230228</td>\n",
       "      <td>7</td>\n",
       "      <td>13</td>\n",
       "      <td>1</td>\n",
       "      <td>19</td>\n",
       "      <td>hi1</td>\n",
       "      <td>ch</td>\n",
       "    </tr>\n",
       "    <tr>\n",
       "      <th>14</th>\n",
       "      <td>20230228</td>\n",
       "      <td>7</td>\n",
       "      <td>14</td>\n",
       "      <td>1</td>\n",
       "      <td>19</td>\n",
       "      <td>hi1</td>\n",
       "      <td>ch</td>\n",
       "    </tr>\n",
       "    <tr>\n",
       "      <th>15</th>\n",
       "      <td>20230228</td>\n",
       "      <td>7</td>\n",
       "      <td>15</td>\n",
       "      <td>1</td>\n",
       "      <td>19</td>\n",
       "      <td>hi1</td>\n",
       "      <td>ch</td>\n",
       "    </tr>\n",
       "    <tr>\n",
       "      <th>16</th>\n",
       "      <td>20230228</td>\n",
       "      <td>3</td>\n",
       "      <td>20</td>\n",
       "      <td>1</td>\n",
       "      <td>19</td>\n",
       "      <td>rplN</td>\n",
       "      <td>ch</td>\n",
       "    </tr>\n",
       "    <tr>\n",
       "      <th>17</th>\n",
       "      <td>20230228</td>\n",
       "      <td>3</td>\n",
       "      <td>21</td>\n",
       "      <td>1</td>\n",
       "      <td>19</td>\n",
       "      <td>rplN</td>\n",
       "      <td>ch</td>\n",
       "    </tr>\n",
       "    <tr>\n",
       "      <th>18</th>\n",
       "      <td>20230228</td>\n",
       "      <td>3</td>\n",
       "      <td>22</td>\n",
       "      <td>1</td>\n",
       "      <td>19</td>\n",
       "      <td>rplN</td>\n",
       "      <td>ch</td>\n",
       "    </tr>\n",
       "    <tr>\n",
       "      <th>19</th>\n",
       "      <td>20230228</td>\n",
       "      <td>3</td>\n",
       "      <td>23</td>\n",
       "      <td>1</td>\n",
       "      <td>19</td>\n",
       "      <td>rplN</td>\n",
       "      <td>ch</td>\n",
       "    </tr>\n",
       "    <tr>\n",
       "      <th>20</th>\n",
       "      <td>20230228</td>\n",
       "      <td>2</td>\n",
       "      <td>28</td>\n",
       "      <td>1</td>\n",
       "      <td>19</td>\n",
       "      <td>rrnB</td>\n",
       "      <td>ch</td>\n",
       "    </tr>\n",
       "    <tr>\n",
       "      <th>21</th>\n",
       "      <td>20230228</td>\n",
       "      <td>2</td>\n",
       "      <td>29</td>\n",
       "      <td>1</td>\n",
       "      <td>19</td>\n",
       "      <td>rrnB</td>\n",
       "      <td>ch</td>\n",
       "    </tr>\n",
       "    <tr>\n",
       "      <th>22</th>\n",
       "      <td>20230228</td>\n",
       "      <td>2</td>\n",
       "      <td>30</td>\n",
       "      <td>1</td>\n",
       "      <td>19</td>\n",
       "      <td>rrnB</td>\n",
       "      <td>ch</td>\n",
       "    </tr>\n",
       "    <tr>\n",
       "      <th>23</th>\n",
       "      <td>20230228</td>\n",
       "      <td>2</td>\n",
       "      <td>31</td>\n",
       "      <td>1</td>\n",
       "      <td>19</td>\n",
       "      <td>rrnB</td>\n",
       "      <td>ch</td>\n",
       "    </tr>\n",
       "    <tr>\n",
       "      <th>24</th>\n",
       "      <td>20230228</td>\n",
       "      <td>1</td>\n",
       "      <td>32</td>\n",
       "      <td>1</td>\n",
       "      <td>19</td>\n",
       "      <td>6300</td>\n",
       "      <td>ch</td>\n",
       "    </tr>\n",
       "    <tr>\n",
       "      <th>25</th>\n",
       "      <td>20230228</td>\n",
       "      <td>1</td>\n",
       "      <td>33</td>\n",
       "      <td>1</td>\n",
       "      <td>19</td>\n",
       "      <td>6300</td>\n",
       "      <td>ch</td>\n",
       "    </tr>\n",
       "    <tr>\n",
       "      <th>26</th>\n",
       "      <td>20230228</td>\n",
       "      <td>1</td>\n",
       "      <td>34</td>\n",
       "      <td>1</td>\n",
       "      <td>19</td>\n",
       "      <td>6300</td>\n",
       "      <td>ch</td>\n",
       "    </tr>\n",
       "    <tr>\n",
       "      <th>27</th>\n",
       "      <td>20230228</td>\n",
       "      <td>1</td>\n",
       "      <td>35</td>\n",
       "      <td>1</td>\n",
       "      <td>19</td>\n",
       "      <td>6300</td>\n",
       "      <td>ch</td>\n",
       "    </tr>\n",
       "  </tbody>\n",
       "</table>\n",
       "</div>"
      ],
      "text/plain": [
       "        date  ch  pos  width  inoculated_gl promoter vector\n",
       "0   20230228   4    0      1             30     med2     ch\n",
       "1   20230228   4    1      1             30     med2     ch\n",
       "2   20230228   4    2      1             30     med2     ch\n",
       "3   20230228   4    3      1             30     med2     ch\n",
       "4   20230228   5    4      1             19     med3     ch\n",
       "5   20230228   5    5      1             19     med3     ch\n",
       "6   20230228   5    6      1             19     med3     ch\n",
       "7   20230228   5    7      1             19     med3     ch\n",
       "8   20230228   6    8      1             19      hi3     ch\n",
       "9   20230228   6    9      1             19      hi3     ch\n",
       "10  20230228   6   10      1             19      hi3     ch\n",
       "11  20230228   6   11      1             19      hi3     ch\n",
       "12  20230228   7   12      1             19      hi1     ch\n",
       "13  20230228   7   13      1             19      hi1     ch\n",
       "14  20230228   7   14      1             19      hi1     ch\n",
       "15  20230228   7   15      1             19      hi1     ch\n",
       "16  20230228   3   20      1             19     rplN     ch\n",
       "17  20230228   3   21      1             19     rplN     ch\n",
       "18  20230228   3   22      1             19     rplN     ch\n",
       "19  20230228   3   23      1             19     rplN     ch\n",
       "20  20230228   2   28      1             19     rrnB     ch\n",
       "21  20230228   2   29      1             19     rrnB     ch\n",
       "22  20230228   2   30      1             19     rrnB     ch\n",
       "23  20230228   2   31      1             19     rrnB     ch\n",
       "24  20230228   1   32      1             19     6300     ch\n",
       "25  20230228   1   33      1             19     6300     ch\n",
       "26  20230228   1   34      1             19     6300     ch\n",
       "27  20230228   1   35      1             19     6300     ch"
      ]
     },
     "execution_count": 6,
     "metadata": {},
     "output_type": "execute_result"
    }
   ],
   "source": [
    "#Generate a YAML file from experiment_summary_table\n",
    "#Select rows of interest, that will be curated, from the curated data summary table\n",
    "experiment_summary_table=print_curated_data_summary(experimental_details,experimentFolderPath)\n",
    "experiment_summary_table"
   ]
  },
  {
   "cell_type": "markdown",
   "id": "f2569dc0-187e-45dc-91f7-660d750bb189",
   "metadata": {},
   "source": [
    "### hi1"
   ]
  },
  {
   "cell_type": "code",
   "execution_count": 59,
   "id": "b485520c-cfa7-430e-8cb9-3dfe01a4250f",
   "metadata": {},
   "outputs": [
    {
     "name": "stdout",
     "output_type": "stream",
     "text": [
      "        date  ch  pos  width  inoculated_gl promoter vector\n",
      "12  20220228   7   12      1             19      hi1     ch\n"
     ]
    }
   ],
   "source": [
    "subset=experiment_summary_table[experiment_summary_table[\"pos\"].isin([12])]\n",
    "print(subset)"
   ]
  },
  {
   "cell_type": "code",
   "execution_count": 10,
   "id": "1bbcfdae-aa39-420f-96d5-60b9ca253e8d",
   "metadata": {},
   "outputs": [
    {
     "name": "stdout",
     "output_type": "stream",
     "text": [
      "Making batch directory batch_ace_hi1.\n",
      "Copying standard mm.properties file to batch_ace_hi1.\n",
      "/scicore/home/nimwegen/rocasu25/MM_Data/Dany/20230228/20230228_ace_preproc\n",
      "Batch file does not exist. It is created for the following positions, for all detected growth lanes:\n",
      "Pos12\n",
      "Pos13\n"
     ]
    }
   ],
   "source": [
    "#Batch folder that should be used or created to supervise tracking/curation/export\n",
    "batch_folder=\"batch_ace_hi1\"\n",
    "batch_file=\"moma_batch_ace_hi1.yaml\"\n",
    "curation_id=\"moma_batch_ace_hi1\"\n",
    "create_moma_batch_directory(experimentFolderPath,batch_folder)\n",
    "create_yaml_file(batch_file,curation_id,experimentFolderPath,preprocFolder,batch_folder,subset)"
   ]
  },
  {
   "cell_type": "code",
   "execution_count": 60,
   "id": "2c042a3e-7191-4cc6-aec7-6f2bb7bd8ac5",
   "metadata": {},
   "outputs": [],
   "source": [
    "%%capture\n",
    "#DO NOT MODIFY\n",
    "#regular expressions for the cvs files to look for\n",
    "subset=experiment_summary_table[experiment_summary_table[\"pos\"].isin([12])]\n",
    "print(subset)\n",
    "gls_dic={12:list(np.arange(0,60))}\n",
    "\n",
    "rx0='CellStats__(.*).csv' \n",
    "pyMoM.extractAndTidyCurated(experimentFolderPath,preprocFolder,subset,rx0,gls_dic,analysis_id='moma_batch_ace_hi1')"
   ]
  },
  {
   "cell_type": "markdown",
   "id": "fe2d4311-743c-4d65-aa23-7ea8ac52ad6d",
   "metadata": {},
   "source": [
    "### 6300"
   ]
  },
  {
   "cell_type": "code",
   "execution_count": 32,
   "id": "27c86d8b-87c9-418a-8200-6fc457846d8d",
   "metadata": {},
   "outputs": [
    {
     "name": "stdout",
     "output_type": "stream",
     "text": [
      "        date  ch  pos  width  inoculated_gl promoter vector\n",
      "24  20230228   1   32      1             19     6300     ch\n"
     ]
    }
   ],
   "source": [
    "subset=experiment_summary_table[experiment_summary_table[\"pos\"].isin([32])]\n",
    "print(subset)"
   ]
  },
  {
   "cell_type": "code",
   "execution_count": 33,
   "id": "bfb9b3f2-d2ee-40c1-bb4a-60a8653483b6",
   "metadata": {},
   "outputs": [
    {
     "name": "stdout",
     "output_type": "stream",
     "text": [
      "Batch folder already exist.\n",
      "mm.properties already exists, copying cancelled.\n",
      "/scicore/home/nimwegen/rocasu25/MM_Data/Dany/20230228/20230228_ace_preproc\n",
      "Batch YAML file already exist. Aborting\n"
     ]
    }
   ],
   "source": [
    "#Batch folder that should be used or created to supervise tracking/curation/export\n",
    "batch_folder=\"batch_ace_6300\"\n",
    "batch_file=\"moma_batch_ace_6300.yaml\"\n",
    "curation_id=\"moma_batch_ace_6300\"\n",
    "create_moma_batch_directory(experimentFolderPath,batch_folder)\n",
    "create_yaml_file(batch_file,curation_id,experimentFolderPath,preprocFolder,batch_folder,subset)"
   ]
  },
  {
   "cell_type": "code",
   "execution_count": 41,
   "id": "fbc5f6c3-f2db-4255-bde8-98483751c5f8",
   "metadata": {},
   "outputs": [],
   "source": [
    "%%capture\n",
    "#DO NOT MODIFY\n",
    "#regular expressions for the cvs files to look for\n",
    "subset=experiment_summary_table[experiment_summary_table[\"pos\"].isin([32])]\n",
    "print(subset)\n",
    "gls_dic={32:list(np.arange(0,60))}\n",
    "\n",
    "rx0='CellStats__(.*).csv' \n",
    "pyMoM.extractAndTidyCurated(experimentFolderPath,preprocFolder,subset,rx0,gls_dic,analysis_id='moma_batch_ace_6300')"
   ]
  },
  {
   "cell_type": "markdown",
   "id": "f53f4408-de33-4540-8f8c-6caaa50fa09c",
   "metadata": {},
   "source": [
    "### Med3"
   ]
  },
  {
   "cell_type": "code",
   "execution_count": 25,
   "id": "ce3c8fe9-4bff-4d44-8e9d-203d5161d5b5",
   "metadata": {},
   "outputs": [
    {
     "name": "stdout",
     "output_type": "stream",
     "text": [
      "       date  ch  pos  width  inoculated_gl promoter vector\n",
      "5  20230228   5    5      1             19     med3     ch\n",
      "6  20230228   5    6      1             19     med3     ch\n",
      "7  20230228   5    7      1             19     med3     ch\n"
     ]
    }
   ],
   "source": [
    "subset=experiment_summary_table[experiment_summary_table[\"pos\"].isin([5,6,7])]\n",
    "print(subset)"
   ]
  },
  {
   "cell_type": "code",
   "execution_count": 22,
   "id": "f239b043-c508-4ad6-ac8d-82b656e97325",
   "metadata": {},
   "outputs": [
    {
     "name": "stdout",
     "output_type": "stream",
     "text": [
      "Batch folder already exist.\n",
      "mm.properties already exists, copying cancelled.\n",
      "/scicore/home/nimwegen/rocasu25/MM_Data/Dany/20230228/20230228_ace_preproc\n",
      "Batch file does not exist. It is created for the following positions, for all detected growth lanes:\n",
      "Pos5\n",
      "Pos6\n",
      "Pos7\n"
     ]
    }
   ],
   "source": [
    "#Batch folder that should be used or created to supervise tracking/curation/export\n",
    "batch_folder=\"batch_ace_med3\"\n",
    "batch_file=\"moma_batch_ace_med3_pos5_6_7.yaml\"\n",
    "curation_id=\"moma_batch_ace_med3\"\n",
    "create_moma_batch_directory(experimentFolderPath,batch_folder)\n",
    "create_yaml_file(batch_file,curation_id,experimentFolderPath,preprocFolder,batch_folder,subset)"
   ]
  },
  {
   "cell_type": "code",
   "execution_count": 26,
   "id": "3f6e7eda-4522-46b1-82f9-be2c06f72765",
   "metadata": {},
   "outputs": [],
   "source": [
    "%%capture\n",
    "#DO NOT MODIFY\n",
    "#regular expressions for the cvs files to look for\n",
    "subset=experiment_summary_table[experiment_summary_table[\"pos\"].isin([4,5,6,7])]\n",
    "print(subset)\n",
    "gls_dic={4:list(np.arange(0,60)),\n",
    "        5:list(np.arange(0,60)),\n",
    "        6:list(np.arange(0,60)),\n",
    "        7:list(np.arange(0,60))}\n",
    "\n",
    "rx0='CellStats__(.*).csv' \n",
    "pyMoM.extractAndTidyCurated(experimentFolderPath,preprocFolder,subset,rx0,gls_dic,analysis_id='moma_batch_ace_med3')"
   ]
  },
  {
   "cell_type": "markdown",
   "id": "2b571aea-ce60-4afa-97a9-490574599be0",
   "metadata": {},
   "source": [
    "### rrnB"
   ]
  },
  {
   "cell_type": "code",
   "execution_count": 17,
   "id": "09ce229b-db56-4b14-ac1a-82472ce63dcf",
   "metadata": {},
   "outputs": [
    {
     "name": "stdout",
     "output_type": "stream",
     "text": [
      "        date  ch  pos  width  inoculated_gl promoter vector\n",
      "20  20230228   2   28      1             19     rrnB     ch\n",
      "21  20230228   2   29      1             19     rrnB     ch\n"
     ]
    }
   ],
   "source": [
    "subset=experiment_summary_table[experiment_summary_table[\"pos\"].isin([28,29])]\n",
    "print(subset)"
   ]
  },
  {
   "cell_type": "code",
   "execution_count": 7,
   "id": "0dd492e7-511d-4e1f-b8c9-7d427f7c3a17",
   "metadata": {},
   "outputs": [
    {
     "name": "stdout",
     "output_type": "stream",
     "text": [
      "Making batch directory batch_ace_rrnB.\n",
      "Copying standard mm.properties file to batch_ace_rrnB.\n",
      "/scicore/home/nimwegen/rocasu25/MM_Data/Dany/20230228/20230228_ace_preproc\n",
      "Batch file does not exist. It is created for the following positions, for all detected growth lanes:\n",
      "Pos28\n",
      "Pos29\n",
      "Pos30\n"
     ]
    }
   ],
   "source": [
    "#Batch folder that should be used or created to supervise tracking/curation/export\n",
    "batch_folder=\"batch_ace_rrnB\"\n",
    "batch_file=\"moma_batch_ace_rrnB.yaml\"\n",
    "curation_id=\"moma_batch_ace_rrnB\"\n",
    "create_moma_batch_directory(experimentFolderPath,batch_folder)\n",
    "create_yaml_file(batch_file,curation_id,experimentFolderPath,preprocFolder,batch_folder,subset)"
   ]
  },
  {
   "cell_type": "code",
   "execution_count": 18,
   "id": "2e52fda2-3d74-4abb-bb0a-e4d434a8a4d2",
   "metadata": {},
   "outputs": [],
   "source": [
    "%%capture\n",
    "#DO NOT MODIFY\n",
    "#regular expressions for the cvs files to look for\n",
    "subset=experiment_summary_table[experiment_summary_table[\"pos\"].isin([28,29])]\n",
    "print(subset)\n",
    "gls_dic={28:list(np.arange(0,60)),\n",
    "        29:list(np.arange(0,60))}\n",
    "\n",
    "rx0='CellStats__(.*).csv' \n",
    "pyMoM.extractAndTidyCurated(experimentFolderPath,preprocFolder,subset,rx0,gls_dic,analysis_id='moma_batch_ace_rrnB')"
   ]
  },
  {
   "cell_type": "markdown",
   "id": "69a2517b-c533-43cd-a5c7-46dd5be7c0ad",
   "metadata": {},
   "source": [
    "### rplN"
   ]
  },
  {
   "cell_type": "code",
   "execution_count": 29,
   "id": "c5c4cd1e-0cad-43b3-9b11-d90061600a5a",
   "metadata": {},
   "outputs": [
    {
     "name": "stdout",
     "output_type": "stream",
     "text": [
      "        date  ch  pos  width  inoculated_gl promoter vector\n",
      "16  20230228   3   20      1             19     rplN     ch\n"
     ]
    }
   ],
   "source": [
    "subset=experiment_summary_table[experiment_summary_table[\"pos\"].isin([20])]\n",
    "print(subset)"
   ]
  },
  {
   "cell_type": "code",
   "execution_count": 14,
   "id": "4acce6ca-c455-4c7a-a7be-25ef5e6709c4",
   "metadata": {},
   "outputs": [
    {
     "name": "stdout",
     "output_type": "stream",
     "text": [
      "Making batch directory batch_ace_rplN.\n",
      "Copying standard mm.properties file to batch_ace_rplN.\n",
      "/scicore/home/nimwegen/rocasu25/MM_Data/Dany/20230228/20230228_ace_preproc\n",
      "Batch file does not exist. It is created for the following positions, for all detected growth lanes:\n",
      "Pos20\n",
      "Pos21\n",
      "Pos22\n"
     ]
    }
   ],
   "source": [
    "#Batch folder that should be used or created to supervise tracking/curation/export\n",
    "batch_folder=\"batch_ace_rplN\"\n",
    "batch_file=\"moma_batch_ace_rplN.yaml\"\n",
    "curation_id=\"moma_batch_ace_rplN\"\n",
    "create_moma_batch_directory(experimentFolderPath,batch_folder)\n",
    "create_yaml_file(batch_file,curation_id,experimentFolderPath,preprocFolder,batch_folder,subset)"
   ]
  },
  {
   "cell_type": "code",
   "execution_count": 30,
   "id": "38734c0b-b5f9-40f9-8454-19d073d2a8b6",
   "metadata": {},
   "outputs": [],
   "source": [
    "%%capture\n",
    "#DO NOT MODIFY\n",
    "#regular expressions for the cvs files to look for\n",
    "subset=experiment_summary_table[experiment_summary_table[\"pos\"].isin([20])]\n",
    "print(subset)\n",
    "gls_dic={20:list(np.arange(0,60))}\n",
    "\n",
    "rx0='CellStats__(.*).csv' \n",
    "pyMoM.extractAndTidyCurated(experimentFolderPath,preprocFolder,subset,rx0,gls_dic,analysis_id='moma_batch_ace_rplN')"
   ]
  },
  {
   "cell_type": "markdown",
   "id": "ca5aa590-426d-4148-a442-9534e7e7797f",
   "metadata": {},
   "source": [
    "### med2"
   ]
  },
  {
   "cell_type": "code",
   "execution_count": 14,
   "id": "1973d29f-d9fa-4c6f-a108-6c6bdc2cf371",
   "metadata": {},
   "outputs": [
    {
     "name": "stdout",
     "output_type": "stream",
     "text": [
      "       date  ch  pos  width  inoculated_gl promoter vector\n",
      "0  20230228   4    0      1             30     med2     ch\n",
      "1  20230228   4    1      1             30     med2     ch\n",
      "2  20230228   4    2      1             30     med2     ch\n",
      "3  20230228   4    3      1             30     med2     ch\n"
     ]
    }
   ],
   "source": [
    "subset=experiment_summary_table[experiment_summary_table[\"pos\"].isin([0,1,2,3])]\n",
    "print(subset)"
   ]
  },
  {
   "cell_type": "code",
   "execution_count": 9,
   "id": "87e30e92-93db-48d2-8013-5c110313311b",
   "metadata": {},
   "outputs": [
    {
     "name": "stdout",
     "output_type": "stream",
     "text": [
      "Making batch directory batch_ace_med2.\n",
      "Copying standard mm.properties file to batch_ace_med2.\n",
      "/scicore/home/nimwegen/rocasu25/MM_Data/Dany/20230228/20230228_ace_preproc\n",
      "Batch file does not exist. It is created for the following positions, for all detected growth lanes:\n",
      "Pos0\n",
      "Pos1\n",
      "Pos2\n",
      "Pos3\n"
     ]
    }
   ],
   "source": [
    "#Batch folder that should be used or created to supervise tracking/curation/export\n",
    "batch_folder=\"batch_ace_med2\"\n",
    "batch_file=\"moma_batch_ace_med2.yaml\"\n",
    "curation_id=\"moma_batch_ace_med2\"\n",
    "create_moma_batch_directory(experimentFolderPath,batch_folder)\n",
    "create_yaml_file(batch_file,curation_id,experimentFolderPath,preprocFolder,batch_folder,subset)"
   ]
  },
  {
   "cell_type": "code",
   "execution_count": 15,
   "id": "87afb10e-0425-45b4-9c9a-c1d0f741d358",
   "metadata": {},
   "outputs": [],
   "source": [
    "%%capture\n",
    "#DO NOT MODIFY\n",
    "#regular expressions for the cvs files to look for\n",
    "subset=experiment_summary_table[experiment_summary_table[\"pos\"].isin([0])]\n",
    "print(subset)\n",
    "gls_dic={0:list(np.arange(0,60))}\n",
    "\n",
    "rx0='CellStats__(.*).csv' \n",
    "pyMoM.extractAndTidyCurated(experimentFolderPath,preprocFolder,subset,rx0,gls_dic,analysis_id='moma_batch_ace_med2')"
   ]
  },
  {
   "cell_type": "markdown",
   "id": "6aa8bbf6-e845-4525-b00a-beac9a2da7f4",
   "metadata": {},
   "source": [
    "### hi3"
   ]
  },
  {
   "cell_type": "code",
   "execution_count": 7,
   "id": "ac59293b-e4dc-4aa4-8f03-7d1f8ea748be",
   "metadata": {},
   "outputs": [
    {
     "name": "stdout",
     "output_type": "stream",
     "text": [
      "        date  ch  pos  width  inoculated_gl promoter vector\n",
      "8   20230228   6    8      1             19      hi3     ch\n",
      "9   20230228   6    9      1             19      hi3     ch\n",
      "10  20230228   6   10      1             19      hi3     ch\n",
      "11  20230228   6   11      1             19      hi3     ch\n"
     ]
    }
   ],
   "source": [
    "subset=experiment_summary_table[experiment_summary_table[\"pos\"].isin([8,9,10,11])]\n",
    "print(subset)"
   ]
  },
  {
   "cell_type": "code",
   "execution_count": 17,
   "id": "d7e2d53b-dae8-4076-9814-80b0a4650ee1",
   "metadata": {},
   "outputs": [
    {
     "name": "stdout",
     "output_type": "stream",
     "text": [
      "Making batch directory batch_ace_hi3.\n",
      "Copying standard mm.properties file to batch_ace_hi3.\n",
      "/scicore/home/nimwegen/rocasu25/MM_Data/Dany/20230228/20230228_ace_preproc\n",
      "Batch file does not exist. It is created for the following positions, for all detected growth lanes:\n",
      "Pos8\n",
      "Pos9\n",
      "Pos10\n",
      "Pos11\n"
     ]
    }
   ],
   "source": [
    "#Batch folder that should be used or created to supervise tracking/curation/export\n",
    "batch_folder=\"batch_ace_hi3\"\n",
    "batch_file=\"moma_batch_ace_hi3.yaml\"\n",
    "curation_id=\"moma_batch_ace_hi3\"\n",
    "create_moma_batch_directory(experimentFolderPath,batch_folder)\n",
    "create_yaml_file(batch_file,curation_id,experimentFolderPath,preprocFolder,batch_folder,subset)"
   ]
  },
  {
   "cell_type": "code",
   "execution_count": 9,
   "id": "a75f4558-0b2e-474f-9eea-d0ead4cdaa2e",
   "metadata": {},
   "outputs": [],
   "source": [
    "%%capture\n",
    "#DO NOT MODIFY\n",
    "#regular expressions for the cvs files to look for\n",
    "subset=experiment_summary_table[experiment_summary_table[\"pos\"].isin([8,9,10,11])]\n",
    "print(subset)\n",
    "gls_dic={8:list(np.arange(0,60)),\n",
    "        9:list(np.arange(0,60)),\n",
    "        10:list(np.arange(0,60)),\n",
    "        11:list(np.arange(0,60))}\n",
    "\n",
    "rx0='CellStats__(.*).csv' \n",
    "pyMoM.extractAndTidyCurated(experimentFolderPath,preprocFolder,subset,rx0,gls_dic,analysis_id='moma_batch_ace_hi3')"
   ]
  },
  {
   "cell_type": "markdown",
   "id": "f00cd2b8-38fe-4c54-8cb7-35b05243950f",
   "metadata": {},
   "source": [
    "**NB**: in growth lanes, 32.12,32.21, 32.34, 32.21, 32.4. Growth-lanes display very high growth rate in acetate. Given the fact that I am growing the cells for 2 days in acetate before loading them, I am thinking we see here an obvious mutation. I am discarding these."
   ]
  },
  {
   "cell_type": "code",
   "execution_count": 16,
   "id": "ed295ac1-f779-45e0-a938-88adfcb4d62d",
   "metadata": {},
   "outputs": [
    {
     "name": "stdout",
     "output_type": "stream",
     "text": [
      "        date  ch  pos  width  inoculated_gl promoter vector\n",
      "26  20230209   1   26      1             17     6300     ch\n",
      "27  20230209   1   27      1             17     6300     ch\n"
     ]
    }
   ],
   "source": [
    "subset=experiment_summary_table[experiment_summary_table[\"pos\"].isin([26,27])]\n",
    "print(subset)"
   ]
  },
  {
   "cell_type": "code",
   "execution_count": 17,
   "id": "a7975ccc-0c90-4852-af15-835ffc5fb245",
   "metadata": {},
   "outputs": [
    {
     "name": "stdout",
     "output_type": "stream",
     "text": [
      "Batch folder already exist.\n",
      "mm.properties already exists, copying cancelled.\n",
      "/scicore/home/nimwegen/rocasu25/MM_Data/Dany/20230209/20230209_glu_preproc\n",
      "Batch file does not exist. It is created for the following positions, for all detected growth lanes:\n",
      "Pos26\n",
      "Pos27\n"
     ]
    }
   ],
   "source": [
    "#Batch folder that should be used or created to supervise tracking/curation/export\n",
    "batch_folder=\"batch_glu_6300\"\n",
    "batch_file=\"moma_batch_glu_6300_pos_26_27.yaml\"\n",
    "curation_id=\"moma_batch_glu_6300\"\n",
    "create_moma_batch_directory(experimentFolderPath,batch_folder)\n",
    "create_yaml_file(batch_file,curation_id,experimentFolderPath,preprocFolder,batch_folder,subset)"
   ]
  },
  {
   "cell_type": "code",
   "execution_count": 21,
   "id": "b078649a-edd5-484d-aa45-5e0e349255d6",
   "metadata": {},
   "outputs": [],
   "source": [
    "%%capture\n",
    "#DO NOT MODIFY\n",
    "#regular expressions for the cvs files to look for\n",
    "subset=experiment_summary_table[experiment_summary_table[\"pos\"].isin([24,25])]\n",
    "print(subset)\n",
    "gls_dic={24:list(np.arange(0,60)),\n",
    "        25:list(np.arange(0,60))}\n",
    "\n",
    "rx0='CellStats__(.*).csv' \n",
    "pyMoM.extractAndTidyCurated(experimentFolderPath,preprocFolder,subset,rx0,gls_dic,analysis_id='moma_batch_glu_6300')"
   ]
  },
  {
   "cell_type": "markdown",
   "id": "bc996227-b6e4-4cda-b4bd-49cd96334cd6",
   "metadata": {},
   "source": [
    "### rpsB curation (left)"
   ]
  },
  {
   "cell_type": "code",
   "execution_count": 38,
   "id": "77656af7-4f6c-4152-bffb-0a681812de23",
   "metadata": {},
   "outputs": [
    {
     "name": "stdout",
     "output_type": "stream",
     "text": [
      "       date  ch  pos  width  number of occupied gl promoter vector\n",
      "4  20190730   5   19    0.8                      1     rrnB     ch\n"
     ]
    }
   ],
   "source": [
    "subset=experiment_summary_table[experiment_summary_table[\"pos\"].isin([19])]\n",
    "print(subset)"
   ]
  },
  {
   "cell_type": "code",
   "execution_count": 47,
   "id": "acee3eee-1874-4f20-b34f-531d9c94c15f",
   "metadata": {},
   "outputs": [
    {
     "name": "stdout",
     "output_type": "stream",
     "text": [
      "Batch folder already exist.\n",
      "mm.properties already exists, copying cancelled.\n",
      "/scicore/home/nimwegen/rocasu25/MM_Data/Dany/20190515/20190515_preproc_left\n",
      "Batch file does not exist. It is created for the following positions, for all detected growth lanes:\n",
      "Pos19\n"
     ]
    }
   ],
   "source": [
    "#Batch folder that should be used or created to supervise tracking/curation/export\n",
    "batch_folder=\"batch_med2\"\n",
    "batch_file=\"moma_batch_med2_pos19.yaml\"\n",
    "curation_id=\"moma_batch_pos_19_25\"\n",
    "create_moma_batch_directory(experimentFolderPath,batch_folder)\n",
    "create_yaml_file(batch_file,curation_id,experimentFolderPath,preprocFolder,batch_folder,subset)"
   ]
  },
  {
   "cell_type": "markdown",
   "id": "524c78c9-377e-4c53-8ef6-fc81870b5205",
   "metadata": {},
   "source": [
    "### rpmB curation (left)"
   ]
  },
  {
   "cell_type": "code",
   "execution_count": 48,
   "id": "e5b5afe8-b0f9-4ccb-8290-6b8ce748d548",
   "metadata": {},
   "outputs": [
    {
     "name": "stdout",
     "output_type": "stream",
     "text": [
      "        date  ch  pos  width inoculated_gl promoter vector\n",
      "22  20190515   2   25    0.8          full     rpmB     ch\n"
     ]
    }
   ],
   "source": [
    "subset=experiment_summary_table[experiment_summary_table[\"pos\"].isin([25])]\n",
    "print(subset)"
   ]
  },
  {
   "cell_type": "code",
   "execution_count": 49,
   "id": "df0be2ca-4214-41d1-88b1-33e25ff6a6c5",
   "metadata": {},
   "outputs": [
    {
     "name": "stdout",
     "output_type": "stream",
     "text": [
      "Batch folder already exist.\n",
      "mm.properties already exists, copying cancelled.\n",
      "/scicore/home/nimwegen/rocasu25/MM_Data/Dany/20190515/20190515_preproc_left\n",
      "Batch file does not exist. It is created for the following positions, for all detected growth lanes:\n",
      "Pos25\n"
     ]
    }
   ],
   "source": [
    "#Batch folder that should be used or created to supervise tracking/curation/export\n",
    "batch_folder=\"batch_rpmB\"\n",
    "batch_file=\"moma_batch_rpmB_pos25.yaml\"\n",
    "curation_id=\"moma_batch_pos_19_25\"\n",
    "create_moma_batch_directory(experimentFolderPath,batch_folder)\n",
    "create_yaml_file(batch_file,curation_id,experimentFolderPath,preprocFolder,batch_folder,subset)"
   ]
  },
  {
   "cell_type": "code",
   "execution_count": 39,
   "id": "b5097cd4-c766-49a0-b9d4-b56f269f8c06",
   "metadata": {},
   "outputs": [
    {
     "data": {
      "text/plain": [
       "'/scicore/home/nimwegen/rocasu25/MM_Data/Dany/20190515/20190515_preproc_right_bis'"
      ]
     },
     "execution_count": 39,
     "metadata": {},
     "output_type": "execute_result"
    }
   ],
   "source": [
    "preproc_dir=\"%s/%s\"%(experimentFolderPath,preprocFolder)\n",
    "preproc_dir"
   ]
  },
  {
   "cell_type": "markdown",
   "id": "673cac62-64d9-4986-929a-bcc9fde0c68a",
   "metadata": {},
   "source": [
    "#### Export after curation\n",
    "During curation, note down comments about growth lanes curated."
   ]
  },
  {
   "cell_type": "code",
   "execution_count": 40,
   "id": "a6705edd-a9e3-471f-9f4e-4e814aa4f0d4",
   "metadata": {},
   "outputs": [
    {
     "name": "stdout",
     "output_type": "stream",
     "text": [
      "Batch file does not exist. It is created for the following positions, for all curated growth lanes in the export dictionnary:\n",
      "Pos0\n",
      "Pos1\n"
     ]
    }
   ],
   "source": [
    "#Final list of growth lanes that can be exported.\n",
    "gls_dic={0:[2,3,4,6,8,9,10,12,13,14,16,17,18,19],\n",
    "         1:[1,2,3,4,5,6,8,9,10,11,12]}\n",
    "\n",
    "write_export_yaml_file(batch_file,experimentFolderPath,preprocFolder,batch_folder,gls_dic)"
   ]
  },
  {
   "cell_type": "markdown",
   "id": "90c26967-d6bf-4982-a3c1-4da5dfb5f772",
   "metadata": {},
   "source": [
    "#### Tidying curated csv files for R analysis\n",
    "The following will be tidied"
   ]
  },
  {
   "cell_type": "code",
   "execution_count": 94,
   "id": "cdcb7c5d-d633-4a93-9098-4599eb3f2d79",
   "metadata": {},
   "outputs": [],
   "source": [
    "%%capture\n",
    "#DO NOT MODIFY\n",
    "#regular expressions for the cvs files to look for\n",
    "subset=experiment_summary_table[experiment_summary_table[\"pos\"].isin([19,25])]\n",
    "print(subset)\n",
    "gls_dic={19:list(np.arange(0,60)),\n",
    "        25:list(np.arange(0,60))}\n",
    "rx0='CellStats__(.*).csv' \n",
    "pyMoM.extractAndTidyCurated(experimentFolderPath,preprocFolder,subset,rx0,gls_dic,analysis_id='moma_batch_pos_19_25')"
   ]
  },
  {
   "cell_type": "code",
   "execution_count": 70,
   "id": "189f4248-be98-4b83-9c0a-8433cf86e31d",
   "metadata": {},
   "outputs": [
    {
     "name": "stdout",
     "output_type": "stream",
     "text": [
      "20190515,glucose_glycerol_switch,0,440,glucose,3,/scicore/home/nimwegen/rocasu25/MM_Data/Dany/20190515/curated_data/hi1_ch_curated,hi1,ch,100\n",
      "20190515,glucose_glycerol_switch,0,440,glucose,3,/scicore/home/nimwegen/rocasu25/MM_Data/Dany/20190515/curated_data/med1_ch_curated,med1,ch,100\n",
      "20190515,glucose_glycerol_switch,0,440,glucose,3,/scicore/home/nimwegen/rocasu25/MM_Data/Dany/20190515/curated_data/med2_ch_curated,med2,ch,100\n",
      "20190515,glucose_glycerol_switch,0,440,glucose,3,/scicore/home/nimwegen/rocasu25/MM_Data/Dany/20190515/curated_data/rpmB_ch_curated,rpmB,ch,100\n",
      "20190515,glucose_glycerol_switch,440,Inf,glycerol,6,/scicore/home/nimwegen/rocasu25/MM_Data/Dany/20190515/curated_data/hi1_ch_curated,hi1,ch,100\n",
      "20190515,glucose_glycerol_switch,440,Inf,glycerol,6,/scicore/home/nimwegen/rocasu25/MM_Data/Dany/20190515/curated_data/med1_ch_curated,med1,ch,100\n",
      "20190515,glucose_glycerol_switch,440,Inf,glycerol,6,/scicore/home/nimwegen/rocasu25/MM_Data/Dany/20190515/curated_data/med2_ch_curated,med2,ch,100\n",
      "20190515,glucose_glycerol_switch,440,Inf,glycerol,6,/scicore/home/nimwegen/rocasu25/MM_Data/Dany/20190515/curated_data/rpmB_ch_curated,rpmB,ch,100\n"
     ]
    }
   ],
   "source": [
    "#Generate entries for R analysis\n",
    "generate_import_script_input(experimentFolderPath,subset,experiment_summary_table,experimental_details)"
   ]
  },
  {
   "cell_type": "markdown",
   "id": "2134139a-a5d3-47de-83be-fde9ce447352",
   "metadata": {
    "tags": []
   },
   "source": [
    "# 20220707, glucose 0.2% (403 frames, step=3min, total 20h), (hi1, med3, rplN, rrnB)\n",
    "## Vizualize positions and strains"
   ]
  },
  {
   "cell_type": "code",
   "execution_count": 3,
   "id": "3d812ed8-31e4-4b7b-ad42-61c382ab94ee",
   "metadata": {},
   "outputs": [],
   "source": [
    "#Edit the following\n",
    "experimental_details=[{\n",
    "    \"date\":\"20220707\",\n",
    "    \"description\":\"glucose\",\n",
    "    \"f_start\":\"0\",\n",
    "    \"f_end\":\"400\",\n",
    "    \"condition\":\"glucose\",\n",
    "    \"t_interval\":\"3\", #min\n",
    "    \"cell_detection_offset\":\"120\"} \n",
    "]\n",
    "\n",
    "#Preprocessing infos\n",
    "experimentFolderPath='/scicore/home/nimwegen/rocasu25/MM_Data/Dany/20220707'\n",
    "##Preprocessing folder\n",
    "preprocFolder=\"20220707_preproc_upwards\"\n",
    "#preprocFolder=\"20230228_ace_preproc\"\n",
    "pos_var=\"POS_NAMES=(Pos13 Pos14 Pos15 Pos16 Pos17 Pos18 Pos19 Pos20)\"\n",
    "##List of positions\n",
    "##Template to use for the preprocessing\n",
    "template=\"template_upwards\"\n",
    "##Rotation (to determine on imageJ)\n",
    "ROTATION=\"89.9\"\n",
    "##TMAX, if processing is not to look at all frames\n",
    "TMAX=\"400\"\n",
    "##Normalization offset\n",
    "NORMALIZATION_REGION_OFFSET=\"120\"\n",
    "##Raw path to the data\n",
    "RAW_PATH=\"/scicore/home/nimwegen/rocasu25/MM_Data/Dany/20220707/20220707glugly_4/20220707glugly_4_MMStack.ome.tif\"\n",
    "##Raw path to flat field data\n",
    "FLATFIELD_PATH=\"/scicore/home/nimwegen/rocasu25/MM_Data/Dany/20220708gly/20220708_gfpflatfield/20220708_gfpflatfield_5/20220708_gfpflatfield_5_MMStack.ome.tif\""
   ]
  },
  {
   "cell_type": "code",
   "execution_count": 5,
   "id": "7056ccf8-f387-4224-9d61-13d1180d54e7",
   "metadata": {},
   "outputs": [],
   "source": [
    "#Edit the following\n",
    "experimental_details=[{\n",
    "    \"date\":\"20220707\",\n",
    "    \"description\":\"glucose\",\n",
    "    \"f_start\":\"0\",\n",
    "    \"f_end\":\"400\",\n",
    "    \"condition\":\"glucose\",\n",
    "    \"t_interval\":\"3\", #min\n",
    "    \"cell_detection_offset\":\"120\"} \n",
    "]\n",
    "\n",
    "#Preprocessing infos\n",
    "experimentFolderPath='/scicore/home/nimwegen/rocasu25/MM_Data/Dany/20220707'\n",
    "##Preprocessing folder\n",
    "preprocFolder=\"20220707_preproc_downwards\"\n",
    "#preprocFolder=\"20230228_ace_preproc\"\n",
    "pos_var=\"POS_NAMES=(Pos13 Pos14 Pos15 Pos16 Pos17 Pos18 Pos19 Pos20)\"\n",
    "##List of positions\n",
    "##Template to use for the preprocessing\n",
    "template=\"template_downwards\"\n",
    "##Rotation (to determine on imageJ)\n",
    "ROTATION=\"89.8\"\n",
    "##TMAX, if processing is not to look at all frames\n",
    "TMAX=\"400\"\n",
    "##Normalization offset\n",
    "NORMALIZATION_REGION_OFFSET=\"120\"\n",
    "##Raw path to the data\n",
    "RAW_PATH=\"/scicore/home/nimwegen/rocasu25/MM_Data/Dany/20220707/20220707glugly_4/20220707glugly_4_MMStack.ome.tif\"\n",
    "##Raw path to flat field data\n",
    "FLATFIELD_PATH=\"/scicore/home/nimwegen/rocasu25/MM_Data/Dany/20220708gly/20220708_gfpflatfield/20220708_gfpflatfield_5/20220708_gfpflatfield_5_MMStack.ome.tif\""
   ]
  },
  {
   "cell_type": "code",
   "execution_count": 6,
   "id": "f08f056a-0071-472c-987c-699d61eb365c",
   "metadata": {},
   "outputs": [
    {
     "name": "stdin",
     "output_type": "stream",
     "text": [
      "Do you really want to submit preprocessing tasks to the scheduler? If the preprocessing folder target path has not been changed, it might result in overwritting your data. Enter 'Yes', to confirm. Yes\n"
     ]
    },
    {
     "name": "stdout",
     "output_type": "stream",
     "text": [
      "Preprocessing queued... (use squeue to check the current status)\n"
     ]
    }
   ],
   "source": [
    "submit_preprocessing(experimentFolderPath,preprocFolder,template,NORMALIZATION_REGION_OFFSET,pos_var,RAW_PATH,FLATFIELD_PATH,ROTATION,TMAX)"
   ]
  },
  {
   "cell_type": "markdown",
   "id": "48475ee1-91b2-4cad-82d5-65d64e79641c",
   "metadata": {},
   "source": [
    "## Prepare YAML file for moma_batch_run for hi1 data in right growth lanes\n",
    "Edit batch folder name"
   ]
  },
  {
   "cell_type": "code",
   "execution_count": 11,
   "id": "a3ebd7bf-874b-4624-b771-277ce25f8453",
   "metadata": {},
   "outputs": [
    {
     "data": {
      "text/html": [
       "<div>\n",
       "<style scoped>\n",
       "    .dataframe tbody tr th:only-of-type {\n",
       "        vertical-align: middle;\n",
       "    }\n",
       "\n",
       "    .dataframe tbody tr th {\n",
       "        vertical-align: top;\n",
       "    }\n",
       "\n",
       "    .dataframe thead th {\n",
       "        text-align: right;\n",
       "    }\n",
       "</style>\n",
       "<table border=\"1\" class=\"dataframe\">\n",
       "  <thead>\n",
       "    <tr style=\"text-align: right;\">\n",
       "      <th></th>\n",
       "      <th>date</th>\n",
       "      <th>ch</th>\n",
       "      <th>pos</th>\n",
       "      <th>width</th>\n",
       "      <th>inoculated_gl</th>\n",
       "      <th>promoter</th>\n",
       "      <th>vector</th>\n",
       "    </tr>\n",
       "  </thead>\n",
       "  <tbody>\n",
       "    <tr>\n",
       "      <th>0</th>\n",
       "      <td>20220707</td>\n",
       "      <td>3</td>\n",
       "      <td>13</td>\n",
       "      <td>0.8</td>\n",
       "      <td>1</td>\n",
       "      <td>hi1</td>\n",
       "      <td>ch</td>\n",
       "    </tr>\n",
       "    <tr>\n",
       "      <th>1</th>\n",
       "      <td>20220707</td>\n",
       "      <td>3</td>\n",
       "      <td>14</td>\n",
       "      <td>0.8</td>\n",
       "      <td>1</td>\n",
       "      <td>hi1</td>\n",
       "      <td>ch</td>\n",
       "    </tr>\n",
       "    <tr>\n",
       "      <th>2</th>\n",
       "      <td>20220707</td>\n",
       "      <td>8</td>\n",
       "      <td>10</td>\n",
       "      <td>0.8</td>\n",
       "      <td>1</td>\n",
       "      <td>med3</td>\n",
       "      <td>ch</td>\n",
       "    </tr>\n",
       "    <tr>\n",
       "      <th>3</th>\n",
       "      <td>20220707</td>\n",
       "      <td>8</td>\n",
       "      <td>11</td>\n",
       "      <td>0.8</td>\n",
       "      <td>1</td>\n",
       "      <td>med3</td>\n",
       "      <td>ch</td>\n",
       "    </tr>\n",
       "    <tr>\n",
       "      <th>4</th>\n",
       "      <td>20220707</td>\n",
       "      <td>1</td>\n",
       "      <td>17</td>\n",
       "      <td>0.8</td>\n",
       "      <td>1</td>\n",
       "      <td>rplN</td>\n",
       "      <td>ch</td>\n",
       "    </tr>\n",
       "    <tr>\n",
       "      <th>5</th>\n",
       "      <td>20220707</td>\n",
       "      <td>1</td>\n",
       "      <td>18</td>\n",
       "      <td>0.8</td>\n",
       "      <td>1</td>\n",
       "      <td>rplN</td>\n",
       "      <td>ch</td>\n",
       "    </tr>\n",
       "    <tr>\n",
       "      <th>6</th>\n",
       "      <td>20220707</td>\n",
       "      <td>6</td>\n",
       "      <td>5</td>\n",
       "      <td>0.8</td>\n",
       "      <td>1</td>\n",
       "      <td>rrnB</td>\n",
       "      <td>ch</td>\n",
       "    </tr>\n",
       "    <tr>\n",
       "      <th>7</th>\n",
       "      <td>20220707</td>\n",
       "      <td>6</td>\n",
       "      <td>6</td>\n",
       "      <td>0.8</td>\n",
       "      <td>1</td>\n",
       "      <td>rrnB</td>\n",
       "      <td>ch</td>\n",
       "    </tr>\n",
       "  </tbody>\n",
       "</table>\n",
       "</div>"
      ],
      "text/plain": [
       "       date  ch  pos  width  inoculated_gl promoter vector\n",
       "0  20220707   3   13    0.8              1      hi1     ch\n",
       "1  20220707   3   14    0.8              1      hi1     ch\n",
       "2  20220707   8   10    0.8              1     med3     ch\n",
       "3  20220707   8   11    0.8              1     med3     ch\n",
       "4  20220707   1   17    0.8              1     rplN     ch\n",
       "5  20220707   1   18    0.8              1     rplN     ch\n",
       "6  20220707   6    5    0.8              1     rrnB     ch\n",
       "7  20220707   6    6    0.8              1     rrnB     ch"
      ]
     },
     "execution_count": 11,
     "metadata": {},
     "output_type": "execute_result"
    }
   ],
   "source": [
    "#Generate a YAML file from experiment_summary_table\n",
    "#Select rows of interest, that will be curated, from the curated data summary table\n",
    "experiment_summary_table=print_curated_data_summary(experimental_details,experimentFolderPath)\n",
    "experiment_summary_table"
   ]
  },
  {
   "cell_type": "markdown",
   "id": "407bb868-403c-4ee3-9e71-b48bd7ce70d9",
   "metadata": {
    "tags": []
   },
   "source": [
    "# 20220706, glucose 0.2% (403 frames, step=3min, total 20h), (6300)\n",
    "## Vizualize positions and strains"
   ]
  },
  {
   "cell_type": "code",
   "execution_count": 40,
   "id": "828651d2-0ecd-44e7-9c41-e029f22905d7",
   "metadata": {},
   "outputs": [],
   "source": [
    "#Edit the following\n",
    "experimental_details=[{\n",
    "    \"date\":\"20220706\",\n",
    "    \"description\":\"glucose\",\n",
    "    \"f_start\":\"0\",\n",
    "    \"f_end\":\"403\",\n",
    "    \"condition\":\"glucose\",\n",
    "    \"t_interval\":\"3\", #min\n",
    "    \"cell_detection_offset\":\"100\"} \n",
    "]\n",
    "\n",
    "#Preprocessing infos\n",
    "experimentFolderPath='/scicore/home/nimwegen/rocasu25/MM_Data/Dany/20220706glugly'\n",
    "##Preprocessing folder\n",
    "preprocFolder=\"20220706_preproc_upwards\"\n",
    "#preprocFolder=\"20230228_ace_preproc\"\n",
    "pos_var=\"POS_NAMES=(Pos1 Pos3 Pos6 Pos9)\"\n",
    "##List of positions\n",
    "##Template to use for the preprocessing\n",
    "template=\"template_upwards\"\n",
    "##Rotation (to determine on imageJ)\n",
    "ROTATION=\"89.8\"\n",
    "##TMAX, if processing is not to look at all frames\n",
    "TMAX=\"403\"\n",
    "##Normalization offset\n",
    "NORMALIZATION_REGION_OFFSET=\"100\"\n",
    "##Raw path to the data\n",
    "RAW_PATH=\"/scicore/home/nimwegen/rocasu25/MM_Data/Dany/20220706glugly/20220706glugly_3/20220706glugly_3_MMStack.ome.tif\"\n",
    "##Raw path to flat field data\n",
    "FLATFIELD_PATH=\"/scicore/home/nimwegen/rocasu25/MM_Data/Dany/20220708gly/20220708_gfpflatfield/20220708_gfpflatfield_5/20220708_gfpflatfield_5_MMStack.ome.tif\""
   ]
  },
  {
   "cell_type": "code",
   "execution_count": 41,
   "id": "0cd37ffa-d5fe-4239-92bd-5bd20c64e6bb",
   "metadata": {},
   "outputs": [
    {
     "name": "stdin",
     "output_type": "stream",
     "text": [
      "Do you really want to submit preprocessing tasks to the scheduler? If the preprocessing folder target path has not been changed, it might result in overwritting your data. Enter 'Yes', to confirm. Yes\n"
     ]
    },
    {
     "name": "stdout",
     "output_type": "stream",
     "text": [
      "Preprocessing queued... (use squeue to check the current status)\n"
     ]
    }
   ],
   "source": [
    "submit_preprocessing(experimentFolderPath,preprocFolder,template,NORMALIZATION_REGION_OFFSET,pos_var,RAW_PATH,FLATFIELD_PATH,ROTATION,TMAX)"
   ]
  },
  {
   "cell_type": "markdown",
   "id": "6bd77621-c5b9-4d16-82eb-8d42a9ef9ba9",
   "metadata": {},
   "source": [
    "## Prepare YAML file for moma_batch_run for hi1 data in right growth lanes\n",
    "Edit batch folder name"
   ]
  },
  {
   "cell_type": "code",
   "execution_count": 26,
   "id": "6a468413-cecc-4dc6-b8fd-a9c02600875b",
   "metadata": {},
   "outputs": [
    {
     "ename": "FileNotFoundError",
     "evalue": "[Errno 2] No such file or directory: '/scicore/home/nimwegen/rocasu25/MM_Data/Dany/20220706glugly/curated_data/positions.csv'",
     "output_type": "error",
     "traceback": [
      "\u001b[0;31m---------------------------------------------------------------------------\u001b[0m",
      "\u001b[0;31mFileNotFoundError\u001b[0m                         Traceback (most recent call last)",
      "Cell \u001b[0;32mIn[26], line 3\u001b[0m\n\u001b[1;32m      1\u001b[0m \u001b[38;5;66;03m#Generate a YAML file from experiment_summary_table\u001b[39;00m\n\u001b[1;32m      2\u001b[0m \u001b[38;5;66;03m#Select rows of interest, that will be curated, from the curated data summary table\u001b[39;00m\n\u001b[0;32m----> 3\u001b[0m experiment_summary_table\u001b[38;5;241m=\u001b[39m\u001b[43mprint_curated_data_summary\u001b[49m\u001b[43m(\u001b[49m\u001b[43mexperimental_details\u001b[49m\u001b[43m,\u001b[49m\u001b[43mexperimentFolderPath\u001b[49m\u001b[43m)\u001b[49m\n\u001b[1;32m      4\u001b[0m experiment_summary_table\n",
      "File \u001b[0;32m~/Documents/Projects/biozentrum/gfp_fluctuations_project/mother_machine_experiments_toolbox/pyMoM.py:103\u001b[0m, in \u001b[0;36mprint_curated_data_summary\u001b[0;34m(experimental_details, experimentFolderPath)\u001b[0m\n\u001b[1;32m     99\u001b[0m \u001b[38;5;28;01mdef\u001b[39;00m \u001b[38;5;21mprint_curated_data_summary\u001b[39m(experimental_details,experimentFolderPath):\n\u001b[1;32m    100\u001b[0m     \u001b[38;5;66;03m#Do not edit\u001b[39;00m\n\u001b[1;32m    101\u001b[0m     \u001b[38;5;66;03m#curated_data folder should exist\u001b[39;00m\n\u001b[1;32m    102\u001b[0m     experimentDate\u001b[38;5;241m=\u001b[39mexperimental_details[\u001b[38;5;241m0\u001b[39m][\u001b[38;5;124m\"\u001b[39m\u001b[38;5;124mdate\u001b[39m\u001b[38;5;124m\"\u001b[39m]\n\u001b[0;32m--> 103\u001b[0m     experiment_summary_table \u001b[38;5;241m=\u001b[39m \u001b[43mpd\u001b[49m\u001b[38;5;241;43m.\u001b[39;49m\u001b[43mread_csv\u001b[49m\u001b[43m(\u001b[49m\u001b[38;5;124;43m'\u001b[39;49m\u001b[38;5;132;43;01m%s\u001b[39;49;00m\u001b[38;5;124;43m/curated_data/positions.csv\u001b[39;49m\u001b[38;5;124;43m'\u001b[39;49m\u001b[38;5;241;43m%\u001b[39;49m\u001b[43m(\u001b[49m\u001b[43mexperimentFolderPath\u001b[49m\u001b[43m)\u001b[49m\u001b[43m)\u001b[49m\n\u001b[1;32m    104\u001b[0m     \u001b[38;5;28;01mreturn\u001b[39;00m(experiment_summary_table)\n",
      "File \u001b[0;32m~/Documents/Projects/biozentrum/.conda_environment/lib/python3.8/site-packages/pandas/util/_decorators.py:311\u001b[0m, in \u001b[0;36mdeprecate_nonkeyword_arguments.<locals>.decorate.<locals>.wrapper\u001b[0;34m(*args, **kwargs)\u001b[0m\n\u001b[1;32m    305\u001b[0m \u001b[38;5;28;01mif\u001b[39;00m \u001b[38;5;28mlen\u001b[39m(args) \u001b[38;5;241m>\u001b[39m num_allow_args:\n\u001b[1;32m    306\u001b[0m     warnings\u001b[38;5;241m.\u001b[39mwarn(\n\u001b[1;32m    307\u001b[0m         msg\u001b[38;5;241m.\u001b[39mformat(arguments\u001b[38;5;241m=\u001b[39marguments),\n\u001b[1;32m    308\u001b[0m         \u001b[38;5;167;01mFutureWarning\u001b[39;00m,\n\u001b[1;32m    309\u001b[0m         stacklevel\u001b[38;5;241m=\u001b[39mstacklevel,\n\u001b[1;32m    310\u001b[0m     )\n\u001b[0;32m--> 311\u001b[0m \u001b[38;5;28;01mreturn\u001b[39;00m \u001b[43mfunc\u001b[49m\u001b[43m(\u001b[49m\u001b[38;5;241;43m*\u001b[39;49m\u001b[43margs\u001b[49m\u001b[43m,\u001b[49m\u001b[43m \u001b[49m\u001b[38;5;241;43m*\u001b[39;49m\u001b[38;5;241;43m*\u001b[39;49m\u001b[43mkwargs\u001b[49m\u001b[43m)\u001b[49m\n",
      "File \u001b[0;32m~/Documents/Projects/biozentrum/.conda_environment/lib/python3.8/site-packages/pandas/io/parsers/readers.py:680\u001b[0m, in \u001b[0;36mread_csv\u001b[0;34m(filepath_or_buffer, sep, delimiter, header, names, index_col, usecols, squeeze, prefix, mangle_dupe_cols, dtype, engine, converters, true_values, false_values, skipinitialspace, skiprows, skipfooter, nrows, na_values, keep_default_na, na_filter, verbose, skip_blank_lines, parse_dates, infer_datetime_format, keep_date_col, date_parser, dayfirst, cache_dates, iterator, chunksize, compression, thousands, decimal, lineterminator, quotechar, quoting, doublequote, escapechar, comment, encoding, encoding_errors, dialect, error_bad_lines, warn_bad_lines, on_bad_lines, delim_whitespace, low_memory, memory_map, float_precision, storage_options)\u001b[0m\n\u001b[1;32m    665\u001b[0m kwds_defaults \u001b[38;5;241m=\u001b[39m _refine_defaults_read(\n\u001b[1;32m    666\u001b[0m     dialect,\n\u001b[1;32m    667\u001b[0m     delimiter,\n\u001b[0;32m   (...)\u001b[0m\n\u001b[1;32m    676\u001b[0m     defaults\u001b[38;5;241m=\u001b[39m{\u001b[38;5;124m\"\u001b[39m\u001b[38;5;124mdelimiter\u001b[39m\u001b[38;5;124m\"\u001b[39m: \u001b[38;5;124m\"\u001b[39m\u001b[38;5;124m,\u001b[39m\u001b[38;5;124m\"\u001b[39m},\n\u001b[1;32m    677\u001b[0m )\n\u001b[1;32m    678\u001b[0m kwds\u001b[38;5;241m.\u001b[39mupdate(kwds_defaults)\n\u001b[0;32m--> 680\u001b[0m \u001b[38;5;28;01mreturn\u001b[39;00m \u001b[43m_read\u001b[49m\u001b[43m(\u001b[49m\u001b[43mfilepath_or_buffer\u001b[49m\u001b[43m,\u001b[49m\u001b[43m \u001b[49m\u001b[43mkwds\u001b[49m\u001b[43m)\u001b[49m\n",
      "File \u001b[0;32m~/Documents/Projects/biozentrum/.conda_environment/lib/python3.8/site-packages/pandas/io/parsers/readers.py:575\u001b[0m, in \u001b[0;36m_read\u001b[0;34m(filepath_or_buffer, kwds)\u001b[0m\n\u001b[1;32m    572\u001b[0m _validate_names(kwds\u001b[38;5;241m.\u001b[39mget(\u001b[38;5;124m\"\u001b[39m\u001b[38;5;124mnames\u001b[39m\u001b[38;5;124m\"\u001b[39m, \u001b[38;5;28;01mNone\u001b[39;00m))\n\u001b[1;32m    574\u001b[0m \u001b[38;5;66;03m# Create the parser.\u001b[39;00m\n\u001b[0;32m--> 575\u001b[0m parser \u001b[38;5;241m=\u001b[39m \u001b[43mTextFileReader\u001b[49m\u001b[43m(\u001b[49m\u001b[43mfilepath_or_buffer\u001b[49m\u001b[43m,\u001b[49m\u001b[43m \u001b[49m\u001b[38;5;241;43m*\u001b[39;49m\u001b[38;5;241;43m*\u001b[39;49m\u001b[43mkwds\u001b[49m\u001b[43m)\u001b[49m\n\u001b[1;32m    577\u001b[0m \u001b[38;5;28;01mif\u001b[39;00m chunksize \u001b[38;5;129;01mor\u001b[39;00m iterator:\n\u001b[1;32m    578\u001b[0m     \u001b[38;5;28;01mreturn\u001b[39;00m parser\n",
      "File \u001b[0;32m~/Documents/Projects/biozentrum/.conda_environment/lib/python3.8/site-packages/pandas/io/parsers/readers.py:934\u001b[0m, in \u001b[0;36mTextFileReader.__init__\u001b[0;34m(self, f, engine, **kwds)\u001b[0m\n\u001b[1;32m    931\u001b[0m     \u001b[38;5;28mself\u001b[39m\u001b[38;5;241m.\u001b[39moptions[\u001b[38;5;124m\"\u001b[39m\u001b[38;5;124mhas_index_names\u001b[39m\u001b[38;5;124m\"\u001b[39m] \u001b[38;5;241m=\u001b[39m kwds[\u001b[38;5;124m\"\u001b[39m\u001b[38;5;124mhas_index_names\u001b[39m\u001b[38;5;124m\"\u001b[39m]\n\u001b[1;32m    933\u001b[0m \u001b[38;5;28mself\u001b[39m\u001b[38;5;241m.\u001b[39mhandles: IOHandles \u001b[38;5;241m|\u001b[39m \u001b[38;5;28;01mNone\u001b[39;00m \u001b[38;5;241m=\u001b[39m \u001b[38;5;28;01mNone\u001b[39;00m\n\u001b[0;32m--> 934\u001b[0m \u001b[38;5;28mself\u001b[39m\u001b[38;5;241m.\u001b[39m_engine \u001b[38;5;241m=\u001b[39m \u001b[38;5;28;43mself\u001b[39;49m\u001b[38;5;241;43m.\u001b[39;49m\u001b[43m_make_engine\u001b[49m\u001b[43m(\u001b[49m\u001b[43mf\u001b[49m\u001b[43m,\u001b[49m\u001b[43m \u001b[49m\u001b[38;5;28;43mself\u001b[39;49m\u001b[38;5;241;43m.\u001b[39;49m\u001b[43mengine\u001b[49m\u001b[43m)\u001b[49m\n",
      "File \u001b[0;32m~/Documents/Projects/biozentrum/.conda_environment/lib/python3.8/site-packages/pandas/io/parsers/readers.py:1218\u001b[0m, in \u001b[0;36mTextFileReader._make_engine\u001b[0;34m(self, f, engine)\u001b[0m\n\u001b[1;32m   1214\u001b[0m     mode \u001b[38;5;241m=\u001b[39m \u001b[38;5;124m\"\u001b[39m\u001b[38;5;124mrb\u001b[39m\u001b[38;5;124m\"\u001b[39m\n\u001b[1;32m   1215\u001b[0m \u001b[38;5;66;03m# error: No overload variant of \"get_handle\" matches argument types\u001b[39;00m\n\u001b[1;32m   1216\u001b[0m \u001b[38;5;66;03m# \"Union[str, PathLike[str], ReadCsvBuffer[bytes], ReadCsvBuffer[str]]\"\u001b[39;00m\n\u001b[1;32m   1217\u001b[0m \u001b[38;5;66;03m# , \"str\", \"bool\", \"Any\", \"Any\", \"Any\", \"Any\", \"Any\"\u001b[39;00m\n\u001b[0;32m-> 1218\u001b[0m \u001b[38;5;28mself\u001b[39m\u001b[38;5;241m.\u001b[39mhandles \u001b[38;5;241m=\u001b[39m \u001b[43mget_handle\u001b[49m\u001b[43m(\u001b[49m\u001b[43m  \u001b[49m\u001b[38;5;66;43;03m# type: ignore[call-overload]\u001b[39;49;00m\n\u001b[1;32m   1219\u001b[0m \u001b[43m    \u001b[49m\u001b[43mf\u001b[49m\u001b[43m,\u001b[49m\n\u001b[1;32m   1220\u001b[0m \u001b[43m    \u001b[49m\u001b[43mmode\u001b[49m\u001b[43m,\u001b[49m\n\u001b[1;32m   1221\u001b[0m \u001b[43m    \u001b[49m\u001b[43mencoding\u001b[49m\u001b[38;5;241;43m=\u001b[39;49m\u001b[38;5;28;43mself\u001b[39;49m\u001b[38;5;241;43m.\u001b[39;49m\u001b[43moptions\u001b[49m\u001b[38;5;241;43m.\u001b[39;49m\u001b[43mget\u001b[49m\u001b[43m(\u001b[49m\u001b[38;5;124;43m\"\u001b[39;49m\u001b[38;5;124;43mencoding\u001b[39;49m\u001b[38;5;124;43m\"\u001b[39;49m\u001b[43m,\u001b[49m\u001b[43m \u001b[49m\u001b[38;5;28;43;01mNone\u001b[39;49;00m\u001b[43m)\u001b[49m\u001b[43m,\u001b[49m\n\u001b[1;32m   1222\u001b[0m \u001b[43m    \u001b[49m\u001b[43mcompression\u001b[49m\u001b[38;5;241;43m=\u001b[39;49m\u001b[38;5;28;43mself\u001b[39;49m\u001b[38;5;241;43m.\u001b[39;49m\u001b[43moptions\u001b[49m\u001b[38;5;241;43m.\u001b[39;49m\u001b[43mget\u001b[49m\u001b[43m(\u001b[49m\u001b[38;5;124;43m\"\u001b[39;49m\u001b[38;5;124;43mcompression\u001b[39;49m\u001b[38;5;124;43m\"\u001b[39;49m\u001b[43m,\u001b[49m\u001b[43m \u001b[49m\u001b[38;5;28;43;01mNone\u001b[39;49;00m\u001b[43m)\u001b[49m\u001b[43m,\u001b[49m\n\u001b[1;32m   1223\u001b[0m \u001b[43m    \u001b[49m\u001b[43mmemory_map\u001b[49m\u001b[38;5;241;43m=\u001b[39;49m\u001b[38;5;28;43mself\u001b[39;49m\u001b[38;5;241;43m.\u001b[39;49m\u001b[43moptions\u001b[49m\u001b[38;5;241;43m.\u001b[39;49m\u001b[43mget\u001b[49m\u001b[43m(\u001b[49m\u001b[38;5;124;43m\"\u001b[39;49m\u001b[38;5;124;43mmemory_map\u001b[39;49m\u001b[38;5;124;43m\"\u001b[39;49m\u001b[43m,\u001b[49m\u001b[43m \u001b[49m\u001b[38;5;28;43;01mFalse\u001b[39;49;00m\u001b[43m)\u001b[49m\u001b[43m,\u001b[49m\n\u001b[1;32m   1224\u001b[0m \u001b[43m    \u001b[49m\u001b[43mis_text\u001b[49m\u001b[38;5;241;43m=\u001b[39;49m\u001b[43mis_text\u001b[49m\u001b[43m,\u001b[49m\n\u001b[1;32m   1225\u001b[0m \u001b[43m    \u001b[49m\u001b[43merrors\u001b[49m\u001b[38;5;241;43m=\u001b[39;49m\u001b[38;5;28;43mself\u001b[39;49m\u001b[38;5;241;43m.\u001b[39;49m\u001b[43moptions\u001b[49m\u001b[38;5;241;43m.\u001b[39;49m\u001b[43mget\u001b[49m\u001b[43m(\u001b[49m\u001b[38;5;124;43m\"\u001b[39;49m\u001b[38;5;124;43mencoding_errors\u001b[39;49m\u001b[38;5;124;43m\"\u001b[39;49m\u001b[43m,\u001b[49m\u001b[43m \u001b[49m\u001b[38;5;124;43m\"\u001b[39;49m\u001b[38;5;124;43mstrict\u001b[39;49m\u001b[38;5;124;43m\"\u001b[39;49m\u001b[43m)\u001b[49m\u001b[43m,\u001b[49m\n\u001b[1;32m   1226\u001b[0m \u001b[43m    \u001b[49m\u001b[43mstorage_options\u001b[49m\u001b[38;5;241;43m=\u001b[39;49m\u001b[38;5;28;43mself\u001b[39;49m\u001b[38;5;241;43m.\u001b[39;49m\u001b[43moptions\u001b[49m\u001b[38;5;241;43m.\u001b[39;49m\u001b[43mget\u001b[49m\u001b[43m(\u001b[49m\u001b[38;5;124;43m\"\u001b[39;49m\u001b[38;5;124;43mstorage_options\u001b[39;49m\u001b[38;5;124;43m\"\u001b[39;49m\u001b[43m,\u001b[49m\u001b[43m \u001b[49m\u001b[38;5;28;43;01mNone\u001b[39;49;00m\u001b[43m)\u001b[49m\u001b[43m,\u001b[49m\n\u001b[1;32m   1227\u001b[0m \u001b[43m\u001b[49m\u001b[43m)\u001b[49m\n\u001b[1;32m   1228\u001b[0m \u001b[38;5;28;01massert\u001b[39;00m \u001b[38;5;28mself\u001b[39m\u001b[38;5;241m.\u001b[39mhandles \u001b[38;5;129;01mis\u001b[39;00m \u001b[38;5;129;01mnot\u001b[39;00m \u001b[38;5;28;01mNone\u001b[39;00m\n\u001b[1;32m   1229\u001b[0m f \u001b[38;5;241m=\u001b[39m \u001b[38;5;28mself\u001b[39m\u001b[38;5;241m.\u001b[39mhandles\u001b[38;5;241m.\u001b[39mhandle\n",
      "File \u001b[0;32m~/Documents/Projects/biozentrum/.conda_environment/lib/python3.8/site-packages/pandas/io/common.py:786\u001b[0m, in \u001b[0;36mget_handle\u001b[0;34m(path_or_buf, mode, encoding, compression, memory_map, is_text, errors, storage_options)\u001b[0m\n\u001b[1;32m    781\u001b[0m \u001b[38;5;28;01melif\u001b[39;00m \u001b[38;5;28misinstance\u001b[39m(handle, \u001b[38;5;28mstr\u001b[39m):\n\u001b[1;32m    782\u001b[0m     \u001b[38;5;66;03m# Check whether the filename is to be opened in binary mode.\u001b[39;00m\n\u001b[1;32m    783\u001b[0m     \u001b[38;5;66;03m# Binary mode does not support 'encoding' and 'newline'.\u001b[39;00m\n\u001b[1;32m    784\u001b[0m     \u001b[38;5;28;01mif\u001b[39;00m ioargs\u001b[38;5;241m.\u001b[39mencoding \u001b[38;5;129;01mand\u001b[39;00m \u001b[38;5;124m\"\u001b[39m\u001b[38;5;124mb\u001b[39m\u001b[38;5;124m\"\u001b[39m \u001b[38;5;129;01mnot\u001b[39;00m \u001b[38;5;129;01min\u001b[39;00m ioargs\u001b[38;5;241m.\u001b[39mmode:\n\u001b[1;32m    785\u001b[0m         \u001b[38;5;66;03m# Encoding\u001b[39;00m\n\u001b[0;32m--> 786\u001b[0m         handle \u001b[38;5;241m=\u001b[39m \u001b[38;5;28;43mopen\u001b[39;49m\u001b[43m(\u001b[49m\n\u001b[1;32m    787\u001b[0m \u001b[43m            \u001b[49m\u001b[43mhandle\u001b[49m\u001b[43m,\u001b[49m\n\u001b[1;32m    788\u001b[0m \u001b[43m            \u001b[49m\u001b[43mioargs\u001b[49m\u001b[38;5;241;43m.\u001b[39;49m\u001b[43mmode\u001b[49m\u001b[43m,\u001b[49m\n\u001b[1;32m    789\u001b[0m \u001b[43m            \u001b[49m\u001b[43mencoding\u001b[49m\u001b[38;5;241;43m=\u001b[39;49m\u001b[43mioargs\u001b[49m\u001b[38;5;241;43m.\u001b[39;49m\u001b[43mencoding\u001b[49m\u001b[43m,\u001b[49m\n\u001b[1;32m    790\u001b[0m \u001b[43m            \u001b[49m\u001b[43merrors\u001b[49m\u001b[38;5;241;43m=\u001b[39;49m\u001b[43merrors\u001b[49m\u001b[43m,\u001b[49m\n\u001b[1;32m    791\u001b[0m \u001b[43m            \u001b[49m\u001b[43mnewline\u001b[49m\u001b[38;5;241;43m=\u001b[39;49m\u001b[38;5;124;43m\"\u001b[39;49m\u001b[38;5;124;43m\"\u001b[39;49m\u001b[43m,\u001b[49m\n\u001b[1;32m    792\u001b[0m \u001b[43m        \u001b[49m\u001b[43m)\u001b[49m\n\u001b[1;32m    793\u001b[0m     \u001b[38;5;28;01melse\u001b[39;00m:\n\u001b[1;32m    794\u001b[0m         \u001b[38;5;66;03m# Binary mode\u001b[39;00m\n\u001b[1;32m    795\u001b[0m         handle \u001b[38;5;241m=\u001b[39m \u001b[38;5;28mopen\u001b[39m(handle, ioargs\u001b[38;5;241m.\u001b[39mmode)\n",
      "\u001b[0;31mFileNotFoundError\u001b[0m: [Errno 2] No such file or directory: '/scicore/home/nimwegen/rocasu25/MM_Data/Dany/20220706glugly/curated_data/positions.csv'"
     ]
    }
   ],
   "source": [
    "#Generate a YAML file from experiment_summary_table\n",
    "#Select rows of interest, that will be curated, from the curated data summary table\n",
    "experiment_summary_table=print_curated_data_summary(experimental_details,experimentFolderPath)\n",
    "experiment_summary_table"
   ]
  },
  {
   "cell_type": "markdown",
   "id": "7f94c246-973f-4206-b1dc-7a5e5c8d27bd",
   "metadata": {
    "tags": []
   },
   "source": [
    "# 20230302, glucose 0.2% + amino-acids (882 frames, step=1.5min, total 22h), (all promoters)\n",
    "## Experimental details and data summary"
   ]
  },
  {
   "cell_type": "code",
   "execution_count": 2,
   "id": "7f308aef-fe8a-4d0b-a2be-c45c216cd2c1",
   "metadata": {},
   "outputs": [],
   "source": [
    "#Experimental details\n",
    "\n",
    "experimental_details=[{\n",
    "    \"date\":\"20230302\",\n",
    "    \"description\":\"glucoseaa\",\n",
    "    \"f_start\":\"0\",\n",
    "    \"f_end\":\"880\",\n",
    "    \"condition\":\"glucoseaa\",\n",
    "    \"t_interval\":\"1.5\",\n",
    "    \"cell_detection_offset\":\"130\"}] #min\n",
    "\n",
    "\n",
    "#Preprocessing infos\n",
    "experimentFolderPath='/scicore/home/nimwegen/rocasu25/MM_Data/Dany/20230302'\n",
    "##Preprocessing folder\n",
    "preprocFolder=\"20230302_preproc_130\"\n",
    "##List of positions\n",
    "#pos_var=\"POS_NAMES=(Pos0)\"\n",
    "#pos_var=\"POS_NAMES=(Pos0 Pos1 Pos2 Pos3 Pos8 Pos9 Pos10 Pos15 Pos16 Pos17 Pos18 Pos19 Pos20 Pos21 Pos22 Pos23 Pos24 Pos25 Pos26 Pos27 Pos28)\"\n",
    "pos_var=\"POS_NAMES=(Pos4 Pos5 Pos6 Pos7)\"\n",
    "##Template to use for the preprocessing\n",
    "template=\"TEMPLATE_vng125\"\n",
    "##Rotation (to determine on imageJ)\n",
    "ROTATION=\"90\"\n",
    "##TMAX, if processing is not to look at all frames\n",
    "TMAX=\"880\"\n",
    "##Normalization offset\n",
    "NORMALIZATION_REGION_OFFSET=\"130\"\n",
    "##Raw path to the data\n",
    "\n",
    "RAW_PATH=\"/scicore/home/nimwegen/rocasu25/MM_Data/Dany/20230302/20230302_gluaa/20230302_gluaa_1/20230302_gluaa_1_MMStack.ome.tif\"\n",
    "##Raw path to flat field data\n",
    "FLATFIELD_PATH=\"/scicore/home/nimwegen/rocasu25/MM_Data/Dany/20230302/20230302_gfpflatfield/20230302_gfpflatfield_8/20230302_gfpflatfield_8_MMStack.ome.tif\""
   ]
  },
  {
   "cell_type": "code",
   "execution_count": 15,
   "id": "d4c6d9a8-5f79-4893-ae9f-b2f3283cf2d3",
   "metadata": {},
   "outputs": [
    {
     "name": "stdin",
     "output_type": "stream",
     "text": [
      "Do you really want to submit preprocessing tasks to the scheduler? If the preprocessing folder target path has not been changed, it might result in overwritting your data. Enter 'Yes', to confirm. Yes\n"
     ]
    },
    {
     "name": "stdout",
     "output_type": "stream",
     "text": [
      "Preprocessing queued... (use squeue to check the current status)\n"
     ]
    }
   ],
   "source": [
    "submit_preprocessing(experimentFolderPath,preprocFolder,template,NORMALIZATION_REGION_OFFSET,pos_var,RAW_PATH,FLATFIELD_PATH,ROTATION,TMAX)"
   ]
  },
  {
   "cell_type": "markdown",
   "id": "9bbd69b2-cce3-428f-9f12-307f8a439c26",
   "metadata": {},
   "source": [
    "## Moma Batch"
   ]
  },
  {
   "cell_type": "code",
   "execution_count": 3,
   "id": "6934104e-ee68-4eea-9e93-557b1960df63",
   "metadata": {},
   "outputs": [
    {
     "data": {
      "text/html": [
       "<div>\n",
       "<style scoped>\n",
       "    .dataframe tbody tr th:only-of-type {\n",
       "        vertical-align: middle;\n",
       "    }\n",
       "\n",
       "    .dataframe tbody tr th {\n",
       "        vertical-align: top;\n",
       "    }\n",
       "\n",
       "    .dataframe thead th {\n",
       "        text-align: right;\n",
       "    }\n",
       "</style>\n",
       "<table border=\"1\" class=\"dataframe\">\n",
       "  <thead>\n",
       "    <tr style=\"text-align: right;\">\n",
       "      <th></th>\n",
       "      <th>date</th>\n",
       "      <th>ch</th>\n",
       "      <th>pos</th>\n",
       "      <th>width</th>\n",
       "      <th>inoculated_gl</th>\n",
       "      <th>promoter</th>\n",
       "      <th>vector</th>\n",
       "    </tr>\n",
       "  </thead>\n",
       "  <tbody>\n",
       "    <tr>\n",
       "      <th>0</th>\n",
       "      <td>20230302</td>\n",
       "      <td>4</td>\n",
       "      <td>0</td>\n",
       "      <td>1.25</td>\n",
       "      <td>12</td>\n",
       "      <td>med3</td>\n",
       "      <td>ch</td>\n",
       "    </tr>\n",
       "    <tr>\n",
       "      <th>1</th>\n",
       "      <td>20230302</td>\n",
       "      <td>4</td>\n",
       "      <td>1</td>\n",
       "      <td>1.25</td>\n",
       "      <td>12</td>\n",
       "      <td>med3</td>\n",
       "      <td>ch</td>\n",
       "    </tr>\n",
       "    <tr>\n",
       "      <th>2</th>\n",
       "      <td>20230302</td>\n",
       "      <td>4</td>\n",
       "      <td>2</td>\n",
       "      <td>1.25</td>\n",
       "      <td>15</td>\n",
       "      <td>med3</td>\n",
       "      <td>ch</td>\n",
       "    </tr>\n",
       "    <tr>\n",
       "      <th>3</th>\n",
       "      <td>20230302</td>\n",
       "      <td>4</td>\n",
       "      <td>3</td>\n",
       "      <td>1.25</td>\n",
       "      <td>13</td>\n",
       "      <td>med3</td>\n",
       "      <td>ch</td>\n",
       "    </tr>\n",
       "    <tr>\n",
       "      <th>4</th>\n",
       "      <td>20230302</td>\n",
       "      <td>3</td>\n",
       "      <td>4</td>\n",
       "      <td>1.25</td>\n",
       "      <td>5</td>\n",
       "      <td>rrnB</td>\n",
       "      <td>ch</td>\n",
       "    </tr>\n",
       "    <tr>\n",
       "      <th>5</th>\n",
       "      <td>20230302</td>\n",
       "      <td>3</td>\n",
       "      <td>5</td>\n",
       "      <td>1.25</td>\n",
       "      <td>5</td>\n",
       "      <td>rrnB</td>\n",
       "      <td>ch</td>\n",
       "    </tr>\n",
       "    <tr>\n",
       "      <th>6</th>\n",
       "      <td>20230302</td>\n",
       "      <td>3</td>\n",
       "      <td>6</td>\n",
       "      <td>1.25</td>\n",
       "      <td>10</td>\n",
       "      <td>rrnB</td>\n",
       "      <td>ch</td>\n",
       "    </tr>\n",
       "    <tr>\n",
       "      <th>7</th>\n",
       "      <td>20230302</td>\n",
       "      <td>3</td>\n",
       "      <td>7</td>\n",
       "      <td>1.25</td>\n",
       "      <td>8</td>\n",
       "      <td>rrnB</td>\n",
       "      <td>ch</td>\n",
       "    </tr>\n",
       "    <tr>\n",
       "      <th>8</th>\n",
       "      <td>20230302</td>\n",
       "      <td>2</td>\n",
       "      <td>8</td>\n",
       "      <td>1.25</td>\n",
       "      <td>4</td>\n",
       "      <td>rplN</td>\n",
       "      <td>ch</td>\n",
       "    </tr>\n",
       "    <tr>\n",
       "      <th>9</th>\n",
       "      <td>20230302</td>\n",
       "      <td>2</td>\n",
       "      <td>9</td>\n",
       "      <td>1.25</td>\n",
       "      <td>3</td>\n",
       "      <td>rplN</td>\n",
       "      <td>ch</td>\n",
       "    </tr>\n",
       "    <tr>\n",
       "      <th>10</th>\n",
       "      <td>20230302</td>\n",
       "      <td>2</td>\n",
       "      <td>10</td>\n",
       "      <td>1.25</td>\n",
       "      <td>4</td>\n",
       "      <td>rplN</td>\n",
       "      <td>ch</td>\n",
       "    </tr>\n",
       "    <tr>\n",
       "      <th>11</th>\n",
       "      <td>20230302</td>\n",
       "      <td>1</td>\n",
       "      <td>11</td>\n",
       "      <td>1.25</td>\n",
       "      <td>10</td>\n",
       "      <td>6300</td>\n",
       "      <td>ch</td>\n",
       "    </tr>\n",
       "    <tr>\n",
       "      <th>12</th>\n",
       "      <td>20230302</td>\n",
       "      <td>1</td>\n",
       "      <td>12</td>\n",
       "      <td>1.25</td>\n",
       "      <td>19</td>\n",
       "      <td>6300</td>\n",
       "      <td>ch</td>\n",
       "    </tr>\n",
       "    <tr>\n",
       "      <th>13</th>\n",
       "      <td>20230302</td>\n",
       "      <td>1</td>\n",
       "      <td>13</td>\n",
       "      <td>1.25</td>\n",
       "      <td>18</td>\n",
       "      <td>6300</td>\n",
       "      <td>ch</td>\n",
       "    </tr>\n",
       "    <tr>\n",
       "      <th>14</th>\n",
       "      <td>20230302</td>\n",
       "      <td>1</td>\n",
       "      <td>14</td>\n",
       "      <td>1.25</td>\n",
       "      <td>14</td>\n",
       "      <td>6300</td>\n",
       "      <td>ch</td>\n",
       "    </tr>\n",
       "    <tr>\n",
       "      <th>15</th>\n",
       "      <td>20230302</td>\n",
       "      <td>5</td>\n",
       "      <td>15</td>\n",
       "      <td>1.25</td>\n",
       "      <td>11</td>\n",
       "      <td>med2</td>\n",
       "      <td>ch</td>\n",
       "    </tr>\n",
       "    <tr>\n",
       "      <th>16</th>\n",
       "      <td>20230302</td>\n",
       "      <td>5</td>\n",
       "      <td>16</td>\n",
       "      <td>1.25</td>\n",
       "      <td>11</td>\n",
       "      <td>med2</td>\n",
       "      <td>ch</td>\n",
       "    </tr>\n",
       "    <tr>\n",
       "      <th>17</th>\n",
       "      <td>20230302</td>\n",
       "      <td>5</td>\n",
       "      <td>17</td>\n",
       "      <td>1.25</td>\n",
       "      <td>12</td>\n",
       "      <td>med2</td>\n",
       "      <td>ch</td>\n",
       "    </tr>\n",
       "    <tr>\n",
       "      <th>18</th>\n",
       "      <td>20230302</td>\n",
       "      <td>5</td>\n",
       "      <td>18</td>\n",
       "      <td>1.25</td>\n",
       "      <td>13</td>\n",
       "      <td>med2</td>\n",
       "      <td>ch</td>\n",
       "    </tr>\n",
       "    <tr>\n",
       "      <th>19</th>\n",
       "      <td>20230302</td>\n",
       "      <td>5</td>\n",
       "      <td>19</td>\n",
       "      <td>1.25</td>\n",
       "      <td>8</td>\n",
       "      <td>med2</td>\n",
       "      <td>ch</td>\n",
       "    </tr>\n",
       "    <tr>\n",
       "      <th>20</th>\n",
       "      <td>20230302</td>\n",
       "      <td>6</td>\n",
       "      <td>20</td>\n",
       "      <td>1.25</td>\n",
       "      <td>9</td>\n",
       "      <td>hi3</td>\n",
       "      <td>ch</td>\n",
       "    </tr>\n",
       "    <tr>\n",
       "      <th>21</th>\n",
       "      <td>20230302</td>\n",
       "      <td>6</td>\n",
       "      <td>21</td>\n",
       "      <td>1.25</td>\n",
       "      <td>14</td>\n",
       "      <td>hi3</td>\n",
       "      <td>ch</td>\n",
       "    </tr>\n",
       "    <tr>\n",
       "      <th>22</th>\n",
       "      <td>20230302</td>\n",
       "      <td>6</td>\n",
       "      <td>22</td>\n",
       "      <td>1.25</td>\n",
       "      <td>12</td>\n",
       "      <td>hi3</td>\n",
       "      <td>ch</td>\n",
       "    </tr>\n",
       "    <tr>\n",
       "      <th>23</th>\n",
       "      <td>20230302</td>\n",
       "      <td>6</td>\n",
       "      <td>23</td>\n",
       "      <td>1.25</td>\n",
       "      <td>12</td>\n",
       "      <td>hi3</td>\n",
       "      <td>ch</td>\n",
       "    </tr>\n",
       "    <tr>\n",
       "      <th>24</th>\n",
       "      <td>20230302</td>\n",
       "      <td>7</td>\n",
       "      <td>24</td>\n",
       "      <td>1.25</td>\n",
       "      <td>12</td>\n",
       "      <td>hi1</td>\n",
       "      <td>ch</td>\n",
       "    </tr>\n",
       "    <tr>\n",
       "      <th>25</th>\n",
       "      <td>20230302</td>\n",
       "      <td>7</td>\n",
       "      <td>25</td>\n",
       "      <td>1.25</td>\n",
       "      <td>12</td>\n",
       "      <td>hi1</td>\n",
       "      <td>ch</td>\n",
       "    </tr>\n",
       "    <tr>\n",
       "      <th>26</th>\n",
       "      <td>20230302</td>\n",
       "      <td>7</td>\n",
       "      <td>26</td>\n",
       "      <td>1.25</td>\n",
       "      <td>12</td>\n",
       "      <td>hi1</td>\n",
       "      <td>ch</td>\n",
       "    </tr>\n",
       "    <tr>\n",
       "      <th>27</th>\n",
       "      <td>20230302</td>\n",
       "      <td>7</td>\n",
       "      <td>27</td>\n",
       "      <td>1.25</td>\n",
       "      <td>12</td>\n",
       "      <td>hi1</td>\n",
       "      <td>ch</td>\n",
       "    </tr>\n",
       "    <tr>\n",
       "      <th>28</th>\n",
       "      <td>20230302</td>\n",
       "      <td>7</td>\n",
       "      <td>28</td>\n",
       "      <td>1.25</td>\n",
       "      <td>12</td>\n",
       "      <td>hi1</td>\n",
       "      <td>ch</td>\n",
       "    </tr>\n",
       "  </tbody>\n",
       "</table>\n",
       "</div>"
      ],
      "text/plain": [
       "        date  ch  pos  width  inoculated_gl promoter vector\n",
       "0   20230302   4    0   1.25             12     med3     ch\n",
       "1   20230302   4    1   1.25             12     med3     ch\n",
       "2   20230302   4    2   1.25             15     med3     ch\n",
       "3   20230302   4    3   1.25             13     med3     ch\n",
       "4   20230302   3    4   1.25              5     rrnB     ch\n",
       "5   20230302   3    5   1.25              5     rrnB     ch\n",
       "6   20230302   3    6   1.25             10     rrnB     ch\n",
       "7   20230302   3    7   1.25              8     rrnB     ch\n",
       "8   20230302   2    8   1.25              4     rplN     ch\n",
       "9   20230302   2    9   1.25              3     rplN     ch\n",
       "10  20230302   2   10   1.25              4     rplN     ch\n",
       "11  20230302   1   11   1.25             10     6300     ch\n",
       "12  20230302   1   12   1.25             19     6300     ch\n",
       "13  20230302   1   13   1.25             18     6300     ch\n",
       "14  20230302   1   14   1.25             14     6300     ch\n",
       "15  20230302   5   15   1.25             11     med2     ch\n",
       "16  20230302   5   16   1.25             11     med2     ch\n",
       "17  20230302   5   17   1.25             12     med2     ch\n",
       "18  20230302   5   18   1.25             13     med2     ch\n",
       "19  20230302   5   19   1.25              8     med2     ch\n",
       "20  20230302   6   20   1.25              9      hi3     ch\n",
       "21  20230302   6   21   1.25             14      hi3     ch\n",
       "22  20230302   6   22   1.25             12      hi3     ch\n",
       "23  20230302   6   23   1.25             12      hi3     ch\n",
       "24  20230302   7   24   1.25             12      hi1     ch\n",
       "25  20230302   7   25   1.25             12      hi1     ch\n",
       "26  20230302   7   26   1.25             12      hi1     ch\n",
       "27  20230302   7   27   1.25             12      hi1     ch\n",
       "28  20230302   7   28   1.25             12      hi1     ch"
      ]
     },
     "execution_count": 3,
     "metadata": {},
     "output_type": "execute_result"
    }
   ],
   "source": [
    "#Generate a YAML file from experiment_summary_table\n",
    "#Select rows of interest, that will be curated, from the curated data summary table\n",
    "experiment_summary_table=print_curated_data_summary(experimental_details,experimentFolderPath)\n",
    "experiment_summary_table"
   ]
  },
  {
   "cell_type": "markdown",
   "id": "464ac8c5-f4b8-40c7-ac7c-b0666d1ca9a1",
   "metadata": {},
   "source": [
    "### 6300 curation"
   ]
  },
  {
   "cell_type": "code",
   "execution_count": 5,
   "id": "68669812-ca65-412b-b5c8-874c13623bec",
   "metadata": {},
   "outputs": [
    {
     "name": "stdout",
     "output_type": "stream",
     "text": [
      "        date  ch  pos  width  inoculated_gl promoter vector\n",
      "11  20230302   1   11   1.25             10     6300     ch\n",
      "12  20230302   1   12   1.25             19     6300     ch\n",
      "13  20230302   1   13   1.25             18     6300     ch\n",
      "14  20230302   1   14   1.25             14     6300     ch\n"
     ]
    }
   ],
   "source": [
    "subset=experiment_summary_table[experiment_summary_table[\"pos\"].isin([11,12,13,14])]\n",
    "print(subset)"
   ]
  },
  {
   "cell_type": "code",
   "execution_count": 45,
   "id": "2851affc-8a71-4c68-a75c-e813f4ddf0a0",
   "metadata": {},
   "outputs": [
    {
     "name": "stdout",
     "output_type": "stream",
     "text": [
      "Making batch directory batch_6300.\n",
      "Copying standard mm.properties file to batch_6300.\n",
      "/scicore/home/nimwegen/rocasu25/MM_Data/Dany/20230302/20230302_preproc\n",
      "Batch file does not exist. It is created for the following positions, for all detected growth lanes:\n",
      "Pos11\n",
      "Pos12\n",
      "Pos13\n",
      "Pos14\n"
     ]
    }
   ],
   "source": [
    "#Batch folder that should be used or created to supervise tracking/curation/export\n",
    "batch_folder=\"batch_6300\"\n",
    "batch_file=\"moma_batch_6300.yaml\"\n",
    "curation_id=\"moma_batch_6300\"\n",
    "create_moma_batch_directory(experimentFolderPath,batch_folder)\n",
    "create_yaml_file(batch_file,curation_id,experimentFolderPath,preprocFolder,batch_folder,subset)"
   ]
  },
  {
   "cell_type": "code",
   "execution_count": 8,
   "id": "b49c13d9-ca05-4122-8622-5d83e3b9ed43",
   "metadata": {},
   "outputs": [],
   "source": [
    "%%capture\n",
    "#DO NOT MODIFY\n",
    "#regular expressions for the cvs files to look for\n",
    "subset=experiment_summary_table[experiment_summary_table[\"pos\"].isin([11,12,13,14])]\n",
    "print(subset)\n",
    "gls_dic={11:list(np.arange(0,60)),\n",
    "         12:list(np.arange(0,60)),\n",
    "         13:list(np.arange(0,60)),\n",
    "         14:list(np.arange(0,60))}\n",
    "rx0='CellStats__(.*).csv' \n",
    "pyMoM.extractAndTidyCurated(experimentFolderPath,preprocFolder,subset,rx0,gls_dic,analysis_id='moma_batch_6300_120')"
   ]
  },
  {
   "cell_type": "markdown",
   "id": "d0d75b9c-59da-4a6a-accc-fc8d078e1c23",
   "metadata": {},
   "source": [
    "### hi1 curation"
   ]
  },
  {
   "cell_type": "code",
   "execution_count": 15,
   "id": "7ab2a7ad-2230-4e03-8504-1175013fe2ab",
   "metadata": {},
   "outputs": [
    {
     "name": "stdout",
     "output_type": "stream",
     "text": [
      "        date  ch  pos  width  inoculated_gl promoter vector\n",
      "24  20230302   7   24   1.25             12      hi1     ch\n",
      "25  20230302   7   25   1.25             12      hi1     ch\n",
      "26  20230302   7   26   1.25             12      hi1     ch\n",
      "27  20230302   7   27   1.25             12      hi1     ch\n",
      "28  20230302   7   28   1.25             12      hi1     ch\n"
     ]
    }
   ],
   "source": [
    "subset=experiment_summary_table[experiment_summary_table[\"pos\"].isin([24,25,26,27,28])]\n",
    "print(subset)"
   ]
  },
  {
   "cell_type": "code",
   "execution_count": 10,
   "id": "05ff81d5-2a7c-423d-a800-31e926b7cdff",
   "metadata": {},
   "outputs": [
    {
     "name": "stdout",
     "output_type": "stream",
     "text": [
      "Making batch directory batch_hi1.\n",
      "Copying standard mm.properties file to batch_hi1.\n",
      "/scicore/home/nimwegen/rocasu25/MM_Data/Dany/20230302/20230302_preproc_130\n",
      "Batch file does not exist. It is created for the following positions, for all detected growth lanes:\n",
      "Pos24\n",
      "Pos25\n",
      "Pos26\n",
      "Pos27\n",
      "Pos28\n"
     ]
    }
   ],
   "source": [
    "#Batch folder that should be used or created to supervise tracking/curation/export\n",
    "batch_folder=\"batch_hi1\"\n",
    "batch_file=\"moma_batch_hi1.yaml\"\n",
    "curation_id=\"moma_batch_hi1\"\n",
    "create_moma_batch_directory(experimentFolderPath,batch_folder)\n",
    "create_yaml_file(batch_file,curation_id,experimentFolderPath,preprocFolder,batch_folder,subset)"
   ]
  },
  {
   "cell_type": "code",
   "execution_count": 16,
   "id": "749f8e18-7d0a-4113-97bf-57717ff9b429",
   "metadata": {},
   "outputs": [],
   "source": [
    "%%capture\n",
    "#DO NOT MODIFY\n",
    "#regular expressions for the cvs files to look for\n",
    "subset=experiment_summary_table[experiment_summary_table[\"pos\"].isin([24,25,26,27,28])]\n",
    "print(subset)\n",
    "gls_dic={24:list(np.arange(0,60)),\n",
    "         25:list(np.arange(0,60)),\n",
    "         26:list(np.arange(0,60)),\n",
    "         27:list(np.arange(0,60)),\n",
    "        28:list(np.arange(0,60))}\n",
    "rx0='CellStats__(.*).csv' \n",
    "pyMoM.extractAndTidyCurated(experimentFolderPath,preprocFolder,subset,rx0,gls_dic,analysis_id='moma_batch_hi1')"
   ]
  },
  {
   "cell_type": "markdown",
   "id": "2f3de386-bf30-4c5d-99e6-7a578928e99c",
   "metadata": {},
   "source": [
    "### hi3 curation"
   ]
  },
  {
   "cell_type": "code",
   "execution_count": 9,
   "id": "ed706713-c75d-42e4-acda-bb3599888e47",
   "metadata": {},
   "outputs": [
    {
     "name": "stdout",
     "output_type": "stream",
     "text": [
      "        date  ch  pos  width  inoculated_gl promoter vector\n",
      "20  20230302   6   20   1.25              9      hi3     ch\n",
      "21  20230302   6   21   1.25             14      hi3     ch\n",
      "22  20230302   6   22   1.25             12      hi3     ch\n",
      "23  20230302   6   23   1.25             12      hi3     ch\n"
     ]
    }
   ],
   "source": [
    "subset=experiment_summary_table[experiment_summary_table[\"pos\"].isin([20,21,22,23])]\n",
    "print(subset)"
   ]
  },
  {
   "cell_type": "code",
   "execution_count": 14,
   "id": "79652535-7e52-4ce4-add1-fa6343c19198",
   "metadata": {},
   "outputs": [
    {
     "name": "stdout",
     "output_type": "stream",
     "text": [
      "Making batch directory batch_hi3.\n",
      "Copying standard mm.properties file to batch_hi3.\n",
      "/scicore/home/nimwegen/rocasu25/MM_Data/Dany/20230302/20230302_preproc_130\n",
      "Batch file does not exist. It is created for the following positions, for all detected growth lanes:\n",
      "Pos20\n",
      "Pos21\n",
      "Pos22\n",
      "Pos23\n"
     ]
    }
   ],
   "source": [
    "#Batch folder that should be used or created to supervise tracking/curation/export\n",
    "batch_folder=\"batch_hi3\"\n",
    "batch_file=\"moma_batch_hi3.yaml\"\n",
    "curation_id=\"moma_batch_hi3\"\n",
    "create_moma_batch_directory(experimentFolderPath,batch_folder)\n",
    "create_yaml_file(batch_file,curation_id,experimentFolderPath,preprocFolder,batch_folder,subset)"
   ]
  },
  {
   "cell_type": "code",
   "execution_count": 10,
   "id": "a370d73e-05c3-4bca-a83c-db855206c550",
   "metadata": {
    "tags": []
   },
   "outputs": [],
   "source": [
    "%%capture\n",
    "#DO NOT MODIFY\n",
    "#regular expressions for the cvs files to look for\n",
    "subset=experiment_summary_table[experiment_summary_table[\"pos\"].isin([20,21,22,23])]\n",
    "print(subset)\n",
    "gls_dic={20:list(np.arange(0,60)),\n",
    "         21:list(np.arange(0,60)),\n",
    "         22:list(np.arange(0,60)),\n",
    "         23:list(np.arange(0,60))}\n",
    "rx0='CellStats__(.*).csv' \n",
    "pyMoM.extractAndTidyCurated(experimentFolderPath,preprocFolder,subset,rx0,gls_dic,analysis_id='moma_batch_hi3')"
   ]
  },
  {
   "cell_type": "markdown",
   "id": "a0aa9b98-13f1-4db7-9150-196fc9da1d45",
   "metadata": {},
   "source": [
    "### med2 curation"
   ]
  },
  {
   "cell_type": "code",
   "execution_count": 4,
   "id": "b21b119a-8434-4bb9-be90-71f390995c08",
   "metadata": {},
   "outputs": [
    {
     "name": "stdout",
     "output_type": "stream",
     "text": [
      "        date  ch  pos  width  inoculated_gl promoter vector\n",
      "15  20230302   5   15   1.25             11     med2     ch\n",
      "16  20230302   5   16   1.25             11     med2     ch\n",
      "17  20230302   5   17   1.25             12     med2     ch\n",
      "18  20230302   5   18   1.25             13     med2     ch\n",
      "19  20230302   5   19   1.25              8     med2     ch\n"
     ]
    }
   ],
   "source": [
    "subset=experiment_summary_table[experiment_summary_table[\"pos\"].isin([15,16,17,18,19])]\n",
    "print(subset)"
   ]
  },
  {
   "cell_type": "code",
   "execution_count": 19,
   "id": "ccb2361c-de86-46c3-8ef4-2859a90f472d",
   "metadata": {},
   "outputs": [
    {
     "name": "stdout",
     "output_type": "stream",
     "text": [
      "Making batch directory batch_med2.\n",
      "Copying standard mm.properties file to batch_med2.\n",
      "/scicore/home/nimwegen/rocasu25/MM_Data/Dany/20230302/20230302_preproc_130\n",
      "Batch file does not exist. It is created for the following positions, for all detected growth lanes:\n",
      "Pos15\n",
      "Pos16\n",
      "Pos17\n",
      "Pos18\n",
      "Pos19\n"
     ]
    }
   ],
   "source": [
    "#Batch folder that should be used or created to supervise tracking/curation/export\n",
    "batch_folder=\"batch_med2\"\n",
    "batch_file=\"moma_batch_med2.yaml\"\n",
    "curation_id=\"moma_batch_med2\"\n",
    "create_moma_batch_directory(experimentFolderPath,batch_folder)\n",
    "create_yaml_file(batch_file,curation_id,experimentFolderPath,preprocFolder,batch_folder,subset)"
   ]
  },
  {
   "cell_type": "code",
   "execution_count": 6,
   "id": "f4881423-dfb3-4ce6-9c94-4b14a76bb13a",
   "metadata": {},
   "outputs": [],
   "source": [
    "%%capture\n",
    "#DO NOT MODIFY\n",
    "#regular expressions for the cvs files to look for\n",
    "subset=experiment_summary_table[experiment_summary_table[\"pos\"].isin([15,16,17])]\n",
    "print(subset)\n",
    "gls_dic={15:list(np.arange(0,60)),\n",
    "         16:list(np.arange(0,60)),\n",
    "         17:list(np.arange(0,60))}\n",
    "rx0='CellStats__(.*).csv' \n",
    "pyMoM.extractAndTidyCurated(experimentFolderPath,preprocFolder,subset,rx0,gls_dic,analysis_id='moma_batch_med2')"
   ]
  },
  {
   "cell_type": "markdown",
   "id": "c933479c-2e30-49eb-8b4f-9a221547685e",
   "metadata": {},
   "source": [
    "### med3 curation"
   ]
  },
  {
   "cell_type": "code",
   "execution_count": 16,
   "id": "4429a1b0-8851-4494-9ae3-5b9d03959e3e",
   "metadata": {},
   "outputs": [
    {
     "name": "stdout",
     "output_type": "stream",
     "text": [
      "       date  ch  pos  width  inoculated_gl promoter vector\n",
      "0  20230302   4    0   1.25             12     med3     ch\n",
      "1  20230302   4    1   1.25             12     med3     ch\n",
      "2  20230302   4    2   1.25             15     med3     ch\n",
      "3  20230302   4    3   1.25             13     med3     ch\n"
     ]
    }
   ],
   "source": [
    "subset=experiment_summary_table[experiment_summary_table[\"pos\"].isin([0,1,2,3])]\n",
    "print(subset)"
   ]
  },
  {
   "cell_type": "code",
   "execution_count": 21,
   "id": "dfb562b9-b91e-4b39-85b0-3e71b11b81eb",
   "metadata": {},
   "outputs": [
    {
     "name": "stdout",
     "output_type": "stream",
     "text": [
      "Making batch directory batch_med3.\n",
      "Copying standard mm.properties file to batch_med3.\n",
      "/scicore/home/nimwegen/rocasu25/MM_Data/Dany/20230302/20230302_preproc_130\n",
      "Batch file does not exist. It is created for the following positions, for all detected growth lanes:\n",
      "Pos0\n",
      "Pos1\n",
      "Pos2\n",
      "Pos3\n"
     ]
    }
   ],
   "source": [
    "#Batch folder that should be used or created to supervise tracking/curation/export\n",
    "batch_folder=\"batch_med3\"\n",
    "batch_file=\"moma_batch_med3.yaml\"\n",
    "curation_id=\"moma_batch_med3\"\n",
    "create_moma_batch_directory(experimentFolderPath,batch_folder)\n",
    "create_yaml_file(batch_file,curation_id,experimentFolderPath,preprocFolder,batch_folder,subset)"
   ]
  },
  {
   "cell_type": "code",
   "execution_count": 17,
   "id": "6c8457a4-46c7-46c8-8fee-9df0b651f549",
   "metadata": {},
   "outputs": [],
   "source": [
    "%%capture\n",
    "#DO NOT MODIFY\n",
    "#regular expressions for the cvs files to look for\n",
    "subset=experiment_summary_table[experiment_summary_table[\"pos\"].isin([0,1,2,3])]\n",
    "print(subset)\n",
    "gls_dic={0:list(np.arange(0,60)),\n",
    "         1:list(np.arange(0,60)),\n",
    "         2:list(np.arange(0,60)),\n",
    "         3:list(np.arange(0,60))}\n",
    "rx0='CellStats__(.*).csv' \n",
    "pyMoM.extractAndTidyCurated(experimentFolderPath,preprocFolder,subset,rx0,gls_dic,analysis_id='moma_batch_med3')"
   ]
  },
  {
   "cell_type": "markdown",
   "id": "8b71e9a4-4ef0-467a-8860-1b7c18e6ceb3",
   "metadata": {},
   "source": [
    "### rplN curation"
   ]
  },
  {
   "cell_type": "code",
   "execution_count": 7,
   "id": "1c99e1c9-0fe7-41be-8141-2a4e6a724933",
   "metadata": {},
   "outputs": [
    {
     "name": "stdout",
     "output_type": "stream",
     "text": [
      "        date  ch  pos  width  inoculated_gl promoter vector\n",
      "8   20230302   2    8   1.25              4     rplN     ch\n",
      "9   20230302   2    9   1.25              3     rplN     ch\n",
      "10  20230302   2   10   1.25              4     rplN     ch\n"
     ]
    }
   ],
   "source": [
    "subset=experiment_summary_table[experiment_summary_table[\"pos\"].isin([8,9,10])]\n",
    "print(subset)"
   ]
  },
  {
   "cell_type": "code",
   "execution_count": 21,
   "id": "ba7cb79c-fad2-4ccf-a91e-46c258e26b89",
   "metadata": {},
   "outputs": [
    {
     "name": "stdout",
     "output_type": "stream",
     "text": [
      "Making batch directory batch_med3.\n",
      "Copying standard mm.properties file to batch_med3.\n",
      "/scicore/home/nimwegen/rocasu25/MM_Data/Dany/20230302/20230302_preproc_130\n",
      "Batch file does not exist. It is created for the following positions, for all detected growth lanes:\n",
      "Pos0\n",
      "Pos1\n",
      "Pos2\n",
      "Pos3\n"
     ]
    }
   ],
   "source": [
    "#Batch folder that should be used or created to supervise tracking/curation/export\n",
    "batch_folder=\"batch_med3\"\n",
    "batch_file=\"moma_batch_med3.yaml\"\n",
    "curation_id=\"moma_batch_med3\"\n",
    "create_moma_batch_directory(experimentFolderPath,batch_folder)\n",
    "create_yaml_file(batch_file,curation_id,experimentFolderPath,preprocFolder,batch_folder,subset)"
   ]
  },
  {
   "cell_type": "code",
   "execution_count": 8,
   "id": "5770c51a-d1c2-4bbb-a7f6-ec3c80f75644",
   "metadata": {},
   "outputs": [],
   "source": [
    "%%capture\n",
    "#DO NOT MODIFY\n",
    "#regular expressions for the cvs files to look for\n",
    "subset=experiment_summary_table[experiment_summary_table[\"pos\"].isin([8,9,10])]\n",
    "print(subset)\n",
    "gls_dic={8:list(np.arange(0,60)),\n",
    "         9:list(np.arange(0,60)),\n",
    "         10:list(np.arange(0,60))}\n",
    "rx0='CellStats__(.*).csv' \n",
    "pyMoM.extractAndTidyCurated(experimentFolderPath,preprocFolder,subset,rx0,gls_dic,analysis_id='moma_batch_rplN')"
   ]
  },
  {
   "cell_type": "markdown",
   "id": "a77667f8-393e-42f7-9bad-debe16b429a4",
   "metadata": {},
   "source": [
    "### med3 curation"
   ]
  },
  {
   "cell_type": "code",
   "execution_count": 20,
   "id": "bc8be1d0-0dae-44da-8770-6f0b037f64d0",
   "metadata": {},
   "outputs": [
    {
     "name": "stdout",
     "output_type": "stream",
     "text": [
      "       date  ch  pos  width  inoculated_gl promoter vector\n",
      "0  20230302   4    0   1.25             12     med3     ch\n",
      "1  20230302   4    1   1.25             12     med3     ch\n",
      "2  20230302   4    2   1.25             15     med3     ch\n",
      "3  20230302   4    3   1.25             13     med3     ch\n"
     ]
    }
   ],
   "source": [
    "subset=experiment_summary_table[experiment_summary_table[\"pos\"].isin([0,1,2,3])]\n",
    "print(subset)"
   ]
  },
  {
   "cell_type": "code",
   "execution_count": 12,
   "id": "0409493a-76c4-4f1e-847d-56b6287f3c3e",
   "metadata": {},
   "outputs": [
    {
     "name": "stdout",
     "output_type": "stream",
     "text": [
      "Making batch directory batch_rplN.\n",
      "Copying standard mm.properties file to batch_rplN.\n",
      "/scicore/home/nimwegen/rocasu25/MM_Data/Dany/20230302/20230302_preproc_130\n",
      "Batch file does not exist. It is created for the following positions, for all detected growth lanes:\n",
      "Pos8\n",
      "Pos9\n",
      "Pos10\n"
     ]
    }
   ],
   "source": [
    "#Batch folder that should be used or created to supervise tracking/curation/export\n",
    "batch_folder=\"batch_rplN\"\n",
    "batch_file=\"moma_batch_rplN.yaml\"\n",
    "curation_id=\"moma_batch_rplN\"\n",
    "create_moma_batch_directory(experimentFolderPath,batch_folder)\n",
    "create_yaml_file(batch_file,curation_id,experimentFolderPath,preprocFolder,batch_folder,subset)"
   ]
  },
  {
   "cell_type": "code",
   "execution_count": 8,
   "id": "74de5a4a-cf84-4417-a69b-6801227eff20",
   "metadata": {},
   "outputs": [],
   "source": [
    "%%capture\n",
    "#DO NOT MODIFY\n",
    "#regular expressions for the cvs files to look for\n",
    "subset=experiment_summary_table[experiment_summary_table[\"pos\"].isin([20,21,22,23])]\n",
    "print(subset)\n",
    "gls_dic={24:list(np.arange(0,60)),\n",
    "         25:list(np.arange(0,60)),\n",
    "         26:list(np.arange(0,60)),\n",
    "         27:list(np.arange(0,60)),\n",
    "        28:list(np.arange(0,60))}\n",
    "rx0='CellStats__(.*).csv' \n",
    "pyMoM.extractAndTidyCurated(experimentFolderPath,preprocFolder,subset,rx0,gls_dic,analysis_id='moma_batch_hi1')"
   ]
  },
  {
   "cell_type": "markdown",
   "id": "02e87c3d-2d6a-48d2-83b5-0b613eb1c077",
   "metadata": {},
   "source": [
    "### rrnB curation"
   ]
  },
  {
   "cell_type": "code",
   "execution_count": 4,
   "id": "4d1a249f-3a6b-42af-94bb-76d943e762b4",
   "metadata": {},
   "outputs": [
    {
     "name": "stdout",
     "output_type": "stream",
     "text": [
      "       date  ch  pos  width  inoculated_gl promoter vector\n",
      "4  20230302   3    4   1.25              5     rrnB     ch\n",
      "5  20230302   3    5   1.25              5     rrnB     ch\n",
      "6  20230302   3    6   1.25             10     rrnB     ch\n",
      "7  20230302   3    7   1.25              8     rrnB     ch\n"
     ]
    }
   ],
   "source": [
    "subset=experiment_summary_table[experiment_summary_table[\"pos\"].isin([4,5,6,7])]\n",
    "print(subset)"
   ]
  },
  {
   "cell_type": "code",
   "execution_count": 8,
   "id": "850aa51d-403f-47e0-8fe4-d09fc5ebed5d",
   "metadata": {},
   "outputs": [
    {
     "name": "stdout",
     "output_type": "stream",
     "text": [
      "Batch folder already exist.\n",
      "mm.properties already exists, copying cancelled.\n",
      "/scicore/home/nimwegen/rocasu25/MM_Data/Dany/20230302/20230302_preproc_130\n",
      "Batch file does not exist. It is created for the following positions, for all detected growth lanes:\n",
      "Pos4\n",
      "Pos5\n",
      "Pos6\n",
      "Pos7\n"
     ]
    }
   ],
   "source": [
    "#Batch folder that should be used or created to supervise tracking/curation/export\n",
    "batch_folder=\"batch_rrnB\"\n",
    "batch_file=\"moma_batch_rrnB.yaml\"\n",
    "curation_id=\"moma_batch_rrnB\"\n",
    "create_moma_batch_directory(experimentFolderPath,batch_folder)\n",
    "create_yaml_file(batch_file,curation_id,experimentFolderPath,preprocFolder,batch_folder,subset)"
   ]
  },
  {
   "cell_type": "code",
   "execution_count": 5,
   "id": "848506e9-72d8-410b-a66a-1476f826b467",
   "metadata": {},
   "outputs": [],
   "source": [
    "%%capture\n",
    "#DO NOT MODIFY\n",
    "#regular expressions for the cvs files to look for\n",
    "subset=experiment_summary_table[experiment_summary_table[\"pos\"].isin([4,5,6,7])]\n",
    "print(subset)\n",
    "gls_dic={4:list(np.arange(0,60)),\n",
    "         5:list(np.arange(0,60)),\n",
    "         6:list(np.arange(0,60)),\n",
    "         7:list(np.arange(0,60))}\n",
    "rx0='CellStats__(.*).csv' \n",
    "pyMoM.extractAndTidyCurated(experimentFolderPath,preprocFolder,subset,rx0,gls_dic,analysis_id='moma_batch_rrnB')"
   ]
  },
  {
   "cell_type": "markdown",
   "id": "da8c365f-8c54-4653-aa56-5ab666d2e4b5",
   "metadata": {
    "tags": []
   },
   "source": [
    "# 20230413, glucose 0.2%, glycerol 0.4% (882 frames, step=3min for 22h, then 6min for 44h), (all promoters, except med3)\n",
    "## Experimental details and data summary"
   ]
  },
  {
   "cell_type": "code",
   "execution_count": 15,
   "id": "100b12b0-d84c-4179-b005-09d1b84171c3",
   "metadata": {},
   "outputs": [],
   "source": [
    "#Experimental details\n",
    "\n",
    "experimental_details=[{\n",
    "    \"date\":\"20230413\",\n",
    "    \"description\":\"glucose_glycerol_switch\",\n",
    "    \"f_start\":\"0\",\n",
    "    \"f_end\":\"440\",\n",
    "    \"condition\":\"glucose\",\n",
    "    \"t_interval\":\"3\",\n",
    "    \"cell_detection_offset\":\"120\"} #min\n",
    "    ,\n",
    "{\n",
    "    \"date\":\"20230413\",\n",
    "    \"description\":\"glucose_glycerol_switch\",\n",
    "    \"f_start\":\"440\",\n",
    "    \"f_end\":\"Inf\",\n",
    "    \"condition\":\"glycerol\",\n",
    "    \"t_interval\":\"6\",\n",
    "    \"cell_detection_offset\":\"120\"} #min\n",
    "]\n",
    "\n",
    "\n",
    "\n",
    "#Preprocessing infos\n",
    "experimentFolderPath='/scicore/home/nimwegen/rocasu25/MM_Data/Dany/20230413'\n",
    "##Preprocessing folder\n",
    "preprocFolder=\"20230413_preproc\"\n",
    "##List of positions\n",
    "#pos_var=\"POS_NAMES=(Pos0)\"\n",
    "#pos_var=\"POS_NAMES=(Pos1 Pos2 Pos3 Pos8 Pos9 Pos10 Pos15 Pos16 Pos17 Pos18 Pos19 Pos20 Pos21 Pos22 Pos23 Pos24 Pos25 Pos26 Pos27 Pos28)\"\n",
    "pos_var=\"POS_NAMES=(Pos3 Pos4 Pos8 Pos9 Pos12 Pos13 Pos17 Pos18 Pos22 Pos23 Pos27 Pos28)\"\n",
    "##Template to use for the preprocessing\n",
    "template=\"TEMPLATE_vng125\"\n",
    "##Rotation (to determine on imageJ)\n",
    "ROTATION=\"89.8\"\n",
    "##TMAX, if processing is not to look at all frames\n",
    "TMAX=\"880\"\n",
    "##Normalization offset\n",
    "NORMALIZATION_REGION_OFFSET=\"120\"\n",
    "##Raw path to the data\n",
    "\n",
    "RAW_PATH=\"/scicore/home/nimwegen/rocasu25/MM_Data/Dany/20230413/20230413_glugly/20230413_glugly_2/20230413_glugly_2_MMStack.ome.tif\"\n",
    "##Raw path to flat field data\n",
    "FLATFIELD_PATH=\"/scicore/home/nimwegen/rocasu25/MM_Data/Dany/20230413/20230413_flatfield/20230413_flatfield_1/20230413_flatfield_1_MMStack.ome.tif\""
   ]
  },
  {
   "cell_type": "code",
   "execution_count": 30,
   "id": "ee4205cd-5034-45cb-a75a-76523e54e512",
   "metadata": {},
   "outputs": [
    {
     "name": "stdin",
     "output_type": "stream",
     "text": [
      "Do you really want to submit preprocessing tasks to the scheduler? If the preprocessing folder target path has not been changed, it might result in overwritting your data. Enter 'Yes', to confirm. Yes\n"
     ]
    },
    {
     "name": "stdout",
     "output_type": "stream",
     "text": [
      "Preprocessing queued... (use squeue to check the current status)\n"
     ]
    }
   ],
   "source": [
    "submit_preprocessing(experimentFolderPath,preprocFolder,template,NORMALIZATION_REGION_OFFSET,pos_var,RAW_PATH,FLATFIELD_PATH,ROTATION,TMAX)"
   ]
  },
  {
   "cell_type": "markdown",
   "id": "d98d0bc3-a3c4-440f-bd37-fc21c30f2c0e",
   "metadata": {},
   "source": [
    "## Moma Batch"
   ]
  },
  {
   "cell_type": "code",
   "execution_count": 16,
   "id": "202e3814-6e27-4e4f-a769-4ac2bd9b234b",
   "metadata": {},
   "outputs": [
    {
     "data": {
      "text/html": [
       "<div>\n",
       "<style scoped>\n",
       "    .dataframe tbody tr th:only-of-type {\n",
       "        vertical-align: middle;\n",
       "    }\n",
       "\n",
       "    .dataframe tbody tr th {\n",
       "        vertical-align: top;\n",
       "    }\n",
       "\n",
       "    .dataframe thead th {\n",
       "        text-align: right;\n",
       "    }\n",
       "</style>\n",
       "<table border=\"1\" class=\"dataframe\">\n",
       "  <thead>\n",
       "    <tr style=\"text-align: right;\">\n",
       "      <th></th>\n",
       "      <th>date</th>\n",
       "      <th>ch</th>\n",
       "      <th>pos</th>\n",
       "      <th>width</th>\n",
       "      <th>inoculated_gl</th>\n",
       "      <th>promoter</th>\n",
       "      <th>vector</th>\n",
       "    </tr>\n",
       "  </thead>\n",
       "  <tbody>\n",
       "    <tr>\n",
       "      <th>0</th>\n",
       "      <td>20230412</td>\n",
       "      <td>5</td>\n",
       "      <td>0</td>\n",
       "      <td>0.8</td>\n",
       "      <td>11</td>\n",
       "      <td>med2</td>\n",
       "      <td>ch</td>\n",
       "    </tr>\n",
       "    <tr>\n",
       "      <th>1</th>\n",
       "      <td>20230412</td>\n",
       "      <td>5</td>\n",
       "      <td>1</td>\n",
       "      <td>0.8</td>\n",
       "      <td>10</td>\n",
       "      <td>med2</td>\n",
       "      <td>ch</td>\n",
       "    </tr>\n",
       "    <tr>\n",
       "      <th>2</th>\n",
       "      <td>20230412</td>\n",
       "      <td>5</td>\n",
       "      <td>2</td>\n",
       "      <td>0.8</td>\n",
       "      <td>11</td>\n",
       "      <td>med2</td>\n",
       "      <td>ch</td>\n",
       "    </tr>\n",
       "    <tr>\n",
       "      <th>3</th>\n",
       "      <td>20230412</td>\n",
       "      <td>5</td>\n",
       "      <td>3</td>\n",
       "      <td>1.0</td>\n",
       "      <td>17</td>\n",
       "      <td>med2</td>\n",
       "      <td>ch</td>\n",
       "    </tr>\n",
       "    <tr>\n",
       "      <th>4</th>\n",
       "      <td>20230412</td>\n",
       "      <td>5</td>\n",
       "      <td>4</td>\n",
       "      <td>1.0</td>\n",
       "      <td>1</td>\n",
       "      <td>med2</td>\n",
       "      <td>ch</td>\n",
       "    </tr>\n",
       "    <tr>\n",
       "      <th>5</th>\n",
       "      <td>20230412</td>\n",
       "      <td>6</td>\n",
       "      <td>5</td>\n",
       "      <td>0.8</td>\n",
       "      <td>12</td>\n",
       "      <td>hi3</td>\n",
       "      <td>ch</td>\n",
       "    </tr>\n",
       "    <tr>\n",
       "      <th>6</th>\n",
       "      <td>20230412</td>\n",
       "      <td>6</td>\n",
       "      <td>6</td>\n",
       "      <td>0.8</td>\n",
       "      <td>17</td>\n",
       "      <td>hi3</td>\n",
       "      <td>ch</td>\n",
       "    </tr>\n",
       "    <tr>\n",
       "      <th>7</th>\n",
       "      <td>20230412</td>\n",
       "      <td>6</td>\n",
       "      <td>7</td>\n",
       "      <td>0.8</td>\n",
       "      <td>17</td>\n",
       "      <td>hi3</td>\n",
       "      <td>ch</td>\n",
       "    </tr>\n",
       "    <tr>\n",
       "      <th>8</th>\n",
       "      <td>20230412</td>\n",
       "      <td>6</td>\n",
       "      <td>8</td>\n",
       "      <td>1.0</td>\n",
       "      <td>1</td>\n",
       "      <td>hi3</td>\n",
       "      <td>ch</td>\n",
       "    </tr>\n",
       "    <tr>\n",
       "      <th>9</th>\n",
       "      <td>20230412</td>\n",
       "      <td>6</td>\n",
       "      <td>9</td>\n",
       "      <td>1.0</td>\n",
       "      <td>1</td>\n",
       "      <td>hi3</td>\n",
       "      <td>ch</td>\n",
       "    </tr>\n",
       "    <tr>\n",
       "      <th>10</th>\n",
       "      <td>20230412</td>\n",
       "      <td>7</td>\n",
       "      <td>10</td>\n",
       "      <td>0.8</td>\n",
       "      <td>1</td>\n",
       "      <td>hi1</td>\n",
       "      <td>ch</td>\n",
       "    </tr>\n",
       "    <tr>\n",
       "      <th>11</th>\n",
       "      <td>20230412</td>\n",
       "      <td>7</td>\n",
       "      <td>11</td>\n",
       "      <td>0.8</td>\n",
       "      <td>1</td>\n",
       "      <td>hi1</td>\n",
       "      <td>ch</td>\n",
       "    </tr>\n",
       "    <tr>\n",
       "      <th>12</th>\n",
       "      <td>20230412</td>\n",
       "      <td>7</td>\n",
       "      <td>12</td>\n",
       "      <td>1.0</td>\n",
       "      <td>1</td>\n",
       "      <td>hi1</td>\n",
       "      <td>ch</td>\n",
       "    </tr>\n",
       "    <tr>\n",
       "      <th>13</th>\n",
       "      <td>20230412</td>\n",
       "      <td>7</td>\n",
       "      <td>13</td>\n",
       "      <td>1.0</td>\n",
       "      <td>1</td>\n",
       "      <td>hi1</td>\n",
       "      <td>ch</td>\n",
       "    </tr>\n",
       "    <tr>\n",
       "      <th>14</th>\n",
       "      <td>20230412</td>\n",
       "      <td>2</td>\n",
       "      <td>14</td>\n",
       "      <td>0.8</td>\n",
       "      <td>1</td>\n",
       "      <td>rrnB</td>\n",
       "      <td>ch</td>\n",
       "    </tr>\n",
       "    <tr>\n",
       "      <th>15</th>\n",
       "      <td>20230412</td>\n",
       "      <td>2</td>\n",
       "      <td>15</td>\n",
       "      <td>0.8</td>\n",
       "      <td>1</td>\n",
       "      <td>rrnB</td>\n",
       "      <td>ch</td>\n",
       "    </tr>\n",
       "    <tr>\n",
       "      <th>16</th>\n",
       "      <td>20230412</td>\n",
       "      <td>2</td>\n",
       "      <td>16</td>\n",
       "      <td>0.8</td>\n",
       "      <td>1</td>\n",
       "      <td>rrnB</td>\n",
       "      <td>ch</td>\n",
       "    </tr>\n",
       "    <tr>\n",
       "      <th>17</th>\n",
       "      <td>20230412</td>\n",
       "      <td>2</td>\n",
       "      <td>17</td>\n",
       "      <td>1.0</td>\n",
       "      <td>1</td>\n",
       "      <td>rrnB</td>\n",
       "      <td>ch</td>\n",
       "    </tr>\n",
       "    <tr>\n",
       "      <th>18</th>\n",
       "      <td>20230412</td>\n",
       "      <td>2</td>\n",
       "      <td>18</td>\n",
       "      <td>1.0</td>\n",
       "      <td>1</td>\n",
       "      <td>rrnB</td>\n",
       "      <td>ch</td>\n",
       "    </tr>\n",
       "    <tr>\n",
       "      <th>19</th>\n",
       "      <td>20230412</td>\n",
       "      <td>1</td>\n",
       "      <td>19</td>\n",
       "      <td>0.8</td>\n",
       "      <td>1</td>\n",
       "      <td>rplN</td>\n",
       "      <td>ch</td>\n",
       "    </tr>\n",
       "    <tr>\n",
       "      <th>20</th>\n",
       "      <td>20230412</td>\n",
       "      <td>1</td>\n",
       "      <td>20</td>\n",
       "      <td>0.8</td>\n",
       "      <td>1</td>\n",
       "      <td>rplN</td>\n",
       "      <td>ch</td>\n",
       "    </tr>\n",
       "    <tr>\n",
       "      <th>21</th>\n",
       "      <td>20230412</td>\n",
       "      <td>1</td>\n",
       "      <td>21</td>\n",
       "      <td>0.8</td>\n",
       "      <td>1</td>\n",
       "      <td>rplN</td>\n",
       "      <td>ch</td>\n",
       "    </tr>\n",
       "    <tr>\n",
       "      <th>22</th>\n",
       "      <td>20230412</td>\n",
       "      <td>1</td>\n",
       "      <td>22</td>\n",
       "      <td>1.0</td>\n",
       "      <td>1</td>\n",
       "      <td>rplN</td>\n",
       "      <td>ch</td>\n",
       "    </tr>\n",
       "    <tr>\n",
       "      <th>23</th>\n",
       "      <td>20230412</td>\n",
       "      <td>1</td>\n",
       "      <td>23</td>\n",
       "      <td>1.0</td>\n",
       "      <td>1</td>\n",
       "      <td>rplN</td>\n",
       "      <td>ch</td>\n",
       "    </tr>\n",
       "    <tr>\n",
       "      <th>24</th>\n",
       "      <td>20230412</td>\n",
       "      <td>0</td>\n",
       "      <td>24</td>\n",
       "      <td>0.8</td>\n",
       "      <td>1</td>\n",
       "      <td>6300</td>\n",
       "      <td>ch</td>\n",
       "    </tr>\n",
       "    <tr>\n",
       "      <th>25</th>\n",
       "      <td>20230412</td>\n",
       "      <td>0</td>\n",
       "      <td>25</td>\n",
       "      <td>0.8</td>\n",
       "      <td>1</td>\n",
       "      <td>6300</td>\n",
       "      <td>ch</td>\n",
       "    </tr>\n",
       "    <tr>\n",
       "      <th>26</th>\n",
       "      <td>20230412</td>\n",
       "      <td>0</td>\n",
       "      <td>26</td>\n",
       "      <td>0.8</td>\n",
       "      <td>1</td>\n",
       "      <td>6300</td>\n",
       "      <td>ch</td>\n",
       "    </tr>\n",
       "    <tr>\n",
       "      <th>27</th>\n",
       "      <td>20230412</td>\n",
       "      <td>0</td>\n",
       "      <td>27</td>\n",
       "      <td>1.0</td>\n",
       "      <td>1</td>\n",
       "      <td>6300</td>\n",
       "      <td>ch</td>\n",
       "    </tr>\n",
       "    <tr>\n",
       "      <th>28</th>\n",
       "      <td>20230412</td>\n",
       "      <td>0</td>\n",
       "      <td>28</td>\n",
       "      <td>1.0</td>\n",
       "      <td>1</td>\n",
       "      <td>6300</td>\n",
       "      <td>ch</td>\n",
       "    </tr>\n",
       "  </tbody>\n",
       "</table>\n",
       "</div>"
      ],
      "text/plain": [
       "        date  ch  pos  width  inoculated_gl promoter vector\n",
       "0   20230412   5    0    0.8             11     med2     ch\n",
       "1   20230412   5    1    0.8             10     med2     ch\n",
       "2   20230412   5    2    0.8             11     med2     ch\n",
       "3   20230412   5    3    1.0             17     med2     ch\n",
       "4   20230412   5    4    1.0              1     med2     ch\n",
       "5   20230412   6    5    0.8             12      hi3     ch\n",
       "6   20230412   6    6    0.8             17      hi3     ch\n",
       "7   20230412   6    7    0.8             17      hi3     ch\n",
       "8   20230412   6    8    1.0              1      hi3     ch\n",
       "9   20230412   6    9    1.0              1      hi3     ch\n",
       "10  20230412   7   10    0.8              1      hi1     ch\n",
       "11  20230412   7   11    0.8              1      hi1     ch\n",
       "12  20230412   7   12    1.0              1      hi1     ch\n",
       "13  20230412   7   13    1.0              1      hi1     ch\n",
       "14  20230412   2   14    0.8              1     rrnB     ch\n",
       "15  20230412   2   15    0.8              1     rrnB     ch\n",
       "16  20230412   2   16    0.8              1     rrnB     ch\n",
       "17  20230412   2   17    1.0              1     rrnB     ch\n",
       "18  20230412   2   18    1.0              1     rrnB     ch\n",
       "19  20230412   1   19    0.8              1     rplN     ch\n",
       "20  20230412   1   20    0.8              1     rplN     ch\n",
       "21  20230412   1   21    0.8              1     rplN     ch\n",
       "22  20230412   1   22    1.0              1     rplN     ch\n",
       "23  20230412   1   23    1.0              1     rplN     ch\n",
       "24  20230412   0   24    0.8              1     6300     ch\n",
       "25  20230412   0   25    0.8              1     6300     ch\n",
       "26  20230412   0   26    0.8              1     6300     ch\n",
       "27  20230412   0   27    1.0              1     6300     ch\n",
       "28  20230412   0   28    1.0              1     6300     ch"
      ]
     },
     "execution_count": 16,
     "metadata": {},
     "output_type": "execute_result"
    }
   ],
   "source": [
    "#Generate a YAML file from experiment_summary_table\n",
    "#Select rows of interest, that will be curated, from the curated data summary table\n",
    "experiment_summary_table=print_curated_data_summary(experimental_details,experimentFolderPath)\n",
    "experiment_summary_table"
   ]
  },
  {
   "cell_type": "markdown",
   "id": "f7e3a526-b876-465e-9428-c659cf65e4c1",
   "metadata": {},
   "source": [
    "### 6300 curation"
   ]
  },
  {
   "cell_type": "code",
   "execution_count": 17,
   "id": "0ac30489-4903-4250-8ca5-cdd1b10329c1",
   "metadata": {},
   "outputs": [
    {
     "name": "stdout",
     "output_type": "stream",
     "text": [
      "        date  ch  pos  width  inoculated_gl promoter vector\n",
      "27  20230412   0   27    1.0              1     6300     ch\n",
      "28  20230412   0   28    1.0              1     6300     ch\n"
     ]
    }
   ],
   "source": [
    "subset=experiment_summary_table[experiment_summary_table[\"pos\"].isin([27,28])]\n",
    "print(subset)"
   ]
  },
  {
   "cell_type": "code",
   "execution_count": 21,
   "id": "3985d14e-bb5b-44be-aeae-38efe588d439",
   "metadata": {},
   "outputs": [
    {
     "name": "stdout",
     "output_type": "stream",
     "text": [
      "Making batch directory batch_6300.\n",
      "Copying standard mm.properties file to batch_6300.\n",
      "/scicore/home/nimwegen/rocasu25/MM_Data/Dany/20230413/20230413_preproc\n",
      "Batch file does not exist. It is created for the following positions, for all detected growth lanes:\n",
      "Pos27\n",
      "Pos28\n"
     ]
    }
   ],
   "source": [
    "#Batch folder that should be used or created to supervise tracking/curation/export\n",
    "batch_folder=\"batch_6300\"\n",
    "batch_file=\"moma_batch_6300.yaml\"\n",
    "curation_id=\"moma_batch_6300\"\n",
    "create_moma_batch_directory(experimentFolderPath,batch_folder)\n",
    "create_yaml_file(batch_file,curation_id,experimentFolderPath,preprocFolder,batch_folder,subset)"
   ]
  },
  {
   "cell_type": "code",
   "execution_count": 18,
   "id": "7b70fcc7-4ccc-4bef-8460-264a22ea3687",
   "metadata": {},
   "outputs": [],
   "source": [
    "%%capture\n",
    "#DO NOT MODIFY\n",
    "#regular expressions for the cvs files to look for\n",
    "subset=experiment_summary_table[experiment_summary_table[\"pos\"].isin([27,28])]\n",
    "print(subset)\n",
    "gls_dic={27:list(np.arange(0,60)),\n",
    "         28:list(np.arange(0,60))}\n",
    "rx0='CellStats__(.*).csv' \n",
    "pyMoM.extractAndTidyCurated(experimentFolderPath,preprocFolder,subset,rx0,gls_dic,analysis_id='moma_batch_6300')"
   ]
  },
  {
   "cell_type": "markdown",
   "id": "80447497-3ab0-401e-b1ad-bb3a79128326",
   "metadata": {},
   "source": [
    "### hi1 curation"
   ]
  },
  {
   "cell_type": "code",
   "execution_count": 8,
   "id": "41c67a28-ff2b-441f-b524-b21a601373ea",
   "metadata": {},
   "outputs": [
    {
     "name": "stdout",
     "output_type": "stream",
     "text": [
      "        date  ch  pos  width  inoculated_gl promoter vector\n",
      "12  20230412   7   12    1.0              1      hi1     ch\n",
      "13  20230412   7   13    1.0              1      hi1     ch\n"
     ]
    }
   ],
   "source": [
    "subset=experiment_summary_table[experiment_summary_table[\"pos\"].isin([12,13])]\n",
    "print(subset)"
   ]
  },
  {
   "cell_type": "code",
   "execution_count": 28,
   "id": "61a144ad-99a3-46ea-9055-f999ea1c7b29",
   "metadata": {},
   "outputs": [
    {
     "name": "stdout",
     "output_type": "stream",
     "text": [
      "Making batch directory batch_hi1.\n",
      "Copying standard mm.properties file to batch_hi1.\n",
      "/scicore/home/nimwegen/rocasu25/MM_Data/Dany/20230413/20230413_preproc\n",
      "Batch file does not exist. It is created for the following positions, for all detected growth lanes:\n",
      "Pos12\n",
      "Pos13\n"
     ]
    }
   ],
   "source": [
    "#Batch folder that should be used or created to supervise tracking/curation/export\n",
    "batch_folder=\"batch_hi1\"\n",
    "batch_file=\"moma_batch_hi1.yaml\"\n",
    "curation_id=\"moma_batch_hi1\"\n",
    "create_moma_batch_directory(experimentFolderPath,batch_folder)\n",
    "create_yaml_file(batch_file,curation_id,experimentFolderPath,preprocFolder,batch_folder,subset)"
   ]
  },
  {
   "cell_type": "code",
   "execution_count": 11,
   "id": "efc8b054-d6d9-49b8-8696-9a3691d5961e",
   "metadata": {},
   "outputs": [],
   "source": [
    "%%capture\n",
    "#DO NOT MODIFY\n",
    "#regular expressions for the cvs files to look for\n",
    "subset=experiment_summary_table[experiment_summary_table[\"pos\"].isin([12,13])]\n",
    "print(subset)\n",
    "gls_dic={12:list(np.arange(0,60)),\n",
    "         13:list(np.arange(0,60))}\n",
    "rx0='CellStats__(.*).csv' \n",
    "pyMoM.extractAndTidyCurated(experimentFolderPath,preprocFolder,subset,rx0,gls_dic,analysis_id='moma_batch_hi1')"
   ]
  },
  {
   "cell_type": "markdown",
   "id": "6b444127-aaa6-4fed-a063-2a9d4c725720",
   "metadata": {},
   "source": [
    "### hi3 curation"
   ]
  },
  {
   "cell_type": "code",
   "execution_count": 9,
   "id": "37784563-0481-45b0-a6c8-197b96ed77da",
   "metadata": {},
   "outputs": [
    {
     "name": "stdout",
     "output_type": "stream",
     "text": [
      "       date  ch  pos  width  inoculated_gl promoter vector\n",
      "8  20230412   6    8    1.0              1      hi3     ch\n",
      "9  20230412   6    9    1.0              1      hi3     ch\n"
     ]
    }
   ],
   "source": [
    "subset=experiment_summary_table[experiment_summary_table[\"pos\"].isin([8,9])]\n",
    "print(subset)"
   ]
  },
  {
   "cell_type": "code",
   "execution_count": 10,
   "id": "17c7d241-10dc-47c6-854e-7fc77453860c",
   "metadata": {},
   "outputs": [
    {
     "name": "stdout",
     "output_type": "stream",
     "text": [
      "Making batch directory batch_hi3.\n",
      "Copying standard mm.properties file to batch_hi3.\n",
      "/scicore/home/nimwegen/rocasu25/MM_Data/Dany/20230413/20230413_preproc\n",
      "Batch file does not exist. It is created for the following positions, for all detected growth lanes:\n",
      "Pos8\n",
      "Pos9\n"
     ]
    }
   ],
   "source": [
    "#Batch folder that should be used or created to supervise tracking/curation/export\n",
    "batch_folder=\"batch_hi3\"\n",
    "batch_file=\"moma_batch_hi3.yaml\"\n",
    "curation_id=\"moma_batch_hi3\"\n",
    "create_moma_batch_directory(experimentFolderPath,batch_folder)\n",
    "create_yaml_file(batch_file,curation_id,experimentFolderPath,preprocFolder,batch_folder,subset)"
   ]
  },
  {
   "cell_type": "code",
   "execution_count": 10,
   "id": "c026524e-66be-4fd8-bf60-0b2cb636ad81",
   "metadata": {
    "tags": []
   },
   "outputs": [],
   "source": [
    "%%capture\n",
    "#DO NOT MODIFY\n",
    "#regular expressions for the cvs files to look for\n",
    "subset=experiment_summary_table[experiment_summary_table[\"pos\"].isin([8,9])]\n",
    "print(subset)\n",
    "gls_dic={8:list(np.arange(0,60)),\n",
    "         9:list(np.arange(0,60))}\n",
    "rx0='CellStats__(.*).csv' \n",
    "pyMoM.extractAndTidyCurated(experimentFolderPath,preprocFolder,subset,rx0,gls_dic,analysis_id='moma_batch_hi3')"
   ]
  },
  {
   "cell_type": "markdown",
   "id": "333cd42b-954e-4b66-abfd-d07499d9ce8b",
   "metadata": {},
   "source": [
    "### med2 curation"
   ]
  },
  {
   "cell_type": "code",
   "execution_count": 11,
   "id": "eaf8f321-94fb-44b7-94b2-8e0656a905b2",
   "metadata": {},
   "outputs": [
    {
     "name": "stdout",
     "output_type": "stream",
     "text": [
      "       date  ch  pos  width  inoculated_gl promoter vector\n",
      "3  20230412   5    3    1.0             17     med2     ch\n",
      "4  20230412   5    4    1.0              1     med2     ch\n"
     ]
    }
   ],
   "source": [
    "subset=experiment_summary_table[experiment_summary_table[\"pos\"].isin([3,4])]\n",
    "print(subset)"
   ]
  },
  {
   "cell_type": "code",
   "execution_count": 15,
   "id": "d6faa89f-9080-4b5b-83d0-591fe6a8c11b",
   "metadata": {},
   "outputs": [
    {
     "name": "stdout",
     "output_type": "stream",
     "text": [
      "Making batch directory batch_med2.\n",
      "Copying standard mm.properties file to batch_med2.\n",
      "/scicore/home/nimwegen/rocasu25/MM_Data/Dany/20230413/20230413_preproc\n",
      "Batch file does not exist. It is created for the following positions, for all detected growth lanes:\n",
      "Pos3\n",
      "Pos4\n"
     ]
    }
   ],
   "source": [
    "#Batch folder that should be used or created to supervise tracking/curation/export\n",
    "batch_folder=\"batch_med2\"\n",
    "batch_file=\"moma_batch_med2.yaml\"\n",
    "curation_id=\"moma_batch_med2\"\n",
    "create_moma_batch_directory(experimentFolderPath,batch_folder)\n",
    "create_yaml_file(batch_file,curation_id,experimentFolderPath,preprocFolder,batch_folder,subset)"
   ]
  },
  {
   "cell_type": "code",
   "execution_count": 12,
   "id": "5f922a41-b23a-4fb3-952f-1280e2a201dd",
   "metadata": {},
   "outputs": [],
   "source": [
    "%%capture\n",
    "#DO NOT MODIFY\n",
    "#regular expressions for the cvs files to look for\n",
    "subset=experiment_summary_table[experiment_summary_table[\"pos\"].isin([3,4])]\n",
    "print(subset)\n",
    "gls_dic={3:list(np.arange(0,60)),\n",
    "         4:list(np.arange(0,60))}\n",
    "rx0='CellStats__(.*).csv' \n",
    "pyMoM.extractAndTidyCurated(experimentFolderPath,preprocFolder,subset,rx0,gls_dic,analysis_id='moma_batch_med2')"
   ]
  },
  {
   "cell_type": "markdown",
   "id": "5f4a89ff-4f63-485d-8dca-5d0fde035cfa",
   "metadata": {},
   "source": [
    "### rplN curation"
   ]
  },
  {
   "cell_type": "code",
   "execution_count": 13,
   "id": "ec8f5615-7170-4b0c-b989-3402e4eb9c5e",
   "metadata": {},
   "outputs": [
    {
     "name": "stdout",
     "output_type": "stream",
     "text": [
      "        date  ch  pos  width  inoculated_gl promoter vector\n",
      "22  20230412   1   22    1.0              1     rplN     ch\n",
      "23  20230412   1   23    1.0              1     rplN     ch\n"
     ]
    }
   ],
   "source": [
    "subset=experiment_summary_table[experiment_summary_table[\"pos\"].isin([22,23])]\n",
    "print(subset)"
   ]
  },
  {
   "cell_type": "code",
   "execution_count": 17,
   "id": "6ad71071-8adb-44cd-b223-2e627b67efd2",
   "metadata": {},
   "outputs": [
    {
     "name": "stdout",
     "output_type": "stream",
     "text": [
      "Making batch directory batch_rplN.\n",
      "Copying standard mm.properties file to batch_rplN.\n",
      "/scicore/home/nimwegen/rocasu25/MM_Data/Dany/20230413/20230413_preproc\n",
      "Batch file does not exist. It is created for the following positions, for all detected growth lanes:\n",
      "Pos22\n",
      "Pos23\n"
     ]
    }
   ],
   "source": [
    "#Batch folder that should be used or created to supervise tracking/curation/export\n",
    "batch_folder=\"batch_rplN\"\n",
    "batch_file=\"moma_batch_rplN.yaml\"\n",
    "curation_id=\"moma_batch_rplN\"\n",
    "create_moma_batch_directory(experimentFolderPath,batch_folder)\n",
    "create_yaml_file(batch_file,curation_id,experimentFolderPath,preprocFolder,batch_folder,subset)"
   ]
  },
  {
   "cell_type": "code",
   "execution_count": 14,
   "id": "c852fd23-14d2-42e7-b8ee-b27d7ea06a8a",
   "metadata": {},
   "outputs": [],
   "source": [
    "%%capture\n",
    "#DO NOT MODIFY\n",
    "#regular expressions for the cvs files to look for\n",
    "subset=experiment_summary_table[experiment_summary_table[\"pos\"].isin([22,23])]\n",
    "print(subset)\n",
    "gls_dic={22:list(np.arange(0,60)),\n",
    "         23:list(np.arange(0,60))}\n",
    "rx0='CellStats__(.*).csv' \n",
    "pyMoM.extractAndTidyCurated(experimentFolderPath,preprocFolder,subset,rx0,gls_dic,analysis_id='moma_batch_rplN')"
   ]
  },
  {
   "cell_type": "markdown",
   "id": "a9acc66d-c874-4455-8c78-aefc0902d63e",
   "metadata": {},
   "source": [
    "### rrnB curation"
   ]
  },
  {
   "cell_type": "code",
   "execution_count": 15,
   "id": "eff9e2f4-3855-4518-9627-328014a4e50d",
   "metadata": {},
   "outputs": [
    {
     "name": "stdout",
     "output_type": "stream",
     "text": [
      "        date  ch  pos  width  inoculated_gl promoter vector\n",
      "17  20230412   2   17    1.0              1     rrnB     ch\n",
      "18  20230412   2   18    1.0              1     rrnB     ch\n"
     ]
    }
   ],
   "source": [
    "subset=experiment_summary_table[experiment_summary_table[\"pos\"].isin([17,18])]\n",
    "print(subset)"
   ]
  },
  {
   "cell_type": "code",
   "execution_count": 7,
   "id": "a833c04a-2c15-488e-a8ec-fb072cd9568f",
   "metadata": {},
   "outputs": [
    {
     "name": "stdout",
     "output_type": "stream",
     "text": [
      "Making batch directory batch_rrnB.\n",
      "Copying standard mm.properties file to batch_rrnB.\n",
      "/scicore/home/nimwegen/rocasu25/MM_Data/Dany/20230413/20230413_preproc\n",
      "Batch file does not exist. It is created for the following positions, for all detected growth lanes:\n",
      "Pos17\n",
      "Pos18\n"
     ]
    }
   ],
   "source": [
    "#Batch folder that should be used or created to supervise tracking/curation/export\n",
    "batch_folder=\"batch_rrnB\"\n",
    "batch_file=\"moma_batch_rrnB.yaml\"\n",
    "curation_id=\"moma_batch_rrnB\"\n",
    "create_moma_batch_directory(experimentFolderPath,batch_folder)\n",
    "create_yaml_file(batch_file,curation_id,experimentFolderPath,preprocFolder,batch_folder,subset)"
   ]
  },
  {
   "cell_type": "code",
   "execution_count": 16,
   "id": "3fa7e744-634c-4ab1-8bed-719368b1be91",
   "metadata": {},
   "outputs": [],
   "source": [
    "%%capture\n",
    "#DO NOT MODIFY\n",
    "#regular expressions for the cvs files to look for\n",
    "subset=experiment_summary_table[experiment_summary_table[\"pos\"].isin([17,18])]\n",
    "print(subset)\n",
    "gls_dic={17:list(np.arange(0,60)),\n",
    "         18:list(np.arange(0,60))}\n",
    "rx0='CellStats__(.*).csv' \n",
    "pyMoM.extractAndTidyCurated(experimentFolderPath,preprocFolder,subset,rx0,gls_dic,analysis_id='moma_batch_rrnB')"
   ]
  },
  {
   "cell_type": "markdown",
   "id": "9ba49615-2b83-4162-a612-5760807a56b7",
   "metadata": {
    "tags": []
   },
   "source": [
    "# 20230420, glucose 0.2%, glycerol 0.4% (882 frames, step=3min for 22h, then 6min for 44h), (all promoters, except med3)\n",
    "## Experimental details and data summary"
   ]
  },
  {
   "cell_type": "code",
   "execution_count": 2,
   "id": "178778c2-b851-4043-b59b-f2e383155404",
   "metadata": {},
   "outputs": [],
   "source": [
    "#Experimental details\n",
    "\n",
    "experimental_details=[{\n",
    "    \"date\":\"20230420\",\n",
    "    \"description\":\"glucose_glycerol_switch\",\n",
    "    \"f_start\":\"0\",\n",
    "    \"f_end\":\"440\",\n",
    "    \"condition\":\"glucose\",\n",
    "    \"t_interval\":\"3\",\n",
    "    \"cell_detection_offset\":\"120\"} #min\n",
    "    ,\n",
    "{\n",
    "    \"date\":\"20230420\",\n",
    "    \"description\":\"glucose_glycerol_switch\",\n",
    "    \"f_start\":\"440\",\n",
    "    \"f_end\":\"Inf\",\n",
    "    \"condition\":\"glycerol\",\n",
    "    \"t_interval\":\"6\",\n",
    "    \"cell_detection_offset\":\"120\"} #min\n",
    "]\n",
    "\n",
    "\n",
    "\n",
    "#Preprocessing infos\n",
    "experimentFolderPath='/scicore/home/nimwegen/rocasu25/MM_Data/Dany/20230420'\n",
    "##Preprocessing folder\n",
    "preprocFolder=\"20230420_preproc\"\n",
    "##List of positions\n",
    "#pos_var=\"POS_NAMES=(Pos0)\"\n",
    "#pos_var=\"POS_NAMES=(Pos1 Pos2 Pos3 Pos8 Pos9 Pos10 Pos15 Pos16 Pos17 Pos18 Pos19 Pos20 Pos21 Pos22 Pos23 Pos24 Pos25 Pos26 Pos27 Pos28)\"\n",
    "pos_var=\"POS_NAMES=(Pos0 Pos1 Pos2 Pos3 Pos4 Pos5 Pos6 Pos7 Pos8 Pos9 Pos10 Pos11 Pos12 Pos13 Pos14 Pos15 Pos16 Pos17 Pos18 Pos19)\"\n",
    "##Template to use for the preprocessing\n",
    "template=\"TEMPLATE_vng125\"\n",
    "##Rotation (to determine on imageJ)\n",
    "ROTATION=\"90\"\n",
    "##TMAX, if processing is not to look at all frames\n",
    "TMAX=\"880\"\n",
    "##Normalization offset\n",
    "NORMALIZATION_REGION_OFFSET=\"120\"\n",
    "##Raw path to the data\n",
    "\n",
    "RAW_PATH=\"/scicore/home/nimwegen/rocasu25/MM_Data/Dany/20230420/20230420_glugly/20230420_glugly_1/20230420_glugly_1_MMStack.ome.tif\"\n",
    "##Raw path to flat field data\n",
    "FLATFIELD_PATH=\"/scicore/home/nimwegen/rocasu25/MM_Data/Dany/20230420/20230420_flatfield/20230420_flatfield_1/20230420_flatfield_1_MMStack.ome.tif\""
   ]
  },
  {
   "cell_type": "code",
   "execution_count": 18,
   "id": "d9e61709-9134-4a3a-903f-ea921043eeda",
   "metadata": {},
   "outputs": [
    {
     "name": "stdin",
     "output_type": "stream",
     "text": [
      "Do you really want to submit preprocessing tasks to the scheduler? If the preprocessing folder target path has not been changed, it might result in overwritting your data. Enter 'Yes', to confirm. No\n"
     ]
    },
    {
     "name": "stdout",
     "output_type": "stream",
     "text": [
      "Aborting scheduler preprocessing submission\n"
     ]
    }
   ],
   "source": [
    "submit_preprocessing(experimentFolderPath,preprocFolder,template,NORMALIZATION_REGION_OFFSET,pos_var,RAW_PATH,FLATFIELD_PATH,ROTATION,TMAX)"
   ]
  },
  {
   "cell_type": "markdown",
   "id": "9fa16ff1-a67f-45be-8e6c-788dbac5a6d0",
   "metadata": {},
   "source": [
    "## Moma Batch"
   ]
  },
  {
   "cell_type": "code",
   "execution_count": 3,
   "id": "bbd629df-d83e-40b5-998b-92d93627aa95",
   "metadata": {},
   "outputs": [
    {
     "data": {
      "text/html": [
       "<div>\n",
       "<style scoped>\n",
       "    .dataframe tbody tr th:only-of-type {\n",
       "        vertical-align: middle;\n",
       "    }\n",
       "\n",
       "    .dataframe tbody tr th {\n",
       "        vertical-align: top;\n",
       "    }\n",
       "\n",
       "    .dataframe thead th {\n",
       "        text-align: right;\n",
       "    }\n",
       "</style>\n",
       "<table border=\"1\" class=\"dataframe\">\n",
       "  <thead>\n",
       "    <tr style=\"text-align: right;\">\n",
       "      <th></th>\n",
       "      <th>date</th>\n",
       "      <th>ch</th>\n",
       "      <th>pos</th>\n",
       "      <th>width</th>\n",
       "      <th>inoculated_gl</th>\n",
       "      <th>promoter</th>\n",
       "      <th>vector</th>\n",
       "    </tr>\n",
       "  </thead>\n",
       "  <tbody>\n",
       "    <tr>\n",
       "      <th>0</th>\n",
       "      <td>20230420</td>\n",
       "      <td>2</td>\n",
       "      <td>0</td>\n",
       "      <td>1</td>\n",
       "      <td>11</td>\n",
       "      <td>rrnB</td>\n",
       "      <td>ch</td>\n",
       "    </tr>\n",
       "    <tr>\n",
       "      <th>1</th>\n",
       "      <td>20230420</td>\n",
       "      <td>2</td>\n",
       "      <td>1</td>\n",
       "      <td>1</td>\n",
       "      <td>11</td>\n",
       "      <td>rrnB</td>\n",
       "      <td>ch</td>\n",
       "    </tr>\n",
       "    <tr>\n",
       "      <th>2</th>\n",
       "      <td>20230420</td>\n",
       "      <td>2</td>\n",
       "      <td>2</td>\n",
       "      <td>1</td>\n",
       "      <td>11</td>\n",
       "      <td>rrnB</td>\n",
       "      <td>ch</td>\n",
       "    </tr>\n",
       "    <tr>\n",
       "      <th>3</th>\n",
       "      <td>20230420</td>\n",
       "      <td>2</td>\n",
       "      <td>3</td>\n",
       "      <td>1</td>\n",
       "      <td>11</td>\n",
       "      <td>rrnB</td>\n",
       "      <td>ch</td>\n",
       "    </tr>\n",
       "    <tr>\n",
       "      <th>4</th>\n",
       "      <td>20230420</td>\n",
       "      <td>2</td>\n",
       "      <td>4</td>\n",
       "      <td>1</td>\n",
       "      <td>11</td>\n",
       "      <td>rrnB</td>\n",
       "      <td>ch</td>\n",
       "    </tr>\n",
       "    <tr>\n",
       "      <th>5</th>\n",
       "      <td>20230420</td>\n",
       "      <td>5</td>\n",
       "      <td>5</td>\n",
       "      <td>1</td>\n",
       "      <td>10</td>\n",
       "      <td>rplN</td>\n",
       "      <td>ch</td>\n",
       "    </tr>\n",
       "    <tr>\n",
       "      <th>6</th>\n",
       "      <td>20230420</td>\n",
       "      <td>5</td>\n",
       "      <td>6</td>\n",
       "      <td>1</td>\n",
       "      <td>10</td>\n",
       "      <td>rplN</td>\n",
       "      <td>ch</td>\n",
       "    </tr>\n",
       "    <tr>\n",
       "      <th>7</th>\n",
       "      <td>20230420</td>\n",
       "      <td>5</td>\n",
       "      <td>7</td>\n",
       "      <td>1</td>\n",
       "      <td>10</td>\n",
       "      <td>rplN</td>\n",
       "      <td>ch</td>\n",
       "    </tr>\n",
       "    <tr>\n",
       "      <th>8</th>\n",
       "      <td>20230420</td>\n",
       "      <td>5</td>\n",
       "      <td>8</td>\n",
       "      <td>1</td>\n",
       "      <td>10</td>\n",
       "      <td>rplN</td>\n",
       "      <td>ch</td>\n",
       "    </tr>\n",
       "    <tr>\n",
       "      <th>9</th>\n",
       "      <td>20230420</td>\n",
       "      <td>5</td>\n",
       "      <td>9</td>\n",
       "      <td>1</td>\n",
       "      <td>10</td>\n",
       "      <td>rplN</td>\n",
       "      <td>ch</td>\n",
       "    </tr>\n",
       "    <tr>\n",
       "      <th>10</th>\n",
       "      <td>20230420</td>\n",
       "      <td>6</td>\n",
       "      <td>10</td>\n",
       "      <td>1</td>\n",
       "      <td>12</td>\n",
       "      <td>med3</td>\n",
       "      <td>ch</td>\n",
       "    </tr>\n",
       "    <tr>\n",
       "      <th>11</th>\n",
       "      <td>20230420</td>\n",
       "      <td>6</td>\n",
       "      <td>11</td>\n",
       "      <td>1</td>\n",
       "      <td>12</td>\n",
       "      <td>med3</td>\n",
       "      <td>ch</td>\n",
       "    </tr>\n",
       "    <tr>\n",
       "      <th>12</th>\n",
       "      <td>20230420</td>\n",
       "      <td>6</td>\n",
       "      <td>12</td>\n",
       "      <td>1</td>\n",
       "      <td>12</td>\n",
       "      <td>med3</td>\n",
       "      <td>ch</td>\n",
       "    </tr>\n",
       "    <tr>\n",
       "      <th>13</th>\n",
       "      <td>20230420</td>\n",
       "      <td>6</td>\n",
       "      <td>13</td>\n",
       "      <td>1</td>\n",
       "      <td>12</td>\n",
       "      <td>med3</td>\n",
       "      <td>ch</td>\n",
       "    </tr>\n",
       "    <tr>\n",
       "      <th>14</th>\n",
       "      <td>20230420</td>\n",
       "      <td>6</td>\n",
       "      <td>14</td>\n",
       "      <td>1</td>\n",
       "      <td>12</td>\n",
       "      <td>med3</td>\n",
       "      <td>ch</td>\n",
       "    </tr>\n",
       "    <tr>\n",
       "      <th>15</th>\n",
       "      <td>20230420</td>\n",
       "      <td>7</td>\n",
       "      <td>15</td>\n",
       "      <td>1</td>\n",
       "      <td>12</td>\n",
       "      <td>med3</td>\n",
       "      <td>ch</td>\n",
       "    </tr>\n",
       "    <tr>\n",
       "      <th>16</th>\n",
       "      <td>20230420</td>\n",
       "      <td>7</td>\n",
       "      <td>16</td>\n",
       "      <td>1</td>\n",
       "      <td>12</td>\n",
       "      <td>med3</td>\n",
       "      <td>ch</td>\n",
       "    </tr>\n",
       "    <tr>\n",
       "      <th>17</th>\n",
       "      <td>20230420</td>\n",
       "      <td>7</td>\n",
       "      <td>17</td>\n",
       "      <td>1</td>\n",
       "      <td>12</td>\n",
       "      <td>med3</td>\n",
       "      <td>ch</td>\n",
       "    </tr>\n",
       "    <tr>\n",
       "      <th>18</th>\n",
       "      <td>20230420</td>\n",
       "      <td>7</td>\n",
       "      <td>18</td>\n",
       "      <td>1</td>\n",
       "      <td>12</td>\n",
       "      <td>med3</td>\n",
       "      <td>ch</td>\n",
       "    </tr>\n",
       "    <tr>\n",
       "      <th>19</th>\n",
       "      <td>20230420</td>\n",
       "      <td>7</td>\n",
       "      <td>19</td>\n",
       "      <td>1</td>\n",
       "      <td>12</td>\n",
       "      <td>med3</td>\n",
       "      <td>ch</td>\n",
       "    </tr>\n",
       "  </tbody>\n",
       "</table>\n",
       "</div>"
      ],
      "text/plain": [
       "        date  ch  pos  width  inoculated_gl promoter vector\n",
       "0   20230420   2    0      1             11     rrnB     ch\n",
       "1   20230420   2    1      1             11     rrnB     ch\n",
       "2   20230420   2    2      1             11     rrnB     ch\n",
       "3   20230420   2    3      1             11     rrnB     ch\n",
       "4   20230420   2    4      1             11     rrnB     ch\n",
       "5   20230420   5    5      1             10     rplN     ch\n",
       "6   20230420   5    6      1             10     rplN     ch\n",
       "7   20230420   5    7      1             10     rplN     ch\n",
       "8   20230420   5    8      1             10     rplN     ch\n",
       "9   20230420   5    9      1             10     rplN     ch\n",
       "10  20230420   6   10      1             12     med3     ch\n",
       "11  20230420   6   11      1             12     med3     ch\n",
       "12  20230420   6   12      1             12     med3     ch\n",
       "13  20230420   6   13      1             12     med3     ch\n",
       "14  20230420   6   14      1             12     med3     ch\n",
       "15  20230420   7   15      1             12     med3     ch\n",
       "16  20230420   7   16      1             12     med3     ch\n",
       "17  20230420   7   17      1             12     med3     ch\n",
       "18  20230420   7   18      1             12     med3     ch\n",
       "19  20230420   7   19      1             12     med3     ch"
      ]
     },
     "execution_count": 3,
     "metadata": {},
     "output_type": "execute_result"
    }
   ],
   "source": [
    "#Generate a YAML file from experiment_summary_table\n",
    "#Select rows of interest, that will be curated, from the curated data summary table\n",
    "experiment_summary_table=print_curated_data_summary(experimental_details,experimentFolderPath)\n",
    "experiment_summary_table"
   ]
  },
  {
   "cell_type": "markdown",
   "id": "e663b365-45d5-439d-9017-3b01726a7f4f",
   "metadata": {},
   "source": [
    "### med3 curation"
   ]
  },
  {
   "cell_type": "code",
   "execution_count": 31,
   "id": "cd974a63-b312-4f55-bb5b-392b2091c21b",
   "metadata": {},
   "outputs": [
    {
     "name": "stdout",
     "output_type": "stream",
     "text": [
      "        date  ch  pos  width  inoculated_gl promoter vector\n",
      "10  20230420   6   10      1             12     med3     ch\n",
      "11  20230420   6   11      1             12     med3     ch\n"
     ]
    }
   ],
   "source": [
    "subset=experiment_summary_table[experiment_summary_table[\"pos\"].isin([10,11])]\n",
    "print(subset)"
   ]
  },
  {
   "cell_type": "code",
   "execution_count": 12,
   "id": "0cfef353-42fe-441c-a63d-e53781e9d257",
   "metadata": {},
   "outputs": [
    {
     "name": "stdout",
     "output_type": "stream",
     "text": [
      "Making batch directory batch_med3.\n",
      "Copying standard mm.properties file to batch_med3.\n",
      "/scicore/home/nimwegen/rocasu25/MM_Data/Dany/20230420/20230420_preproc\n",
      "Batch file does not exist. It is created for the following positions, for all detected growth lanes:\n",
      "Pos10\n",
      "Pos11\n"
     ]
    }
   ],
   "source": [
    "#Batch folder that should be used or created to supervise tracking/curation/export\n",
    "batch_folder=\"batch_med3\"\n",
    "batch_file=\"moma_batch_med3.yaml\"\n",
    "curation_id=\"moma_batch_med3\"\n",
    "create_moma_batch_directory(experimentFolderPath,batch_folder)\n",
    "create_yaml_file(batch_file,curation_id,experimentFolderPath,preprocFolder,batch_folder,subset)"
   ]
  },
  {
   "cell_type": "code",
   "execution_count": 32,
   "id": "0c1d6fb1-bcbc-4fdc-b7ca-c91db8a7f814",
   "metadata": {},
   "outputs": [],
   "source": [
    "%%capture\n",
    "#DO NOT MODIFY\n",
    "#regular expressions for the cvs files to look for\n",
    "subset=experiment_summary_table[experiment_summary_table[\"pos\"].isin([10,11])]\n",
    "print(subset)\n",
    "gls_dic={10:list(np.arange(0,60)),\n",
    "         11:list(np.arange(0,60))}\n",
    "rx0='CellStats__(.*).csv' \n",
    "pyMoM.extractAndTidyCurated(experimentFolderPath,preprocFolder,subset,rx0,gls_dic,analysis_id='moma_batch_med3')"
   ]
  },
  {
   "cell_type": "markdown",
   "id": "23c5fe39-1c1c-465f-beac-3b9ff4928b63",
   "metadata": {},
   "source": [
    "### rrnB curation"
   ]
  },
  {
   "cell_type": "code",
   "execution_count": 4,
   "id": "06def65a-a91d-41b4-9120-d68c22b81492",
   "metadata": {},
   "outputs": [
    {
     "name": "stdout",
     "output_type": "stream",
     "text": [
      "       date  ch  pos  width  inoculated_gl promoter vector\n",
      "0  20230420   2    0      1             11     rrnB     ch\n",
      "1  20230420   2    1      1             11     rrnB     ch\n",
      "2  20230420   2    2      1             11     rrnB     ch\n",
      "3  20230420   2    3      1             11     rrnB     ch\n",
      "4  20230420   2    4      1             11     rrnB     ch\n"
     ]
    }
   ],
   "source": [
    "subset=experiment_summary_table[experiment_summary_table[\"pos\"].isin([0,1,2,3,4])]\n",
    "print(subset)"
   ]
  },
  {
   "cell_type": "code",
   "execution_count": 5,
   "id": "0b7ba97f-9f6e-4fbc-8576-4e255c44fb01",
   "metadata": {},
   "outputs": [
    {
     "name": "stdout",
     "output_type": "stream",
     "text": [
      "Making batch directory batch_rrnB.\n",
      "Copying standard mm.properties file to batch_rrnB.\n",
      "/scicore/home/nimwegen/rocasu25/MM_Data/Dany/20230420/20230420_preproc\n",
      "Batch file does not exist. It is created for the following positions, for all detected growth lanes:\n",
      "Pos0\n",
      "Pos1\n",
      "Pos2\n",
      "Pos3\n",
      "Pos4\n"
     ]
    }
   ],
   "source": [
    "#Batch folder that should be used or created to supervise tracking/curation/export\n",
    "batch_folder=\"batch_rrnB\"\n",
    "batch_file=\"moma_batch_rrnB.yaml\"\n",
    "curation_id=\"moma_batch_rrnB\"\n",
    "create_moma_batch_directory(experimentFolderPath,batch_folder)\n",
    "create_yaml_file(batch_file,curation_id,experimentFolderPath,preprocFolder,batch_folder,subset)"
   ]
  },
  {
   "cell_type": "code",
   "execution_count": 5,
   "id": "48aeaadc-bbe5-460e-8bf5-0c08acca3824",
   "metadata": {},
   "outputs": [],
   "source": [
    "%%capture\n",
    "#DO NOT MODIFY\n",
    "#regular expressions for the cvs files to look for\n",
    "subset=experiment_summary_table[experiment_summary_table[\"pos\"].isin([0,1,2])]\n",
    "print(subset)\n",
    "gls_dic={0:list(np.arange(0,60)),\n",
    "         1:list(np.arange(0,60)),\n",
    "         2:list(np.arange(0,60))}\n",
    "rx0='CellStats__(.*).csv' \n",
    "pyMoM.extractAndTidyCurated(experimentFolderPath,preprocFolder,subset,rx0,gls_dic,analysis_id='moma_batch_rrnB')"
   ]
  },
  {
   "cell_type": "markdown",
   "id": "7465f130-99b7-4d29-be1d-7b437734e0fa",
   "metadata": {
    "tags": []
   },
   "source": [
    "# 20230428, acetate 0.05% (400 frames, step=12min, total 80h)\n"
   ]
  },
  {
   "cell_type": "code",
   "execution_count": 19,
   "id": "61688085-6b41-4a83-8e2e-462b3628e54c",
   "metadata": {},
   "outputs": [],
   "source": [
    "#Edit the following\n",
    "experimental_details=[{\n",
    "    \"date\":\"20230428\",\n",
    "    \"description\":\"acetate\",\n",
    "    \"f_start\":\"0\",\n",
    "    \"f_end\":\"400\",\n",
    "    \"condition\":\"acetate\",\n",
    "    \"t_interval\":\"12\",\n",
    "    \"cell_detection_offset\":\"120\"}] #min\n",
    "\n",
    "#Preprocessing infos\n",
    "experimentFolderPath='/scicore/home/nimwegen/rocasu25/MM_Data/Dany/20230428'\n",
    "##Preprocessing folder\n",
    "preprocFolder=\"20230428_ace_preproc\"\n",
    "#preprocFolder=\"20230228_ace_preproc\"\n",
    "\n",
    "#pos_var=\"POS_NAMES=(Pos0)\"\n",
    "pos_var=\"POS_NAMES=(Pos1 Pos2 Pos3 Pos4 Pos5 Pos6 Pos7 Pos8 Pos9 Pos10 Pos11 Pos12 Pos13 Pos14 Pos15 Pos16 Pos17 Pos18 Pos19 Pos20 Pos21 Pos22 Pos23 Pos24 Pos25 Pos26 Pos27)\"\n",
    "##Template to use for the preprocessing\n",
    "template=\"TEMPLATE_vng124\"\n",
    "##Rotation (to determine on imageJ)\n",
    "ROTATION=\"90\"\n",
    "##TMAX, if processing is not to look at all frames\n",
    "TMAX=\"400\"\n",
    "##Normalization offset\n",
    "NORMALIZATION_REGION_OFFSET=\"120\"\n",
    "##Raw path to the data\n",
    "RAW_PATH=\"/scicore/home/nimwegen/rocasu25/MM_Data/Dany/20230428/20230428_ace/20230428_ace_2/20230428_ace_2_MMStack.ome.tif\"\n",
    "##Raw path to flat field data\n",
    "FLATFIELD_PATH=\"/scicore/home/nimwegen/rocasu25/MM_Data/Dany/20230428/20230428_flatfield/20230428_flatfield_2/20230428_flatfield_2_MMStack.ome.tif\"\n",
    "##In case the position does not have empty growth lanes, use the following to perform the phase contrast normalization\n",
    "##To be used with /scicore/home/nimwegen/GROUP/Moma/MM_Analysis/builds/unstable_20230131__FOR_PREPROCESSING_ONLY__mmpreprocesspy_v0.2.0-98d609a7/Modules\n",
    "#!source ~/.bashrc\n",
    "#norm_var=\"(632,4763)\""
   ]
  },
  {
   "cell_type": "code",
   "execution_count": 15,
   "id": "48f9849c-23b8-4d22-88a6-67aefc8ada06",
   "metadata": {},
   "outputs": [
    {
     "name": "stdin",
     "output_type": "stream",
     "text": [
      "Do you really want to submit preprocessing tasks to the scheduler? If the preprocessing folder target path has not been changed, it might result in overwritting your data. Enter 'Yes', to confirm. Yes\n"
     ]
    },
    {
     "name": "stdout",
     "output_type": "stream",
     "text": [
      "Preprocessing queued... (use squeue to check the current status)\n"
     ]
    }
   ],
   "source": [
    "submit_preprocessing(experimentFolderPath,preprocFolder,template,NORMALIZATION_REGION_OFFSET,pos_var,RAW_PATH,FLATFIELD_PATH,ROTATION,TMAX)"
   ]
  },
  {
   "cell_type": "code",
   "execution_count": 23,
   "id": "78b0a2e5-fdfe-419d-914e-254e826470c0",
   "metadata": {},
   "outputs": [
    {
     "name": "stdin",
     "output_type": "stream",
     "text": [
      "Do you really want to submit preprocessing tasks to the scheduler? If the preprocessing folder target path has not been changed, it might result in overwritting your data. Enter 'Yes', to confirm. Yes\n"
     ]
    },
    {
     "name": "stdout",
     "output_type": "stream",
     "text": [
      "Preprocessing queued... (use squeue to check the current status)\n"
     ]
    }
   ],
   "source": [
    "#submit_preprocessing_noemptygl(experimentFolderPath,preprocFolder,template,NORMALIZATION_REGION_OFFSET,pos_var,RAW_PATH,FLATFIELD_PATH,ROTATION,TMAX,norm_var)"
   ]
  },
  {
   "cell_type": "markdown",
   "id": "3a59c98d-e69f-4898-991a-6218bed3ddd3",
   "metadata": {
    "tags": []
   },
   "source": [
    "## Moma Batch"
   ]
  },
  {
   "cell_type": "code",
   "execution_count": 20,
   "id": "6cec8ba8-8693-471a-9cf2-323d030ac091",
   "metadata": {},
   "outputs": [
    {
     "data": {
      "text/html": [
       "<div>\n",
       "<style scoped>\n",
       "    .dataframe tbody tr th:only-of-type {\n",
       "        vertical-align: middle;\n",
       "    }\n",
       "\n",
       "    .dataframe tbody tr th {\n",
       "        vertical-align: top;\n",
       "    }\n",
       "\n",
       "    .dataframe thead th {\n",
       "        text-align: right;\n",
       "    }\n",
       "</style>\n",
       "<table border=\"1\" class=\"dataframe\">\n",
       "  <thead>\n",
       "    <tr style=\"text-align: right;\">\n",
       "      <th></th>\n",
       "      <th>date</th>\n",
       "      <th>ch</th>\n",
       "      <th>pos</th>\n",
       "      <th>width</th>\n",
       "      <th>inoculated_gl</th>\n",
       "      <th>promoter</th>\n",
       "      <th>vector</th>\n",
       "    </tr>\n",
       "  </thead>\n",
       "  <tbody>\n",
       "    <tr>\n",
       "      <th>0</th>\n",
       "      <td>20230428</td>\n",
       "      <td>5</td>\n",
       "      <td>0</td>\n",
       "      <td>1</td>\n",
       "      <td>7</td>\n",
       "      <td>6300</td>\n",
       "      <td>ch</td>\n",
       "    </tr>\n",
       "    <tr>\n",
       "      <th>1</th>\n",
       "      <td>20230428</td>\n",
       "      <td>5</td>\n",
       "      <td>1</td>\n",
       "      <td>1</td>\n",
       "      <td>8</td>\n",
       "      <td>6300</td>\n",
       "      <td>ch</td>\n",
       "    </tr>\n",
       "    <tr>\n",
       "      <th>2</th>\n",
       "      <td>20230428</td>\n",
       "      <td>5</td>\n",
       "      <td>2</td>\n",
       "      <td>1</td>\n",
       "      <td>8</td>\n",
       "      <td>6300</td>\n",
       "      <td>ch</td>\n",
       "    </tr>\n",
       "    <tr>\n",
       "      <th>3</th>\n",
       "      <td>20230428</td>\n",
       "      <td>5</td>\n",
       "      <td>3</td>\n",
       "      <td>1</td>\n",
       "      <td>9</td>\n",
       "      <td>6300</td>\n",
       "      <td>ch</td>\n",
       "    </tr>\n",
       "    <tr>\n",
       "      <th>4</th>\n",
       "      <td>20230428</td>\n",
       "      <td>6</td>\n",
       "      <td>4</td>\n",
       "      <td>1</td>\n",
       "      <td>10</td>\n",
       "      <td>hi3</td>\n",
       "      <td>ch</td>\n",
       "    </tr>\n",
       "    <tr>\n",
       "      <th>5</th>\n",
       "      <td>20230428</td>\n",
       "      <td>6</td>\n",
       "      <td>5</td>\n",
       "      <td>1</td>\n",
       "      <td>13</td>\n",
       "      <td>hi3</td>\n",
       "      <td>ch</td>\n",
       "    </tr>\n",
       "    <tr>\n",
       "      <th>6</th>\n",
       "      <td>20230428</td>\n",
       "      <td>6</td>\n",
       "      <td>6</td>\n",
       "      <td>1</td>\n",
       "      <td>9</td>\n",
       "      <td>hi3</td>\n",
       "      <td>ch</td>\n",
       "    </tr>\n",
       "    <tr>\n",
       "      <th>7</th>\n",
       "      <td>20230428</td>\n",
       "      <td>7</td>\n",
       "      <td>7</td>\n",
       "      <td>1</td>\n",
       "      <td>20</td>\n",
       "      <td>med3</td>\n",
       "      <td>ch</td>\n",
       "    </tr>\n",
       "    <tr>\n",
       "      <th>8</th>\n",
       "      <td>20230428</td>\n",
       "      <td>7</td>\n",
       "      <td>8</td>\n",
       "      <td>1</td>\n",
       "      <td>18</td>\n",
       "      <td>med3</td>\n",
       "      <td>ch</td>\n",
       "    </tr>\n",
       "    <tr>\n",
       "      <th>9</th>\n",
       "      <td>20230428</td>\n",
       "      <td>7</td>\n",
       "      <td>9</td>\n",
       "      <td>1</td>\n",
       "      <td>18</td>\n",
       "      <td>med3</td>\n",
       "      <td>ch</td>\n",
       "    </tr>\n",
       "    <tr>\n",
       "      <th>10</th>\n",
       "      <td>20230428</td>\n",
       "      <td>4</td>\n",
       "      <td>10</td>\n",
       "      <td>1</td>\n",
       "      <td>3</td>\n",
       "      <td>rplN</td>\n",
       "      <td>ch</td>\n",
       "    </tr>\n",
       "    <tr>\n",
       "      <th>11</th>\n",
       "      <td>20230428</td>\n",
       "      <td>4</td>\n",
       "      <td>11</td>\n",
       "      <td>1</td>\n",
       "      <td>4</td>\n",
       "      <td>rplN</td>\n",
       "      <td>ch</td>\n",
       "    </tr>\n",
       "    <tr>\n",
       "      <th>12</th>\n",
       "      <td>20230428</td>\n",
       "      <td>4</td>\n",
       "      <td>12</td>\n",
       "      <td>1</td>\n",
       "      <td>4</td>\n",
       "      <td>rplN</td>\n",
       "      <td>ch</td>\n",
       "    </tr>\n",
       "    <tr>\n",
       "      <th>13</th>\n",
       "      <td>20230428</td>\n",
       "      <td>4</td>\n",
       "      <td>13</td>\n",
       "      <td>1</td>\n",
       "      <td>4</td>\n",
       "      <td>rplN</td>\n",
       "      <td>ch</td>\n",
       "    </tr>\n",
       "    <tr>\n",
       "      <th>14</th>\n",
       "      <td>20230428</td>\n",
       "      <td>4</td>\n",
       "      <td>14</td>\n",
       "      <td>1</td>\n",
       "      <td>4</td>\n",
       "      <td>rplN</td>\n",
       "      <td>ch</td>\n",
       "    </tr>\n",
       "    <tr>\n",
       "      <th>15</th>\n",
       "      <td>20230428</td>\n",
       "      <td>4</td>\n",
       "      <td>15</td>\n",
       "      <td>1</td>\n",
       "      <td>10</td>\n",
       "      <td>rplN</td>\n",
       "      <td>ch</td>\n",
       "    </tr>\n",
       "    <tr>\n",
       "      <th>16</th>\n",
       "      <td>20230428</td>\n",
       "      <td>3</td>\n",
       "      <td>16</td>\n",
       "      <td>1</td>\n",
       "      <td>1</td>\n",
       "      <td>med2</td>\n",
       "      <td>ch</td>\n",
       "    </tr>\n",
       "    <tr>\n",
       "      <th>17</th>\n",
       "      <td>20230428</td>\n",
       "      <td>3</td>\n",
       "      <td>17</td>\n",
       "      <td>1</td>\n",
       "      <td>1</td>\n",
       "      <td>med2</td>\n",
       "      <td>ch</td>\n",
       "    </tr>\n",
       "    <tr>\n",
       "      <th>18</th>\n",
       "      <td>20230428</td>\n",
       "      <td>3</td>\n",
       "      <td>18</td>\n",
       "      <td>1</td>\n",
       "      <td>1</td>\n",
       "      <td>med2</td>\n",
       "      <td>ch</td>\n",
       "    </tr>\n",
       "    <tr>\n",
       "      <th>19</th>\n",
       "      <td>20230428</td>\n",
       "      <td>2</td>\n",
       "      <td>19</td>\n",
       "      <td>1</td>\n",
       "      <td>4</td>\n",
       "      <td>rrnB</td>\n",
       "      <td>ch</td>\n",
       "    </tr>\n",
       "    <tr>\n",
       "      <th>20</th>\n",
       "      <td>20230428</td>\n",
       "      <td>2</td>\n",
       "      <td>20</td>\n",
       "      <td>1</td>\n",
       "      <td>4</td>\n",
       "      <td>rrnB</td>\n",
       "      <td>ch</td>\n",
       "    </tr>\n",
       "    <tr>\n",
       "      <th>21</th>\n",
       "      <td>20230428</td>\n",
       "      <td>2</td>\n",
       "      <td>21</td>\n",
       "      <td>1</td>\n",
       "      <td>4</td>\n",
       "      <td>rrnB</td>\n",
       "      <td>ch</td>\n",
       "    </tr>\n",
       "    <tr>\n",
       "      <th>22</th>\n",
       "      <td>20230428</td>\n",
       "      <td>2</td>\n",
       "      <td>22</td>\n",
       "      <td>1</td>\n",
       "      <td>9</td>\n",
       "      <td>rrnB</td>\n",
       "      <td>ch</td>\n",
       "    </tr>\n",
       "    <tr>\n",
       "      <th>23</th>\n",
       "      <td>20230428</td>\n",
       "      <td>2</td>\n",
       "      <td>23</td>\n",
       "      <td>1</td>\n",
       "      <td>9</td>\n",
       "      <td>rrnB</td>\n",
       "      <td>ch</td>\n",
       "    </tr>\n",
       "    <tr>\n",
       "      <th>24</th>\n",
       "      <td>20230428</td>\n",
       "      <td>2</td>\n",
       "      <td>24</td>\n",
       "      <td>1</td>\n",
       "      <td>6</td>\n",
       "      <td>rrnB</td>\n",
       "      <td>ch</td>\n",
       "    </tr>\n",
       "    <tr>\n",
       "      <th>25</th>\n",
       "      <td>20230428</td>\n",
       "      <td>1</td>\n",
       "      <td>25</td>\n",
       "      <td>1</td>\n",
       "      <td>14</td>\n",
       "      <td>hi1</td>\n",
       "      <td>ch</td>\n",
       "    </tr>\n",
       "    <tr>\n",
       "      <th>26</th>\n",
       "      <td>20230428</td>\n",
       "      <td>1</td>\n",
       "      <td>26</td>\n",
       "      <td>1</td>\n",
       "      <td>9</td>\n",
       "      <td>hi1</td>\n",
       "      <td>ch</td>\n",
       "    </tr>\n",
       "    <tr>\n",
       "      <th>27</th>\n",
       "      <td>20230428</td>\n",
       "      <td>1</td>\n",
       "      <td>27</td>\n",
       "      <td>1</td>\n",
       "      <td>15</td>\n",
       "      <td>hi1</td>\n",
       "      <td>ch</td>\n",
       "    </tr>\n",
       "  </tbody>\n",
       "</table>\n",
       "</div>"
      ],
      "text/plain": [
       "        date  ch  pos  width  inoculated_gl promoter vector\n",
       "0   20230428   5    0      1              7     6300     ch\n",
       "1   20230428   5    1      1              8     6300     ch\n",
       "2   20230428   5    2      1              8     6300     ch\n",
       "3   20230428   5    3      1              9     6300     ch\n",
       "4   20230428   6    4      1             10      hi3     ch\n",
       "5   20230428   6    5      1             13      hi3     ch\n",
       "6   20230428   6    6      1              9      hi3     ch\n",
       "7   20230428   7    7      1             20     med3     ch\n",
       "8   20230428   7    8      1             18     med3     ch\n",
       "9   20230428   7    9      1             18     med3     ch\n",
       "10  20230428   4   10      1              3     rplN     ch\n",
       "11  20230428   4   11      1              4     rplN     ch\n",
       "12  20230428   4   12      1              4     rplN     ch\n",
       "13  20230428   4   13      1              4     rplN     ch\n",
       "14  20230428   4   14      1              4     rplN     ch\n",
       "15  20230428   4   15      1             10     rplN     ch\n",
       "16  20230428   3   16      1              1     med2     ch\n",
       "17  20230428   3   17      1              1     med2     ch\n",
       "18  20230428   3   18      1              1     med2     ch\n",
       "19  20230428   2   19      1              4     rrnB     ch\n",
       "20  20230428   2   20      1              4     rrnB     ch\n",
       "21  20230428   2   21      1              4     rrnB     ch\n",
       "22  20230428   2   22      1              9     rrnB     ch\n",
       "23  20230428   2   23      1              9     rrnB     ch\n",
       "24  20230428   2   24      1              6     rrnB     ch\n",
       "25  20230428   1   25      1             14      hi1     ch\n",
       "26  20230428   1   26      1              9      hi1     ch\n",
       "27  20230428   1   27      1             15      hi1     ch"
      ]
     },
     "execution_count": 20,
     "metadata": {},
     "output_type": "execute_result"
    }
   ],
   "source": [
    "#Generate a YAML file from experiment_summary_table\n",
    "#Select rows of interest, that will be curated, from the curated data summary table\n",
    "experiment_summary_table=print_curated_data_summary(experimental_details,experimentFolderPath)\n",
    "experiment_summary_table"
   ]
  },
  {
   "cell_type": "markdown",
   "id": "efb79adf-ce71-4dc8-be7e-3ff8cf1f46af",
   "metadata": {},
   "source": [
    "### hi1"
   ]
  },
  {
   "cell_type": "code",
   "execution_count": 28,
   "id": "1120975d-da59-4ed9-b1b8-c33610d7553f",
   "metadata": {},
   "outputs": [
    {
     "name": "stdout",
     "output_type": "stream",
     "text": [
      "        date  ch  pos  width  inoculated_gl promoter vector\n",
      "25  20230428   1   25      1             14      hi1     ch\n",
      "26  20230428   1   26      1              9      hi1     ch\n",
      "27  20230428   1   27      1             15      hi1     ch\n"
     ]
    }
   ],
   "source": [
    "subset=experiment_summary_table[experiment_summary_table[\"pos\"].isin([25,26,27])]\n",
    "print(subset)"
   ]
  },
  {
   "cell_type": "code",
   "execution_count": 25,
   "id": "0d691bdf-39eb-490a-8643-843274d5ba1b",
   "metadata": {},
   "outputs": [
    {
     "name": "stdout",
     "output_type": "stream",
     "text": [
      "Making batch directory batch_hi1.\n",
      "Copying standard mm.properties file to batch_hi1.\n",
      "/scicore/home/nimwegen/rocasu25/MM_Data/Dany/20230428/20230428_ace_preproc\n",
      "Batch file does not exist. It is created for the following positions, for all detected growth lanes:\n",
      "Pos25\n",
      "Pos26\n",
      "Pos27\n"
     ]
    }
   ],
   "source": [
    "#Batch folder that should be used or created to supervise tracking/curation/export\n",
    "batch_folder=\"batch_hi1\"\n",
    "batch_file=\"moma_batch_hi1.yaml\"\n",
    "curation_id=\"moma_batch_hi1\"\n",
    "create_moma_batch_directory(experimentFolderPath,batch_folder)\n",
    "create_yaml_file(batch_file,curation_id,experimentFolderPath,preprocFolder,batch_folder,subset)"
   ]
  },
  {
   "cell_type": "code",
   "execution_count": 29,
   "id": "59e7d8a6-da6e-4052-96d6-6c1af8ae2c19",
   "metadata": {},
   "outputs": [],
   "source": [
    "%%capture\n",
    "#DO NOT MODIFY\n",
    "#regular expressions for the cvs files to look for\n",
    "subset=experiment_summary_table[experiment_summary_table[\"pos\"].isin([25,26,27])]\n",
    "print(subset)\n",
    "gls_dic={25:list(np.arange(0,60)),\n",
    "        26:list(np.arange(0,60)),\n",
    "        27:list(np.arange(0,60))}\n",
    "\n",
    "rx0='CellStats__(.*).csv' \n",
    "pyMoM.extractAndTidyCurated(experimentFolderPath,preprocFolder,subset,rx0,gls_dic,analysis_id='moma_batch_hi1')"
   ]
  },
  {
   "cell_type": "markdown",
   "id": "68fa08e4-8302-42bc-9e06-cedbe419e2f8",
   "metadata": {},
   "source": [
    "### rrnB"
   ]
  },
  {
   "cell_type": "code",
   "execution_count": 6,
   "id": "282a3c19-49f9-4e45-981f-77f38c1121d3",
   "metadata": {},
   "outputs": [
    {
     "name": "stdout",
     "output_type": "stream",
     "text": [
      "        date  ch  pos  width  inoculated_gl promoter vector\n",
      "19  20230428   2   19      1              4     rrnB     ch\n",
      "20  20230428   2   20      1              4     rrnB     ch\n",
      "21  20230428   2   21      1              4     rrnB     ch\n",
      "22  20230428   2   22      1              9     rrnB     ch\n",
      "23  20230428   2   23      1              9     rrnB     ch\n",
      "24  20230428   2   24      1              6     rrnB     ch\n"
     ]
    }
   ],
   "source": [
    "subset=experiment_summary_table[experiment_summary_table[\"pos\"].isin([19,20,21,22,23,24])]\n",
    "print(subset)"
   ]
  },
  {
   "cell_type": "code",
   "execution_count": 27,
   "id": "98788282-255e-40ef-818e-5cb26358bfde",
   "metadata": {},
   "outputs": [
    {
     "name": "stdout",
     "output_type": "stream",
     "text": [
      "Making batch directory batch_rrnB.\n",
      "Copying standard mm.properties file to batch_rrnB.\n",
      "/scicore/home/nimwegen/rocasu25/MM_Data/Dany/20230428/20230428_ace_preproc\n",
      "Batch file does not exist. It is created for the following positions, for all detected growth lanes:\n",
      "Pos19\n",
      "Pos20\n",
      "Pos21\n",
      "Pos22\n",
      "Pos23\n",
      "Pos24\n"
     ]
    }
   ],
   "source": [
    "#Batch folder that should be used or created to supervise tracking/curation/export\n",
    "batch_folder=\"batch_rrnB\"\n",
    "batch_file=\"moma_batch_rrnB.yaml\"\n",
    "curation_id=\"moma_batch_rrnB\"\n",
    "create_moma_batch_directory(experimentFolderPath,batch_folder)\n",
    "create_yaml_file(batch_file,curation_id,experimentFolderPath,preprocFolder,batch_folder,subset)"
   ]
  },
  {
   "cell_type": "code",
   "execution_count": 8,
   "id": "c8906dad-b79d-4947-b3a6-4b0e4d47bcf7",
   "metadata": {},
   "outputs": [],
   "source": [
    "%%capture\n",
    "#DO NOT MODIFY\n",
    "#regular expressions for the cvs files to look for\n",
    "subset=experiment_summary_table[experiment_summary_table[\"pos\"].isin([19,20,21,22,23,24])]\n",
    "print(subset)\n",
    "gls_dic={19:list(np.arange(0,60)),\n",
    "         20:list(np.arange(0,60)),\n",
    "         21:list(np.arange(0,60)),\n",
    "         22:list(np.arange(0,60)),\n",
    "         23:list(np.arange(0,60)),\n",
    "         24:list(np.arange(0,60))}\n",
    "\n",
    "rx0='CellStats__(.*).csv' \n",
    "pyMoM.extractAndTidyCurated(experimentFolderPath,preprocFolder,subset,rx0,gls_dic,analysis_id='moma_batch_rrnB')"
   ]
  },
  {
   "cell_type": "markdown",
   "id": "e55bada3-b1e9-4e7c-85af-32fcee30b5dd",
   "metadata": {},
   "source": [
    "### Med3"
   ]
  },
  {
   "cell_type": "code",
   "execution_count": 7,
   "id": "4c1d1022-8961-4a1a-91cc-a6085efda9cb",
   "metadata": {},
   "outputs": [
    {
     "name": "stdout",
     "output_type": "stream",
     "text": [
      "       date  ch  pos  width  inoculated_gl promoter vector\n",
      "7  20230428   7    7      1             20     med3     ch\n",
      "8  20230428   7    8      1             18     med3     ch\n",
      "9  20230428   7    9      1             18     med3     ch\n"
     ]
    }
   ],
   "source": [
    "subset=experiment_summary_table[experiment_summary_table[\"pos\"].isin([7,8,9])]\n",
    "print(subset)"
   ]
  },
  {
   "cell_type": "code",
   "execution_count": 33,
   "id": "e355a31c-c716-4109-a44c-e6ac1691f170",
   "metadata": {},
   "outputs": [
    {
     "name": "stdout",
     "output_type": "stream",
     "text": [
      "Making batch directory batch_med3.\n",
      "Copying standard mm.properties file to batch_med3.\n",
      "/scicore/home/nimwegen/rocasu25/MM_Data/Dany/20230428/20230428_ace_preproc\n",
      "Batch file does not exist. It is created for the following positions, for all detected growth lanes:\n",
      "Pos7\n",
      "Pos8\n",
      "Pos9\n"
     ]
    }
   ],
   "source": [
    "#Batch folder that should be used or created to supervise tracking/curation/export\n",
    "batch_folder=\"batch_med3\"\n",
    "batch_file=\"moma_batch_med3.yaml\"\n",
    "curation_id=\"moma_batch_med3\"\n",
    "create_moma_batch_directory(experimentFolderPath,batch_folder)\n",
    "create_yaml_file(batch_file,curation_id,experimentFolderPath,preprocFolder,batch_folder,subset)"
   ]
  },
  {
   "cell_type": "code",
   "execution_count": 8,
   "id": "6a529348-4f50-4dca-a54d-6b79a0bb40c0",
   "metadata": {},
   "outputs": [],
   "source": [
    "%%capture\n",
    "#DO NOT MODIFY\n",
    "#regular expressions for the cvs files to look for\n",
    "subset=experiment_summary_table[experiment_summary_table[\"pos\"].isin([7,8,9])]\n",
    "print(subset)\n",
    "gls_dic={7:list(np.arange(0,60)),\n",
    "        8:list(np.arange(0,60)),\n",
    "        9:list(np.arange(0,60))}\n",
    "\n",
    "rx0='CellStats__(.*).csv' \n",
    "pyMoM.extractAndTidyCurated(experimentFolderPath,preprocFolder,subset,rx0,gls_dic,analysis_id='moma_batch_med3')"
   ]
  },
  {
   "cell_type": "markdown",
   "id": "c86e6a9c-df53-4eab-82e3-25483c7667c4",
   "metadata": {},
   "source": [
    "### Med2"
   ]
  },
  {
   "cell_type": "code",
   "execution_count": 11,
   "id": "d987c069-aceb-498f-aa5b-1376269e52bf",
   "metadata": {},
   "outputs": [
    {
     "name": "stdout",
     "output_type": "stream",
     "text": [
      "        date  ch  pos  width  inoculated_gl promoter vector\n",
      "16  20230428   3   16      1              1     med2     ch\n",
      "17  20230428   3   17      1              1     med2     ch\n",
      "18  20230428   3   18      1              1     med2     ch\n"
     ]
    }
   ],
   "source": [
    "subset=experiment_summary_table[experiment_summary_table[\"pos\"].isin([16,17,18])]\n",
    "print(subset)"
   ]
  },
  {
   "cell_type": "code",
   "execution_count": 6,
   "id": "5f9f4df9-900e-485c-9727-3590eca75d4a",
   "metadata": {},
   "outputs": [
    {
     "name": "stdout",
     "output_type": "stream",
     "text": [
      "Making batch directory batch_med2.\n",
      "Copying standard mm.properties file to batch_med2.\n",
      "/scicore/home/nimwegen/rocasu25/MM_Data/Dany/20230428/20230428_ace_preproc\n",
      "Batch file does not exist. It is created for the following positions, for all detected growth lanes:\n",
      "Pos16\n",
      "Pos17\n",
      "Pos18\n"
     ]
    }
   ],
   "source": [
    "#Batch folder that should be used or created to supervise tracking/curation/export\n",
    "batch_folder=\"batch_med2\"\n",
    "batch_file=\"moma_batch_med2.yaml\"\n",
    "curation_id=\"moma_batch_med2\"\n",
    "create_moma_batch_directory(experimentFolderPath,batch_folder)\n",
    "create_yaml_file(batch_file,curation_id,experimentFolderPath,preprocFolder,batch_folder,subset)"
   ]
  },
  {
   "cell_type": "code",
   "execution_count": 13,
   "id": "b45260d3-dff8-43a4-855b-6422e4663c21",
   "metadata": {},
   "outputs": [],
   "source": [
    "%%capture\n",
    "#DO NOT MODIFY\n",
    "#regular expressions for the cvs files to look for\n",
    "subset=experiment_summary_table[experiment_summary_table[\"pos\"].isin([16,17,18])]\n",
    "print(subset)\n",
    "gls_dic={16:list(np.arange(0,60)),\n",
    "         17:list(np.arange(0,60)),\n",
    "         18:list(np.arange(0,60))}\n",
    "\n",
    "rx0='CellStats__(.*).csv' \n",
    "pyMoM.extractAndTidyCurated(experimentFolderPath,preprocFolder,subset,rx0,gls_dic,analysis_id='moma_batch_med2')"
   ]
  },
  {
   "cell_type": "markdown",
   "id": "7527d4e9-dc9a-47ea-9a99-14a8dfc82314",
   "metadata": {},
   "source": [
    "### hi3"
   ]
  },
  {
   "cell_type": "code",
   "execution_count": 23,
   "id": "56cea8da-9da3-4ada-abef-25a7abe83862",
   "metadata": {},
   "outputs": [
    {
     "name": "stdout",
     "output_type": "stream",
     "text": [
      "       date  ch  pos  width  inoculated_gl promoter vector\n",
      "4  20230428   6    4      1             10      hi3     ch\n",
      "5  20230428   6    5      1             13      hi3     ch\n",
      "6  20230428   6    6      1              9      hi3     ch\n"
     ]
    }
   ],
   "source": [
    "subset=experiment_summary_table[experiment_summary_table[\"pos\"].isin([4,5,6])]\n",
    "print(subset)"
   ]
  },
  {
   "cell_type": "code",
   "execution_count": 10,
   "id": "acac637b-84bc-4cc3-8ef5-82fa7b1477c3",
   "metadata": {},
   "outputs": [
    {
     "name": "stdout",
     "output_type": "stream",
     "text": [
      "Making batch directory batch_hi3.\n",
      "Copying standard mm.properties file to batch_hi3.\n",
      "/scicore/home/nimwegen/rocasu25/MM_Data/Dany/20230428/20230428_ace_preproc\n",
      "Batch file does not exist. It is created for the following positions, for all detected growth lanes:\n",
      "Pos4\n",
      "Pos5\n",
      "Pos6\n"
     ]
    }
   ],
   "source": [
    "#Batch folder that should be used or created to supervise tracking/curation/export\n",
    "batch_folder=\"batch_hi3\"\n",
    "batch_file=\"moma_batch_hi3.yaml\"\n",
    "curation_id=\"moma_batch_hi3\"\n",
    "create_moma_batch_directory(experimentFolderPath,batch_folder)\n",
    "create_yaml_file(batch_file,curation_id,experimentFolderPath,preprocFolder,batch_folder,subset)"
   ]
  },
  {
   "cell_type": "code",
   "execution_count": 24,
   "id": "cc8b8983-c2be-4c49-9980-3635e10a6941",
   "metadata": {},
   "outputs": [],
   "source": [
    "%%capture\n",
    "#DO NOT MODIFY\n",
    "#regular expressions for the cvs files to look for\n",
    "subset=experiment_summary_table[experiment_summary_table[\"pos\"].isin([4,5,6])]\n",
    "print(subset)\n",
    "gls_dic={4:list(np.arange(0,60)),\n",
    "         5:list(np.arange(0,60)),\n",
    "         6:list(np.arange(0,60))\n",
    "        }\n",
    "\n",
    "rx0='CellStats__(.*).csv' \n",
    "pyMoM.extractAndTidyCurated(experimentFolderPath,preprocFolder,subset,rx0,gls_dic,analysis_id='moma_batch_hi3')"
   ]
  },
  {
   "cell_type": "markdown",
   "id": "2b6e8de9-a654-42dd-a60e-86e7670ed5ff",
   "metadata": {},
   "source": [
    "### rplN"
   ]
  },
  {
   "cell_type": "code",
   "execution_count": 21,
   "id": "78317e27-cb37-4a5e-8ba2-ae860e6f18da",
   "metadata": {},
   "outputs": [
    {
     "name": "stdout",
     "output_type": "stream",
     "text": [
      "        date  ch  pos  width  inoculated_gl promoter vector\n",
      "10  20230428   4   10      1              3     rplN     ch\n",
      "11  20230428   4   11      1              4     rplN     ch\n",
      "12  20230428   4   12      1              4     rplN     ch\n",
      "13  20230428   4   13      1              4     rplN     ch\n",
      "14  20230428   4   14      1              4     rplN     ch\n",
      "15  20230428   4   15      1             10     rplN     ch\n"
     ]
    }
   ],
   "source": [
    "subset=experiment_summary_table[experiment_summary_table[\"pos\"].isin([10,11,12,13,14,15])]\n",
    "print(subset)"
   ]
  },
  {
   "cell_type": "code",
   "execution_count": 15,
   "id": "b572cd2c-13bc-4780-926b-f1a0ceb23e4d",
   "metadata": {},
   "outputs": [
    {
     "name": "stdout",
     "output_type": "stream",
     "text": [
      "Making batch directory batch_rplN.\n",
      "Copying standard mm.properties file to batch_rplN.\n",
      "/scicore/home/nimwegen/rocasu25/MM_Data/Dany/20230428/20230428_ace_preproc\n",
      "Batch file does not exist. It is created for the following positions, for all detected growth lanes:\n",
      "Pos10\n",
      "Pos11\n",
      "Pos12\n",
      "Pos13\n",
      "Pos14\n",
      "Pos15\n"
     ]
    }
   ],
   "source": [
    "#Batch folder that should be used or created to supervise tracking/curation/export\n",
    "batch_folder=\"batch_rplN\"\n",
    "batch_file=\"moma_batch_rplN.yaml\"\n",
    "curation_id=\"moma_batch_rplN\"\n",
    "create_moma_batch_directory(experimentFolderPath,batch_folder)\n",
    "create_yaml_file(batch_file,curation_id,experimentFolderPath,preprocFolder,batch_folder,subset)"
   ]
  },
  {
   "cell_type": "code",
   "execution_count": 22,
   "id": "1a9839d2-331a-4722-8304-e5b90fd41774",
   "metadata": {},
   "outputs": [],
   "source": [
    "%%capture\n",
    "#DO NOT MODIFY\n",
    "#regular expressions for the cvs files to look for\n",
    "subset=experiment_summary_table[experiment_summary_table[\"pos\"].isin([10,11,12,13,14,15])]\n",
    "print(subset)\n",
    "gls_dic={10:list(np.arange(0,60)),\n",
    "         11:list(np.arange(0,60)),\n",
    "         12:list(np.arange(0,60)),\n",
    "         13:list(np.arange(0,60)),\n",
    "         14:list(np.arange(0,60)),\n",
    "         15:list(np.arange(0,60))}\n",
    "\n",
    "rx0='CellStats__(.*).csv' \n",
    "pyMoM.extractAndTidyCurated(experimentFolderPath,preprocFolder,subset,rx0,gls_dic,analysis_id='moma_batch_rplN')"
   ]
  },
  {
   "cell_type": "markdown",
   "id": "32633b2e-5602-4d6e-a99e-5d7bb6712f30",
   "metadata": {},
   "source": [
    "### 6300"
   ]
  },
  {
   "cell_type": "code",
   "execution_count": 13,
   "id": "30fe0e27-93aa-4120-9e8b-2117d5ef282a",
   "metadata": {},
   "outputs": [
    {
     "name": "stdout",
     "output_type": "stream",
     "text": [
      "       date  ch  pos  width  inoculated_gl promoter vector\n",
      "0  20230428   5    0      1              7     6300     ch\n",
      "1  20230428   5    1      1              8     6300     ch\n",
      "2  20230428   5    2      1              8     6300     ch\n",
      "3  20230428   5    3      1              9     6300     ch\n"
     ]
    }
   ],
   "source": [
    "subset=experiment_summary_table[experiment_summary_table[\"pos\"].isin([0,1,2,3])]\n",
    "print(subset)"
   ]
  },
  {
   "cell_type": "code",
   "execution_count": 18,
   "id": "8f371af9-03b6-44b2-9bbc-c13082cdf26e",
   "metadata": {},
   "outputs": [
    {
     "name": "stdout",
     "output_type": "stream",
     "text": [
      "Batch folder already exist.\n",
      "mm.properties already exists, copying cancelled.\n",
      "/scicore/home/nimwegen/rocasu25/MM_Data/Dany/20230428/20230428_ace_preproc\n",
      "Batch YAML file already exist. Aborting\n"
     ]
    }
   ],
   "source": [
    "#Batch folder that should be used or created to supervise tracking/curation/export\n",
    "batch_folder=\"batch_6300\"\n",
    "batch_file=\"moma_batch_6300.yaml\"\n",
    "curation_id=\"moma_batch_6300\"\n",
    "create_moma_batch_directory(experimentFolderPath,batch_folder)\n",
    "create_yaml_file(batch_file,curation_id,experimentFolderPath,preprocFolder,batch_folder,subset)"
   ]
  },
  {
   "cell_type": "code",
   "execution_count": 14,
   "id": "e159bf7e-f60c-4292-ad4f-5da4f062f918",
   "metadata": {},
   "outputs": [],
   "source": [
    "%%capture\n",
    "#DO NOT MODIFY\n",
    "#regular expressions for the cvs files to look for\n",
    "subset=experiment_summary_table[experiment_summary_table[\"pos\"].isin([0,1,2,3])]\n",
    "print(subset)\n",
    "gls_dic={0:list(np.arange(0,60)),\n",
    "        1:list(np.arange(0,60)),\n",
    "        2:list(np.arange(0,60)),\n",
    "        3:list(np.arange(0,60))}\n",
    "\n",
    "rx0='CellStats__(.*).csv' \n",
    "pyMoM.extractAndTidyCurated(experimentFolderPath,preprocFolder,subset,rx0,gls_dic,analysis_id='moma_batch_6300')"
   ]
  },
  {
   "cell_type": "markdown",
   "id": "bbeec737-7ac5-4eea-aeb3-b719a1d0703b",
   "metadata": {},
   "source": [
    "**NB**: in growth lanes, 32.12,32.21, 32.34, 32.21, 32.4. Growth-lanes display very high growth rate in acetate. Given the fact that I am growing the cells for 2 days in acetate before loading them, I am thinking we see here an obvious mutation. I am discarding these."
   ]
  },
  {
   "cell_type": "code",
   "execution_count": 16,
   "id": "ac7f7939-b808-4b8d-ae41-dfb3ebe15a98",
   "metadata": {},
   "outputs": [
    {
     "name": "stdout",
     "output_type": "stream",
     "text": [
      "        date  ch  pos  width  inoculated_gl promoter vector\n",
      "26  20230209   1   26      1             17     6300     ch\n",
      "27  20230209   1   27      1             17     6300     ch\n"
     ]
    }
   ],
   "source": [
    "subset=experiment_summary_table[experiment_summary_table[\"pos\"].isin([26,27])]\n",
    "print(subset)"
   ]
  },
  {
   "cell_type": "code",
   "execution_count": 17,
   "id": "e18855e8-ef22-432a-83f9-7230a98bf8a4",
   "metadata": {},
   "outputs": [
    {
     "name": "stdout",
     "output_type": "stream",
     "text": [
      "Batch folder already exist.\n",
      "mm.properties already exists, copying cancelled.\n",
      "/scicore/home/nimwegen/rocasu25/MM_Data/Dany/20230209/20230209_glu_preproc\n",
      "Batch file does not exist. It is created for the following positions, for all detected growth lanes:\n",
      "Pos26\n",
      "Pos27\n"
     ]
    }
   ],
   "source": [
    "#Batch folder that should be used or created to supervise tracking/curation/export\n",
    "batch_folder=\"batch_glu_6300\"\n",
    "batch_file=\"moma_batch_glu_6300_pos_26_27.yaml\"\n",
    "curation_id=\"moma_batch_glu_6300\"\n",
    "create_moma_batch_directory(experimentFolderPath,batch_folder)\n",
    "create_yaml_file(batch_file,curation_id,experimentFolderPath,preprocFolder,batch_folder,subset)"
   ]
  },
  {
   "cell_type": "code",
   "execution_count": 21,
   "id": "821d386d-2d61-46c6-9fd7-08318ef77554",
   "metadata": {},
   "outputs": [],
   "source": [
    "%%capture\n",
    "#DO NOT MODIFY\n",
    "#regular expressions for the cvs files to look for\n",
    "subset=experiment_summary_table[experiment_summary_table[\"pos\"].isin([24,25])]\n",
    "print(subset)\n",
    "gls_dic={24:list(np.arange(0,60)),\n",
    "        25:list(np.arange(0,60))}\n",
    "\n",
    "rx0='CellStats__(.*).csv' \n",
    "pyMoM.extractAndTidyCurated(experimentFolderPath,preprocFolder,subset,rx0,gls_dic,analysis_id='moma_batch_glu_6300')"
   ]
  },
  {
   "cell_type": "markdown",
   "id": "19ad2c76-a909-475f-84c1-a9984415ffd0",
   "metadata": {
    "tags": []
   },
   "source": [
    "# 20230510, glucose 0.2% + amino-acids (760 frames, step=1.5min, total 19h), (all promoters)\n",
    "## Experimental details and data summary"
   ]
  },
  {
   "cell_type": "code",
   "execution_count": 6,
   "id": "5968e930-b914-4189-b594-ea197ef3f3ec",
   "metadata": {},
   "outputs": [],
   "source": [
    "#Experimental details\n",
    "\n",
    "experimental_details=[{\n",
    "    \"date\":\"20230310\",\n",
    "    \"description\":\"glucoseaa\",\n",
    "    \"f_start\":\"0\",\n",
    "    \"f_end\":\"760\",\n",
    "    \"condition\":\"glucoseaa\",\n",
    "    \"t_interval\":\"1.5\",\n",
    "    \"cell_detection_offset\":\"120\"}] #min\n",
    "\n",
    "\n",
    "#Preprocessing infos\n",
    "experimentFolderPath='/scicore/home/nimwegen/rocasu25/MM_Data/Dany/20230510'\n",
    "##Preprocessing folder\n",
    "preprocFolder=\"20230510_preproc\"\n",
    "##List of positions\n",
    "#pos_var=\"POS_NAMES=(Pos0)\"\n",
    "pos_var=\"POS_NAMES=(Pos0 Pos1 Pos2 Pos3 Pos8 Pos9 Pos10 Pos15 Pos16 Pos17 Pos18 Pos19 Pos20 Pos21 Pos22 Pos23 Pos24 Pos25 Pos26 Pos27 Pos28)\"\n",
    "#pos_var=\"POS_NAMES=(Pos4 Pos5 Pos6 Pos7)\"\n",
    "##Template to use for the preprocessing\n",
    "template=\"TEMPLATE_vng87\"\n",
    "##Rotation (to determine on imageJ)\n",
    "ROTATION=\"89.9\"\n",
    "##TMAX, if processing is not to look at all frames\n",
    "TMAX=\"760\"\n",
    "##Normalization offset\n",
    "NORMALIZATION_REGION_OFFSET=\"120\"\n",
    "##Raw path to the data\n",
    "\n",
    "RAW_PATH=\"/scicore/home/nimwegen/rocasu25/MM_Data/Dany/20230510/20230510_glucoseaa_1/20230510_glucoseaa_1_MMStack.ome.tif\"\n",
    "##Raw path to flat field data\n",
    "FLATFIELD_PATH=\"/scicore/home/nimwegen/rocasu25/MM_Data/Dany/20230510/20230511_gfpflatfield_4/20230511_gfpflatfield_4_MMStack.ome.tif\""
   ]
  },
  {
   "cell_type": "code",
   "execution_count": 4,
   "id": "6cdb481f-9638-4eec-ac01-c8e3f0d2f708",
   "metadata": {},
   "outputs": [
    {
     "name": "stdin",
     "output_type": "stream",
     "text": [
      "Do you really want to submit preprocessing tasks to the scheduler? If the preprocessing folder target path has not been changed, it might result in overwritting your data. Enter 'Yes', to confirm. Yes\n"
     ]
    },
    {
     "name": "stdout",
     "output_type": "stream",
     "text": [
      "Preprocessing queued... (use squeue to check the current status)\n"
     ]
    }
   ],
   "source": [
    "submit_preprocessing(experimentFolderPath,preprocFolder,template,NORMALIZATION_REGION_OFFSET,pos_var,RAW_PATH,FLATFIELD_PATH,ROTATION,TMAX)"
   ]
  },
  {
   "cell_type": "markdown",
   "id": "3b17dc95-6940-430e-963e-baf6bb121bce",
   "metadata": {},
   "source": [
    "## Moma Batch"
   ]
  },
  {
   "cell_type": "code",
   "execution_count": 7,
   "id": "8f58e8f6-ffe0-4e3d-864f-ce8edf5f08c6",
   "metadata": {},
   "outputs": [
    {
     "data": {
      "text/html": [
       "<div>\n",
       "<style scoped>\n",
       "    .dataframe tbody tr th:only-of-type {\n",
       "        vertical-align: middle;\n",
       "    }\n",
       "\n",
       "    .dataframe tbody tr th {\n",
       "        vertical-align: top;\n",
       "    }\n",
       "\n",
       "    .dataframe thead th {\n",
       "        text-align: right;\n",
       "    }\n",
       "</style>\n",
       "<table border=\"1\" class=\"dataframe\">\n",
       "  <thead>\n",
       "    <tr style=\"text-align: right;\">\n",
       "      <th></th>\n",
       "      <th>date</th>\n",
       "      <th>ch</th>\n",
       "      <th>pos</th>\n",
       "      <th>width</th>\n",
       "      <th>inoculated_gl</th>\n",
       "      <th>promoter</th>\n",
       "      <th>vector</th>\n",
       "    </tr>\n",
       "  </thead>\n",
       "  <tbody>\n",
       "    <tr>\n",
       "      <th>0</th>\n",
       "      <td>20230510</td>\n",
       "      <td>5</td>\n",
       "      <td>0</td>\n",
       "      <td>1.25</td>\n",
       "      <td>6</td>\n",
       "      <td>med2</td>\n",
       "      <td>ch</td>\n",
       "    </tr>\n",
       "    <tr>\n",
       "      <th>1</th>\n",
       "      <td>20230510</td>\n",
       "      <td>5</td>\n",
       "      <td>1</td>\n",
       "      <td>1.25</td>\n",
       "      <td>6</td>\n",
       "      <td>med2</td>\n",
       "      <td>ch</td>\n",
       "    </tr>\n",
       "    <tr>\n",
       "      <th>2</th>\n",
       "      <td>20230510</td>\n",
       "      <td>5</td>\n",
       "      <td>2</td>\n",
       "      <td>1.25</td>\n",
       "      <td>6</td>\n",
       "      <td>med2</td>\n",
       "      <td>ch</td>\n",
       "    </tr>\n",
       "    <tr>\n",
       "      <th>3</th>\n",
       "      <td>20230510</td>\n",
       "      <td>5</td>\n",
       "      <td>3</td>\n",
       "      <td>1.25</td>\n",
       "      <td>8</td>\n",
       "      <td>med2</td>\n",
       "      <td>ch</td>\n",
       "    </tr>\n",
       "    <tr>\n",
       "      <th>4</th>\n",
       "      <td>20230510</td>\n",
       "      <td>6</td>\n",
       "      <td>4</td>\n",
       "      <td>1.00</td>\n",
       "      <td>7</td>\n",
       "      <td>hi3</td>\n",
       "      <td>ch</td>\n",
       "    </tr>\n",
       "    <tr>\n",
       "      <th>5</th>\n",
       "      <td>20230510</td>\n",
       "      <td>6</td>\n",
       "      <td>5</td>\n",
       "      <td>1.00</td>\n",
       "      <td>7</td>\n",
       "      <td>hi3</td>\n",
       "      <td>ch</td>\n",
       "    </tr>\n",
       "    <tr>\n",
       "      <th>6</th>\n",
       "      <td>20230510</td>\n",
       "      <td>6</td>\n",
       "      <td>6</td>\n",
       "      <td>1.00</td>\n",
       "      <td>9</td>\n",
       "      <td>hi3</td>\n",
       "      <td>ch</td>\n",
       "    </tr>\n",
       "    <tr>\n",
       "      <th>7</th>\n",
       "      <td>20230510</td>\n",
       "      <td>6</td>\n",
       "      <td>7</td>\n",
       "      <td>1.00</td>\n",
       "      <td>9</td>\n",
       "      <td>hi3</td>\n",
       "      <td>ch</td>\n",
       "    </tr>\n",
       "    <tr>\n",
       "      <th>8</th>\n",
       "      <td>20230510</td>\n",
       "      <td>7</td>\n",
       "      <td>8</td>\n",
       "      <td>1.00</td>\n",
       "      <td>22</td>\n",
       "      <td>hi1</td>\n",
       "      <td>ch</td>\n",
       "    </tr>\n",
       "    <tr>\n",
       "      <th>9</th>\n",
       "      <td>20230510</td>\n",
       "      <td>7</td>\n",
       "      <td>9</td>\n",
       "      <td>1.00</td>\n",
       "      <td>24</td>\n",
       "      <td>hi1</td>\n",
       "      <td>ch</td>\n",
       "    </tr>\n",
       "    <tr>\n",
       "      <th>10</th>\n",
       "      <td>20230510</td>\n",
       "      <td>4</td>\n",
       "      <td>10</td>\n",
       "      <td>1.00</td>\n",
       "      <td>5</td>\n",
       "      <td>med3</td>\n",
       "      <td>ch</td>\n",
       "    </tr>\n",
       "    <tr>\n",
       "      <th>11</th>\n",
       "      <td>20230510</td>\n",
       "      <td>4</td>\n",
       "      <td>11</td>\n",
       "      <td>1.00</td>\n",
       "      <td>5</td>\n",
       "      <td>med3</td>\n",
       "      <td>ch</td>\n",
       "    </tr>\n",
       "    <tr>\n",
       "      <th>12</th>\n",
       "      <td>20230510</td>\n",
       "      <td>4</td>\n",
       "      <td>12</td>\n",
       "      <td>1.00</td>\n",
       "      <td>8</td>\n",
       "      <td>med3</td>\n",
       "      <td>ch</td>\n",
       "    </tr>\n",
       "    <tr>\n",
       "      <th>13</th>\n",
       "      <td>20230510</td>\n",
       "      <td>4</td>\n",
       "      <td>13</td>\n",
       "      <td>1.00</td>\n",
       "      <td>15</td>\n",
       "      <td>med3</td>\n",
       "      <td>ch</td>\n",
       "    </tr>\n",
       "    <tr>\n",
       "      <th>14</th>\n",
       "      <td>20230510</td>\n",
       "      <td>3</td>\n",
       "      <td>14</td>\n",
       "      <td>1.00</td>\n",
       "      <td>5</td>\n",
       "      <td>rrnB</td>\n",
       "      <td>ch</td>\n",
       "    </tr>\n",
       "    <tr>\n",
       "      <th>15</th>\n",
       "      <td>20230510</td>\n",
       "      <td>3</td>\n",
       "      <td>15</td>\n",
       "      <td>1.00</td>\n",
       "      <td>3</td>\n",
       "      <td>rrnB</td>\n",
       "      <td>ch</td>\n",
       "    </tr>\n",
       "    <tr>\n",
       "      <th>16</th>\n",
       "      <td>20230510</td>\n",
       "      <td>3</td>\n",
       "      <td>16</td>\n",
       "      <td>1.00</td>\n",
       "      <td>5</td>\n",
       "      <td>rrnB</td>\n",
       "      <td>ch</td>\n",
       "    </tr>\n",
       "    <tr>\n",
       "      <th>17</th>\n",
       "      <td>20230510</td>\n",
       "      <td>3</td>\n",
       "      <td>17</td>\n",
       "      <td>1.00</td>\n",
       "      <td>6</td>\n",
       "      <td>rrnB</td>\n",
       "      <td>ch</td>\n",
       "    </tr>\n",
       "    <tr>\n",
       "      <th>18</th>\n",
       "      <td>20230510</td>\n",
       "      <td>3</td>\n",
       "      <td>18</td>\n",
       "      <td>1.00</td>\n",
       "      <td>3</td>\n",
       "      <td>rrnB</td>\n",
       "      <td>ch</td>\n",
       "    </tr>\n",
       "    <tr>\n",
       "      <th>19</th>\n",
       "      <td>20230510</td>\n",
       "      <td>3</td>\n",
       "      <td>19</td>\n",
       "      <td>1.00</td>\n",
       "      <td>10</td>\n",
       "      <td>rplN</td>\n",
       "      <td>ch</td>\n",
       "    </tr>\n",
       "    <tr>\n",
       "      <th>20</th>\n",
       "      <td>20230510</td>\n",
       "      <td>2</td>\n",
       "      <td>20</td>\n",
       "      <td>1.00</td>\n",
       "      <td>11</td>\n",
       "      <td>rplN</td>\n",
       "      <td>ch</td>\n",
       "    </tr>\n",
       "    <tr>\n",
       "      <th>21</th>\n",
       "      <td>20230510</td>\n",
       "      <td>2</td>\n",
       "      <td>21</td>\n",
       "      <td>1.00</td>\n",
       "      <td>9</td>\n",
       "      <td>rplN</td>\n",
       "      <td>ch</td>\n",
       "    </tr>\n",
       "    <tr>\n",
       "      <th>22</th>\n",
       "      <td>20230510</td>\n",
       "      <td>1</td>\n",
       "      <td>22</td>\n",
       "      <td>1.00</td>\n",
       "      <td>4</td>\n",
       "      <td>6300</td>\n",
       "      <td>ch</td>\n",
       "    </tr>\n",
       "    <tr>\n",
       "      <th>23</th>\n",
       "      <td>20230510</td>\n",
       "      <td>1</td>\n",
       "      <td>23</td>\n",
       "      <td>1.00</td>\n",
       "      <td>6</td>\n",
       "      <td>6300</td>\n",
       "      <td>ch</td>\n",
       "    </tr>\n",
       "    <tr>\n",
       "      <th>24</th>\n",
       "      <td>20230510</td>\n",
       "      <td>1</td>\n",
       "      <td>24</td>\n",
       "      <td>1.00</td>\n",
       "      <td>5</td>\n",
       "      <td>6300</td>\n",
       "      <td>ch</td>\n",
       "    </tr>\n",
       "    <tr>\n",
       "      <th>25</th>\n",
       "      <td>20230510</td>\n",
       "      <td>1</td>\n",
       "      <td>25</td>\n",
       "      <td>1.00</td>\n",
       "      <td>6</td>\n",
       "      <td>6300</td>\n",
       "      <td>ch</td>\n",
       "    </tr>\n",
       "    <tr>\n",
       "      <th>26</th>\n",
       "      <td>20230510</td>\n",
       "      <td>1</td>\n",
       "      <td>26</td>\n",
       "      <td>1.00</td>\n",
       "      <td>6</td>\n",
       "      <td>6300</td>\n",
       "      <td>ch</td>\n",
       "    </tr>\n",
       "  </tbody>\n",
       "</table>\n",
       "</div>"
      ],
      "text/plain": [
       "        date  ch  pos  width  inoculated_gl promoter vector\n",
       "0   20230510   5    0   1.25              6     med2     ch\n",
       "1   20230510   5    1   1.25              6     med2     ch\n",
       "2   20230510   5    2   1.25              6     med2     ch\n",
       "3   20230510   5    3   1.25              8     med2     ch\n",
       "4   20230510   6    4   1.00              7      hi3     ch\n",
       "5   20230510   6    5   1.00              7      hi3     ch\n",
       "6   20230510   6    6   1.00              9      hi3     ch\n",
       "7   20230510   6    7   1.00              9      hi3     ch\n",
       "8   20230510   7    8   1.00             22      hi1     ch\n",
       "9   20230510   7    9   1.00             24      hi1     ch\n",
       "10  20230510   4   10   1.00              5     med3     ch\n",
       "11  20230510   4   11   1.00              5     med3     ch\n",
       "12  20230510   4   12   1.00              8     med3     ch\n",
       "13  20230510   4   13   1.00             15     med3     ch\n",
       "14  20230510   3   14   1.00              5     rrnB     ch\n",
       "15  20230510   3   15   1.00              3     rrnB     ch\n",
       "16  20230510   3   16   1.00              5     rrnB     ch\n",
       "17  20230510   3   17   1.00              6     rrnB     ch\n",
       "18  20230510   3   18   1.00              3     rrnB     ch\n",
       "19  20230510   3   19   1.00             10     rplN     ch\n",
       "20  20230510   2   20   1.00             11     rplN     ch\n",
       "21  20230510   2   21   1.00              9     rplN     ch\n",
       "22  20230510   1   22   1.00              4     6300     ch\n",
       "23  20230510   1   23   1.00              6     6300     ch\n",
       "24  20230510   1   24   1.00              5     6300     ch\n",
       "25  20230510   1   25   1.00              6     6300     ch\n",
       "26  20230510   1   26   1.00              6     6300     ch"
      ]
     },
     "execution_count": 7,
     "metadata": {},
     "output_type": "execute_result"
    }
   ],
   "source": [
    "#Generate a YAML file from experiment_summary_table\n",
    "#Select rows of interest, that will be curated, from the curated data summary table\n",
    "experiment_summary_table=print_curated_data_summary(experimental_details,experimentFolderPath)\n",
    "experiment_summary_table"
   ]
  },
  {
   "cell_type": "markdown",
   "id": "af9eed4e-c8b5-454f-a0cc-0fe0f01c1024",
   "metadata": {},
   "source": [
    "### rplN curation"
   ]
  },
  {
   "cell_type": "code",
   "execution_count": 8,
   "id": "19fec413-d737-49c7-899f-309f318cbc6b",
   "metadata": {},
   "outputs": [
    {
     "name": "stdout",
     "output_type": "stream",
     "text": [
      "        date  ch  pos  width  inoculated_gl promoter vector\n",
      "19  20230510   3   19    1.0             10     rplN     ch\n",
      "20  20230510   2   20    1.0             11     rplN     ch\n",
      "21  20230510   2   21    1.0              9     rplN     ch\n"
     ]
    }
   ],
   "source": [
    "subset=experiment_summary_table[experiment_summary_table[\"promoter\"].isin(['rplN'])]\n",
    "print(subset)"
   ]
  },
  {
   "cell_type": "code",
   "execution_count": 45,
   "id": "01eb24ae-d735-4060-9c52-2c61c36eb4bd",
   "metadata": {},
   "outputs": [
    {
     "name": "stdout",
     "output_type": "stream",
     "text": [
      "Making batch directory batch_6300.\n",
      "Copying standard mm.properties file to batch_6300.\n",
      "/scicore/home/nimwegen/rocasu25/MM_Data/Dany/20230302/20230302_preproc\n",
      "Batch file does not exist. It is created for the following positions, for all detected growth lanes:\n",
      "Pos11\n",
      "Pos12\n",
      "Pos13\n",
      "Pos14\n"
     ]
    }
   ],
   "source": [
    "#Batch folder that should be used or created to supervise tracking/curation/export\n",
    "batch_folder=\"batch_rplN\"\n",
    "batch_file=\"moma_batch_rplN.yaml\"\n",
    "curation_id=\"moma_batch_rplN\"\n",
    "create_moma_batch_directory(experimentFolderPath,batch_folder)\n",
    "create_yaml_file(batch_file,curation_id,experimentFolderPath,preprocFolder,batch_folder,subset)"
   ]
  },
  {
   "cell_type": "code",
   "execution_count": 8,
   "id": "ecdc3474-2f40-4cb2-a6cc-a86af1cfad69",
   "metadata": {},
   "outputs": [],
   "source": [
    "%%capture\n",
    "#DO NOT MODIFY\n",
    "#regular expressions for the cvs files to look for\n",
    "subset=experiment_summary_table[experiment_summary_table[\"pos\"].isin([11,12,13,14])]\n",
    "print(subset)\n",
    "gls_dic={11:list(np.arange(0,60)),\n",
    "         12:list(np.arange(0,60)),\n",
    "         13:list(np.arange(0,60)),\n",
    "         14:list(np.arange(0,60))}\n",
    "rx0='CellStats__(.*).csv' \n",
    "pyMoM.extractAndTidyCurated(experimentFolderPath,preprocFolder,subset,rx0,gls_dic,analysis_id='moma_batch_6300_120')"
   ]
  }
 ],
 "metadata": {
  "kernelspec": {
   "display_name": "Python 3 (ipykernel)",
   "language": "python",
   "name": "python3"
  },
  "language_info": {
   "codemirror_mode": {
    "name": "ipython",
    "version": 3
   },
   "file_extension": ".py",
   "mimetype": "text/x-python",
   "name": "python",
   "nbconvert_exporter": "python",
   "pygments_lexer": "ipython3",
   "version": "3.8.13"
  }
 },
 "nbformat": 4,
 "nbformat_minor": 5
}
