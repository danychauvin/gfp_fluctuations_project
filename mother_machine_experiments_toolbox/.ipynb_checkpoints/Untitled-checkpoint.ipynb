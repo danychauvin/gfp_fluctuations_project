{
 "cells": [
  {
   "cell_type": "code",
   "execution_count": 1,
   "id": "fa512bee-678b-495a-af33-eaba25c160a3",
   "metadata": {},
   "outputs": [
    {
     "name": "stdout",
     "output_type": "stream",
     "text": [
      "/scicore/home/nimwegen/rocasu25/Documents/Projects/biozentrum/.conda_environment/bin/jupyter\n"
     ]
    }
   ],
   "source": []
  }
 ],
 "metadata": {
  "kernelspec": {
   "display_name": "Python [conda env:.conda_environment-2]",
   "language": "python",
   "name": "conda-env-.conda_environment-2-py"
  },
  "language_info": {
   "codemirror_mode": {
    "name": "ipython",
    "version": 3
   },
   "file_extension": ".py",
   "mimetype": "text/x-python",
   "name": "python",
   "nbconvert_exporter": "python",
   "pygments_lexer": "ipython3",
   "version": "3.8.13"
  }
 },
 "nbformat": 4,
 "nbformat_minor": 5
}
